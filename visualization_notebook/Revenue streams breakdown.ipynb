{
    "cells": [
        {
            "cell_type": "markdown",
            "metadata": {},
            "source": [
                "### **Link:** https://platform.stratascratch.com/visualizations/10457-revenue-streams-breakdown?code_type=2"
            ]
        },
        {
            "cell_type": "markdown",
            "metadata": {},
            "source": [
                "# Revenue streams breakdown"
            ]
        },
        {
            "cell_type": "markdown",
            "metadata": {},
            "source": [
                "##### **Difficulty:** Medium"
            ]
        },
        {
            "cell_type": "markdown",
            "metadata": {},
            "source": [
                "##### **ID:** ID 10457"
            ]
        },
        {
            "cell_type": "markdown",
            "metadata": {},
            "source": [
                "##### **Type:** Tree Map"
            ]
        },
        {
            "cell_type": "markdown",
            "metadata": {},
            "source": [
                "##### **Analysis:** Distribution"
            ]
        },
        {
            "cell_type": "markdown",
            "metadata": {},
            "source": [
                "##### **Data Type:** Categorical Data"
            ]
        },
        {
            "cell_type": "markdown",
            "metadata": {},
            "source": [
                "##### Deploy a tree map to break down the revenue streams of a corporation by different departments, using shades like 'dodgerblue', 'mediumorchid', and 'sandybrown' to represent various sectors."
            ]
        },
        {
            "cell_type": "markdown",
            "metadata": {},
            "source": [
                "## **Data:** "
            ]
        },
        {
            "cell_type": "code",
            "execution_count": 1,
            "metadata": [
                {}
            ],
            "outputs": [],
            "source": [
                "import pandas as pd \n",
                "\n",
                "data = [\n",
                "    {\n",
                "        \"department\": \"Sales\",\n",
                "        \"revenue\": 50000\n",
                "    },\n",
                "    {\n",
                "        \"department\": \"Marketing\",\n",
                "        \"revenue\": 40000\n",
                "    },\n",
                "    {\n",
                "        \"department\": \"Operations\",\n",
                "        \"revenue\": 30000\n",
                "    },\n",
                "    {\n",
                "        \"department\": \"Human Resources\",\n",
                "        \"revenue\": 20000\n",
                "    },\n",
                "    {\n",
                "        \"department\": \"IT\",\n",
                "        \"revenue\": 15000\n",
                "    },\n",
                "    {\n",
                "        \"department\": \"Customer Support\",\n",
                "        \"revenue\": 10000\n",
                "    }\n",
                "]\n",
                "\n",
                "df = pd.DataFrame(data)"
            ]
        },
        {
            "cell_type": "markdown",
            "metadata": {},
            "source": [
                "## **Solution:** "
            ]
        },
        {
            "cell_type": "code",
            "execution_count": 2,
            "metadata": [
                {}
            ],
            "outputs": [
                {
                    "data": {
                        "image/png": "[encoded data removed]",
                        "text/plain": [
                            "<Figure size 1200x800 with 1 Axes>"
                        ]
                    },
                    "metadata": {},
                    "output_type": "display_data"
                }
            ],
            "source": [
                "import matplotlib.pyplot as plt\n",
                "import squarify\n",
                "\n",
                "color_map={'Sales': 'dodgerblue', 'Marketing': 'mediumorchid', 'Operations': 'sandybrown', 'Human Resources': 'lightblue', 'IT': 'mediumorchid', 'Customer Support': 'sandybrown'}\n",
                "plt.figure(figsize=(12, 8))\n",
                "colors = [color_map[color] for color in df['department']]\n",
                "\n",
                "squarify.plot(sizes=df['revenue'], label=df['department'], color=colors, alpha=0.7)\n",
                "plt.title('Revenue Streams by Department')\n",
                "plt.axis('off')\n",
                "plt.show()"
            ]
        },
        {
            "cell_type": "code",
            "execution_count": null,
            "metadata": {},
            "outputs": [],
            "source": []
        }
    ],
    "metadata": {
        "kernelspec": {
            "display_name": "Python 3",
            "language": "python",
            "name": "python3"
        },
        "language_info": {
            "codemirror_mode": {
                "name": "ipython",
                "version": 3
            },
            "file_extension": ".py",
            "mimetype": "text/x-python",
            "name": "python",
            "nbconvert_exporter": "python",
            "pygments_lexer": "ipython3",
            "version": "3.11.4"
        }
    },
    "nbformat": 4,
    "nbformat_minor": 2
}
