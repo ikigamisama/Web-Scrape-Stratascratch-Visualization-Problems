{
    "cells": [
        {
            "cell_type": "markdown",
            "metadata": {},
            "source": [
                "### **Link:** https://platform.stratascratch.com/visualizations/10525-density-vs-green-space?code_type=2"
            ]
        },
        {
            "cell_type": "markdown",
            "metadata": {},
            "source": [
                "# Density vs. green space"
            ]
        },
        {
            "cell_type": "markdown",
            "metadata": {},
            "source": [
                "##### **Difficulty:** Medium"
            ]
        },
        {
            "cell_type": "markdown",
            "metadata": {},
            "source": [
                "##### **ID:** ID 10525"
            ]
        },
        {
            "cell_type": "markdown",
            "metadata": {},
            "source": [
                "##### **Type:** Bubble Chart"
            ]
        },
        {
            "cell_type": "markdown",
            "metadata": {},
            "source": [
                "##### **Analysis:** Relationships"
            ]
        },
        {
            "cell_type": "markdown",
            "metadata": {},
            "source": [
                "##### **Data Type:** Numerical Data & Spatial Data"
            ]
        },
        {
            "cell_type": "markdown",
            "metadata": {},
            "source": [
                "##### Create a bubble chart to explore the correlation between population density and urban green space in various cities, using 'forestgreen' for high green space and 'saddlebrown' for low green space."
            ]
        },
        {
            "cell_type": "markdown",
            "metadata": {},
            "source": [
                "## **Data:** "
            ]
        },
        {
            "cell_type": "code",
            "execution_count": null,
            "metadata": [
                {}
            ],
            "source": [
                "import pandas as pd \n\ndata = [\n    {\n        \"city\": \"City A\",\n        \"population_density\": 3232.0,\n        \"green_space_percentage\": 26.825\n    },\n    {\n        \"city\": \"City B\",\n        \"population_density\": 11299.0,\n        \"green_space_percentage\": 18.453\n    },\n    {\n        \"city\": \"City C\",\n        \"population_density\": 10345.0,\n        \"green_space_percentage\": 15.414\n    },\n    {\n        \"city\": \"City D\",\n        \"population_density\": 3764.0,\n        \"green_space_percentage\": 6.985\n    },\n    {\n        \"city\": \"City E\",\n        \"population_density\": 13623.0,\n        \"green_space_percentage\": 14.543\n    },\n    {\n        \"city\": \"City F\",\n        \"population_density\": 5359.0,\n        \"green_space_percentage\": 21.718\n    },\n    {\n        \"city\": \"City G\",\n        \"population_density\": 14519.0,\n        \"green_space_percentage\": 33.426\n    },\n    {\n        \"city\": \"City H\",\n        \"population_density\": 9725.0,\n        \"green_space_percentage\": 21.799\n    }\n]\n\ndf = pd.DataFrame(data)"
            ]
        },
        {
            "cell_type": "markdown",
            "metadata": {},
            "source": [
                "## **Solution:** "
            ]
        },
        {
            "cell_type": "code",
            "execution_count": null,
            "metadata": [
                {}
            ],
            "source": [
                "import matplotlib.pyplot as plt\n\n#plotting the chart\ncolors = ['forestgreen' if x > 20 else 'saddlebrown' for x in df['green_space_percentage']]\nplt.figure(figsize=(12, 8))\nscatter = plt.scatter(df['population_density'], df['green_space_percentage'],  s=df['green_space_percentage'] * 20, c=colors, alpha=0.6)\n\nplt.title('Correlation between Population Density and Urban Green Space in Various Cities')\nplt.xlabel('Population Density (per square km)')\nplt.ylabel('Green Space Percentage')\nplt.grid(True)\n\nlegend1 = plt.legend(*scatter.legend_elements(\"sizes\", num=6), loc=\"upper right\", title=\"Green Space %\")\nplt.gca().add_artist(legend1)\nplt.legend(handles=[plt.Line2D([0], [0], marker='o', color='w', markerfacecolor='forestgreen', markersize=10, label='High Green Space'),\n                    plt.Line2D([0], [0], marker='o', color='w', markerfacecolor='saddlebrown', markersize=10, label='Low Green Space')],\n           title='Legend', loc='upper left')\nplt.show()"
            ]
        }
    ],
    "metadata": {
        "kernelspec": {
            "display_name": "Python 3",
            "language": "python",
            "name": "python3"
        },
        "language_info": {
            "codemirror_mode": {
                "name": "ipython",
                "version": 3
            },
            "file_extension": ".py",
            "mimetype": "text/x-python",
            "name": "python",
            "nbconvert_exporter": "python",
            "pygments_lexer": "ipython3",
            "version": "3.11.4"
        }
    },
    "nbformat": 4,
    "nbformat_minor": 2,
    "name_of_the_file": "Density vs. green space.ipynb"
}