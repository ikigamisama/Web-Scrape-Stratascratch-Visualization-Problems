{
    "cells": [
        {
            "cell_type": "markdown",
            "metadata": {},
            "source": [
                "### **Link:** https://platform.stratascratch.com/visualizations/10534-congestion-vs-pollution?code_type=2"
            ]
        },
        {
            "cell_type": "markdown",
            "metadata": {},
            "source": [
                "# Congestion vs. pollution"
            ]
        },
        {
            "cell_type": "markdown",
            "metadata": {},
            "source": [
                "##### **Difficulty:** Medium"
            ]
        },
        {
            "cell_type": "markdown",
            "metadata": {},
            "source": [
                "##### **ID:** ID 10534"
            ]
        },
        {
            "cell_type": "markdown",
            "metadata": {},
            "source": [
                "##### **Type:** Scatter Plot"
            ]
        },
        {
            "cell_type": "markdown",
            "metadata": {},
            "source": [
                "##### **Analysis:** Relationships"
            ]
        },
        {
            "cell_type": "markdown",
            "metadata": {},
            "source": [
                "##### **Data Type:** Numerical Data & Spatial Data"
            ]
        },
        {
            "cell_type": "markdown",
            "metadata": {},
            "source": [
                "##### Deploy a scatter plot to analyze the relationship between traffic congestion and air pollution in major cities, using 'gray' for low pollution and 'darkred' for high pollution."
            ]
        },
        {
            "cell_type": "markdown",
            "metadata": {},
            "source": [
                "## **Data:** "
            ]
        },
        {
            "cell_type": "code",
            "execution_count": null,
            "metadata": [
                {}
            ],
            "source": [
                "import pandas as pd \n\ndata = [\n    {\n        \"city\": \"City A\",\n        \"traffic_congestion\": 62.929,\n        \"air_pollution\": 145.276\n    },\n    {\n        \"city\": \"City B\",\n        \"traffic_congestion\": 72.911,\n        \"air_pollution\": 69.847\n    },\n    {\n        \"city\": \"City C\",\n        \"traffic_congestion\": 66.166,\n        \"air_pollution\": 122.924\n    },\n    {\n        \"city\": \"City D\",\n        \"traffic_congestion\": 62.693,\n        \"air_pollution\": 88.756\n    },\n    {\n        \"city\": \"City E\",\n        \"traffic_congestion\": 55.419,\n        \"air_pollution\": 93.846\n    },\n    {\n        \"city\": \"City F\",\n        \"traffic_congestion\": 68.754,\n        \"air_pollution\": 140.328\n    },\n    {\n        \"city\": \"City G\",\n        \"traffic_congestion\": 56.255,\n        \"air_pollution\": 29.235\n    },\n    {\n        \"city\": \"City H\",\n        \"traffic_congestion\": 83.506,\n        \"air_pollution\": 31.327\n    }\n]\n\ndf = pd.DataFrame(data)"
            ]
        },
        {
            "cell_type": "markdown",
            "metadata": {},
            "source": [
                "## **Solution:** "
            ]
        },
        {
            "cell_type": "code",
            "execution_count": null,
            "metadata": [
                {}
            ],
            "source": [
                "import matplotlib.pyplot as plt\n\n#plotting the chart\ncolors = ['gray' if x < 80 else 'darkred' for x in df['air_pollution']]\nplt.figure(figsize=(10, 6))\nscatter = plt.scatter(df['traffic_congestion'], df['air_pollution'], s=df['traffic_congestion'], c=colors, alpha=0.6)\n\n\nplt.title('Relationship between Traffic Congestion and Air Pollution in Major Cities')\nplt.xlabel('Traffic Congestion (%)')\nplt.ylabel('Air Pollution Index')\nplt.grid(True)\n\nplt.legend(handles=[plt.Line2D([0], [0], marker='o', color='w', markerfacecolor='gray', markersize=10, label='Low Pollution'),plt.Line2D([0], [0], marker='o', color='w', markerfacecolor='darkred', markersize=10, label='High Pollution')],title='Legend', loc='upper left')\nplt.show()"
            ]
        }
    ],
    "metadata": {
        "kernelspec": {
            "display_name": "Python 3",
            "language": "python",
            "name": "python3"
        },
        "language_info": {
            "codemirror_mode": {
                "name": "ipython",
                "version": 3
            },
            "file_extension": ".py",
            "mimetype": "text/x-python",
            "name": "python",
            "nbconvert_exporter": "python",
            "pygments_lexer": "ipython3",
            "version": "3.11.4"
        }
    },
    "nbformat": 4,
    "nbformat_minor": 2,
    "name_of_the_file": "Congestion vs. pollution.ipynb"
}