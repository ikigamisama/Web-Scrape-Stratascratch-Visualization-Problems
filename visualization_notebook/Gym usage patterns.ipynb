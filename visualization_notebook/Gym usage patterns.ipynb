{
    "cells": [
        {
            "cell_type": "markdown",
            "metadata": {},
            "source": [
                "### **Link:** https://platform.stratascratch.com/visualizations/10493-gym-usage-patterns?code_type=2"
            ]
        },
        {
            "cell_type": "markdown",
            "metadata": {},
            "source": [
                "# Gym usage patterns"
            ]
        },
        {
            "cell_type": "markdown",
            "metadata": {},
            "source": [
                "##### **Difficulty:** Medium"
            ]
        },
        {
            "cell_type": "markdown",
            "metadata": {},
            "source": [
                "##### **ID:** ID 10493"
            ]
        },
        {
            "cell_type": "markdown",
            "metadata": {},
            "source": [
                "##### **Type:** Heat Map"
            ]
        },
        {
            "cell_type": "markdown",
            "metadata": {},
            "source": [
                "##### **Analysis:** Trend Analysis"
            ]
        },
        {
            "cell_type": "markdown",
            "metadata": {},
            "source": [
                "##### **Data Type:** Time Series Data & Numerical Data"
            ]
        },
        {
            "cell_type": "markdown",
            "metadata": {},
            "source": [
                "##### Use a heatmap to display the usage patterns of a gym over a week, using a gradient from 'lightgray' for low activity to 'darkslategray' for high activity."
            ]
        },
        {
            "cell_type": "markdown",
            "metadata": {},
            "source": [
                "## **Data:** "
            ]
        },
        {
            "cell_type": "code",
            "execution_count": 1,
            "metadata": [
                {}
            ],
            "outputs": [],
            "source": [
                "import pandas as pd \n",
                "\n",
                "data = [\n",
                "    {\n",
                "        \"monday\": 44,\n",
                "        \"tuesday\": 47,\n",
                "        \"wednesday\": 0,\n",
                "        \"thursday\": 3,\n",
                "        \"friday\": 3,\n",
                "        \"saturday\": 39,\n",
                "        \"sunday\": 9\n",
                "    },\n",
                "    {\n",
                "        \"monday\": 19,\n",
                "        \"tuesday\": 21,\n",
                "        \"wednesday\": 36,\n",
                "        \"thursday\": 23,\n",
                "        \"friday\": 6,\n",
                "        \"saturday\": 24,\n",
                "        \"sunday\": 24\n",
                "    },\n",
                "    {\n",
                "        \"monday\": 12,\n",
                "        \"tuesday\": 1,\n",
                "        \"wednesday\": 38,\n",
                "        \"thursday\": 39,\n",
                "        \"friday\": 23,\n",
                "        \"saturday\": 46,\n",
                "        \"sunday\": 24\n",
                "    },\n",
                "    {\n",
                "        \"monday\": 17,\n",
                "        \"tuesday\": 37,\n",
                "        \"wednesday\": 25,\n",
                "        \"thursday\": 13,\n",
                "        \"friday\": 8,\n",
                "        \"saturday\": 9,\n",
                "        \"sunday\": 20\n",
                "    },\n",
                "    {\n",
                "        \"monday\": 16,\n",
                "        \"tuesday\": 5,\n",
                "        \"wednesday\": 15,\n",
                "        \"thursday\": 47,\n",
                "        \"friday\": 0,\n",
                "        \"saturday\": 18,\n",
                "        \"sunday\": 35\n",
                "    },\n",
                "    {\n",
                "        \"monday\": 24,\n",
                "        \"tuesday\": 49,\n",
                "        \"wednesday\": 29,\n",
                "        \"thursday\": 19,\n",
                "        \"friday\": 19,\n",
                "        \"saturday\": 14,\n",
                "        \"sunday\": 39\n",
                "    },\n",
                "    {\n",
                "        \"monday\": 32,\n",
                "        \"tuesday\": 1,\n",
                "        \"wednesday\": 9,\n",
                "        \"thursday\": 32,\n",
                "        \"friday\": 31,\n",
                "        \"saturday\": 10,\n",
                "        \"sunday\": 23\n",
                "    },\n",
                "    {\n",
                "        \"monday\": 35,\n",
                "        \"tuesday\": 11,\n",
                "        \"wednesday\": 28,\n",
                "        \"thursday\": 34,\n",
                "        \"friday\": 0,\n",
                "        \"saturday\": 0,\n",
                "        \"sunday\": 36\n",
                "    },\n",
                "    {\n",
                "        \"monday\": 5,\n",
                "        \"tuesday\": 38,\n",
                "        \"wednesday\": 40,\n",
                "        \"thursday\": 17,\n",
                "        \"friday\": 15,\n",
                "        \"saturday\": 4,\n",
                "        \"sunday\": 41\n",
                "    },\n",
                "    {\n",
                "        \"monday\": 42,\n",
                "        \"tuesday\": 31,\n",
                "        \"wednesday\": 1,\n",
                "        \"thursday\": 1,\n",
                "        \"friday\": 39,\n",
                "        \"saturday\": 41,\n",
                "        \"sunday\": 35\n",
                "    },\n",
                "    {\n",
                "        \"monday\": 38,\n",
                "        \"tuesday\": 11,\n",
                "        \"wednesday\": 46,\n",
                "        \"thursday\": 18,\n",
                "        \"friday\": 27,\n",
                "        \"saturday\": 0,\n",
                "        \"sunday\": 14\n",
                "    },\n",
                "    {\n",
                "        \"monday\": 35,\n",
                "        \"tuesday\": 12,\n",
                "        \"wednesday\": 42,\n",
                "        \"thursday\": 20,\n",
                "        \"friday\": 11,\n",
                "        \"saturday\": 4,\n",
                "        \"sunday\": 6\n",
                "    },\n",
                "    {\n",
                "        \"monday\": 4,\n",
                "        \"tuesday\": 47,\n",
                "        \"wednesday\": 3,\n",
                "        \"thursday\": 12,\n",
                "        \"friday\": 36,\n",
                "        \"saturday\": 40,\n",
                "        \"sunday\": 14\n",
                "    },\n",
                "    {\n",
                "        \"monday\": 15,\n",
                "        \"tuesday\": 20,\n",
                "        \"wednesday\": 35,\n",
                "        \"thursday\": 23,\n",
                "        \"friday\": 15,\n",
                "        \"saturday\": 13,\n",
                "        \"sunday\": 21\n",
                "    },\n",
                "    {\n",
                "        \"monday\": 48,\n",
                "        \"tuesday\": 49,\n",
                "        \"wednesday\": 5,\n",
                "        \"thursday\": 41,\n",
                "        \"friday\": 35,\n",
                "        \"saturday\": 0,\n",
                "        \"sunday\": 31\n",
                "    },\n",
                "    {\n",
                "        \"monday\": 5,\n",
                "        \"tuesday\": 30,\n",
                "        \"wednesday\": 0,\n",
                "        \"thursday\": 49,\n",
                "        \"friday\": 36,\n",
                "        \"saturday\": 34,\n",
                "        \"sunday\": 48\n",
                "    },\n",
                "    {\n",
                "        \"monday\": 29,\n",
                "        \"tuesday\": 3,\n",
                "        \"wednesday\": 34,\n",
                "        \"thursday\": 42,\n",
                "        \"friday\": 13,\n",
                "        \"saturday\": 48,\n",
                "        \"sunday\": 39\n",
                "    }\n",
                "]\n",
                "\n",
                "df = pd.DataFrame(data)"
            ]
        },
        {
            "cell_type": "markdown",
            "metadata": {},
            "source": [
                "## **Solution:** "
            ]
        },
        {
            "cell_type": "code",
            "execution_count": 2,
            "metadata": [
                {}
            ],
            "outputs": [
                {
                    "data": {
                        "image/png": "[encoded data removed]",
                        "text/plain": [
                            "<Figure size 1200x800 with 2 Axes>"
                        ]
                    },
                    "metadata": {},
                    "output_type": "display_data"
                }
            ],
            "source": [
                "import matplotlib.pyplot as plt\n",
                "import seaborn as sns\n",
                "\n",
                "#plotting the chart\n",
                "\n",
                "#adding plot titles and labels\n",
                "plt.figure(figsize=(12, 8))\n",
                "sns.heatmap(df, cmap='Greys', cbar_kws={'label': 'Activity Level'})\n",
                "\n",
                "plt.title('Gym Usage Patters Over a Week')\n",
                "plt.xlabel('Day of the Week')\n",
                "plt.ylabel('Hour of the Day')\n",
                "plt.show()"
            ]
        },
        {
            "cell_type": "code",
            "execution_count": null,
            "metadata": {},
            "outputs": [],
            "source": []
        }
    ],
    "metadata": {
        "kernelspec": {
            "display_name": "Python 3",
            "language": "python",
            "name": "python3"
        },
        "language_info": {
            "codemirror_mode": {
                "name": "ipython",
                "version": 3
            },
            "file_extension": ".py",
            "mimetype": "text/x-python",
            "name": "python",
            "nbconvert_exporter": "python",
            "pygments_lexer": "ipython3",
            "version": "3.11.4"
        }
    },
    "nbformat": 4,
    "nbformat_minor": 2
}
