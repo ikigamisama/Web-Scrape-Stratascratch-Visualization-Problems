{
    "cells": [
        {
            "cell_type": "markdown",
            "metadata": {},
            "source": [
                "### **Link:** https://platform.stratascratch.com/visualizations/10502-software-usage-breakdown?code_type=2"
            ]
        },
        {
            "cell_type": "markdown",
            "metadata": {},
            "source": [
                "# Software usage breakdown"
            ]
        },
        {
            "cell_type": "markdown",
            "metadata": {},
            "source": [
                "##### **Difficulty:** Hard"
            ]
        },
        {
            "cell_type": "markdown",
            "metadata": {},
            "source": [
                "##### **ID:** ID 10502"
            ]
        },
        {
            "cell_type": "markdown",
            "metadata": {},
            "source": [
                "##### **Type:** Sunburst Chart"
            ]
        },
        {
            "cell_type": "markdown",
            "metadata": {},
            "source": [
                "##### **Analysis:** Distribution"
            ]
        },
        {
            "cell_type": "markdown",
            "metadata": {},
            "source": [
                "##### **Data Type:** Categorical Data"
            ]
        },
        {
            "cell_type": "markdown",
            "metadata": {},
            "source": [
                "##### Develop a sunburst chart to break down the software usage statistics within a company, using 'orchid' for design software, 'olivedrab' for productivity tools, and 'orange' for communication tools."
            ]
        },
        {
            "cell_type": "markdown",
            "metadata": {},
            "source": [
                "## **Data:** "
            ]
        },
        {
            "cell_type": "code",
            "execution_count": null,
            "metadata": [
                {}
            ],
            "source": [
                "import pandas as pd \n\ndata = [\n    {\n        \"category\": \"Design\",\n        \"subcategory\": \"Photoshop\",\n        \"usage\": 120\n    },\n    {\n        \"category\": \"Design\",\n        \"subcategory\": \"Illustrator\",\n        \"usage\": 80\n    },\n    {\n        \"category\": \"Design\",\n        \"subcategory\": \"InDesign\",\n        \"usage\": 50\n    },\n    {\n        \"category\": \"Productivity\",\n        \"subcategory\": \"Word\",\n        \"usage\": 150\n    },\n    {\n        \"category\": \"Productivity\",\n        \"subcategory\": \"Excel\",\n        \"usage\": 200\n    },\n    {\n        \"category\": \"Communication\",\n        \"subcategory\": \"Slack\",\n        \"usage\": 100\n    },\n    {\n        \"category\": \"Communication\",\n        \"subcategory\": \"Teams\",\n        \"usage\": 90\n    }\n]\n\ndf = pd.DataFrame(data)"
            ]
        },
        {
            "cell_type": "markdown",
            "metadata": {},
            "source": [
                "## **Solution:** "
            ]
        },
        {
            "cell_type": "code",
            "execution_count": null,
            "metadata": [
                {}
            ],
            "source": [
                "import matplotlib.pyplot as plt\nimport squarify\n\n# Data preparation for hierarchical structure\nsizes = df['usage']\nlabels = df['subcategory']\ncolors = df['category'].map({'Design': 'orchid', 'Productivity': 'olivedrab', 'Communication': 'orange'})\n\n# Plotting\nplt.figure(figsize=(12, 8))\nsquarify.plot(sizes=sizes, label=labels, color=colors, alpha=0.7)\n\nplt.title('Software Usage Statistics Within a Company')\nplt.axis('off')\nplt.show()"
            ]
        }
    ],
    "metadata": {
        "kernelspec": {
            "display_name": "Python 3",
            "language": "python",
            "name": "python3"
        },
        "language_info": {
            "codemirror_mode": {
                "name": "ipython",
                "version": 3
            },
            "file_extension": ".py",
            "mimetype": "text/x-python",
            "name": "python",
            "nbconvert_exporter": "python",
            "pygments_lexer": "ipython3",
            "version": "3.11.4"
        }
    },
    "nbformat": 4,
    "nbformat_minor": 2,
    "name_of_the_file": "Software usage breakdown.ipynb"
}