{
    "cells": [
        {
            "cell_type": "markdown",
            "metadata": {},
            "source": [
                "### **Link:** https://platform.stratascratch.com/visualizations/10502-software-usage-breakdown?code_type=2"
            ]
        },
        {
            "cell_type": "markdown",
            "metadata": {},
            "source": [
                "# Software usage breakdown"
            ]
        },
        {
            "cell_type": "markdown",
            "metadata": {},
            "source": [
                "##### **Difficulty:** Hard"
            ]
        },
        {
            "cell_type": "markdown",
            "metadata": {},
            "source": [
                "##### **ID:** ID 10502"
            ]
        },
        {
            "cell_type": "markdown",
            "metadata": {},
            "source": [
                "##### **Type:** Sunburst Chart"
            ]
        },
        {
            "cell_type": "markdown",
            "metadata": {},
            "source": [
                "##### **Analysis:** Distribution"
            ]
        },
        {
            "cell_type": "markdown",
            "metadata": {},
            "source": [
                "##### **Data Type:** Categorical Data"
            ]
        },
        {
            "cell_type": "markdown",
            "metadata": {},
            "source": [
                "##### Develop a sunburst chart to break down the software usage statistics within a company, using 'orchid' for design software, 'olivedrab' for productivity tools, and 'orange' for communication tools."
            ]
        },
        {
            "cell_type": "markdown",
            "metadata": {},
            "source": [
                "## **Data:** "
            ]
        },
        {
            "cell_type": "code",
            "execution_count": 1,
            "metadata": [
                {}
            ],
            "outputs": [],
            "source": [
                "import pandas as pd \n",
                "\n",
                "data = [\n",
                "    {\n",
                "        \"category\": \"Design\",\n",
                "        \"subcategory\": \"Photoshop\",\n",
                "        \"usage\": 120\n",
                "    },\n",
                "    {\n",
                "        \"category\": \"Design\",\n",
                "        \"subcategory\": \"Illustrator\",\n",
                "        \"usage\": 80\n",
                "    },\n",
                "    {\n",
                "        \"category\": \"Design\",\n",
                "        \"subcategory\": \"InDesign\",\n",
                "        \"usage\": 50\n",
                "    },\n",
                "    {\n",
                "        \"category\": \"Productivity\",\n",
                "        \"subcategory\": \"Word\",\n",
                "        \"usage\": 150\n",
                "    },\n",
                "    {\n",
                "        \"category\": \"Productivity\",\n",
                "        \"subcategory\": \"Excel\",\n",
                "        \"usage\": 200\n",
                "    },\n",
                "    {\n",
                "        \"category\": \"Communication\",\n",
                "        \"subcategory\": \"Slack\",\n",
                "        \"usage\": 100\n",
                "    },\n",
                "    {\n",
                "        \"category\": \"Communication\",\n",
                "        \"subcategory\": \"Teams\",\n",
                "        \"usage\": 90\n",
                "    }\n",
                "]\n",
                "\n",
                "df = pd.DataFrame(data)"
            ]
        },
        {
            "cell_type": "markdown",
            "metadata": {},
            "source": [
                "## **Solution:** "
            ]
        },
        {
            "cell_type": "code",
            "execution_count": 2,
            "metadata": [
                {}
            ],
            "outputs": [
                {
                    "data": {
                        "image/png": "[encoded data removed]",
                        "text/plain": [
                            "<Figure size 1200x800 with 1 Axes>"
                        ]
                    },
                    "metadata": {},
                    "output_type": "display_data"
                }
            ],
            "source": [
                "import matplotlib.pyplot as plt\n",
                "import squarify\n",
                "\n",
                "# Data preparation for hierarchical structure\n",
                "sizes = df['usage']\n",
                "labels = df['subcategory']\n",
                "colors = df['category'].map({'Design': 'orchid', 'Productivity': 'olivedrab', 'Communication': 'orange'})\n",
                "\n",
                "# Plotting\n",
                "plt.figure(figsize=(12, 8))\n",
                "squarify.plot(sizes=sizes, label=labels, color=colors, alpha=0.7)\n",
                "\n",
                "plt.title('Software Usage Statistics Within a Company')\n",
                "plt.axis('off')\n",
                "plt.show()"
            ]
        },
        {
            "cell_type": "code",
            "execution_count": null,
            "metadata": {},
            "outputs": [],
            "source": []
        }
    ],
    "metadata": {
        "kernelspec": {
            "display_name": "Python 3",
            "language": "python",
            "name": "python3"
        },
        "language_info": {
            "codemirror_mode": {
                "name": "ipython",
                "version": 3
            },
            "file_extension": ".py",
            "mimetype": "text/x-python",
            "name": "python",
            "nbconvert_exporter": "python",
            "pygments_lexer": "ipython3",
            "version": "3.11.4"
        }
    },
    "nbformat": 4,
    "nbformat_minor": 2
}
