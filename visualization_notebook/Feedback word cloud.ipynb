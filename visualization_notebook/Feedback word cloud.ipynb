{
    "cells": [
        {
            "cell_type": "markdown",
            "metadata": {},
            "source": [
                "### **Link:** https://platform.stratascratch.com/visualizations/10447-feedback-word-cloud?code_type=2"
            ]
        },
        {
            "cell_type": "markdown",
            "metadata": {},
            "source": [
                "# Feedback word cloud"
            ]
        },
        {
            "cell_type": "markdown",
            "metadata": {},
            "source": [
                "##### **Difficulty:** Easy"
            ]
        },
        {
            "cell_type": "markdown",
            "metadata": {},
            "source": [
                "##### **ID:** ID 10447"
            ]
        },
        {
            "cell_type": "markdown",
            "metadata": {},
            "source": [
                "##### **Type:** Word Cloud"
            ]
        },
        {
            "cell_type": "markdown",
            "metadata": {},
            "source": [
                "##### **Analysis:** Distribution"
            ]
        },
        {
            "cell_type": "markdown",
            "metadata": {},
            "source": [
                "##### **Data Type:** Textual Data"
            ]
        },
        {
            "cell_type": "markdown",
            "metadata": {},
            "source": [
                "##### Develop a word cloud to highlight the most frequently mentioned features in customer feedback about a new software release, using 'lavender' for common words and 'violet' for key features."
            ]
        },
        {
            "cell_type": "markdown",
            "metadata": {},
            "source": [
                "## **Data:** "
            ]
        },
        {
            "cell_type": "code",
            "execution_count": null,
            "metadata": [
                {}
            ],
            "source": [
                "import pandas as pd \n\ndata = [\n    {\n        \"0\": \"fast reliable performance\"\n    },\n    {\n        \"0\": \"user-friendly interface\"\n    },\n    {\n        \"0\": \"efficient and fast processing\"\n    },\n    {\n        \"0\": \"buggy after new update\"\n    },\n    {\n        \"0\": \"excellent customer support\"\n    },\n    {\n        \"0\": \"needs more features\"\n    },\n    {\n        \"0\": \"intuitive design\"\n    },\n    {\n        \"0\": \"user interface could be better\"\n    },\n    {\n        \"0\": \"great performance improvements\"\n    },\n    {\n        \"0\": \"lacks some essential features\"\n    },\n    {\n        \"0\": \"fast but not always reliable\"\n    },\n    {\n        \"0\": \"improved user experience\"\n    },\n    {\n        \"0\": \"more customization options\"\n    },\n    {\n        \"0\": \"stable release with few bugs\"\n    },\n    {\n        \"0\": \"easy installation process\"\n    }\n]\n\ndf = pd.DataFrame(data)"
            ]
        },
        {
            "cell_type": "markdown",
            "metadata": {},
            "source": [
                "## **Solution:** "
            ]
        },
        {
            "cell_type": "code",
            "execution_count": null,
            "metadata": [
                {}
            ],
            "source": [
                "from wordcloud import WordCloud\nimport matplotlib.pyplot as plt\n\ntext = ' '.join(feedback)\n\n#adding plot titles and labels\ndef color_func(word, *args, **kwargs):\n    if word in ['fast', 'reliable', 'user-friendly', 'excellent', 'intuitive', 'stable', 'improved']:\n        return 'violet'  # Color for key features\n    else:\n        return 'lavender'  # Color for common words\n\nwordcloud = WordCloud(width=800, height=400, background_color='white', color_func=color_func, random_state=1).generate(text)\n\nplt.figure(figsize=(10, 5))\nplt.imshow(wordcloud, interpolation='bilinear')\nplt.axis('off')\nplt.title('Word Cloud for Customer Feedback on Software Release')\nplt.show()"
            ]
        }
    ],
    "metadata": {
        "kernelspec": {
            "display_name": "Python 3",
            "language": "python",
            "name": "python3"
        },
        "language_info": {
            "codemirror_mode": {
                "name": "ipython",
                "version": 3
            },
            "file_extension": ".py",
            "mimetype": "text/x-python",
            "name": "python",
            "nbconvert_exporter": "python",
            "pygments_lexer": "ipython3",
            "version": "3.11.4"
        }
    },
    "nbformat": 4,
    "nbformat_minor": 2,
    "name_of_the_file": "Feedback word cloud.ipynb"
}