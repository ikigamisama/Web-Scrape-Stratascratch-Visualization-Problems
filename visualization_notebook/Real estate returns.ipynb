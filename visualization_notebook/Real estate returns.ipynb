{
    "cells": [
        {
            "cell_type": "markdown",
            "metadata": {},
            "source": [
                "### **Link:** https://platform.stratascratch.com/visualizations/10536-real-estate-returns?code_type=2"
            ]
        },
        {
            "cell_type": "markdown",
            "metadata": {},
            "source": [
                "# Real estate returns"
            ]
        },
        {
            "cell_type": "markdown",
            "metadata": {},
            "source": [
                "##### **Difficulty:** Medium"
            ]
        },
        {
            "cell_type": "markdown",
            "metadata": {},
            "source": [
                "##### **ID:** ID 10536"
            ]
        },
        {
            "cell_type": "markdown",
            "metadata": {},
            "source": [
                "##### **Type:** Bubble Chart"
            ]
        },
        {
            "cell_type": "markdown",
            "metadata": {},
            "source": [
                "##### **Analysis:** Relationships"
            ]
        },
        {
            "cell_type": "markdown",
            "metadata": {},
            "source": [
                "##### **Data Type:** Numerical Data"
            ]
        },
        {
            "cell_type": "markdown",
            "metadata": {},
            "source": [
                "##### Construct a bubble chart to evaluate the investment returns of different real estate markets, using 'skyblue' for residential, 'darkgreen' for commercial, and 'gray' for industrial properties."
            ]
        },
        {
            "cell_type": "markdown",
            "metadata": {},
            "source": [
                "## **Data:** "
            ]
        },
        {
            "cell_type": "code",
            "execution_count": null,
            "metadata": [
                {}
            ],
            "source": [
                "import pandas as pd \n\ndata = [\n    {\n        \"market\": \"Market A\",\n        \"category\": \"Residential\",\n        \"investment_return\": \"13.232\",\n        \"market_size\": \"146.884\"\n    },\n    {\n        \"market\": \"Market B\",\n        \"category\": \"Commercial\",\n        \"investment_return\": \"15.728\",\n        \"market_size\": \"115.638\"\n    },\n    {\n        \"market\": \"Market C\",\n        \"category\": \"Industrial\",\n        \"investment_return\": \"14.041\",\n        \"market_size\": \"183.766\"\n    },\n    {\n        \"market\": \"Market D\",\n        \"category\": \"Residential\",\n        \"investment_return\": \"13.173\",\n        \"market_size\": \"194.549\"\n    },\n    {\n        \"market\": \"Market E\",\n        \"category\": \"Commercial\",\n        \"investment_return\": \"11.355\",\n        \"market_size\": \"107.516\"\n    }\n]\n\ndf = pd.DataFrame(data)"
            ]
        },
        {
            "cell_type": "markdown",
            "metadata": {},
            "source": [
                "## **Solution:** "
            ]
        },
        {
            "cell_type": "code",
            "execution_count": null,
            "metadata": [
                {}
            ],
            "source": [
                "import matplotlib.pyplot as plt\nimport plotly.express as px\n\nplt.figure(figsize=(12, 8))\ncolor_map = {'Residential': 'skyblue', 'Commercial': 'darkgreen', 'Industrial': 'gray'}\ncatter = plt.scatter(df['investment_return'], df['market'],  s=df['market_size'] * 10, c=[color_map[cag] for cag in df['category']], alpha=0.6)\n\nplt.title('Investment Returns of Different Real Estate Markets')\nplt.xlabel('Market')\nplt.ylabel('Investment Return (%)')\nplt.grid(True)\n\nplt.legend(handles=[\n    plt.Line2D([0], [0], marker='o', color='w', markerfacecolor='skyblue', markersize=10, label='Residential'),\n    plt.Line2D([0], [0], marker='o', color='w', markerfacecolor='darkgreen', markersize=10, label='Commercial'),\n    plt.Line2D([0], [0], marker='o', color='w', markerfacecolor='gray', markersize=10, label='Industrial')\n    ],\n    title='Property Type', loc='upper right')\nplt.show()"
            ]
        }
    ],
    "metadata": {
        "kernelspec": {
            "display_name": "Python 3",
            "language": "python",
            "name": "python3"
        },
        "language_info": {
            "codemirror_mode": {
                "name": "ipython",
                "version": 3
            },
            "file_extension": ".py",
            "mimetype": "text/x-python",
            "name": "python",
            "nbconvert_exporter": "python",
            "pygments_lexer": "ipython3",
            "version": "3.11.4"
        }
    },
    "nbformat": 4,
    "nbformat_minor": 2,
    "name_of_the_file": "Real estate returns.ipynb"
}