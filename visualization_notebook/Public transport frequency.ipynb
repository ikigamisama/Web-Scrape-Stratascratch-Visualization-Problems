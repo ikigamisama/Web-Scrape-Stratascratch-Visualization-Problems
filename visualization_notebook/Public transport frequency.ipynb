{
    "cells": [
        {
            "cell_type": "markdown",
            "metadata": {},
            "source": [
                "### **Link:** https://platform.stratascratch.com/visualizations/10442-public-transport-frequency?code_type=2"
            ]
        },
        {
            "cell_type": "markdown",
            "metadata": {},
            "source": [
                "# Public transport frequency"
            ]
        },
        {
            "cell_type": "markdown",
            "metadata": {},
            "source": [
                "##### **Difficulty:** Medium"
            ]
        },
        {
            "cell_type": "markdown",
            "metadata": {},
            "source": [
                "##### **ID:** ID 10442"
            ]
        },
        {
            "cell_type": "markdown",
            "metadata": {},
            "source": [
                "##### **Type:** Heat Map"
            ]
        },
        {
            "cell_type": "markdown",
            "metadata": {},
            "source": [
                "##### **Analysis:** Distribution"
            ]
        },
        {
            "cell_type": "markdown",
            "metadata": {},
            "source": [
                "##### **Data Type:** Spatial Data & Numerical Data"
            ]
        },
        {
            "cell_type": "markdown",
            "metadata": {},
            "source": [
                "##### Generate a heat map to visualize the frequency of public transportation usage in a city, with 'deepskyblue' for low frequency and 'darkred' for high frequency."
            ]
        },
        {
            "cell_type": "markdown",
            "metadata": {},
            "source": [
                "## **Data:** "
            ]
        },
        {
            "cell_type": "code",
            "execution_count": null,
            "metadata": [
                {}
            ],
            "source": [
                "import pandas as pd \n\ndata = [\n    {\n        \"hour _6\": \"34\",\n        \"hour _7\": \"13\",\n        \"hour _8\": \"66\",\n        \"hour _9\": \"82\",\n        \"hour _10\": \"10\",\n        \"hour _11\": \"31\",\n        \"hour _12\": \"29\",\n        \"hour _13\": \"84\",\n        \"hour _14\": \"51\",\n        \"hour _15\": \"20\",\n        \"hour _16\": \"31\",\n        \"hour _17\": \"48\",\n        \"hour _18\": \"30\",\n        \"hour _19\": \"54\",\n        \"hour _20\": \"49\",\n        \"hour _21\": \"24\",\n        \"hour _22\": \"36\",\n        \"hour _23\": \"91\"\n    },\n    {\n        \"hour _6\": \"32\",\n        \"hour _7\": \"76\",\n        \"hour _8\": \"12\",\n        \"hour _9\": \"73\",\n        \"hour _10\": \"70\",\n        \"hour _11\": \"11\",\n        \"hour _12\": \"61\",\n        \"hour _13\": \"79\",\n        \"hour _14\": \"39\",\n        \"hour _15\": \"34\",\n        \"hour _16\": \"72\",\n        \"hour _17\": \"17\",\n        \"hour _18\": \"53\",\n        \"hour _19\": \"43\",\n        \"hour _20\": \"89\",\n        \"hour _21\": \"58\",\n        \"hour _22\": \"47\",\n        \"hour _23\": \"30\"\n    },\n    {\n        \"hour _6\": \"59\",\n        \"hour _7\": \"31\",\n        \"hour _8\": \"88\",\n        \"hour _9\": \"38\",\n        \"hour _10\": \"64\",\n        \"hour _11\": \"10\",\n        \"hour _12\": \"74\",\n        \"hour _13\": \"28\",\n        \"hour _14\": \"73\",\n        \"hour _15\": \"47\",\n        \"hour _16\": \"66\",\n        \"hour _17\": \"66\",\n        \"hour _18\": \"81\",\n        \"hour _19\": \"47\",\n        \"hour _20\": \"56\",\n        \"hour _21\": \"43\",\n        \"hour _22\": \"11\",\n        \"hour _23\": \"95\"\n    },\n    {\n        \"hour _6\": \"84\",\n        \"hour _7\": \"26\",\n        \"hour _8\": \"90\",\n        \"hour _9\": \"42\",\n        \"hour _10\": \"26\",\n        \"hour _11\": \"28\",\n        \"hour _12\": \"85\",\n        \"hour _13\": \"65\",\n        \"hour _14\": \"23\",\n        \"hour _15\": \"47\",\n        \"hour _16\": \"40\",\n        \"hour _17\": \"58\",\n        \"hour _18\": \"71\",\n        \"hour _19\": \"43\",\n        \"hour _20\": \"62\",\n        \"hour _21\": \"12\",\n        \"hour _22\": \"38\",\n        \"hour _23\": \"46\"\n    },\n    {\n        \"hour _6\": \"54\",\n        \"hour _7\": \"58\",\n        \"hour _8\": \"69\",\n        \"hour _9\": \"84\",\n        \"hour _10\": \"64\",\n        \"hour _11\": \"31\",\n        \"hour _12\": \"66\",\n        \"hour _13\": \"49\",\n        \"hour _14\": \"39\",\n        \"hour _15\": \"42\",\n        \"hour _16\": \"58\",\n        \"hour _17\": \"19\",\n        \"hour _18\": \"43\",\n        \"hour _19\": \"70\",\n        \"hour _20\": \"98\",\n        \"hour _21\": \"65\",\n        \"hour _22\": \"21\",\n        \"hour _23\": \"94\"\n    },\n    {\n        \"hour _6\": \"20\",\n        \"hour _7\": \"90\",\n        \"hour _8\": \"86\",\n        \"hour _9\": \"78\",\n        \"hour _10\": \"54\",\n        \"hour _11\": \"54\",\n        \"hour _12\": \"29\",\n        \"hour _13\": \"26\",\n        \"hour _14\": \"49\",\n        \"hour _15\": \"60\",\n        \"hour _16\": \"75\",\n        \"hour _17\": \"45\",\n        \"hour _18\": \"55\",\n        \"hour _19\": \"62\",\n        \"hour _20\": \"11\",\n        \"hour _21\": \"28\",\n        \"hour _22\": \"73\",\n        \"hour _23\": \"12\"\n    },\n    {\n        \"hour _6\": \"97\",\n        \"hour _7\": \"30\",\n        \"hour _8\": \"72\",\n        \"hour _9\": \"91\",\n        \"hour _10\": \"32\",\n        \"hour _11\": \"17\",\n        \"hour _12\": \"67\",\n        \"hour _13\": \"53\",\n        \"hour _14\": \"42\",\n        \"hour _15\": \"70\",\n        \"hour _16\": \"26\",\n        \"hour _17\": \"37\",\n        \"hour _18\": \"63\",\n        \"hour _19\": \"18\",\n        \"hour _20\": \"30\",\n        \"hour _21\": \"18\",\n        \"hour _22\": \"34\",\n        \"hour _23\": \"88\"\n    },\n    {\n        \"hour _6\": \"86\",\n        \"hour _7\": \"29\",\n        \"hour _8\": \"19\",\n        \"hour _9\": \"36\",\n        \"hour _10\": \"60\",\n        \"hour _11\": \"70\",\n        \"hour _12\": \"15\",\n        \"hour _13\": \"94\",\n        \"hour _14\": \"91\",\n        \"hour _15\": \"19\",\n        \"hour _16\": \"42\",\n        \"hour _17\": \"23\",\n        \"hour _18\": \"54\",\n        \"hour _19\": \"81\",\n        \"hour _20\": \"46\",\n        \"hour _21\": \"52\",\n        \"hour _22\": \"82\",\n        \"hour _23\": \"36\"\n    },\n    {\n        \"hour _6\": \"34\",\n        \"hour _7\": \"30\",\n        \"hour _8\": \"72\",\n        \"hour _9\": \"54\",\n        \"hour _10\": \"40\",\n        \"hour _11\": \"27\",\n        \"hour _12\": \"42\",\n        \"hour _13\": \"63\",\n        \"hour _14\": \"96\",\n        \"hour _15\": \"49\",\n        \"hour _16\": \"70\",\n        \"hour _17\": \"42\",\n        \"hour _18\": \"97\",\n        \"hour _19\": \"98\",\n        \"hour _20\": \"43\",\n        \"hour _21\": \"95\",\n        \"hour _22\": \"61\",\n        \"hour _23\": \"89\"\n    },\n    {\n        \"hour _6\": \"21\",\n        \"hour _7\": \"27\",\n        \"hour _8\": \"61\",\n        \"hour _9\": \"81\",\n        \"hour _10\": \"23\",\n        \"hour _11\": \"78\",\n        \"hour _12\": \"73\",\n        \"hour _13\": \"51\",\n        \"hour _14\": \"23\",\n        \"hour _15\": \"87\",\n        \"hour _16\": \"98\",\n        \"hour _17\": \"70\",\n        \"hour _18\": \"57\",\n        \"hour _19\": \"46\",\n        \"hour _20\": \"65\",\n        \"hour _21\": \"66\",\n        \"hour _22\": \"95\",\n        \"hour _23\": \"80\"\n    }\n]\n\ndf = pd.DataFrame(data)"
            ]
        },
        {
            "cell_type": "markdown",
            "metadata": {},
            "source": [
                "## **Solution:** "
            ]
        },
        {
            "cell_type": "code",
            "execution_count": null,
            "metadata": [
                {}
            ],
            "source": [
                "import matplotlib.pyplot as plt\nimport seaborn as sns\n\nplt.figure(figsize=(14, 8))\nsns.heatmap(df, annot=True, fmt=\"d\", linecolor='white', cmap=sns.color_palette(\"coolwarm\", as_cmap=True))\n\nplt.title('Frequency of Public Transportation Usage')\nplt.xlabel('Hour of the Day')\nplt.ylabel('Station')\nplt.show()"
            ]
        }
    ],
    "metadata": {
        "kernelspec": {
            "display_name": "Python 3",
            "language": "python",
            "name": "python3"
        },
        "language_info": {
            "codemirror_mode": {
                "name": "ipython",
                "version": 3
            },
            "file_extension": ".py",
            "mimetype": "text/x-python",
            "name": "python",
            "nbconvert_exporter": "python",
            "pygments_lexer": "ipython3",
            "version": "3.11.4"
        }
    },
    "nbformat": 4,
    "nbformat_minor": 2,
    "name_of_the_file": "Public transport frequency.ipynb"
}