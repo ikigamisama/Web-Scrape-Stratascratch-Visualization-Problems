{
    "cells": [
        {
            "cell_type": "markdown",
            "metadata": {},
            "source": [
                "### **Link:** https://platform.stratascratch.com/visualizations/10452-product-development-timeline?code_type=2"
            ]
        },
        {
            "cell_type": "markdown",
            "metadata": {},
            "source": [
                "# Product development timeline"
            ]
        },
        {
            "cell_type": "markdown",
            "metadata": {},
            "source": [
                "##### **Difficulty:** Medium"
            ]
        },
        {
            "cell_type": "markdown",
            "metadata": {},
            "source": [
                "##### **ID:** ID 10452"
            ]
        },
        {
            "cell_type": "markdown",
            "metadata": {},
            "source": [
                "##### **Type:** Timeline"
            ]
        },
        {
            "cell_type": "markdown",
            "metadata": {},
            "source": [
                "##### **Analysis:** Trend Analysis"
            ]
        },
        {
            "cell_type": "markdown",
            "metadata": {},
            "source": [
                "##### **Data Type:** Time Series Data"
            ]
        },
        {
            "cell_type": "markdown",
            "metadata": {},
            "source": [
                "##### Develop a timeline to illustrate the major milestones in the development of a new technology product, using 'orange' to highlight completed phases and 'grey' for upcoming ones."
            ]
        },
        {
            "cell_type": "markdown",
            "metadata": {},
            "source": [
                "## **Data:** "
            ]
        },
        {
            "cell_type": "code",
            "execution_count": null,
            "metadata": [
                {}
            ],
            "source": [
                "import pandas as pd \n\ndata = [\n    {\n        \"milestone\": \"Concept Approval\",\n        \"date\": \"2024-01-01 00:00:00\",\n        \"status\": \"Completed\"\n    },\n    {\n        \"milestone\": \"Prototype Build\",\n        \"date\": \"2024-04-01 00:00:00\",\n        \"status\": \"Completed\"\n    },\n    {\n        \"milestone\": \"Testing Phase\",\n        \"date\": \"2024-07-01 00:00:00\",\n        \"status\": \"Completed\"\n    },\n    {\n        \"milestone\": \"Market Analysis\",\n        \"date\": \"2024-10-01 00:00:00\",\n        \"status\": \"Upcoming\"\n    },\n    {\n        \"milestone\": \"Product Launch\",\n        \"date\": \"2025-01-01 00:00:00\",\n        \"status\": \"Upcoming\"\n    }\n]\n\ndf = pd.DataFrame(data)"
            ]
        },
        {
            "cell_type": "markdown",
            "metadata": {},
            "source": [
                "## **Solution:** "
            ]
        },
        {
            "cell_type": "code",
            "execution_count": null,
            "metadata": [
                {}
            ],
            "source": [
                "import matplotlib.pyplot as plt\nimport matplotlib.dates as mdates\n\nfig, ax = plt.subplots(figsize=(10, 3))\nax.set(title=\"Development Timeline of the New Technology Product\")\n\nfor i, (date, milestone, status) in enumerate(zip(df['date'], df['milestone'], df['status'])):\n    color = 'orange' if status == 'Completed' else 'grey'\n    ax.plot([date, date], [0, 1], color=color, linewidth=2)\n    ax.text(date, 1.05, f'{milestone} ({status})', horizontalalignment='right' if i % 2 == 0 else 'left',\n            verticalalignment='bottom', rotation=45, color=color)\n\nax.set_ylim(0, 2)\nax.set_yticks([])\nax.set_xlim([df['date'].min() - pd.Timedelta(days=60), df['date'].max() + pd.Timedelta(days=60)])\nax.xaxis.set_major_locator(mdates.MonthLocator(interval=3))\nax.xaxis.set_major_formatter(mdates.DateFormatter('%b %Y'))\nax.grid(True)\n\nplt.show()"
            ]
        }
    ],
    "metadata": {
        "kernelspec": {
            "display_name": "Python 3",
            "language": "python",
            "name": "python3"
        },
        "language_info": {
            "codemirror_mode": {
                "name": "ipython",
                "version": 3
            },
            "file_extension": ".py",
            "mimetype": "text/x-python",
            "name": "python",
            "nbconvert_exporter": "python",
            "pygments_lexer": "ipython3",
            "version": "3.11.4"
        }
    },
    "nbformat": 4,
    "nbformat_minor": 2,
    "name_of_the_file": "Product development timeline.ipynb"
}