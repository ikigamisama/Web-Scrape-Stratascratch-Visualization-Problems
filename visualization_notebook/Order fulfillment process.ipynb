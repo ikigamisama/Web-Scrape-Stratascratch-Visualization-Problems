{
    "cells": [
        {
            "cell_type": "markdown",
            "metadata": {},
            "source": [
                "### **Link:** https://platform.stratascratch.com/visualizations/10462-order-fulfillment-process?code_type=2"
            ]
        },
        {
            "cell_type": "markdown",
            "metadata": {},
            "source": [
                "# Order fulfillment process"
            ]
        },
        {
            "cell_type": "markdown",
            "metadata": {},
            "source": [
                "##### **Difficulty:** Medium"
            ]
        },
        {
            "cell_type": "markdown",
            "metadata": {},
            "source": [
                "##### **ID:** ID 10462"
            ]
        },
        {
            "cell_type": "markdown",
            "metadata": {},
            "source": [
                "##### **Type:** Flow Chart"
            ]
        },
        {
            "cell_type": "markdown",
            "metadata": {},
            "source": [
                "##### **Analysis:** Trend Analysis"
            ]
        },
        {
            "cell_type": "markdown",
            "metadata": {},
            "source": [
                "##### **Data Type:** Categorical Data"
            ]
        },
        {
            "cell_type": "markdown",
            "metadata": {},
            "source": [
                "##### Develop a flow chart to describe the process of order fulfillment in a distribution center, using 'goldenrod' for ongoing processes and 'cornflowerblue' for completed stages."
            ]
        },
        {
            "cell_type": "markdown",
            "metadata": {},
            "source": [
                "## **Data:** "
            ]
        },
        {
            "cell_type": "code",
            "execution_count": null,
            "metadata": [
                {}
            ],
            "source": [
                "import pandas as pd \n\ndata = [\n    {\n        \"name\": \"Receive Order\",\n        \"status\": \"completed\"\n    },\n    {\n        \"name\": \"Process Order\",\n        \"status\": \"ongoing\"\n    },\n    {\n        \"name\": \"Pick Items\",\n        \"status\": \"ongoing\"\n    },\n    {\n        \"name\": \"Pack Items\",\n        \"status\": \"ongoing\"\n    },\n    {\n        \"name\": \"Ship Order\",\n        \"status\": \"ongoing\"\n    },\n    {\n        \"name\": \"Deliver Order\",\n        \"status\": \"ongoing\"\n    },\n    {\n        \"name\": \"Order Complete\",\n        \"status\": \"completed\"\n    }\n]\n\ndf = pd.DataFrame(data)"
            ]
        },
        {
            "cell_type": "markdown",
            "metadata": {},
            "source": [
                "## **Solution:** "
            ]
        },
        {
            "cell_type": "code",
            "execution_count": null,
            "metadata": [
                {}
            ],
            "source": [
                "import matplotlib.pyplot as plt\nimport matplotlib.patches as patches\n\nfig, ax = plt.subplots(figsize=(10, 5))\nax.set_xlim(0, 10)\nax.set_ylim(0, len(steps) + 1)\nax.axis('off')  # Hide the axes\n\ncolors = {'ongoing': 'goldenrod', 'completed': 'cornflowerblue'}\n\nfor i, step in enumerate(steps):\n    rect = patches.Rectangle((1, len(steps) - i), 8, 0.6, linewidth=1, edgecolor='black', facecolor=colors[step['status']])\n    ax.add_patch(rect)\n    ax.text(1.5, len(steps) - i + 0.3, step['name'], verticalalignment='center', fontsize=12, color='white')\n    \n    if i < len(steps) - 1:\n        arrow = patches.FancyArrow(5, len(steps) - i, 0, -0.7, width=0.1, head_width=0.5, head_length=0.2, color='gray')\n        ax.add_patch(arrow)\n\nplt.title('Order Fulfillment Process Flowchart', fontsize=16, color='black')\nplt.show()"
            ]
        }
    ],
    "metadata": {
        "kernelspec": {
            "display_name": "Python 3",
            "language": "python",
            "name": "python3"
        },
        "language_info": {
            "codemirror_mode": {
                "name": "ipython",
                "version": 3
            },
            "file_extension": ".py",
            "mimetype": "text/x-python",
            "name": "python",
            "nbconvert_exporter": "python",
            "pygments_lexer": "ipython3",
            "version": "3.11.4"
        }
    },
    "nbformat": 4,
    "nbformat_minor": 2,
    "name_of_the_file": "Order fulfillment process.ipynb"
}