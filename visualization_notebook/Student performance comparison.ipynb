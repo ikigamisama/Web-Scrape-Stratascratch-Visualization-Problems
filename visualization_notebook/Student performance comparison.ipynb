{
    "cells": [
        {
            "cell_type": "markdown",
            "metadata": {},
            "source": [
                "### **Link:** https://platform.stratascratch.com/visualizations/10444-student-performance-comparison?code_type=2"
            ]
        },
        {
            "cell_type": "markdown",
            "metadata": {},
            "source": [
                "# Student performance comparison"
            ]
        },
        {
            "cell_type": "markdown",
            "metadata": {},
            "source": [
                "##### **Difficulty:** Medium"
            ]
        },
        {
            "cell_type": "markdown",
            "metadata": {},
            "source": [
                "##### **ID:** ID 10444"
            ]
        },
        {
            "cell_type": "markdown",
            "metadata": {},
            "source": [
                "##### **Type:** Box Plot"
            ]
        },
        {
            "cell_type": "markdown",
            "metadata": {},
            "source": [
                "##### **Analysis:** Comparison"
            ]
        },
        {
            "cell_type": "markdown",
            "metadata": {},
            "source": [
                "##### **Data Type:** Numerical Data & Categorical Data"
            ]
        },
        {
            "cell_type": "markdown",
            "metadata": {},
            "source": [
                "##### Craft a box plot to compare the performance scores of students across various schools using 'plum' for School 1, 'peachpuff' for School 2, and 'palegreen' for School 3."
            ]
        },
        {
            "cell_type": "markdown",
            "metadata": {},
            "source": [
                "## **Data:** "
            ]
        },
        {
            "cell_type": "code",
            "execution_count": null,
            "metadata": [
                {}
            ],
            "source": [
                "import pandas as pd \n\ndata = [\n    {\n        \"school\": \"School 1\",\n        \"performance_scores\": 79.412\n    },\n    {\n        \"school\": \"School 1\",\n        \"performance_scores\": 71.691\n    },\n    {\n        \"school\": \"School 1\",\n        \"performance_scores\": 99.308\n    },\n    {\n        \"school\": \"School 1\",\n        \"performance_scores\": 72.479\n    },\n    {\n        \"school\": \"School 1\",\n        \"performance_scores\": 76.096\n    },\n    {\n        \"school\": \"School 1\",\n        \"performance_scores\": 90.825\n    },\n    {\n        \"school\": \"School 1\",\n        \"performance_scores\": 65.908\n    },\n    {\n        \"school\": \"School 1\",\n        \"performance_scores\": 69.084\n    },\n    {\n        \"school\": \"School 1\",\n        \"performance_scores\": 76.876\n    },\n    {\n        \"school\": \"School 1\",\n        \"performance_scores\": 71.701\n    },\n    {\n        \"school\": \"School 1\",\n        \"performance_scores\": 63.072\n    },\n    {\n        \"school\": \"School 1\",\n        \"performance_scores\": 72.951\n    },\n    {\n        \"school\": \"School 1\",\n        \"performance_scores\": 71.412\n    },\n    {\n        \"school\": \"School 1\",\n        \"performance_scores\": 81.035\n    },\n    {\n        \"school\": \"School 1\",\n        \"performance_scores\": 58.352\n    },\n    {\n        \"school\": \"School 1\",\n        \"performance_scores\": 67.998\n    },\n    {\n        \"school\": \"School 1\",\n        \"performance_scores\": 86.514\n    },\n    {\n        \"school\": \"School 1\",\n        \"performance_scores\": 93.573\n    },\n    {\n        \"school\": \"School 1\",\n        \"performance_scores\": 59.888\n    },\n    {\n        \"school\": \"School 1\",\n        \"performance_scores\": 81.448\n    },\n    {\n        \"school\": \"School 1\",\n        \"performance_scores\": 65.194\n    },\n    {\n        \"school\": \"School 1\",\n        \"performance_scores\": 66.431\n    },\n    {\n        \"school\": \"School 1\",\n        \"performance_scores\": 66.281\n    },\n    {\n        \"school\": \"School 1\",\n        \"performance_scores\": 70.775\n    },\n    {\n        \"school\": \"School 1\",\n        \"performance_scores\": 84.964\n    },\n    {\n        \"school\": \"School 1\",\n        \"performance_scores\": 82.124\n    },\n    {\n        \"school\": \"School 1\",\n        \"performance_scores\": 75.591\n    },\n    {\n        \"school\": \"School 1\",\n        \"performance_scores\": 71.367\n    },\n    {\n        \"school\": \"School 1\",\n        \"performance_scores\": 75.033\n    },\n    {\n        \"school\": \"School 1\",\n        \"performance_scores\": 73.941\n    },\n    {\n        \"school\": \"School 1\",\n        \"performance_scores\": 82.931\n    },\n    {\n        \"school\": \"School 1\",\n        \"performance_scores\": 68.684\n    },\n    {\n        \"school\": \"School 1\",\n        \"performance_scores\": 74.938\n    },\n    {\n        \"school\": \"School 1\",\n        \"performance_scores\": 73.989\n    },\n    {\n        \"school\": \"School 1\",\n        \"performance_scores\": 74.477\n    },\n    {\n        \"school\": \"School 1\",\n        \"performance_scores\": 77.492\n    },\n    {\n        \"school\": \"School 1\",\n        \"performance_scores\": 76.977\n    },\n    {\n        \"school\": \"School 1\",\n        \"performance_scores\": 88.348\n    },\n    {\n        \"school\": \"School 1\",\n        \"performance_scores\": 74.131\n    },\n    {\n        \"school\": \"School 1\",\n        \"performance_scores\": 90.615\n    },\n    {\n        \"school\": \"School 1\",\n        \"performance_scores\": 71.941\n    },\n    {\n        \"school\": \"School 1\",\n        \"performance_scores\": 70.223\n    },\n    {\n        \"school\": \"School 1\",\n        \"performance_scores\": 76.007\n    },\n    {\n        \"school\": \"School 1\",\n        \"performance_scores\": 78.554\n    },\n    {\n        \"school\": \"School 1\",\n        \"performance_scores\": 77.696\n    },\n    {\n        \"school\": \"School 1\",\n        \"performance_scores\": 87.92\n    },\n    {\n        \"school\": \"School 1\",\n        \"performance_scores\": 86.393\n    },\n    {\n        \"school\": \"School 1\",\n        \"performance_scores\": 79.944\n    },\n    {\n        \"school\": \"School 1\",\n        \"performance_scores\": 71.637\n    },\n    {\n        \"school\": \"School 1\",\n        \"performance_scores\": 73.994\n    },\n    {\n        \"school\": \"School 2\",\n        \"performance_scores\": 86.201\n    },\n    {\n        \"school\": \"School 2\",\n        \"performance_scores\": 68.319\n    },\n    {\n        \"school\": \"School 2\",\n        \"performance_scores\": 45.338\n    },\n    {\n        \"school\": \"School 2\",\n        \"performance_scores\": 54.657\n    },\n    {\n        \"school\": \"School 2\",\n        \"performance_scores\": 56.337\n    },\n    {\n        \"school\": \"School 2\",\n        \"performance_scores\": 82.283\n    },\n    {\n        \"school\": \"School 2\",\n        \"performance_scores\": 63.393\n    },\n    {\n        \"school\": \"School 2\",\n        \"performance_scores\": 98.902\n    },\n    {\n        \"school\": \"School 2\",\n        \"performance_scores\": 74.849\n    },\n    {\n        \"school\": \"School 2\",\n        \"performance_scores\": 66.872\n    },\n    {\n        \"school\": \"School 2\",\n        \"performance_scores\": 58.464\n    },\n    {\n        \"school\": \"School 2\",\n        \"performance_scores\": 79.583\n    },\n    {\n        \"school\": \"School 2\",\n        \"performance_scores\": 61.389\n    },\n    {\n        \"school\": \"School 2\",\n        \"performance_scores\": 52.638\n    },\n    {\n        \"school\": \"School 2\",\n        \"performance_scores\": 73.522\n    },\n    {\n        \"school\": \"School 2\",\n        \"performance_scores\": 65.191\n    },\n    {\n        \"school\": \"School 2\",\n        \"performance_scores\": 82.836\n    },\n    {\n        \"school\": \"School 2\",\n        \"performance_scores\": 63.896\n    },\n    {\n        \"school\": \"School 2\",\n        \"performance_scores\": 22.105\n    },\n    {\n        \"school\": \"School 2\",\n        \"performance_scores\": 76.84\n    },\n    {\n        \"school\": \"School 2\",\n        \"performance_scores\": 36.834\n    },\n    {\n        \"school\": \"School 2\",\n        \"performance_scores\": 88.081\n    },\n    {\n        \"school\": \"School 2\",\n        \"performance_scores\": 92.32\n    },\n    {\n        \"school\": \"School 2\",\n        \"performance_scores\": 58.595\n    },\n    {\n        \"school\": \"School 2\",\n        \"performance_scores\": 47.529\n    },\n    {\n        \"school\": \"School 2\",\n        \"performance_scores\": 44.044\n    },\n    {\n        \"school\": \"School 2\",\n        \"performance_scores\": 78.09\n    },\n    {\n        \"school\": \"School 2\",\n        \"performance_scores\": 61.968\n    },\n    {\n        \"school\": \"School 2\",\n        \"performance_scores\": 56.025\n    },\n    {\n        \"school\": \"School 2\",\n        \"performance_scores\": 61.349\n    },\n    {\n        \"school\": \"School 2\",\n        \"performance_scores\": 96.328\n    },\n    {\n        \"school\": \"School 2\",\n        \"performance_scores\": 70.204\n    },\n    {\n        \"school\": \"School 2\",\n        \"performance_scores\": 76.186\n    },\n    {\n        \"school\": \"School 2\",\n        \"performance_scores\": 76.654\n    },\n    {\n        \"school\": \"School 2\",\n        \"performance_scores\": 80.276\n    },\n    {\n        \"school\": \"School 2\",\n        \"performance_scores\": 80.92\n    },\n    {\n        \"school\": \"School 2\",\n        \"performance_scores\": 54.343\n    },\n    {\n        \"school\": \"School 2\",\n        \"performance_scores\": 61.772\n    },\n    {\n        \"school\": \"School 2\",\n        \"performance_scores\": 53.589\n    },\n    {\n        \"school\": \"School 2\",\n        \"performance_scores\": 54.333\n    },\n    {\n        \"school\": \"School 2\",\n        \"performance_scores\": 82.123\n    },\n    {\n        \"school\": \"School 2\",\n        \"performance_scores\": 57.474\n    },\n    {\n        \"school\": \"School 2\",\n        \"performance_scores\": 63.813\n    },\n    {\n        \"school\": \"School 2\",\n        \"performance_scores\": 54.608\n    },\n    {\n        \"school\": \"School 2\",\n        \"performance_scores\": 56.099\n    },\n    {\n        \"school\": \"School 2\",\n        \"performance_scores\": 76.824\n    },\n    {\n        \"school\": \"School 2\",\n        \"performance_scores\": 58.319\n    },\n    {\n        \"school\": \"School 2\",\n        \"performance_scores\": 57.768\n    },\n    {\n        \"school\": \"School 2\",\n        \"performance_scores\": 72.403\n    },\n    {\n        \"school\": \"School 2\",\n        \"performance_scores\": 72.507\n    },\n    {\n        \"school\": \"School 3\",\n        \"performance_scores\": 88.962\n    },\n    {\n        \"school\": \"School 3\",\n        \"performance_scores\": 85.854\n    },\n    {\n        \"school\": \"School 3\",\n        \"performance_scores\": 76.231\n    },\n    {\n        \"school\": \"School 3\",\n        \"performance_scores\": 88.151\n    },\n    {\n        \"school\": \"School 3\",\n        \"performance_scores\": 87.492\n    },\n    {\n        \"school\": \"School 3\",\n        \"performance_scores\": 90.091\n    },\n    {\n        \"school\": \"School 3\",\n        \"performance_scores\": 80.768\n    },\n    {\n        \"school\": \"School 3\",\n        \"performance_scores\": 97.604\n    },\n    {\n        \"school\": \"School 3\",\n        \"performance_scores\": 78.838\n    },\n    {\n        \"school\": \"School 3\",\n        \"performance_scores\": 88.635\n    },\n    {\n        \"school\": \"School 3\",\n        \"performance_scores\": 85.23\n    },\n    {\n        \"school\": \"School 3\",\n        \"performance_scores\": 82.564\n    },\n    {\n        \"school\": \"School 3\",\n        \"performance_scores\": 89.081\n    },\n    {\n        \"school\": \"School 3\",\n        \"performance_scores\": 83.593\n    },\n    {\n        \"school\": \"School 3\",\n        \"performance_scores\": 73.322\n    },\n    {\n        \"school\": \"School 3\",\n        \"performance_scores\": 79.164\n    },\n    {\n        \"school\": \"School 3\",\n        \"performance_scores\": 87.288\n    },\n    {\n        \"school\": \"School 3\",\n        \"performance_scores\": 96.19\n    },\n    {\n        \"school\": \"School 3\",\n        \"performance_scores\": 77.594\n    },\n    {\n        \"school\": \"School 3\",\n        \"performance_scores\": 84.915\n    },\n    {\n        \"school\": \"School 3\",\n        \"performance_scores\": 92.254\n    },\n    {\n        \"school\": \"School 3\",\n        \"performance_scores\": 88.034\n    },\n    {\n        \"school\": \"School 3\",\n        \"performance_scores\": 83.122\n    },\n    {\n        \"school\": \"School 3\",\n        \"performance_scores\": 77.89\n    },\n    {\n        \"school\": \"School 3\",\n        \"performance_scores\": 76.094\n    },\n    {\n        \"school\": \"School 3\",\n        \"performance_scores\": 81.26\n    },\n    {\n        \"school\": \"School 3\",\n        \"performance_scores\": 83.158\n    },\n    {\n        \"school\": \"School 3\",\n        \"performance_scores\": 73.754\n    },\n    {\n        \"school\": \"School 3\",\n        \"performance_scores\": 76.532\n    },\n    {\n        \"school\": \"School 3\",\n        \"performance_scores\": 86.518\n    },\n    {\n        \"school\": \"School 3\",\n        \"performance_scores\": 82.955\n    },\n    {\n        \"school\": \"School 3\",\n        \"performance_scores\": 81.226\n    },\n    {\n        \"school\": \"School 3\",\n        \"performance_scores\": 82.962\n    },\n    {\n        \"school\": \"School 3\",\n        \"performance_scores\": 80.937\n    },\n    {\n        \"school\": \"School 3\",\n        \"performance_scores\": 89.638\n    },\n    {\n        \"school\": \"School 3\",\n        \"performance_scores\": 93.2\n    },\n    {\n        \"school\": \"School 3\",\n        \"performance_scores\": 95.368\n    },\n    {\n        \"school\": \"School 3\",\n        \"performance_scores\": 88.549\n    },\n    {\n        \"school\": \"School 3\",\n        \"performance_scores\": 88.736\n    },\n    {\n        \"school\": \"School 3\",\n        \"performance_scores\": 92.315\n    },\n    {\n        \"school\": \"School 3\",\n        \"performance_scores\": 93.692\n    },\n    {\n        \"school\": \"School 3\",\n        \"performance_scores\": 92.326\n    },\n    {\n        \"school\": \"School 3\",\n        \"performance_scores\": 91.061\n    },\n    {\n        \"school\": \"School 3\",\n        \"performance_scores\": 81.827\n    },\n    {\n        \"school\": \"School 3\",\n        \"performance_scores\": 77.002\n    },\n    {\n        \"school\": \"School 3\",\n        \"performance_scores\": 89.386\n    },\n    {\n        \"school\": \"School 3\",\n        \"performance_scores\": 84.531\n    },\n    {\n        \"school\": \"School 3\",\n        \"performance_scores\": 84.722\n    },\n    {\n        \"school\": \"School 3\",\n        \"performance_scores\": 80.553\n    },\n    {\n        \"school\": \"School 3\",\n        \"performance_scores\": 78.495\n    }\n]\n\ndf = pd.DataFrame(data)"
            ]
        },
        {
            "cell_type": "markdown",
            "metadata": {},
            "source": [
                "## **Solution:** "
            ]
        },
        {
            "cell_type": "code",
            "execution_count": null,
            "metadata": [
                {}
            ],
            "source": [
                "import matplotlib.pyplot as plt\n\ncolor_map = {'School 1': \"plum\", 'School 2': 'peachpuff', 'School 3': 'palegreen'}\ncolors = df['school'].map(color_map)\n#adding plot titles and labels\n\nplt.figure(figsize=(10, 6))\n\nbox = plt.boxplot([\n        df[df['school'] == 'School 1']['performance_scores'],\n        df[df['school'] == 'School 2']['performance_scores'],\n        df[df['school'] == 'School 3']['performance_scores']], \n        patch_artist=True, labels=['School 1', 'School 2', 'School 3'])\n    \nfor school, color in zip(box['boxes'], ['plum', 'peachpuff', 'palegreen']):\n    school.set_facecolor(color)\n    \nplt.title(\"Performance Scores of Students Across Various Schools\")\nplt.xlabel(\"School\")\nplt.ylabel('Performance Scores')\nplt.grid(True)\nplt.show()"
            ]
        }
    ],
    "metadata": {
        "kernelspec": {
            "display_name": "Python 3",
            "language": "python",
            "name": "python3"
        },
        "language_info": {
            "codemirror_mode": {
                "name": "ipython",
                "version": 3
            },
            "file_extension": ".py",
            "mimetype": "text/x-python",
            "name": "python",
            "nbconvert_exporter": "python",
            "pygments_lexer": "ipython3",
            "version": "3.11.4"
        }
    },
    "nbformat": 4,
    "nbformat_minor": 2,
    "name_of_the_file": "Student performance comparison.ipynb"
}