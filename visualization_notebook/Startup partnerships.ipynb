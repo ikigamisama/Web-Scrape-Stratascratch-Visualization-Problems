{
    "cells": [
        {
            "cell_type": "markdown",
            "metadata": {},
            "source": [
                "### **Link:** https://platform.stratascratch.com/visualizations/10500-startup-partnerships?code_type=2"
            ]
        },
        {
            "cell_type": "markdown",
            "metadata": {},
            "source": [
                "# Startup partnerships"
            ]
        },
        {
            "cell_type": "markdown",
            "metadata": {},
            "source": [
                "##### **Difficulty:** Hard"
            ]
        },
        {
            "cell_type": "markdown",
            "metadata": {},
            "source": [
                "##### **ID:** ID 10500"
            ]
        },
        {
            "cell_type": "markdown",
            "metadata": {},
            "source": [
                "##### **Type:** Network Graph"
            ]
        },
        {
            "cell_type": "markdown",
            "metadata": {},
            "source": [
                "##### **Analysis:** Relationships"
            ]
        },
        {
            "cell_type": "markdown",
            "metadata": {},
            "source": [
                "##### **Data Type:** Categorical Data"
            ]
        },
        {
            "cell_type": "markdown",
            "metadata": {},
            "source": [
                "##### Generate a network graph to illustrate the partnerships between different tech startups, using 'seashell' for nascent startups and 'sienna' for established ones."
            ]
        },
        {
            "cell_type": "markdown",
            "metadata": {},
            "source": [
                "## **Data:** "
            ]
        },
        {
            "cell_type": "code",
            "execution_count": null,
            "metadata": [
                {}
            ],
            "source": [
                "import pandas as pd \n\ndata = [\n    {\n        \"startup\": \"A\",\n        \"status\": \"Nascent\"\n    },\n    {\n        \"startup\": \"B\",\n        \"status\": \"Established\"\n    },\n    {\n        \"startup\": \"C\",\n        \"status\": \"Established\"\n    },\n    {\n        \"startup\": \"D\",\n        \"status\": \"Nascent\"\n    },\n    {\n        \"startup\": \"E\",\n        \"status\": \"Established\"\n    },\n    {\n        \"startup\": \"F\",\n        \"status\": \"Nascent\"\n    },\n    {\n        \"startup\": \"G\",\n        \"status\": \"Established\"\n    },\n    {\n        \"startup\": \"H\",\n        \"status\": \"Nascent\"\n    }\n]\n\ndf = pd.DataFrame(data)"
            ]
        },
        {
            "cell_type": "markdown",
            "metadata": {},
            "source": [
                "## **Solution:** "
            ]
        },
        {
            "cell_type": "code",
            "execution_count": null,
            "metadata": [
                {}
            ],
            "source": [
                "import matplotlib.pyplot as plt\nimport networkx as nx\ncolors = {'Nascent': 'seashell', 'Established': 'sienna'}\n\nplt.figure(figsize=(12, 8))\n\nnode_colors = [colors[G.nodes[node]['status']] for node in G.nodes]\n\npos = nx.spring_layout(G)\nnx.draw(G, pos, with_labels=True, node_color=node_colors, node_size=5000, edge_color='gray', font_size=10, font_color='black', font_weight='bold')\n\nlegend_elements = [\n    plt.Line2D([0], [0], marker='o', color='w', markerfacecolor='seashell', markersize=10, label='Nascent'),\n    plt.Line2D([0], [0], marker='o', color='w', markerfacecolor='sienna', markersize=10, label='Established')\n]\nplt.legend(handles=legend_elements, title='Startup Status')\n\nplt.title('Partnerships Between Tech Startups')\nplt.show()"
            ]
        }
    ],
    "metadata": {
        "kernelspec": {
            "display_name": "Python 3",
            "language": "python",
            "name": "python3"
        },
        "language_info": {
            "codemirror_mode": {
                "name": "ipython",
                "version": 3
            },
            "file_extension": ".py",
            "mimetype": "text/x-python",
            "name": "python",
            "nbconvert_exporter": "python",
            "pygments_lexer": "ipython3",
            "version": "3.11.4"
        }
    },
    "nbformat": 4,
    "nbformat_minor": 2,
    "name_of_the_file": "Startup partnerships.ipynb"
}