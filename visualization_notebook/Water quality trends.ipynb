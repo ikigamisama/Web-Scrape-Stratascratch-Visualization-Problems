{
    "cells": [
        {
            "cell_type": "markdown",
            "metadata": {},
            "source": [
                "### **Link:** https://platform.stratascratch.com/visualizations/10495-water-quality-trends?code_type=2"
            ]
        },
        {
            "cell_type": "markdown",
            "metadata": {},
            "source": [
                "# Water quality trends"
            ]
        },
        {
            "cell_type": "markdown",
            "metadata": {},
            "source": [
                "##### **Difficulty:** Medium"
            ]
        },
        {
            "cell_type": "markdown",
            "metadata": {},
            "source": [
                "##### **ID:** ID 10495"
            ]
        },
        {
            "cell_type": "markdown",
            "metadata": {},
            "source": [
                "##### **Type:** Line Graph"
            ]
        },
        {
            "cell_type": "markdown",
            "metadata": {},
            "source": [
                "##### **Analysis:** Trend Analysis"
            ]
        },
        {
            "cell_type": "markdown",
            "metadata": {},
            "source": [
                "##### **Data Type:** Time Series Data"
            ]
        },
        {
            "cell_type": "markdown",
            "metadata": {},
            "source": [
                "##### Create a line graph to monitor the change in water quality over time at different test sites, using 'lightseagreen' for Site A, 'plum' for Site B, and 'tan' for Site C."
            ]
        },
        {
            "cell_type": "markdown",
            "metadata": {},
            "source": [
                "## **Data:** "
            ]
        },
        {
            "cell_type": "code",
            "execution_count": null,
            "metadata": [
                {}
            ],
            "source": [
                "import pandas as pd \n\ndata = [\n    {\n        \"site_a\": 77.441,\n        \"site_b\": 68.402,\n        \"site_c\": 35.914\n    },\n    {\n        \"site_a\": 85.759,\n        \"site_b\": 86.28,\n        \"site_c\": 61.996\n    },\n    {\n        \"site_a\": 80.138,\n        \"site_b\": 43.552,\n        \"site_c\": 37.168\n    },\n    {\n        \"site_a\": 77.244,\n        \"site_b\": 44.356,\n        \"site_c\": 77.233\n    },\n    {\n        \"site_a\": 71.183,\n        \"site_b\": 41.011,\n        \"site_c\": 56.092\n    },\n    {\n        \"site_a\": 82.295,\n        \"site_b\": 81.631,\n        \"site_c\": 50.733\n    },\n    {\n        \"site_a\": 71.879,\n        \"site_b\": 78.908,\n        \"site_c\": 43.228\n    },\n    {\n        \"site_a\": 94.589,\n        \"site_b\": 83.501,\n        \"site_c\": 68.712\n    },\n    {\n        \"site_a\": 98.183,\n        \"site_b\": 88.931,\n        \"site_c\": 52.808\n    },\n    {\n        \"site_a\": 69.172,\n        \"site_b\": 79.958,\n        \"site_c\": 58.422\n    },\n    {\n        \"site_a\": 89.586,\n        \"site_b\": 63.074,\n        \"site_c\": 30.939\n    },\n    {\n        \"site_a\": 76.445,\n        \"site_b\": 79.026,\n        \"site_c\": 60.882\n    }\n]\n\ndf = pd.DataFrame(data)"
            ]
        },
        {
            "cell_type": "markdown",
            "metadata": {},
            "source": [
                "## **Solution:** "
            ]
        },
        {
            "cell_type": "code",
            "execution_count": null,
            "metadata": [
                {}
            ],
            "source": [
                "import matplotlib.pyplot as plt\n\ncolors = {'site_a': 'lightseagreen', 'site_b': 'plum', 'site_c': 'tan'}\nplt.figure(figsize=(12,6))\n\nplt.plot(df.index, df['site_a'], label=\"Site A\", color=\"lightseagreen\")\nplt.plot(df.index, df['site_b'], label=\"Site B\", color=\"plum\")\nplt.plot(df.index, df['site_c'], label=\"Site C\", color=\"tan\")\n\nplt.title(\"Change in Water Quality Over Time at Different Test Sales\")\nplt.ylabel(\"WAter QUality Index\")\nplt.legend()\nplt.grid(True)\nplt.show()"
            ]
        }
    ],
    "metadata": {
        "kernelspec": {
            "display_name": "Python 3",
            "language": "python",
            "name": "python3"
        },
        "language_info": {
            "codemirror_mode": {
                "name": "ipython",
                "version": 3
            },
            "file_extension": ".py",
            "mimetype": "text/x-python",
            "name": "python",
            "nbconvert_exporter": "python",
            "pygments_lexer": "ipython3",
            "version": "3.11.4"
        }
    },
    "nbformat": 4,
    "nbformat_minor": 2,
    "name_of_the_file": "Water quality trends.ipynb"
}