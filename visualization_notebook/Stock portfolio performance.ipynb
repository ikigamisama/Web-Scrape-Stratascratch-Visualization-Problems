{
    "cells": [
        {
            "cell_type": "markdown",
            "metadata": {},
            "source": [
                "### **Link:** https://platform.stratascratch.com/visualizations/10488-stock-portfolio-performance?code_type=2"
            ]
        },
        {
            "cell_type": "markdown",
            "metadata": {},
            "source": [
                "# Stock portfolio performance"
            ]
        },
        {
            "cell_type": "markdown",
            "metadata": {},
            "source": [
                "##### **Difficulty:** Medium"
            ]
        },
        {
            "cell_type": "markdown",
            "metadata": {},
            "source": [
                "##### **ID:** ID 10488"
            ]
        },
        {
            "cell_type": "markdown",
            "metadata": {},
            "source": [
                "##### **Type:** Line Chart"
            ]
        },
        {
            "cell_type": "markdown",
            "metadata": {},
            "source": [
                "##### **Analysis:** Trend Analysis"
            ]
        },
        {
            "cell_type": "markdown",
            "metadata": {},
            "source": [
                "##### **Data Type:** Time Series Data"
            ]
        },
        {
            "cell_type": "markdown",
            "metadata": {},
            "source": [
                "##### Create a line chart to track the weekly performance of different stock portfolios, using 'red' for Portfolio A, 'blue' for Portfolio B, and 'green' for Portfolio C."
            ]
        },
        {
            "cell_type": "markdown",
            "metadata": {},
            "source": [
                "## **Data:** "
            ]
        },
        {
            "cell_type": "code",
            "execution_count": null,
            "metadata": [
                {}
            ],
            "source": [
                "import pandas as pd \n\ndata = [\n    {\n        \"portfolio_a\": 154.881,\n        \"portfolio_b\": 178.837,\n        \"portfolio_c\": 114.875\n    },\n    {\n        \"portfolio_a\": 171.519,\n        \"portfolio_b\": 90.204,\n        \"portfolio_c\": 147.616\n    },\n    {\n        \"portfolio_a\": 160.276,\n        \"portfolio_b\": 100.888,\n        \"portfolio_c\": 149.204\n    },\n    {\n        \"portfolio_a\": 154.488,\n        \"portfolio_b\": 96.131,\n        \"portfolio_c\": 147.225\n    },\n    {\n        \"portfolio_a\": 142.365,\n        \"portfolio_b\": 145.311,\n        \"portfolio_c\": 112.308\n    },\n    {\n        \"portfolio_a\": 164.589,\n        \"portfolio_b\": 105.329,\n        \"portfolio_c\": 185.275\n    },\n    {\n        \"portfolio_a\": 143.759,\n        \"portfolio_b\": 126.631,\n        \"portfolio_c\": 134.713\n    },\n    {\n        \"portfolio_a\": 189.177,\n        \"portfolio_b\": 104.443,\n        \"portfolio_c\": 174.641\n    },\n    {\n        \"portfolio_a\": 196.366,\n        \"portfolio_b\": 95.897,\n        \"portfolio_c\": 159.948\n    },\n    {\n        \"portfolio_a\": 138.344,\n        \"portfolio_b\": 91.038,\n        \"portfolio_c\": 119.744\n    },\n    {\n        \"portfolio_a\": 179.173,\n        \"portfolio_b\": 145.633,\n        \"portfolio_c\": 171.38\n    },\n    {\n        \"portfolio_a\": 152.889,\n        \"portfolio_b\": 93.818,\n        \"portfolio_c\": 129.651\n    },\n    {\n        \"portfolio_a\": 156.804,\n        \"portfolio_b\": 99.658,\n        \"portfolio_c\": 178.11\n    },\n    {\n        \"portfolio_a\": 192.56,\n        \"portfolio_b\": 116.873,\n        \"portfolio_c\": 148.127\n    },\n    {\n        \"portfolio_a\": 107.104,\n        \"portfolio_b\": 162.099,\n        \"portfolio_c\": 178.174\n    },\n    {\n        \"portfolio_a\": 108.713,\n        \"portfolio_b\": 89.71,\n        \"portfolio_c\": 159.253\n    },\n    {\n        \"portfolio_a\": 102.022,\n        \"portfolio_b\": 163.794,\n        \"portfolio_c\": 162.525\n    },\n    {\n        \"portfolio_a\": 183.262,\n        \"portfolio_b\": 89.61,\n        \"portfolio_c\": 140.132\n    },\n    {\n        \"portfolio_a\": 177.816,\n        \"portfolio_b\": 177.646,\n        \"portfolio_c\": 185.608\n    },\n    {\n        \"portfolio_a\": 187.001,\n        \"portfolio_b\": 126.865,\n        \"portfolio_c\": 154.399\n    },\n    {\n        \"portfolio_a\": 197.862,\n        \"portfolio_b\": 177.676,\n        \"portfolio_c\": 132.386\n    },\n    {\n        \"portfolio_a\": 179.916,\n        \"portfolio_b\": 140.485,\n        \"portfolio_c\": 150.639\n    },\n    {\n        \"portfolio_a\": 146.148,\n        \"portfolio_b\": 153.926,\n        \"portfolio_c\": 91.919\n    },\n    {\n        \"portfolio_a\": 178.053,\n        \"portfolio_b\": 83.919,\n        \"portfolio_c\": 120.157\n    },\n    {\n        \"portfolio_a\": 111.827,\n        \"portfolio_b\": 108.281,\n        \"portfolio_c\": 156.017\n    },\n    {\n        \"portfolio_a\": 163.992,\n        \"portfolio_b\": 92.02,\n        \"portfolio_c\": 119.008\n    },\n    {\n        \"portfolio_a\": 114.335,\n        \"portfolio_b\": 109.614,\n        \"portfolio_c\": 151.802\n    },\n    {\n        \"portfolio_a\": 194.467,\n        \"portfolio_b\": 91.873,\n        \"portfolio_c\": 132.877\n    },\n    {\n        \"portfolio_a\": 152.185,\n        \"portfolio_b\": 111.798,\n        \"portfolio_c\": 103.547\n    },\n    {\n        \"portfolio_a\": 141.466,\n        \"portfolio_b\": 121.426,\n        \"portfolio_c\": 119.828\n    },\n    {\n        \"portfolio_a\": 126.456,\n        \"portfolio_b\": 86.415,\n        \"portfolio_c\": 146.996\n    },\n    {\n        \"portfolio_a\": 177.423,\n        \"portfolio_b\": 149.247,\n        \"portfolio_c\": 149.087\n    },\n    {\n        \"portfolio_a\": 145.615,\n        \"portfolio_b\": 136.66,\n        \"portfolio_c\": 147.433\n    },\n    {\n        \"portfolio_a\": 156.843,\n        \"portfolio_b\": 106.539,\n        \"portfolio_c\": 155.32\n    },\n    {\n        \"portfolio_a\": 101.879,\n        \"portfolio_b\": 132.325,\n        \"portfolio_c\": 155.21\n    },\n    {\n        \"portfolio_a\": 161.764,\n        \"portfolio_b\": 89.394,\n        \"portfolio_c\": 133.142\n    },\n    {\n        \"portfolio_a\": 161.21,\n        \"portfolio_b\": 137.595,\n        \"portfolio_c\": 179.655\n    },\n    {\n        \"portfolio_a\": 161.693,\n        \"portfolio_b\": 172.93,\n        \"portfolio_c\": 126.756\n    },\n    {\n        \"portfolio_a\": 194.375,\n        \"portfolio_b\": 111.857,\n        \"portfolio_c\": 133.586\n    },\n    {\n        \"portfolio_a\": 168.182,\n        \"portfolio_b\": 146.741,\n        \"portfolio_c\": 179.192\n    },\n    {\n        \"portfolio_a\": 135.951,\n        \"portfolio_b\": 93.18,\n        \"portfolio_c\": 170.619\n    },\n    {\n        \"portfolio_a\": 143.703,\n        \"portfolio_b\": 151.633,\n        \"portfolio_c\": 160.389\n    },\n    {\n        \"portfolio_a\": 169.763,\n        \"portfolio_b\": 108.941,\n        \"portfolio_c\": 100.023\n    },\n    {\n        \"portfolio_a\": 106.023,\n        \"portfolio_b\": 98.319,\n        \"portfolio_c\": 181.948\n    },\n    {\n        \"portfolio_a\": 166.677,\n        \"portfolio_b\": 138.651,\n        \"portfolio_c\": 161.424\n    },\n    {\n        \"portfolio_a\": 167.064,\n        \"portfolio_b\": 82.011,\n        \"portfolio_c\": 189.885\n    },\n    {\n        \"portfolio_a\": 121.038,\n        \"portfolio_b\": 162.894,\n        \"portfolio_c\": 104.945\n    },\n    {\n        \"portfolio_a\": 112.893,\n        \"portfolio_b\": 80.47,\n        \"portfolio_c\": 176.813\n    },\n    {\n        \"portfolio_a\": 131.543,\n        \"portfolio_b\": 147.782,\n        \"portfolio_c\": 106.249\n    },\n    {\n        \"portfolio_a\": 136.371,\n        \"portfolio_b\": 107.001,\n        \"portfolio_c\": 151.556\n    },\n    {\n        \"portfolio_a\": 157.02,\n        \"portfolio_b\": 153.519,\n        \"portfolio_c\": 102.382\n    },\n    {\n        \"portfolio_a\": 143.86,\n        \"portfolio_b\": 176.219,\n        \"portfolio_c\": 174.801\n    }\n]\n\ndf = pd.DataFrame(data)"
            ]
        },
        {
            "cell_type": "markdown",
            "metadata": {},
            "source": [
                "## **Solution:** "
            ]
        },
        {
            "cell_type": "code",
            "execution_count": null,
            "metadata": [
                {}
            ],
            "source": [
                "import matplotlib.pyplot as plt\nimport plotly.express as px\n\n#plotting the chart\ncolors = {'portfolio_a': 'red', 'portfolio_b': 'blue', 'portfolio_c': 'green'}\nplt.figure(figsize=(14, 7))\n\nfor portfolio, color in colors.items():\n    plt.plot(df.index, df[portfolio], label=portfolio, color=color)\n    \nplt.title('Weekly Performance of Different Stock Portfolios')\nplt.xlabel('Year')\nplt.ylabel('Performance')\nplt.legend(title='Product Sectors')\nplt.grid(True)\nplt.show()"
            ]
        }
    ],
    "metadata": {
        "kernelspec": {
            "display_name": "Python 3",
            "language": "python",
            "name": "python3"
        },
        "language_info": {
            "codemirror_mode": {
                "name": "ipython",
                "version": 3
            },
            "file_extension": ".py",
            "mimetype": "text/x-python",
            "name": "python",
            "nbconvert_exporter": "python",
            "pygments_lexer": "ipython3",
            "version": "3.11.4"
        }
    },
    "nbformat": 4,
    "nbformat_minor": 2,
    "name_of_the_file": "Stock portfolio performance.ipynb"
}