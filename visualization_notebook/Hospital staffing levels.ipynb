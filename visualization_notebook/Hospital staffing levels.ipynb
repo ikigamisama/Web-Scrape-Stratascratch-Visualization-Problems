{
    "cells": [
        {
            "cell_type": "markdown",
            "metadata": {},
            "source": [
                "### **Link:** https://platform.stratascratch.com/visualizations/10523-hospital-staffing-levels?code_type=2"
            ]
        },
        {
            "cell_type": "markdown",
            "metadata": {},
            "source": [
                "# Hospital staffing levels"
            ]
        },
        {
            "cell_type": "markdown",
            "metadata": {},
            "source": [
                "##### **Difficulty:** Medium"
            ]
        },
        {
            "cell_type": "markdown",
            "metadata": {},
            "source": [
                "##### **ID:** ID 10523"
            ]
        },
        {
            "cell_type": "markdown",
            "metadata": {},
            "source": [
                "##### **Type:** Heat Map"
            ]
        },
        {
            "cell_type": "markdown",
            "metadata": {},
            "source": [
                "##### **Analysis:** Trend Analysis"
            ]
        },
        {
            "cell_type": "markdown",
            "metadata": {},
            "source": [
                "##### **Data Type:** Time Series Data & Numerical Data"
            ]
        },
        {
            "cell_type": "markdown",
            "metadata": {},
            "source": [
                "##### Use a heat map to analyze staffing levels in hospital departments throughout the day, with 'mintcream' indicating low staffing and 'crimson' indicating high staffing."
            ]
        },
        {
            "cell_type": "markdown",
            "metadata": {},
            "source": [
                "## **Data:** "
            ]
        },
        {
            "cell_type": "code",
            "execution_count": null,
            "metadata": [
                {}
            ],
            "source": [
                "import pandas as pd \n\ndata = [\n    {\n        \"00:00:00\": 13,\n        \"01:00:00\": 16,\n        \"02:00:00\": 1,\n        \"03:00:00\": 4,\n        \"04:00:00\": 4,\n        \"05:00:00\": 8,\n        \"06:00:00\": 10,\n        \"07:00:00\": 19,\n        \"08:00:00\": 5,\n        \"09:00:00\": 7,\n        \"10:00:00\": 13,\n        \"11:00:00\": 2,\n        \"12:00:00\": 7,\n        \"13:00:00\": 8,\n        \"14:00:00\": 15,\n        \"15:00:00\": 18,\n        \"16:00:00\": 6,\n        \"17:00:00\": 14,\n        \"18:00:00\": 9,\n        \"19:00:00\": 10,\n        \"20:00:00\": 17,\n        \"21:00:00\": 6,\n        \"22:00:00\": 16,\n        \"23:00:00\": 16\n    },\n    {\n        \"00:00:00\": 1,\n        \"01:00:00\": 19,\n        \"02:00:00\": 4,\n        \"03:00:00\": 18,\n        \"04:00:00\": 15,\n        \"05:00:00\": 8,\n        \"06:00:00\": 1,\n        \"07:00:00\": 2,\n        \"08:00:00\": 10,\n        \"09:00:00\": 1,\n        \"10:00:00\": 11,\n        \"11:00:00\": 4,\n        \"12:00:00\": 12,\n        \"13:00:00\": 19,\n        \"14:00:00\": 3,\n        \"15:00:00\": 1,\n        \"16:00:00\": 1,\n        \"17:00:00\": 5,\n        \"18:00:00\": 6,\n        \"19:00:00\": 7,\n        \"20:00:00\": 9,\n        \"21:00:00\": 18,\n        \"22:00:00\": 16,\n        \"23:00:00\": 5\n    },\n    {\n        \"00:00:00\": 10,\n        \"01:00:00\": 11,\n        \"02:00:00\": 2,\n        \"03:00:00\": 2,\n        \"04:00:00\": 8,\n        \"05:00:00\": 10,\n        \"06:00:00\": 4,\n        \"07:00:00\": 7,\n        \"08:00:00\": 12,\n        \"09:00:00\": 15,\n        \"10:00:00\": 19,\n        \"11:00:00\": 1,\n        \"12:00:00\": 15,\n        \"13:00:00\": 4,\n        \"14:00:00\": 13,\n        \"15:00:00\": 11,\n        \"16:00:00\": 12,\n        \"17:00:00\": 5,\n        \"18:00:00\": 7,\n        \"19:00:00\": 5,\n        \"20:00:00\": 16,\n        \"21:00:00\": 4,\n        \"22:00:00\": 13,\n        \"23:00:00\": 5\n    },\n    {\n        \"00:00:00\": 9,\n        \"01:00:00\": 15,\n        \"02:00:00\": 16,\n        \"03:00:00\": 4,\n        \"04:00:00\": 16,\n        \"05:00:00\": 14,\n        \"06:00:00\": 17,\n        \"07:00:00\": 18,\n        \"08:00:00\": 6,\n        \"09:00:00\": 10,\n        \"10:00:00\": 4,\n        \"11:00:00\": 1,\n        \"12:00:00\": 6,\n        \"13:00:00\": 1,\n        \"14:00:00\": 18,\n        \"15:00:00\": 19,\n        \"16:00:00\": 5,\n        \"17:00:00\": 3,\n        \"18:00:00\": 17,\n        \"19:00:00\": 4,\n        \"20:00:00\": 3,\n        \"21:00:00\": 11,\n        \"22:00:00\": 14,\n        \"23:00:00\": 17\n    },\n    {\n        \"00:00:00\": 8,\n        \"01:00:00\": 10,\n        \"02:00:00\": 1,\n        \"03:00:00\": 11,\n        \"04:00:00\": 19,\n        \"05:00:00\": 12,\n        \"06:00:00\": 3,\n        \"07:00:00\": 3,\n        \"08:00:00\": 4,\n        \"09:00:00\": 4,\n        \"10:00:00\": 19,\n        \"11:00:00\": 15,\n        \"12:00:00\": 4,\n        \"13:00:00\": 18,\n        \"14:00:00\": 19,\n        \"15:00:00\": 15,\n        \"16:00:00\": 10,\n        \"17:00:00\": 2,\n        \"18:00:00\": 5,\n        \"19:00:00\": 11,\n        \"20:00:00\": 12,\n        \"21:00:00\": 9,\n        \"22:00:00\": 12,\n        \"23:00:00\": 3\n    },\n    {\n        \"00:00:00\": 17,\n        \"01:00:00\": 1,\n        \"02:00:00\": 1,\n        \"03:00:00\": 7,\n        \"04:00:00\": 15,\n        \"05:00:00\": 11,\n        \"06:00:00\": 9,\n        \"07:00:00\": 14,\n        \"08:00:00\": 3,\n        \"09:00:00\": 4,\n        \"10:00:00\": 3,\n        \"11:00:00\": 12,\n        \"12:00:00\": 14,\n        \"13:00:00\": 17,\n        \"14:00:00\": 9,\n        \"15:00:00\": 9,\n        \"16:00:00\": 9,\n        \"17:00:00\": 3,\n        \"18:00:00\": 4,\n        \"19:00:00\": 13,\n        \"20:00:00\": 15,\n        \"21:00:00\": 1,\n        \"22:00:00\": 5,\n        \"23:00:00\": 4\n    }\n]\n\ndf = pd.DataFrame(data)"
            ]
        },
        {
            "cell_type": "markdown",
            "metadata": {},
            "source": [
                "## **Solution:** "
            ]
        },
        {
            "cell_type": "code",
            "execution_count": null,
            "metadata": [
                {}
            ],
            "source": [
                "import matplotlib.pyplot as plt\nimport seaborn as sns\n\nplt.figure(figsize=(12, 8))\nsns.heatmap(df, cmap='RdYlGn_r', cbar_kws={'label': 'Staffling Leves'})\n\nplt.title('Hourly Traffic Patterns on Major City Roads')\nplt.xlabel('Time of Day')\nplt.ylabel('Department')\nplt.show()"
            ]
        }
    ],
    "metadata": {
        "kernelspec": {
            "display_name": "Python 3",
            "language": "python",
            "name": "python3"
        },
        "language_info": {
            "codemirror_mode": {
                "name": "ipython",
                "version": 3
            },
            "file_extension": ".py",
            "mimetype": "text/x-python",
            "name": "python",
            "nbconvert_exporter": "python",
            "pygments_lexer": "ipython3",
            "version": "3.11.4"
        }
    },
    "nbformat": 4,
    "nbformat_minor": 2,
    "name_of_the_file": "Hospital staffing levels.ipynb"
}