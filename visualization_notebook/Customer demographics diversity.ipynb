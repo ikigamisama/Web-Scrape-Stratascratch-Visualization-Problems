{
    "cells": [
        {
            "cell_type": "markdown",
            "metadata": {},
            "source": [
                "### **Link:** https://platform.stratascratch.com/visualizations/10537-customer-demographics-diversity?code_type=2"
            ]
        },
        {
            "cell_type": "markdown",
            "metadata": {},
            "source": [
                "# Customer demographics diversity"
            ]
        },
        {
            "cell_type": "markdown",
            "metadata": {},
            "source": [
                "##### **Difficulty:** Medium"
            ]
        },
        {
            "cell_type": "markdown",
            "metadata": {},
            "source": [
                "##### **ID:** ID 10537"
            ]
        },
        {
            "cell_type": "markdown",
            "metadata": {},
            "source": [
                "##### **Type:** Stacked Bar Chart"
            ]
        },
        {
            "cell_type": "markdown",
            "metadata": {},
            "source": [
                "##### **Analysis:** Comparison"
            ]
        },
        {
            "cell_type": "markdown",
            "metadata": {},
            "source": [
                "##### **Data Type:** Categorical Data & Numerical Data"
            ]
        },
        {
            "cell_type": "markdown",
            "metadata": {},
            "source": [
                "##### Develop a stacked bar chart to illustrate the diversity of customer demographics in a retail chain, using 'ivory' for teens, 'tan' for adults, and 'olivedrab' for seniors."
            ]
        },
        {
            "cell_type": "markdown",
            "metadata": {},
            "source": [
                "## **Data:** "
            ]
        },
        {
            "cell_type": "code",
            "execution_count": null,
            "metadata": [
                {}
            ],
            "source": [
                "import pandas as pd \n\ndata = [\n    {\n        \"store\": \"Store A\",\n        \"teens\": 89,\n        \"adults\": 237,\n        \"seniors\": 55\n    },\n    {\n        \"store\": \"Store B\",\n        \"teens\": 156,\n        \"adults\": 230,\n        \"seniors\": 98\n    },\n    {\n        \"store\": \"Store C\",\n        \"teens\": 165,\n        \"adults\": 169,\n        \"seniors\": 66\n    },\n    {\n        \"store\": \"Store D\",\n        \"teens\": 199,\n        \"adults\": 215,\n        \"seniors\": 30\n    },\n    {\n        \"store\": \"Store E\",\n        \"teens\": 97,\n        \"adults\": 277,\n        \"seniors\": 30\n    }\n]\n\ndf = pd.DataFrame(data)"
            ]
        },
        {
            "cell_type": "markdown",
            "metadata": {},
            "source": [
                "## **Solution:** "
            ]
        },
        {
            "cell_type": "code",
            "execution_count": null,
            "metadata": [
                {}
            ],
            "source": [
                "import matplotlib.pyplot as plt\n\n#plotting the chart\ncolor_map = {'teens': 'ivory', 'adults': 'tan', 'seniors': 'olivedrab'}\n#adding plot titles and labels\n\ndf.plot(kind='bar',stacked=True,color=[color_map[col] for col in df.columns],figsize=(10, 6))\n\nplt.title('Diversity of Customer Demographics in a Retail Chain')\nplt.xlabel('Store')\nplt.ylabel('Number of Customers')\nplt.legend(bbox_to_anchor=(1.05, 1), borderaxespad=0,loc=\"upper left\", title='Demographic Group')\nplt.grid(axis='y')\nplt.tight_layout()\nplt.show()"
            ]
        }
    ],
    "metadata": {
        "kernelspec": {
            "display_name": "Python 3",
            "language": "python",
            "name": "python3"
        },
        "language_info": {
            "codemirror_mode": {
                "name": "ipython",
                "version": 3
            },
            "file_extension": ".py",
            "mimetype": "text/x-python",
            "name": "python",
            "nbconvert_exporter": "python",
            "pygments_lexer": "ipython3",
            "version": "3.11.4"
        }
    },
    "nbformat": 4,
    "nbformat_minor": 2,
    "name_of_the_file": "Customer demographics diversity.ipynb"
}