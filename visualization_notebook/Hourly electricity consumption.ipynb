{
    "cells": [
        {
            "cell_type": "markdown",
            "metadata": {},
            "source": [
                "### **Link:** https://platform.stratascratch.com/visualizations/10512-hourly-electricity-consumption?code_type=2"
            ]
        },
        {
            "cell_type": "markdown",
            "metadata": {},
            "source": [
                "# Hourly electricity consumption"
            ]
        },
        {
            "cell_type": "markdown",
            "metadata": {},
            "source": [
                "##### **Difficulty:** Easy"
            ]
        },
        {
            "cell_type": "markdown",
            "metadata": {},
            "source": [
                "##### **ID:** ID 10512"
            ]
        },
        {
            "cell_type": "markdown",
            "metadata": {},
            "source": [
                "##### **Type:** Line Chart"
            ]
        },
        {
            "cell_type": "markdown",
            "metadata": {},
            "source": [
                "##### **Analysis:** Trend Analysis"
            ]
        },
        {
            "cell_type": "markdown",
            "metadata": {},
            "source": [
                "##### **Data Type:** Time Series Data"
            ]
        },
        {
            "cell_type": "markdown",
            "metadata": {},
            "source": [
                "##### Develop a line chart to monitor hourly electricity consumption in an industrial park, using 'midnightblue' to represent the consumption trend."
            ]
        },
        {
            "cell_type": "markdown",
            "metadata": {},
            "source": [
                "## **Data:** "
            ]
        },
        {
            "cell_type": "code",
            "execution_count": null,
            "metadata": [
                {}
            ],
            "source": [
                "import pandas as pd \n\ndata = [\n    {\n        \"hour\": \"2023-01-01 00:00:00\",\n        \"consumption\": 319.525\n    },\n    {\n        \"hour\": \"2023-01-01 01:00:00\",\n        \"consumption\": 386.076\n    },\n    {\n        \"hour\": \"2023-01-01 02:00:00\",\n        \"consumption\": 341.105\n    },\n    {\n        \"hour\": \"2023-01-01 03:00:00\",\n        \"consumption\": 317.953\n    },\n    {\n        \"hour\": \"2023-01-01 04:00:00\",\n        \"consumption\": 269.462\n    },\n    {\n        \"hour\": \"2023-01-01 05:00:00\",\n        \"consumption\": 358.358\n    },\n    {\n        \"hour\": \"2023-01-01 06:00:00\",\n        \"consumption\": 275.035\n    },\n    {\n        \"hour\": \"2023-01-01 07:00:00\",\n        \"consumption\": 456.709\n    },\n    {\n        \"hour\": \"2023-01-01 08:00:00\",\n        \"consumption\": 485.465\n    },\n    {\n        \"hour\": \"2023-01-01 09:00:00\",\n        \"consumption\": 253.377\n    },\n    {\n        \"hour\": \"2023-01-01 10:00:00\",\n        \"consumption\": 416.69\n    },\n    {\n        \"hour\": \"2023-01-01 11:00:00\",\n        \"consumption\": 311.558\n    },\n    {\n        \"hour\": \"2023-01-01 12:00:00\",\n        \"consumption\": 327.218\n    },\n    {\n        \"hour\": \"2023-01-01 13:00:00\",\n        \"consumption\": 470.239\n    },\n    {\n        \"hour\": \"2023-01-01 14:00:00\",\n        \"consumption\": 128.414\n    },\n    {\n        \"hour\": \"2023-01-01 15:00:00\",\n        \"consumption\": 134.852\n    },\n    {\n        \"hour\": \"2023-01-01 16:00:00\",\n        \"consumption\": 108.087\n    },\n    {\n        \"hour\": \"2023-01-01 17:00:00\",\n        \"consumption\": 433.048\n    },\n    {\n        \"hour\": \"2023-01-01 18:00:00\",\n        \"consumption\": 411.263\n    },\n    {\n        \"hour\": \"2023-01-01 19:00:00\",\n        \"consumption\": 448.005\n    },\n    {\n        \"hour\": \"2023-01-01 20:00:00\",\n        \"consumption\": 491.447\n    },\n    {\n        \"hour\": \"2023-01-01 21:00:00\",\n        \"consumption\": 419.663\n    },\n    {\n        \"hour\": \"2023-01-01 22:00:00\",\n        \"consumption\": 284.592\n    },\n    {\n        \"hour\": \"2023-01-01 23:00:00\",\n        \"consumption\": 412.212\n    }\n]\n\ndf = pd.DataFrame(data)"
            ]
        },
        {
            "cell_type": "markdown",
            "metadata": {},
            "source": [
                "## **Solution:** "
            ]
        },
        {
            "cell_type": "code",
            "execution_count": null,
            "metadata": [
                {}
            ],
            "source": [
                "import matplotlib.pyplot as plt\n\nplt.figure(figsize=(12, 6))\nplt.plot(df['hour'], df['consumption'], color=\"midnightblue\", linewidth=2)\n\nplt.title(\"Hourly Electricity Consumption in an Industrial Park\")\nplt.xlabel(\"Hour\")\nplt.ylabel(\"Electricity Consumption (kWh)\")\nplt.grid(True)\nplt.xticks(rotation=45)\nplt.tight_layout()\nplt.show()"
            ]
        }
    ],
    "metadata": {
        "kernelspec": {
            "display_name": "Python 3",
            "language": "python",
            "name": "python3"
        },
        "language_info": {
            "codemirror_mode": {
                "name": "ipython",
                "version": 3
            },
            "file_extension": ".py",
            "mimetype": "text/x-python",
            "name": "python",
            "nbconvert_exporter": "python",
            "pygments_lexer": "ipython3",
            "version": "3.11.4"
        }
    },
    "nbformat": 4,
    "nbformat_minor": 2,
    "name_of_the_file": "Hourly electricity consumption.ipynb"
}