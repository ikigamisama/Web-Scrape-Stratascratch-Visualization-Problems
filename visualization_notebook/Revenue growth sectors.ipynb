{
    "cells": [
        {
            "cell_type": "markdown",
            "metadata": {},
            "source": [
                "### **Link:** https://platform.stratascratch.com/visualizations/10472-revenue-growth-sectors?code_type=2"
            ]
        },
        {
            "cell_type": "markdown",
            "metadata": {},
            "source": [
                "# Revenue growth sectors"
            ]
        },
        {
            "cell_type": "markdown",
            "metadata": {},
            "source": [
                "##### **Difficulty:** Medium"
            ]
        },
        {
            "cell_type": "markdown",
            "metadata": {},
            "source": [
                "##### **ID:** ID 10472"
            ]
        },
        {
            "cell_type": "markdown",
            "metadata": {},
            "source": [
                "##### **Type:** Stacked Line Chart"
            ]
        },
        {
            "cell_type": "markdown",
            "metadata": {},
            "source": [
                "##### **Analysis:** Trend Analysis"
            ]
        },
        {
            "cell_type": "markdown",
            "metadata": {},
            "source": [
                "##### **Data Type:** Time Series Data"
            ]
        },
        {
            "cell_type": "markdown",
            "metadata": {},
            "source": [
                "##### Develop a stacked line chart to illustrate the revenue growth from different product sectors in a company over the last five years, using 'orange' for consumer electronics, 'greenyellow' for home appliances, and 'deepskyblue' for personal care products."
            ]
        },
        {
            "cell_type": "markdown",
            "metadata": {},
            "source": [
                "## **Data:** "
            ]
        },
        {
            "cell_type": "code",
            "execution_count": null,
            "metadata": [
                {}
            ],
            "source": [
                "import pandas as pd \n\ndata = [\n    {\n        \"consumer_electronics\": 372,\n        \"home_appliances\": 295,\n        \"personal_care_products\": 137\n    },\n    {\n        \"consumer_electronics\": 247,\n        \"home_appliances\": 203,\n        \"personal_care_products\": 120\n    },\n    {\n        \"consumer_electronics\": 317,\n        \"home_appliances\": 109,\n        \"personal_care_products\": 138\n    },\n    {\n        \"consumer_electronics\": 392,\n        \"home_appliances\": 121,\n        \"personal_care_products\": 190\n    },\n    {\n        \"consumer_electronics\": 451,\n        \"home_appliances\": 136,\n        \"personal_care_products\": 108\n    }\n]\n\ndf = pd.DataFrame(data)"
            ]
        },
        {
            "cell_type": "markdown",
            "metadata": {},
            "source": [
                "## **Solution:** "
            ]
        },
        {
            "cell_type": "code",
            "execution_count": null,
            "metadata": [
                {}
            ],
            "source": [
                "import matplotlib.pyplot as plt\nimport plotly.express as px\n\ncolors = {'consumer_electronics': 'orange', 'home_appliances': 'greenyellow', 'personal_care_products': 'deepskyblue'}\n\nplt.figure(figsize=(10, 6))\ndf.plot(\n    kind='line', \n    stacked=True, \n    color=[colors[col] for col in df.columns]\n)\n\nplt.title(\n    'Revenue Growth from Different Product Sectors Over the Last Five Years'\n)\nplt.xlabel('Year')\nplt.ylabel('Revenue ($ Millions)')\nplt.legend(title='Product Sectors')\nplt.grid(True)\nplt.show()"
            ]
        }
    ],
    "metadata": {
        "kernelspec": {
            "display_name": "Python 3",
            "language": "python",
            "name": "python3"
        },
        "language_info": {
            "codemirror_mode": {
                "name": "ipython",
                "version": 3
            },
            "file_extension": ".py",
            "mimetype": "text/x-python",
            "name": "python",
            "nbconvert_exporter": "python",
            "pygments_lexer": "ipython3",
            "version": "3.11.4"
        }
    },
    "nbformat": 4,
    "nbformat_minor": 2,
    "name_of_the_file": "Revenue growth sectors.ipynb"
}