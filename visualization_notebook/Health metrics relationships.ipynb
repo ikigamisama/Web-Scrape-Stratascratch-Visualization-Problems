{
    "cells": [
        {
            "cell_type": "markdown",
            "metadata": {},
            "source": [
                "### **Link:** https://platform.stratascratch.com/visualizations/10461-health-metrics-relationships?code_type=2"
            ]
        },
        {
            "cell_type": "markdown",
            "metadata": {},
            "source": [
                "# Health metrics relationships"
            ]
        },
        {
            "cell_type": "markdown",
            "metadata": {},
            "source": [
                "##### **Difficulty:** Hard"
            ]
        },
        {
            "cell_type": "markdown",
            "metadata": {},
            "source": [
                "##### **ID:** ID 10461"
            ]
        },
        {
            "cell_type": "markdown",
            "metadata": {},
            "source": [
                "##### **Type:** Scatter Plot Matrix"
            ]
        },
        {
            "cell_type": "markdown",
            "metadata": {},
            "source": [
                "##### **Analysis:** Relationships"
            ]
        },
        {
            "cell_type": "markdown",
            "metadata": {},
            "source": [
                "##### **Data Type:** Numerical Data"
            ]
        },
        {
            "cell_type": "markdown",
            "metadata": {},
            "source": [
                "##### Use a scatter plot matrix to analyze the relationships between various health metrics (BMI, blood pressure, cholesterol), using 'lightskyblue' for normal ranges and 'darkred' for critical ranges."
            ]
        },
        {
            "cell_type": "markdown",
            "metadata": {},
            "source": [
                "## **Data:** "
            ]
        },
        {
            "cell_type": "code",
            "execution_count": null,
            "metadata": [
                {}
            ],
            "source": [
                "import pandas as pd \n\ndata = [\n    {\n        \"bmi\": 19.15,\n        \"blood_pressure\": 101.773,\n        \"cholesterol\": 237.177,\n        \"status\": \"Normal\"\n    },\n    {\n        \"bmi\": 25.015,\n        \"blood_pressure\": 105.077,\n        \"cholesterol\": 166.871,\n        \"status\": \"Normal\"\n    },\n    {\n        \"bmi\": 21.822,\n        \"blood_pressure\": 104.581,\n        \"cholesterol\": 184.741,\n        \"status\": \"Normal\"\n    },\n    {\n        \"bmi\": 23.807,\n        \"blood_pressure\": 111.721,\n        \"cholesterol\": 202.072,\n        \"status\": \"Normal\"\n    },\n    {\n        \"bmi\": 27.38,\n        \"blood_pressure\": 114.164,\n        \"cholesterol\": 146.652,\n        \"status\": \"Normal\"\n    },\n    {\n        \"bmi\": 24.129,\n        \"blood_pressure\": 122.535,\n        \"cholesterol\": 370.055,\n        \"status\": \"Critical\"\n    },\n    {\n        \"bmi\": 27.401,\n        \"blood_pressure\": 95.053,\n        \"cholesterol\": 226.266,\n        \"status\": \"Normal\"\n    },\n    {\n        \"bmi\": 25.445,\n        \"blood_pressure\": 126.343,\n        \"cholesterol\": 136.156,\n        \"status\": \"Normal\"\n    },\n    {\n        \"bmi\": 27.915,\n        \"blood_pressure\": 83.632,\n        \"cholesterol\": 129.292,\n        \"status\": \"Normal\"\n    },\n    {\n        \"bmi\": 17.818,\n        \"blood_pressure\": 121.114,\n        \"cholesterol\": 206.337,\n        \"status\": \"Normal\"\n    },\n    {\n        \"bmi\": 18.844,\n        \"blood_pressure\": 121.617,\n        \"cholesterol\": 180.758,\n        \"status\": \"Normal\"\n    },\n    {\n        \"bmi\": 16.954,\n        \"blood_pressure\": 73.603,\n        \"cholesterol\": 122.452,\n        \"status\": \"Normal\"\n    },\n    {\n        \"bmi\": 24.251,\n        \"blood_pressure\": 113.178,\n        \"cholesterol\": 113.96,\n        \"status\": \"Normal\"\n    },\n    {\n        \"bmi\": 21.027,\n        \"blood_pressure\": 141.797,\n        \"cholesterol\": 200.899,\n        \"status\": \"Critical\"\n    },\n    {\n        \"bmi\": 25.655,\n        \"blood_pressure\": 129.011,\n        \"cholesterol\": 176.728,\n        \"status\": \"Normal\"\n    },\n    {\n        \"bmi\": 23.269,\n        \"blood_pressure\": 110.114,\n        \"cholesterol\": 220.024,\n        \"status\": \"Normal\"\n    },\n    {\n        \"bmi\": 22.509,\n        \"blood_pressure\": 109.068,\n        \"cholesterol\": 194.138,\n        \"status\": \"Normal\"\n    },\n    {\n        \"bmi\": 30.602,\n        \"blood_pressure\": 125.841,\n        \"cholesterol\": 255.042,\n        \"status\": \"Critical\"\n    },\n    {\n        \"bmi\": 24.425,\n        \"blood_pressure\": 123.084,\n        \"cholesterol\": 108.482,\n        \"status\": \"Normal\"\n    },\n    {\n        \"bmi\": 21.893,\n        \"blood_pressure\": 136.346,\n        \"cholesterol\": 230.097,\n        \"status\": \"Normal\"\n    },\n    {\n        \"bmi\": 18.063,\n        \"blood_pressure\": 122.875,\n        \"cholesterol\": 159.323,\n        \"status\": \"Normal\"\n    },\n    {\n        \"bmi\": 26.763,\n        \"blood_pressure\": 138.103,\n        \"cholesterol\": 153.202,\n        \"status\": \"Normal\"\n    },\n    {\n        \"bmi\": 25.811,\n        \"blood_pressure\": 128.013,\n        \"cholesterol\": 248.152,\n        \"status\": \"Critical\"\n    },\n    {\n        \"bmi\": 17.651,\n        \"blood_pressure\": 104.708,\n        \"cholesterol\": 103.606,\n        \"status\": \"Normal\"\n    },\n    {\n        \"bmi\": 21.419,\n        \"blood_pressure\": 99.66,\n        \"cholesterol\": 195.595,\n        \"status\": \"Normal\"\n    },\n    {\n        \"bmi\": 22.951,\n        \"blood_pressure\": 109.46,\n        \"cholesterol\": 181.908,\n        \"status\": \"Normal\"\n    },\n    {\n        \"bmi\": 15.444,\n        \"blood_pressure\": 128.173,\n        \"cholesterol\": 259.751,\n        \"status\": \"Critical\"\n    },\n    {\n        \"bmi\": 20.887,\n        \"blood_pressure\": 102.644,\n        \"cholesterol\": 126.925,\n        \"status\": \"Normal\"\n    },\n    {\n        \"bmi\": 27.597,\n        \"blood_pressure\": 137.836,\n        \"cholesterol\": 217.511,\n        \"status\": \"Normal\"\n    },\n    {\n        \"bmi\": 15.54,\n        \"blood_pressure\": 89.219,\n        \"cholesterol\": 223.674,\n        \"status\": \"Normal\"\n    },\n    {\n        \"bmi\": 23.963,\n        \"blood_pressure\": 114.715,\n        \"cholesterol\": 199.079,\n        \"status\": \"Normal\"\n    },\n    {\n        \"bmi\": 29.571,\n        \"blood_pressure\": 101.353,\n        \"cholesterol\": 205.384,\n        \"status\": \"Normal\"\n    },\n    {\n        \"bmi\": 19.516,\n        \"blood_pressure\": 126.258,\n        \"cholesterol\": 192.21,\n        \"status\": \"Normal\"\n    },\n    {\n        \"bmi\": 20.185,\n        \"blood_pressure\": 122.736,\n        \"cholesterol\": 126.826,\n        \"status\": \"Normal\"\n    },\n    {\n        \"bmi\": 22.87,\n        \"blood_pressure\": 116.966,\n        \"cholesterol\": 173.325,\n        \"status\": \"Normal\"\n    },\n    {\n        \"bmi\": 24.057,\n        \"blood_pressure\": 95.263,\n        \"cholesterol\": 103.382,\n        \"status\": \"Normal\"\n    },\n    {\n        \"bmi\": 23.589,\n        \"blood_pressure\": 102.35,\n        \"cholesterol\": 246.999,\n        \"status\": \"Critical\"\n    },\n    {\n        \"bmi\": 15.949,\n        \"blood_pressure\": 106.787,\n        \"cholesterol\": 247.53,\n        \"status\": \"Critical\"\n    },\n    {\n        \"bmi\": 18.944,\n        \"blood_pressure\": 139.859,\n        \"cholesterol\": 129.438,\n        \"status\": \"Normal\"\n    },\n    {\n        \"bmi\": 22.405,\n        \"blood_pressure\": 107.124,\n        \"cholesterol\": 260.237,\n        \"status\": \"Critical\"\n    },\n    {\n        \"bmi\": 20.731,\n        \"blood_pressure\": 130.023,\n        \"cholesterol\": 191.085,\n        \"status\": \"Normal\"\n    },\n    {\n        \"bmi\": 26.553,\n        \"blood_pressure\": 138.4,\n        \"cholesterol\": 123.839,\n        \"status\": \"Normal\"\n    },\n    {\n        \"bmi\": 20.712,\n        \"blood_pressure\": 103.11,\n        \"cholesterol\": 163.397,\n        \"status\": \"Normal\"\n    },\n    {\n        \"bmi\": 20.52,\n        \"blood_pressure\": 109.671,\n        \"cholesterol\": 228.758,\n        \"status\": \"Normal\"\n    },\n    {\n        \"bmi\": 29.398,\n        \"blood_pressure\": 75.863,\n        \"cholesterol\": 194.839,\n        \"status\": \"Normal\"\n    },\n    {\n        \"bmi\": 21.673,\n        \"blood_pressure\": 111.937,\n        \"cholesterol\": 146.049,\n        \"status\": \"Normal\"\n    },\n    {\n        \"bmi\": 18.079,\n        \"blood_pressure\": 134.267,\n        \"cholesterol\": 232.793,\n        \"status\": \"Normal\"\n    },\n    {\n        \"bmi\": 21.99,\n        \"blood_pressure\": 101.067,\n        \"cholesterol\": 188.766,\n        \"status\": \"Normal\"\n    },\n    {\n        \"bmi\": 21.07,\n        \"blood_pressure\": 127.027,\n        \"cholesterol\": 174.316,\n        \"status\": \"Normal\"\n    },\n    {\n        \"bmi\": 24.844,\n        \"blood_pressure\": 135.771,\n        \"cholesterol\": 137.137,\n        \"status\": \"Normal\"\n    },\n    {\n        \"bmi\": 23.813,\n        \"blood_pressure\": 127.201,\n        \"cholesterol\": 225.114,\n        \"status\": \"Normal\"\n    },\n    {\n        \"bmi\": 20.669,\n        \"blood_pressure\": 111.236,\n        \"cholesterol\": 241.96,\n        \"status\": \"Critical\"\n    },\n    {\n        \"bmi\": 20.462,\n        \"blood_pressure\": 124.567,\n        \"cholesterol\": 147.217,\n        \"status\": \"Normal\"\n    },\n    {\n        \"bmi\": 19.879,\n        \"blood_pressure\": 106.492,\n        \"cholesterol\": 184.581,\n        \"status\": \"Normal\"\n    },\n    {\n        \"bmi\": 27.401,\n        \"blood_pressure\": 111.615,\n        \"cholesterol\": 185.795,\n        \"status\": \"Normal\"\n    },\n    {\n        \"bmi\": 30.061,\n        \"blood_pressure\": 167.735,\n        \"cholesterol\": 207.502,\n        \"status\": \"Critical\"\n    },\n    {\n        \"bmi\": 21.77,\n        \"blood_pressure\": 109.833,\n        \"cholesterol\": 145.287,\n        \"status\": \"Normal\"\n    },\n    {\n        \"bmi\": 24.259,\n        \"blood_pressure\": 106.275,\n        \"cholesterol\": 299.146,\n        \"status\": \"Critical\"\n    },\n    {\n        \"bmi\": 23.438,\n        \"blood_pressure\": 123.098,\n        \"cholesterol\": 213.38,\n        \"status\": \"Normal\"\n    },\n    {\n        \"bmi\": 19.952,\n        \"blood_pressure\": 125.557,\n        \"cholesterol\": 243.923,\n        \"status\": \"Critical\"\n    },\n    {\n        \"bmi\": 19.907,\n        \"blood_pressure\": 135.094,\n        \"cholesterol\": 183.38,\n        \"status\": \"Normal\"\n    },\n    {\n        \"bmi\": 20.075,\n        \"blood_pressure\": 104.802,\n        \"cholesterol\": 304.608,\n        \"status\": \"Critical\"\n    },\n    {\n        \"bmi\": 14.303,\n        \"blood_pressure\": 98.907,\n        \"cholesterol\": 222.04,\n        \"status\": \"Normal\"\n    },\n    {\n        \"bmi\": 18.97,\n        \"blood_pressure\": 100.446,\n        \"cholesterol\": 109.399,\n        \"status\": \"Normal\"\n    },\n    {\n        \"bmi\": 23.814,\n        \"blood_pressure\": 134.947,\n        \"cholesterol\": 249.81,\n        \"status\": \"Critical\"\n    },\n    {\n        \"bmi\": 25.689,\n        \"blood_pressure\": 141.514,\n        \"cholesterol\": 197.502,\n        \"status\": \"Critical\"\n    },\n    {\n        \"bmi\": 21.171,\n        \"blood_pressure\": 104.85,\n        \"cholesterol\": 146.648,\n        \"status\": \"Normal\"\n    },\n    {\n        \"bmi\": 20.496,\n        \"blood_pressure\": 109.783,\n        \"cholesterol\": 197.037,\n        \"status\": \"Normal\"\n    },\n    {\n        \"bmi\": 24.56,\n        \"blood_pressure\": 119.487,\n        \"cholesterol\": 154.795,\n        \"status\": \"Normal\"\n    },\n    {\n        \"bmi\": 30.215,\n        \"blood_pressure\": 100.819,\n        \"cholesterol\": 235.138,\n        \"status\": \"Critical\"\n    },\n    {\n        \"bmi\": 18.287,\n        \"blood_pressure\": 110.041,\n        \"cholesterol\": 230.43,\n        \"status\": \"Normal\"\n    },\n    {\n        \"bmi\": 18.901,\n        \"blood_pressure\": 138.769,\n        \"cholesterol\": 130.324,\n        \"status\": \"Normal\"\n    },\n    {\n        \"bmi\": 20.251,\n        \"blood_pressure\": 95.538,\n        \"cholesterol\": 232.933,\n        \"status\": \"Normal\"\n    },\n    {\n        \"bmi\": 24.192,\n        \"blood_pressure\": 127.372,\n        \"cholesterol\": 252.308,\n        \"status\": \"Critical\"\n    },\n    {\n        \"bmi\": 18.583,\n        \"blood_pressure\": 143.581,\n        \"cholesterol\": 75.212,\n        \"status\": \"Critical\"\n    },\n    {\n        \"bmi\": 23.863,\n        \"blood_pressure\": 98.478,\n        \"cholesterol\": 265.218,\n        \"status\": \"Critical\"\n    },\n    {\n        \"bmi\": 19.116,\n        \"blood_pressure\": 141.886,\n        \"cholesterol\": 233.045,\n        \"status\": \"Critical\"\n    },\n    {\n        \"bmi\": 24.249,\n        \"blood_pressure\": 120.092,\n        \"cholesterol\": 241.124,\n        \"status\": \"Critical\"\n    },\n    {\n        \"bmi\": 20.741,\n        \"blood_pressure\": 109.296,\n        \"cholesterol\": 271.336,\n        \"status\": \"Critical\"\n    },\n    {\n        \"bmi\": 20.28,\n        \"blood_pressure\": 137.368,\n        \"cholesterol\": 197.565,\n        \"status\": \"Normal\"\n    },\n    {\n        \"bmi\": 25.26,\n        \"blood_pressure\": 121.46,\n        \"cholesterol\": 156.649,\n        \"status\": \"Normal\"\n    },\n    {\n        \"bmi\": 17.258,\n        \"blood_pressure\": 115.199,\n        \"cholesterol\": 218.558,\n        \"status\": \"Normal\"\n    },\n    {\n        \"bmi\": 18.925,\n        \"blood_pressure\": 108.443,\n        \"cholesterol\": 191.936,\n        \"status\": \"Normal\"\n    },\n    {\n        \"bmi\": 24.917,\n        \"blood_pressure\": 103.167,\n        \"cholesterol\": 222.476,\n        \"status\": \"Normal\"\n    },\n    {\n        \"bmi\": 25.064,\n        \"blood_pressure\": 108.932,\n        \"cholesterol\": 83.654,\n        \"status\": \"Normal\"\n    },\n    {\n        \"bmi\": 22.831,\n        \"blood_pressure\": 115.17,\n        \"cholesterol\": 179.209,\n        \"status\": \"Normal\"\n    },\n    {\n        \"bmi\": 13.252,\n        \"blood_pressure\": 135.245,\n        \"cholesterol\": 329.604,\n        \"status\": \"Critical\"\n    },\n    {\n        \"bmi\": 24.888,\n        \"blood_pressure\": 114.95,\n        \"cholesterol\": 218.738,\n        \"status\": \"Normal\"\n    },\n    {\n        \"bmi\": 23.395,\n        \"blood_pressure\": 125.833,\n        \"cholesterol\": 249.976,\n        \"status\": \"Critical\"\n    },\n    {\n        \"bmi\": 20.646,\n        \"blood_pressure\": 112.207,\n        \"cholesterol\": 216.956,\n        \"status\": \"Normal\"\n    },\n    {\n        \"bmi\": 14.218,\n        \"blood_pressure\": 129.504,\n        \"cholesterol\": 182.539,\n        \"status\": \"Normal\"\n    },\n    {\n        \"bmi\": 25.324,\n        \"blood_pressure\": 118.553,\n        \"cholesterol\": 242.192,\n        \"status\": \"Critical\"\n    },\n    {\n        \"bmi\": 28.997,\n        \"blood_pressure\": 145.381,\n        \"cholesterol\": 237.095,\n        \"status\": \"Critical\"\n    },\n    {\n        \"bmi\": 24.005,\n        \"blood_pressure\": 125.145,\n        \"cholesterol\": 182.4,\n        \"status\": \"Normal\"\n    },\n    {\n        \"bmi\": 27.321,\n        \"blood_pressure\": 86.715,\n        \"cholesterol\": 190.475,\n        \"status\": \"Normal\"\n    },\n    {\n        \"bmi\": 19.37,\n        \"blood_pressure\": 117.565,\n        \"cholesterol\": 233.614,\n        \"status\": \"Normal\"\n    },\n    {\n        \"bmi\": 22.74,\n        \"blood_pressure\": 111.17,\n        \"cholesterol\": 160.016,\n        \"status\": \"Normal\"\n    },\n    {\n        \"bmi\": 19.396,\n        \"blood_pressure\": 139.105,\n        \"cholesterol\": 157.765,\n        \"status\": \"Normal\"\n    },\n    {\n        \"bmi\": 17.518,\n        \"blood_pressure\": 120.399,\n        \"cholesterol\": 258.614,\n        \"status\": \"Critical\"\n    },\n    {\n        \"bmi\": 20.614,\n        \"blood_pressure\": 137.256,\n        \"cholesterol\": 257.453,\n        \"status\": \"Critical\"\n    }\n]\n\ndf = pd.DataFrame(data)"
            ]
        },
        {
            "cell_type": "markdown",
            "metadata": {},
            "source": [
                "## **Solution:** "
            ]
        },
        {
            "cell_type": "code",
            "execution_count": null,
            "metadata": [
                {}
            ],
            "source": [
                "import seaborn as sns\nimport matplotlib.pyplot as plt\nsns.set(style=\"whitegrid\")\n\npairplot = sns.pairplot(df_health, hue='status', palette={'Normal': 'lightskyblue', 'Critical': 'darkred'}, markers=[\"o\", \"D\"], plot_kws={'alpha': 0.7})\npairplot.fig.suptitle('Scatter Plot Matrix of Health Metrics', y=1.02)\n\nplt.show()"
            ]
        }
    ],
    "metadata": {
        "kernelspec": {
            "display_name": "Python 3",
            "language": "python",
            "name": "python3"
        },
        "language_info": {
            "codemirror_mode": {
                "name": "ipython",
                "version": 3
            },
            "file_extension": ".py",
            "mimetype": "text/x-python",
            "name": "python",
            "nbconvert_exporter": "python",
            "pygments_lexer": "ipython3",
            "version": "3.11.4"
        }
    },
    "nbformat": 4,
    "nbformat_minor": 2,
    "name_of_the_file": "Health metrics relationships.ipynb"
}