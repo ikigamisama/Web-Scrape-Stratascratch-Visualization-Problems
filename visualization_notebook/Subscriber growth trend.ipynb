{
    "cells": [
        {
            "cell_type": "markdown",
            "metadata": {},
            "source": [
                "### **Link:** https://platform.stratascratch.com/visualizations/10529-subscriber-growth-trend?code_type=2"
            ]
        },
        {
            "cell_type": "markdown",
            "metadata": {},
            "source": [
                "# Subscriber growth trend"
            ]
        },
        {
            "cell_type": "markdown",
            "metadata": {},
            "source": [
                "##### **Difficulty:** Easy"
            ]
        },
        {
            "cell_type": "markdown",
            "metadata": {},
            "source": [
                "##### **ID:** ID 10529"
            ]
        },
        {
            "cell_type": "markdown",
            "metadata": {},
            "source": [
                "##### **Type:** Line Graph"
            ]
        },
        {
            "cell_type": "markdown",
            "metadata": {},
            "source": [
                "##### **Analysis:** Trend Analysis"
            ]
        },
        {
            "cell_type": "markdown",
            "metadata": {},
            "source": [
                "##### **Data Type:** Time Series Data"
            ]
        },
        {
            "cell_type": "markdown",
            "metadata": {},
            "source": [
                "##### Design a line graph to track the monthly growth rate of new subscribers to an online service, using 'blue' to represent the trend."
            ]
        },
        {
            "cell_type": "markdown",
            "metadata": {},
            "source": [
                "## **Data:** "
            ]
        },
        {
            "cell_type": "code",
            "execution_count": null,
            "metadata": [
                {}
            ],
            "source": [
                "import pandas as pd \n\ndata = [\n    {\n        \"month\": \"2023-01-31 00:00:00\",\n        \"growth_rate\": 6.391\n    },\n    {\n        \"month\": \"2023-02-28 00:00:00\",\n        \"growth_rate\": 7.722\n    },\n    {\n        \"month\": \"2023-03-31 00:00:00\",\n        \"growth_rate\": 6.822\n    },\n    {\n        \"month\": \"2023-04-30 00:00:00\",\n        \"growth_rate\": 6.359\n    },\n    {\n        \"month\": \"2023-05-31 00:00:00\",\n        \"growth_rate\": 5.389\n    },\n    {\n        \"month\": \"2023-06-30 00:00:00\",\n        \"growth_rate\": 7.167\n    },\n    {\n        \"month\": \"2023-07-31 00:00:00\",\n        \"growth_rate\": 5.501\n    },\n    {\n        \"month\": \"2023-08-31 00:00:00\",\n        \"growth_rate\": 9.134\n    },\n    {\n        \"month\": \"2023-09-30 00:00:00\",\n        \"growth_rate\": 9.709\n    },\n    {\n        \"month\": \"2023-10-31 00:00:00\",\n        \"growth_rate\": 5.068\n    },\n    {\n        \"month\": \"2023-11-30 00:00:00\",\n        \"growth_rate\": 8.334\n    },\n    {\n        \"month\": \"2023-12-31 00:00:00\",\n        \"growth_rate\": 6.231\n    }\n]\n\ndf = pd.DataFrame(data)"
            ]
        },
        {
            "cell_type": "markdown",
            "metadata": {},
            "source": [
                "## **Solution:** "
            ]
        },
        {
            "cell_type": "code",
            "execution_count": null,
            "metadata": [
                {}
            ],
            "source": [
                "import matplotlib.pyplot as plt\n\nplt.figure(figsize=(10, 6))\nplt.plot(df['month'], df['growth_rate'], color='blue', linewidth=2, marker='o')\n\nplt.title('Monthly Growth Rate of New Subscribers')\nplt.xlabel('Month')\nplt.ylabel('Growth Rate (%)')\nplt.grid(True)\nplt.xticks(rotation=45)\nplt.tight_layout()\nplt.show()"
            ]
        }
    ],
    "metadata": {
        "kernelspec": {
            "display_name": "Python 3",
            "language": "python",
            "name": "python3"
        },
        "language_info": {
            "codemirror_mode": {
                "name": "ipython",
                "version": 3
            },
            "file_extension": ".py",
            "mimetype": "text/x-python",
            "name": "python",
            "nbconvert_exporter": "python",
            "pygments_lexer": "ipython3",
            "version": "3.11.4"
        }
    },
    "nbformat": 4,
    "nbformat_minor": 2,
    "name_of_the_file": "Subscriber growth trend.ipynb"
}