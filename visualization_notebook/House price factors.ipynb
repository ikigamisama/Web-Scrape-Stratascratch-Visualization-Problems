{
    "cells": [
        {
            "cell_type": "markdown",
            "metadata": {},
            "source": [
                "### **Link:** https://platform.stratascratch.com/visualizations/10510-house-price-factors?code_type=2"
            ]
        },
        {
            "cell_type": "markdown",
            "metadata": {},
            "source": [
                "# House price factors"
            ]
        },
        {
            "cell_type": "markdown",
            "metadata": {},
            "source": [
                "##### **Difficulty:** Medium"
            ]
        },
        {
            "cell_type": "markdown",
            "metadata": {},
            "source": [
                "##### **ID:** ID 10510"
            ]
        },
        {
            "cell_type": "markdown",
            "metadata": {},
            "source": [
                "##### **Type:** Scatter Plot"
            ]
        },
        {
            "cell_type": "markdown",
            "metadata": {},
            "source": [
                "##### **Analysis:** Relationships"
            ]
        },
        {
            "cell_type": "markdown",
            "metadata": {},
            "source": [
                "##### **Data Type:** Numerical Data"
            ]
        },
        {
            "cell_type": "markdown",
            "metadata": {},
            "source": [
                "##### Generate a scatter plot to analyze the impact of different factors on house prices, using 'skyblue' for lot size and 'gold' for house age."
            ]
        },
        {
            "cell_type": "markdown",
            "metadata": {},
            "source": [
                "## **Data:** "
            ]
        },
        {
            "cell_type": "code",
            "execution_count": null,
            "metadata": [
                {}
            ],
            "source": [
                "import pandas as pd \n\ndata = [\n    {\n        \"house_price\": 319525.402,\n        \"lot_size\": 6939.257,\n        \"house_age\": 70\n    },\n    {\n        \"house_price\": 386075.747,\n        \"lot_size\": 3065.076,\n        \"house_age\": 71\n    },\n    {\n        \"house_price\": 341105.35,\n        \"lot_size\": 7484.343,\n        \"house_age\": 18\n    },\n    {\n        \"house_price\": 317953.273,\n        \"lot_size\": 9640.791,\n        \"house_age\": 92\n    },\n    {\n        \"house_price\": 269461.92,\n        \"lot_size\": 2863.155,\n        \"house_age\": 43\n    },\n    {\n        \"house_price\": 358357.645,\n        \"lot_size\": 5973.495,\n        \"house_age\": 83\n    },\n    {\n        \"house_price\": 275034.885,\n        \"lot_size\": 6124.398,\n        \"house_age\": 49\n    },\n    {\n        \"house_price\": 456709.2,\n        \"lot_size\": 5936.393,\n        \"house_age\": 41\n    },\n    {\n        \"house_price\": 485465.104,\n        \"lot_size\": 2619.276,\n        \"house_age\": 93\n    },\n    {\n        \"house_price\": 253376.608,\n        \"lot_size\": 9551.116,\n        \"house_age\": 46\n    },\n    {\n        \"house_price\": 416690.015,\n        \"lot_size\": 4747.691,\n        \"house_age\": 21\n    },\n    {\n        \"house_price\": 311557.968,\n        \"lot_size\": 8540.882,\n        \"house_age\": 73\n    },\n    {\n        \"house_price\": 327217.824,\n        \"lot_size\": 7145.053,\n        \"house_age\": 89\n    },\n    {\n        \"house_price\": 470238.655,\n        \"lot_size\": 3325.651,\n        \"house_age\": 96\n    },\n    {\n        \"house_price\": 128414.423,\n        \"lot_size\": 8231.079,\n        \"house_age\": 91\n    },\n    {\n        \"house_price\": 134851.72,\n        \"lot_size\": 4266.805,\n        \"house_age\": 73\n    },\n    {\n        \"house_price\": 108087.359,\n        \"lot_size\": 8870.48,\n        \"house_age\": 28\n    },\n    {\n        \"house_price\": 433047.938,\n        \"lot_size\": 6022.092,\n        \"house_age\": 81\n    },\n    {\n        \"house_price\": 411262.7,\n        \"lot_size\": 8876.486,\n        \"house_age\": 58\n    },\n    {\n        \"house_price\": 448004.859,\n        \"lot_size\": 7079.05,\n        \"house_age\": 0\n    },\n    {\n        \"house_price\": 491447.337,\n        \"lot_size\": 7389.916,\n        \"house_age\": 86\n    },\n    {\n        \"house_price\": 419663.426,\n        \"lot_size\": 5262.582,\n        \"house_age\": 63\n    },\n    {\n        \"house_price\": 284591.745,\n        \"lot_size\": 9582.795,\n        \"house_age\": 16\n    },\n    {\n        \"house_price\": 412211.671,\n        \"lot_size\": 6617.907,\n        \"house_age\": 36\n    },\n    {\n        \"house_price\": 147309.77,\n        \"lot_size\": 4526.623,\n        \"house_age\": 94\n    },\n    {\n        \"house_price\": 355968.409,\n        \"lot_size\": 6260.736,\n        \"house_age\": 24\n    },\n    {\n        \"house_price\": 157341.315,\n        \"lot_size\": 682.335,\n        \"house_age\": 63\n    },\n    {\n        \"house_price\": 477867.567,\n        \"lot_size\": 3364.961,\n        \"house_age\": 67\n    },\n    {\n        \"house_price\": 308739.329,\n        \"lot_size\": 6771.649,\n        \"house_age\": 51\n    },\n    {\n        \"house_price\": 265864.776,\n        \"lot_size\": 3255.737,\n        \"house_age\": 8\n    },\n    {\n        \"house_price\": 205822.245,\n        \"lot_size\": 6371.147,\n        \"house_age\": 56\n    },\n    {\n        \"house_price\": 409693.476,\n        \"lot_size\": 4573.303,\n        \"house_age\": 91\n    },\n    {\n        \"house_price\": 282460.133,\n        \"lot_size\": 1787.004,\n        \"house_age\": 93\n    },\n    {\n        \"house_price\": 327373.58,\n        \"lot_size\": 3333.682,\n        \"house_age\": 87\n    },\n    {\n        \"house_price\": 107515.92,\n        \"lot_size\": 5914.667,\n        \"house_age\": 32\n    },\n    {\n        \"house_price\": 347054.199,\n        \"lot_size\": 6113.291,\n        \"house_age\": 19\n    },\n    {\n        \"house_price\": 344838.289,\n        \"lot_size\": 5956.09,\n        \"house_age\": 72\n    },\n    {\n        \"house_price\": 346773.599,\n        \"lot_size\": 6705.408,\n        \"house_age\": 71\n    },\n    {\n        \"house_price\": 477499.231,\n        \"lot_size\": 6694.981,\n        \"house_age\": 87\n    },\n    {\n        \"house_price\": 372728.12,\n        \"lot_size\": 4598.475,\n        \"house_age\": 13\n    },\n    {\n        \"house_price\": 243803.16,\n        \"lot_size\": 9017.193,\n        \"house_age\": 58\n    },\n    {\n        \"house_price\": 274812.782,\n        \"lot_size\": 3991.838,\n        \"house_age\": 81\n    },\n    {\n        \"house_price\": 379052.478,\n        \"lot_size\": 4640.717,\n        \"house_age\": 55\n    },\n    {\n        \"house_price\": 124090.189,\n        \"lot_size\": 8973.272,\n        \"house_age\": 64\n    },\n    {\n        \"house_price\": 366706.686,\n        \"lot_size\": 8158.843,\n        \"house_age\": 75\n    },\n    {\n        \"house_price\": 368255.148,\n        \"lot_size\": 7186.942,\n        \"house_age\": 92\n    },\n    {\n        \"house_price\": 184153.024,\n        \"lot_size\": 1452.155,\n        \"house_age\": 36\n    },\n    {\n        \"house_price\": 151570.519,\n        \"lot_size\": 9235.085,\n        \"house_age\": 25\n    },\n    {\n        \"house_price\": 226171.34,\n        \"lot_size\": 7285.292,\n        \"house_age\": 32\n    },\n    {\n        \"house_price\": 245484.308,\n        \"lot_size\": 9989.047,\n        \"house_age\": 42\n    },\n    {\n        \"house_price\": 328078.708,\n        \"lot_size\": 1919.759,\n        \"house_age\": 14\n    },\n    {\n        \"house_price\": 275440.605,\n        \"lot_size\": 8747.198,\n        \"house_age\": 86\n    },\n    {\n        \"house_price\": 495349.535,\n        \"lot_size\": 2043.683,\n        \"house_age\": 28\n    },\n    {\n        \"house_price\": 140817.924,\n        \"lot_size\": 6347.816,\n        \"house_age\": 20\n    },\n    {\n        \"house_price\": 183550.702,\n        \"lot_size\": 1676.29,\n        \"house_age\": 82\n    },\n    {\n        \"house_price\": 164523.807,\n        \"lot_size\": 8556.078,\n        \"house_age\": 68\n    },\n    {\n        \"house_price\": 361243.33,\n        \"lot_size\": 8169.53,\n        \"house_age\": 22\n    },\n    {\n        \"house_price\": 201316.641,\n        \"lot_size\": 5906.457,\n        \"house_age\": 99\n    },\n    {\n        \"house_price\": 286524.309,\n        \"lot_size\": 4368.241,\n        \"house_age\": 83\n    },\n    {\n        \"house_price\": 197770.237,\n        \"lot_size\": 1157.086,\n        \"house_age\": 7\n    },\n    {\n        \"house_price\": 163587.833,\n        \"lot_size\": 7125.573,\n        \"house_age\": 72\n    },\n    {\n        \"house_price\": 144150.056,\n        \"lot_size\": 4808.655,\n        \"house_age\": 61\n    },\n    {\n        \"house_price\": 362531.836,\n        \"lot_size\": 7359.528,\n        \"house_age\": 13\n    },\n    {\n        \"house_price\": 155273.181,\n        \"lot_size\": 8730.632,\n        \"house_age\": 5\n    },\n    {\n        \"house_price\": 178632.945,\n        \"lot_size\": 9767.454,\n        \"house_age\": 0\n    },\n    {\n        \"house_price\": 247490.068,\n        \"lot_size\": 8630.132,\n        \"house_age\": 8\n    },\n    {\n        \"house_price\": 428397.292,\n        \"lot_size\": 611.284,\n        \"house_age\": 79\n    },\n    {\n        \"house_price\": 138840.51,\n        \"lot_size\": 3919.792,\n        \"house_age\": 79\n    },\n    {\n        \"house_price\": 435177.963,\n        \"lot_size\": 7434.91,\n        \"house_age\": 53\n    },\n    {\n        \"house_price\": 138439.363,\n        \"lot_size\": 2130.482,\n        \"house_age\": 11\n    },\n    {\n        \"house_price\": 490583.786,\n        \"lot_size\": 5449.848,\n        \"house_age\": 4\n    },\n    {\n        \"house_price\": 287460.481,\n        \"lot_size\": 1016.211,\n        \"house_age\": 39\n    },\n    {\n        \"house_price\": 490704.435,\n        \"lot_size\": 2399.967,\n        \"house_age\": 92\n    },\n    {\n        \"house_price\": 341938.208,\n        \"lot_size\": 675.957,\n        \"house_age\": 45\n    },\n    {\n        \"house_price\": 395705.432,\n        \"lot_size\": 8040.128,\n        \"house_age\": 26\n    },\n    {\n        \"house_price\": 115675.117,\n        \"lot_size\": 2627.285,\n        \"house_age\": 74\n    },\n    {\n        \"house_price\": 213122.785,\n        \"lot_size\": 3780.841,\n        \"house_age\": 52\n    },\n    {\n        \"house_price\": 148078.624,\n        \"lot_size\": 9316.772,\n        \"house_age\": 49\n    },\n    {\n        \"house_price\": 218456.079,\n        \"lot_size\": 7191.937,\n        \"house_age\": 91\n    },\n    {\n        \"house_price\": 147491.088,\n        \"lot_size\": 802.47,\n        \"house_age\": 51\n    },\n    {\n        \"house_price\": 227193.272,\n        \"lot_size\": 2064.594,\n        \"house_age\": 99\n    },\n    {\n        \"house_price\": 265705.198,\n        \"lot_size\": 6404.045,\n        \"house_age\": 18\n    },\n    {\n        \"house_price\": 125658.999,\n        \"lot_size\": 5983.672,\n        \"house_age\": 34\n    },\n    {\n        \"house_price\": 376988.848,\n        \"lot_size\": 2759.982,\n        \"house_age\": 51\n    },\n    {\n        \"house_price\": 326640.582,\n        \"lot_size\": 9375.033,\n        \"house_age\": 30\n    },\n    {\n        \"house_price\": 206155.796,\n        \"lot_size\": 6332.677,\n        \"house_age\": 53\n    },\n    {\n        \"house_price\": 309299.221,\n        \"lot_size\": 5588.512,\n        \"house_age\": 58\n    },\n    {\n        \"house_price\": 137576.204,\n        \"lot_size\": 6104.145,\n        \"house_age\": 43\n    },\n    {\n        \"house_price\": 330378.598,\n        \"lot_size\": 7436.159,\n        \"house_age\": 55\n    },\n    {\n        \"house_price\": 471718.479,\n        \"lot_size\": 3463.477,\n        \"house_age\": 18\n    },\n    {\n        \"house_price\": 227427.581,\n        \"lot_size\": 4283.1,\n        \"house_age\": 45\n    },\n    {\n        \"house_price\": 366964.152,\n        \"lot_size\": 2493.516,\n        \"house_age\": 87\n    },\n    {\n        \"house_price\": 152719.145,\n        \"lot_size\": 2268.834,\n        \"house_age\": 65\n    },\n    {\n        \"house_price\": 386530.882,\n        \"lot_size\": 9471.538,\n        \"house_age\": 70\n    },\n    {\n        \"house_price\": 215762.437,\n        \"lot_size\": 7525.733,\n        \"house_age\": 53\n    },\n    {\n        \"house_price\": 173276.545,\n        \"lot_size\": 5159.359,\n        \"house_age\": 48\n    },\n    {\n        \"house_price\": 334605.174,\n        \"lot_size\": 2660.439,\n        \"house_age\": 94\n    },\n    {\n        \"house_price\": 108043.018,\n        \"lot_size\": 2916.387,\n        \"house_age\": 59\n    },\n    {\n        \"house_price\": 431576.012,\n        \"lot_size\": 1051.277,\n        \"house_age\": 80\n    },\n    {\n        \"house_price\": 101878.19,\n        \"lot_size\": 4626.958,\n        \"house_age\": 26\n    }\n]\n\ndf = pd.DataFrame(data)"
            ]
        },
        {
            "cell_type": "markdown",
            "metadata": {},
            "source": [
                "## **Solution:** "
            ]
        },
        {
            "cell_type": "code",
            "execution_count": null,
            "metadata": [
                {}
            ],
            "source": [
                "import matplotlib.pyplot as plt\n\nplt.figure(figsize=(14, 6))\n#adding plot titles and labels\nplt.subplot(1, 2, 1)\nplt.scatter(df['lot_size'], df['house_price'], color='skyblue', alpha=0.6)\nplt.title('Impact of Lot Size on House Prices')\nplt.xlabel('Lot Size (sq ft)')\nplt.ylabel('House Price ($)')\nplt.grid(True)\n\nplt.subplot(1, 2, 2)\nplt.scatter(df['house_age'], df['house_price'], color='gold', alpha=0.6)\nplt.title('Impact of House Age on House Prices')\nplt.xlabel('House Age (years)')\nplt.ylabel('House Price ($)')\nplt.grid(True)\n\nplt.tight_layout()\nplt.show()"
            ]
        }
    ],
    "metadata": {
        "kernelspec": {
            "display_name": "Python 3",
            "language": "python",
            "name": "python3"
        },
        "language_info": {
            "codemirror_mode": {
                "name": "ipython",
                "version": 3
            },
            "file_extension": ".py",
            "mimetype": "text/x-python",
            "name": "python",
            "nbconvert_exporter": "python",
            "pygments_lexer": "ipython3",
            "version": "3.11.4"
        }
    },
    "nbformat": 4,
    "nbformat_minor": 2,
    "name_of_the_file": "House price factors.ipynb"
}