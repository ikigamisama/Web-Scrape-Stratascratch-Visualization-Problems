{
    "cells": [
        {
            "cell_type": "markdown",
            "metadata": {},
            "source": [
                "### **Link:** https://platform.stratascratch.com/visualizations/10443-customer-wait-times?code_type=2"
            ]
        },
        {
            "cell_type": "markdown",
            "metadata": {},
            "source": [
                "# Customer wait times"
            ]
        },
        {
            "cell_type": "markdown",
            "metadata": {},
            "source": [
                "##### **Difficulty:** Medium"
            ]
        },
        {
            "cell_type": "markdown",
            "metadata": {},
            "source": [
                "##### **ID:** ID 10443"
            ]
        },
        {
            "cell_type": "markdown",
            "metadata": {},
            "source": [
                "##### **Type:** Histogram"
            ]
        },
        {
            "cell_type": "markdown",
            "metadata": {},
            "source": [
                "##### **Analysis:** Distribution"
            ]
        },
        {
            "cell_type": "markdown",
            "metadata": {},
            "source": [
                "##### **Data Type:** Numerical Data"
            ]
        },
        {
            "cell_type": "markdown",
            "metadata": {},
            "source": [
                "##### Utilize a histogram to examine the distribution of customer wait times at different service centers, with 'sienna' for below average times and 'royalblue' for above average times."
            ]
        },
        {
            "cell_type": "markdown",
            "metadata": {},
            "source": [
                "## **Data:** "
            ]
        },
        {
            "cell_type": "code",
            "execution_count": null,
            "metadata": [
                {}
            ],
            "source": [
                "import pandas as pd \n\ndata = [\n    {\n        \"service_center\": \"Center 1\",\n        \"wait_times\": 15.253\n    },\n    {\n        \"service_center\": \"Center 1\",\n        \"wait_times\": 17.5\n    },\n    {\n        \"service_center\": \"Center 1\",\n        \"wait_times\": 10.02\n    },\n    {\n        \"service_center\": \"Center 1\",\n        \"wait_times\": 18.468\n    },\n    {\n        \"service_center\": \"Center 1\",\n        \"wait_times\": 12.908\n    },\n    {\n        \"service_center\": \"Center 1\",\n        \"wait_times\": 7.077\n    },\n    {\n        \"service_center\": \"Center 1\",\n        \"wait_times\": 11.761\n    },\n    {\n        \"service_center\": \"Center 1\",\n        \"wait_times\": 17.993\n    },\n    {\n        \"service_center\": \"Center 1\",\n        \"wait_times\": 16.661\n    },\n    {\n        \"service_center\": \"Center 1\",\n        \"wait_times\": 9.263\n    },\n    {\n        \"service_center\": \"Center 1\",\n        \"wait_times\": 18.093\n    },\n    {\n        \"service_center\": \"Center 1\",\n        \"wait_times\": 14.56\n    },\n    {\n        \"service_center\": \"Center 1\",\n        \"wait_times\": 17.125\n    },\n    {\n        \"service_center\": \"Center 1\",\n        \"wait_times\": 16.661\n    },\n    {\n        \"service_center\": \"Center 1\",\n        \"wait_times\": 9.216\n    },\n    {\n        \"service_center\": \"Center 1\",\n        \"wait_times\": 16.755\n    },\n    {\n        \"service_center\": \"Center 1\",\n        \"wait_times\": 11.966\n    },\n    {\n        \"service_center\": \"Center 1\",\n        \"wait_times\": 22.735\n    },\n    {\n        \"service_center\": \"Center 1\",\n        \"wait_times\": 18.617\n    },\n    {\n        \"service_center\": \"Center 1\",\n        \"wait_times\": 15.231\n    },\n    {\n        \"service_center\": \"Center 1\",\n        \"wait_times\": 10.085\n    },\n    {\n        \"service_center\": \"Center 1\",\n        \"wait_times\": 15.272\n    },\n    {\n        \"service_center\": \"Center 1\",\n        \"wait_times\": 15.799\n    },\n    {\n        \"service_center\": \"Center 1\",\n        \"wait_times\": 8.955\n    },\n    {\n        \"service_center\": \"Center 1\",\n        \"wait_times\": 26.117\n    },\n    {\n        \"service_center\": \"Center 1\",\n        \"wait_times\": 16.971\n    },\n    {\n        \"service_center\": \"Center 1\",\n        \"wait_times\": 23.462\n    },\n    {\n        \"service_center\": \"Center 1\",\n        \"wait_times\": 9.436\n    },\n    {\n        \"service_center\": \"Center 1\",\n        \"wait_times\": 23.179\n    },\n    {\n        \"service_center\": \"Center 1\",\n        \"wait_times\": 8.195\n    },\n    {\n        \"service_center\": \"Center 1\",\n        \"wait_times\": 11.744\n    },\n    {\n        \"service_center\": \"Center 1\",\n        \"wait_times\": 17.712\n    },\n    {\n        \"service_center\": \"Center 1\",\n        \"wait_times\": 15.24\n    },\n    {\n        \"service_center\": \"Center 1\",\n        \"wait_times\": 3.21\n    },\n    {\n        \"service_center\": \"Center 1\",\n        \"wait_times\": 9.472\n    },\n    {\n        \"service_center\": \"Center 1\",\n        \"wait_times\": 19.189\n    },\n    {\n        \"service_center\": \"Center 1\",\n        \"wait_times\": 25.439\n    },\n    {\n        \"service_center\": \"Center 1\",\n        \"wait_times\": 19.574\n    },\n    {\n        \"service_center\": \"Center 1\",\n        \"wait_times\": 13.619\n    },\n    {\n        \"service_center\": \"Center 1\",\n        \"wait_times\": 18.983\n    },\n    {\n        \"service_center\": \"Center 1\",\n        \"wait_times\": 9.281\n    },\n    {\n        \"service_center\": \"Center 1\",\n        \"wait_times\": 17.55\n    },\n    {\n        \"service_center\": \"Center 1\",\n        \"wait_times\": 8.263\n    },\n    {\n        \"service_center\": \"Center 1\",\n        \"wait_times\": 14.953\n    },\n    {\n        \"service_center\": \"Center 1\",\n        \"wait_times\": 14.346\n    },\n    {\n        \"service_center\": \"Center 1\",\n        \"wait_times\": 19.01\n    },\n    {\n        \"service_center\": \"Center 1\",\n        \"wait_times\": 13.485\n    },\n    {\n        \"service_center\": \"Center 1\",\n        \"wait_times\": 21.01\n    },\n    {\n        \"service_center\": \"Center 1\",\n        \"wait_times\": 14.016\n    },\n    {\n        \"service_center\": \"Center 1\",\n        \"wait_times\": 19.183\n    },\n    {\n        \"service_center\": \"Center 2\",\n        \"wait_times\": 32.866\n    },\n    {\n        \"service_center\": \"Center 2\",\n        \"wait_times\": 6.591\n    },\n    {\n        \"service_center\": \"Center 2\",\n        \"wait_times\": 25.375\n    },\n    {\n        \"service_center\": \"Center 2\",\n        \"wait_times\": 25.359\n    },\n    {\n        \"service_center\": \"Center 2\",\n        \"wait_times\": 17.213\n    },\n    {\n        \"service_center\": \"Center 2\",\n        \"wait_times\": 26.794\n    },\n    {\n        \"service_center\": \"Center 2\",\n        \"wait_times\": 10.445\n    },\n    {\n        \"service_center\": \"Center 2\",\n        \"wait_times\": 30.562\n    },\n    {\n        \"service_center\": \"Center 2\",\n        \"wait_times\": 30.098\n    },\n    {\n        \"service_center\": \"Center 2\",\n        \"wait_times\": 28.004\n    },\n    {\n        \"service_center\": \"Center 2\",\n        \"wait_times\": 49.766\n    },\n    {\n        \"service_center\": \"Center 2\",\n        \"wait_times\": 28.523\n    },\n    {\n        \"service_center\": \"Center 2\",\n        \"wait_times\": 25.675\n    },\n    {\n        \"service_center\": \"Center 2\",\n        \"wait_times\": 17.677\n    },\n    {\n        \"service_center\": \"Center 2\",\n        \"wait_times\": 27.971\n    },\n    {\n        \"service_center\": \"Center 2\",\n        \"wait_times\": 15.382\n    },\n    {\n        \"service_center\": \"Center 2\",\n        \"wait_times\": 37.718\n    },\n    {\n        \"service_center\": \"Center 2\",\n        \"wait_times\": 18.524\n    },\n    {\n        \"service_center\": \"Center 2\",\n        \"wait_times\": 26.585\n    },\n    {\n        \"service_center\": \"Center 2\",\n        \"wait_times\": 44.901\n    },\n    {\n        \"service_center\": \"Center 2\",\n        \"wait_times\": 36.642\n    },\n    {\n        \"service_center\": \"Center 2\",\n        \"wait_times\": 27.427\n    },\n    {\n        \"service_center\": \"Center 2\",\n        \"wait_times\": 38.799\n    },\n    {\n        \"service_center\": \"Center 2\",\n        \"wait_times\": 24.454\n    },\n    {\n        \"service_center\": \"Center 2\",\n        \"wait_times\": 32.952\n    },\n    {\n        \"service_center\": \"Center 2\",\n        \"wait_times\": 25.191\n    },\n    {\n        \"service_center\": \"Center 2\",\n        \"wait_times\": 15.946\n    },\n    {\n        \"service_center\": \"Center 2\",\n        \"wait_times\": 29.303\n    },\n    {\n        \"service_center\": \"Center 2\",\n        \"wait_times\": 34.347\n    },\n    {\n        \"service_center\": \"Center 2\",\n        \"wait_times\": 21.539\n    },\n    {\n        \"service_center\": \"Center 2\",\n        \"wait_times\": 14.029\n    },\n    {\n        \"service_center\": \"Center 2\",\n        \"wait_times\": 19.718\n    },\n    {\n        \"service_center\": \"Center 2\",\n        \"wait_times\": 1.202\n    },\n    {\n        \"service_center\": \"Center 2\",\n        \"wait_times\": 18.923\n    },\n    {\n        \"service_center\": \"Center 2\",\n        \"wait_times\": 14.247\n    },\n    {\n        \"service_center\": \"Center 2\",\n        \"wait_times\": 45.224\n    },\n    {\n        \"service_center\": \"Center 2\",\n        \"wait_times\": 19.351\n    },\n    {\n        \"service_center\": \"Center 2\",\n        \"wait_times\": 9.571\n    },\n    {\n        \"service_center\": \"Center 2\",\n        \"wait_times\": 33.708\n    },\n    {\n        \"service_center\": \"Center 2\",\n        \"wait_times\": 23.248\n    },\n    {\n        \"service_center\": \"Center 2\",\n        \"wait_times\": 25.486\n    },\n    {\n        \"service_center\": \"Center 2\",\n        \"wait_times\": 26.886\n    },\n    {\n        \"service_center\": \"Center 2\",\n        \"wait_times\": 27.093\n    },\n    {\n        \"service_center\": \"Center 2\",\n        \"wait_times\": 21.256\n    },\n    {\n        \"service_center\": \"Center 2\",\n        \"wait_times\": 34.547\n    },\n    {\n        \"service_center\": \"Center 2\",\n        \"wait_times\": 30.232\n    },\n    {\n        \"service_center\": \"Center 2\",\n        \"wait_times\": 20.042\n    },\n    {\n        \"service_center\": \"Center 2\",\n        \"wait_times\": 23.285\n    },\n    {\n        \"service_center\": \"Center 2\",\n        \"wait_times\": 15.556\n    },\n    {\n        \"service_center\": \"Center 2\",\n        \"wait_times\": 27.809\n    }\n]\n\ndf = pd.DataFrame(data)"
            ]
        },
        {
            "cell_type": "markdown",
            "metadata": {},
            "source": [
                "## **Solution:** "
            ]
        },
        {
            "cell_type": "code",
            "execution_count": null,
            "metadata": [
                {}
            ],
            "source": [
                "import matplotlib.pyplot as plt\n\nmean_wait_time = df['wait_times'].mean()\nplt.figure(figsize=(10, 6))\nplt.hist(df[df['wait_times'] < mean_wait_time]['wait_times'], bins=30, color='sienna', alpha=0.7, label='Below Mean')\nplt.hist(df[df['wait_times'] >= mean_wait_time]['wait_times'], bins=30, color='royalblue', alpha=0.7, label='Above Mean')\n\nplt.axvline(mean_wait_time, color='black', linestyle='dashed', linewidth=1)\n\nplt.title('Distribution of Customer Wait Times at Service Centers')\nplt.xlabel('Wait Times (minutes)')\nplt.ylabel('Frequency')\nplt.legend()\n\nplt.show()"
            ]
        }
    ],
    "metadata": {
        "kernelspec": {
            "display_name": "Python 3",
            "language": "python",
            "name": "python3"
        },
        "language_info": {
            "codemirror_mode": {
                "name": "ipython",
                "version": 3
            },
            "file_extension": ".py",
            "mimetype": "text/x-python",
            "name": "python",
            "nbconvert_exporter": "python",
            "pygments_lexer": "ipython3",
            "version": "3.11.4"
        }
    },
    "nbformat": 4,
    "nbformat_minor": 2,
    "name_of_the_file": "Customer wait times.ipynb"
}