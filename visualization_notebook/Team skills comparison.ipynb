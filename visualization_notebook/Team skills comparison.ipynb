{
    "cells": [
        {
            "cell_type": "markdown",
            "metadata": {},
            "source": [
                "### **Link:** https://platform.stratascratch.com/visualizations/10451-team-skills-comparison?code_type=2"
            ]
        },
        {
            "cell_type": "markdown",
            "metadata": {},
            "source": [
                "# Team skills comparison"
            ]
        },
        {
            "cell_type": "markdown",
            "metadata": {},
            "source": [
                "##### **Difficulty:** Hard"
            ]
        },
        {
            "cell_type": "markdown",
            "metadata": {},
            "source": [
                "##### **ID:** ID 10451"
            ]
        },
        {
            "cell_type": "markdown",
            "metadata": {},
            "source": [
                "##### **Type:** Radar Chart"
            ]
        },
        {
            "cell_type": "markdown",
            "metadata": {},
            "source": [
                "##### **Analysis:** Comparison"
            ]
        },
        {
            "cell_type": "markdown",
            "metadata": {},
            "source": [
                "##### **Data Type:** Categorical Data"
            ]
        },
        {
            "cell_type": "markdown",
            "metadata": {},
            "source": [
                "##### Generate a radar chart to compare the skill levels of different sports teams in attributes like speed, strength, and strategy, using 'teal' for Team A, 'tomato' for Team B, and 'violet' for Team C."
            ]
        },
        {
            "cell_type": "markdown",
            "metadata": {},
            "source": [
                "## **Data:** "
            ]
        },
        {
            "cell_type": "code",
            "execution_count": null,
            "metadata": [
                {}
            ],
            "source": [
                "import pandas as pd \n\ndata = [\n    {\n        \"attribute\": \"Speed\",\n        \"team_a\": 80,\n        \"team_b\": 90,\n        \"team_c\": 70\n    },\n    {\n        \"attribute\": \"Strength\",\n        \"team_a\": 70,\n        \"team_b\": 85,\n        \"team_c\": 90\n    },\n    {\n        \"attribute\": \"Strategy\",\n        \"team_a\": 90,\n        \"team_b\": 75,\n        \"team_c\": 80\n    }\n]\n\ndf = pd.DataFrame(data)"
            ]
        },
        {
            "cell_type": "markdown",
            "metadata": {},
            "source": [
                "## **Solution:** "
            ]
        },
        {
            "cell_type": "code",
            "execution_count": null,
            "metadata": [
                {}
            ],
            "source": [
                "import plotly.graph_objects as go\n\nfig = go.Figure()\n\nfig.add_trace(go.Scatterpolar(\n    r=df['team_a'],\n    theta=df['attribute'],\n    fill='toself',\n    name='Team A',\n    marker_color='teal'\n))\n\nfig.add_trace(go.Scatterpolar(\n    r=df['team_b'],\n    theta=df['attribute'],\n    fill='toself',\n    name='Team B',\n    marker_color='tomato'\n))\n\nfig.add_trace(go.Scatterpolar(\n    r=df['team_c'],\n    theta=df['attribute'],\n    fill='toself',\n    name='Team C',\n    marker_color='violet'\n))\n\nfig.update_layout(\n    polar=dict(\n        radialaxis=dict(\n            visible=True,\n            range=[0, 100]\n        )\n    ),\n    title=\"Skill Levels of Sports Teams\",\n    showlegend=True\n)\n\nfig.show()"
            ]
        }
    ],
    "metadata": {
        "kernelspec": {
            "display_name": "Python 3",
            "language": "python",
            "name": "python3"
        },
        "language_info": {
            "codemirror_mode": {
                "name": "ipython",
                "version": 3
            },
            "file_extension": ".py",
            "mimetype": "text/x-python",
            "name": "python",
            "nbconvert_exporter": "python",
            "pygments_lexer": "ipython3",
            "version": "3.11.4"
        }
    },
    "nbformat": 4,
    "nbformat_minor": 2,
    "name_of_the_file": "Team skills comparison.ipynb"
}