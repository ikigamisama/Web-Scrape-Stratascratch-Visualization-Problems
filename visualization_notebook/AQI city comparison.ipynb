{
    "cells": [
        {
            "cell_type": "markdown",
            "metadata": {},
            "source": [
                "### **Link:** https://platform.stratascratch.com/visualizations/10456-aqi-city-comparison?code_type=2"
            ]
        },
        {
            "cell_type": "markdown",
            "metadata": {},
            "source": [
                "# AQI city comparison"
            ]
        },
        {
            "cell_type": "markdown",
            "metadata": {},
            "source": [
                "##### **Difficulty:** Medium"
            ]
        },
        {
            "cell_type": "markdown",
            "metadata": {},
            "source": [
                "##### **ID:** ID 10456"
            ]
        },
        {
            "cell_type": "markdown",
            "metadata": {},
            "source": [
                "##### **Type:** Multi-Line Chart"
            ]
        },
        {
            "cell_type": "markdown",
            "metadata": {},
            "source": [
                "##### **Analysis:** Comparison"
            ]
        },
        {
            "cell_type": "markdown",
            "metadata": {},
            "source": [
                "##### **Data Type:** Time Series Data"
            ]
        },
        {
            "cell_type": "markdown",
            "metadata": {},
            "source": [
                "##### Craft a multi-line chart to monitor the change in air quality index (AQI) of various cities over the last month, using distinct colors 'goldenrod' for City X, 'firebrick' for City Y, and 'forestgreen' for City Z."
            ]
        },
        {
            "cell_type": "markdown",
            "metadata": {},
            "source": [
                "## **Data:** "
            ]
        },
        {
            "cell_type": "code",
            "execution_count": null,
            "metadata": [
                {}
            ],
            "source": [
                "import pandas as pd \n\ndata = [\n    {\n        \"date\": \"2024-08-28 13:28:46\",\n        \"city_x\": 59,\n        \"city_y\": 218,\n        \"city_z\": 173\n    },\n    {\n        \"date\": \"2024-08-29 13:28:46\",\n        \"city_x\": 175,\n        \"city_y\": 149,\n        \"city_z\": 44\n    },\n    {\n        \"date\": \"2024-08-30 13:28:46\",\n        \"city_x\": 65,\n        \"city_y\": 200,\n        \"city_z\": 111\n    },\n    {\n        \"date\": \"2024-08-31 13:28:46\",\n        \"city_x\": 114,\n        \"city_y\": 125,\n        \"city_z\": 128\n    },\n    {\n        \"date\": \"2024-09-01 13:28:46\",\n        \"city_x\": 163,\n        \"city_y\": 91,\n        \"city_z\": 128\n    },\n    {\n        \"date\": \"2024-09-02 13:28:46\",\n        \"city_x\": 173,\n        \"city_y\": 117,\n        \"city_z\": 90\n    },\n    {\n        \"date\": \"2024-09-03 13:28:46\",\n        \"city_x\": 163,\n        \"city_y\": 96,\n        \"city_z\": 148\n    },\n    {\n        \"date\": \"2024-09-04 13:28:46\",\n        \"city_x\": 58,\n        \"city_y\": 87,\n        \"city_z\": 74\n    },\n    {\n        \"date\": \"2024-09-05 13:28:46\",\n        \"city_x\": 123,\n        \"city_y\": 78,\n        \"city_z\": 144\n    },\n    {\n        \"date\": \"2024-09-06 13:28:46\",\n        \"city_x\": 50,\n        \"city_y\": 153,\n        \"city_z\": 55\n    },\n    {\n        \"date\": \"2024-09-07 13:28:46\",\n        \"city_x\": 90,\n        \"city_y\": 137,\n        \"city_z\": 128\n    },\n    {\n        \"date\": \"2024-09-08 13:28:46\",\n        \"city_x\": 165,\n        \"city_y\": 210,\n        \"city_z\": 174\n    },\n    {\n        \"date\": \"2024-09-09 13:28:46\",\n        \"city_x\": 66,\n        \"city_y\": 211,\n        \"city_z\": 125\n    },\n    {\n        \"date\": \"2024-09-10 13:28:46\",\n        \"city_x\": 150,\n        \"city_y\": 154,\n        \"city_z\": 51\n    },\n    {\n        \"date\": \"2024-09-11 13:28:46\",\n        \"city_x\": 189,\n        \"city_y\": 199,\n        \"city_z\": 152\n    },\n    {\n        \"date\": \"2024-09-12 13:28:46\",\n        \"city_x\": 104,\n        \"city_y\": 216,\n        \"city_z\": 52\n    },\n    {\n        \"date\": \"2024-09-13 13:28:46\",\n        \"city_x\": 138,\n        \"city_y\": 134,\n        \"city_z\": 102\n    },\n    {\n        \"date\": \"2024-09-14 13:28:46\",\n        \"city_x\": 157,\n        \"city_y\": 197,\n        \"city_z\": 119\n    },\n    {\n        \"date\": \"2024-09-15 13:28:46\",\n        \"city_x\": 172,\n        \"city_y\": 75,\n        \"city_z\": 148\n    },\n    {\n        \"date\": \"2024-09-16 13:28:46\",\n        \"city_x\": 112,\n        \"city_y\": 78,\n        \"city_z\": 82\n    },\n    {\n        \"date\": \"2024-09-17 13:28:46\",\n        \"city_x\": 83,\n        \"city_y\": 178,\n        \"city_z\": 97\n    },\n    {\n        \"date\": \"2024-09-18 13:28:46\",\n        \"city_x\": 150,\n        \"city_y\": 131,\n        \"city_z\": 137\n    },\n    {\n        \"date\": \"2024-09-19 13:28:46\",\n        \"city_x\": 104,\n        \"city_y\": 148,\n        \"city_z\": 90\n    },\n    {\n        \"date\": \"2024-09-20 13:28:46\",\n        \"city_x\": 127,\n        \"city_y\": 199,\n        \"city_z\": 85\n    },\n    {\n        \"date\": \"2024-09-21 13:28:46\",\n        \"city_x\": 63,\n        \"city_y\": 205,\n        \"city_z\": 168\n    },\n    {\n        \"date\": \"2024-09-22 13:28:46\",\n        \"city_x\": 176,\n        \"city_y\": 195,\n        \"city_z\": 63\n    },\n    {\n        \"date\": \"2024-09-23 13:28:46\",\n        \"city_x\": 191,\n        \"city_y\": 88,\n        \"city_z\": 43\n    },\n    {\n        \"date\": \"2024-09-24 13:28:46\",\n        \"city_x\": 142,\n        \"city_y\": 93,\n        \"city_z\": 69\n    },\n    {\n        \"date\": \"2024-09-25 13:28:46\",\n        \"city_x\": 136,\n        \"city_y\": 156,\n        \"city_z\": 56\n    },\n    {\n        \"date\": \"2024-09-26 13:28:46\",\n        \"city_x\": 80,\n        \"city_y\": 104,\n        \"city_z\": 124\n    }\n]\n\ndf = pd.DataFrame(data)"
            ]
        },
        {
            "cell_type": "markdown",
            "metadata": {},
            "source": [
                "## **Solution:** "
            ]
        },
        {
            "cell_type": "code",
            "execution_count": null,
            "metadata": [
                {}
            ],
            "source": [
                "import matplotlib.pyplot as plt\n\nplt.figure(figsize=(12,6))\nplt.plot(df['date'], df['city_x'], label=\"City X\", color=\"goldenrod\")\nplt.plot(df['date'], df['city_y'], label=\"City Y\", color=\"firebrick\")\nplt.plot(df['date'], df['city_z'], label=\"City Z\", color=\"forestgreen\")\n\nplt.title('Daily Air Quality Index (AQI) for Various Cities Over the Last Month')\nplt.xlabel('Date')\nplt.ylabel('AQI')\nplt.tick_params(axis='x', labelrotation=45)\nplt.legend()\nplt.grid(True)\nplt.tight_layout()\nplt.show()"
            ]
        }
    ],
    "metadata": {
        "kernelspec": {
            "display_name": "Python 3",
            "language": "python",
            "name": "python3"
        },
        "language_info": {
            "codemirror_mode": {
                "name": "ipython",
                "version": 3
            },
            "file_extension": ".py",
            "mimetype": "text/x-python",
            "name": "python",
            "nbconvert_exporter": "python",
            "pygments_lexer": "ipython3",
            "version": "3.11.4"
        }
    },
    "nbformat": 4,
    "nbformat_minor": 2,
    "name_of_the_file": "AQI city comparison.ipynb"
}