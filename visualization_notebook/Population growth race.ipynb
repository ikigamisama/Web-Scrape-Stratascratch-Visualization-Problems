{
    "cells": [
        {
            "cell_type": "markdown",
            "metadata": {},
            "source": [
                "### **Link:** https://platform.stratascratch.com/visualizations/10465-population-growth-race?code_type=2"
            ]
        },
        {
            "cell_type": "markdown",
            "metadata": {},
            "source": [
                "# Population growth race"
            ]
        },
        {
            "cell_type": "markdown",
            "metadata": {},
            "source": [
                "##### **Difficulty:** Hard"
            ]
        },
        {
            "cell_type": "markdown",
            "metadata": {},
            "source": [
                "##### **ID:** ID 10465"
            ]
        },
        {
            "cell_type": "markdown",
            "metadata": {},
            "source": [
                "##### **Type:** Bar Chart Race"
            ]
        },
        {
            "cell_type": "markdown",
            "metadata": {},
            "source": [
                "##### **Analysis:** Trend Analysis"
            ]
        },
        {
            "cell_type": "markdown",
            "metadata": {},
            "source": [
                "##### **Data Type:** Time Series Data & Categorical Data"
            ]
        },
        {
            "cell_type": "markdown",
            "metadata": {},
            "source": [
                "##### Create a bar chart race to visualize the population growth of different countries over the past decade, using 'dodgerblue' for Country A, 'mediumvioletred' for Country B, and 'olivedrab' for Country C."
            ]
        },
        {
            "cell_type": "markdown",
            "metadata": {},
            "source": [
                "## **Data:** "
            ]
        },
        {
            "cell_type": "code",
            "execution_count": 1,
            "metadata": [
                {}
            ],
            "outputs": [],
            "source": [
                "import pandas as pd \n",
                "\n",
                "data = [\n",
                "    {\n",
                "        \"year\": 2010,\n",
                "        \"country_a\": 50000000.0,\n",
                "        \"country_b\": 30000000.0,\n",
                "        \"country_c\": 20000000.0\n",
                "    },\n",
                "    {\n",
                "        \"year\": 2011,\n",
                "        \"country_a\": 52500000.0,\n",
                "        \"country_b\": 33125000.0,\n",
                "        \"country_c\": 22500000.0\n",
                "    },\n",
                "    {\n",
                "        \"year\": 2012,\n",
                "        \"country_a\": 55000000.0,\n",
                "        \"country_b\": 36250000.0,\n",
                "        \"country_c\": 25000000.0\n",
                "    },\n",
                "    {\n",
                "        \"year\": 2013,\n",
                "        \"country_a\": 57500000.0,\n",
                "        \"country_b\": 39375000.0,\n",
                "        \"country_c\": 27500000.0\n",
                "    },\n",
                "    {\n",
                "        \"year\": 2014,\n",
                "        \"country_a\": 60000000.0,\n",
                "        \"country_b\": 42500000.0,\n",
                "        \"country_c\": 30000000.0\n",
                "    },\n",
                "    {\n",
                "        \"year\": 2015,\n",
                "        \"country_a\": 62500000.0,\n",
                "        \"country_b\": 45625000.0,\n",
                "        \"country_c\": 32500000.0\n",
                "    },\n",
                "    {\n",
                "        \"year\": 2016,\n",
                "        \"country_a\": 65000000.0,\n",
                "        \"country_b\": 48750000.0,\n",
                "        \"country_c\": 35000000.0\n",
                "    },\n",
                "    {\n",
                "        \"year\": 2017,\n",
                "        \"country_a\": 67500000.0,\n",
                "        \"country_b\": 51875000.0,\n",
                "        \"country_c\": 37500000.0\n",
                "    },\n",
                "    {\n",
                "        \"year\": 2018,\n",
                "        \"country_a\": 70000000.0,\n",
                "        \"country_b\": 55000000.0,\n",
                "        \"country_c\": 40000000.0\n",
                "    }\n",
                "]\n",
                "\n",
                "df = pd.DataFrame(data)"
            ]
        },
        {
            "cell_type": "markdown",
            "metadata": {},
            "source": [
                "## **Solution:** "
            ]
        },
        {
            "cell_type": "code",
            "execution_count": 6,
            "metadata": [
                {}
            ],
            "outputs": [
                {
                    "name": "stderr",
                    "output_type": "stream",
                    "text": [
                        "c:\\Users\\ikiga\\AppData\\Local\\Programs\\Python\\Python311\\Lib\\site-packages\\matplotlib\\animation.py:872: UserWarning: Animation was deleted without rendering anything. This is most likely not intended. To prevent deletion, assign the Animation to a variable, e.g. `anim`, that exists until you output the Animation using `plt.show()` or `anim.save()`.\n",
                        "  warnings.warn(\n"
                    ]
                },
                {
                    "data": {
                        "image/png": "[encoded data removed]",
                        "text/plain": [
                            "<Figure size 1000x600 with 1 Axes>"
                        ]
                    },
                    "metadata": {},
                    "output_type": "display_data"
                }
            ],
            "source": [
                "import matplotlib.pyplot as plt\n",
                "import matplotlib.animation as animation\n",
                "\n",
                "def update(num, df, bar_container):\n",
                "    bars = bar_container.patches\n",
                "    for bar, new_height in zip(bars, df.iloc[num].values):\n",
                "        bar.set_height(new_height)\n",
                "    return bars\n",
                "\n",
                "fig, ax = plt.subplots(figsize=(10, 6))\n",
                "colors = ['dodgerblue', 'mediumvioletred', 'olivedrab']\n",
                "bar_container = ax.bar(df.columns, df.iloc[0], color=colors)\n",
                "\n",
                "ax.set_ylim([0, max(df.max()) * 1.1])\n",
                "ax.set_ylabel('Population')\n",
                "ax.set_title('Population Growth (2010-2019)')\n",
                "\n",
                "ani = animation.FuncAnimation(fig, update, frames=len(data), fargs=(data, bar_container), repeat=False, blit=False)\n",
                "\n",
                "plt.show()"
            ]
        },
        {
            "cell_type": "code",
            "execution_count": null,
            "metadata": {},
            "outputs": [],
            "source": []
        }
    ],
    "metadata": {
        "kernelspec": {
            "display_name": "Python 3",
            "language": "python",
            "name": "python3"
        },
        "language_info": {
            "codemirror_mode": {
                "name": "ipython",
                "version": 3
            },
            "file_extension": ".py",
            "mimetype": "text/x-python",
            "name": "python",
            "nbconvert_exporter": "python",
            "pygments_lexer": "ipython3",
            "version": "3.11.4"
        }
    },
    "nbformat": 4,
    "nbformat_minor": 2
}
