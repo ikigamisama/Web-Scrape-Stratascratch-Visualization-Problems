{
    "cells": [
        {
            "cell_type": "markdown",
            "metadata": {},
            "source": [
                "### **Link:** https://platform.stratascratch.com/visualizations/10520-aqi-trend-tracking?code_type=2"
            ]
        },
        {
            "cell_type": "markdown",
            "metadata": {},
            "source": [
                "# AQI trend tracking"
            ]
        },
        {
            "cell_type": "markdown",
            "metadata": {},
            "source": [
                "##### **Difficulty:** Easy"
            ]
        },
        {
            "cell_type": "markdown",
            "metadata": {},
            "source": [
                "##### **ID:** ID 10520"
            ]
        },
        {
            "cell_type": "markdown",
            "metadata": {},
            "source": [
                "##### **Type:** Line Plot"
            ]
        },
        {
            "cell_type": "markdown",
            "metadata": {},
            "source": [
                "##### **Analysis:** Trend Analysis"
            ]
        },
        {
            "cell_type": "markdown",
            "metadata": {},
            "source": [
                "##### **Data Type:** Time Series Data"
            ]
        },
        {
            "cell_type": "markdown",
            "metadata": {},
            "source": [
                "##### Generate a line plot to track changes in local air quality index (AQI) over several months, using 'gray' to represent the AQI trend."
            ]
        },
        {
            "cell_type": "markdown",
            "metadata": {},
            "source": [
                "## **Data:** "
            ]
        },
        {
            "cell_type": "code",
            "execution_count": null,
            "metadata": [
                {}
            ],
            "source": [
                "import pandas as pd \n\ndata = [\n    {\n        \"date\": \"2023-01-31 00:00:00\",\n        \"aqi\": 97\n    },\n    {\n        \"date\": \"2023-02-28 00:00:00\",\n        \"aqi\": 167\n    },\n    {\n        \"date\": \"2023-03-31 00:00:00\",\n        \"aqi\": 117\n    },\n    {\n        \"date\": \"2023-04-30 00:00:00\",\n        \"aqi\": 153\n    },\n    {\n        \"date\": \"2023-05-31 00:00:00\",\n        \"aqi\": 59\n    },\n    {\n        \"date\": \"2023-06-30 00:00:00\",\n        \"aqi\": 71\n    },\n    {\n        \"date\": \"2023-07-31 00:00:00\",\n        \"aqi\": 86\n    },\n    {\n        \"date\": \"2023-08-31 00:00:00\",\n        \"aqi\": 137\n    },\n    {\n        \"date\": \"2023-09-30 00:00:00\",\n        \"aqi\": 120\n    },\n    {\n        \"date\": \"2023-10-31 00:00:00\",\n        \"aqi\": 138\n    },\n    {\n        \"date\": \"2023-11-30 00:00:00\",\n        \"aqi\": 190\n    },\n    {\n        \"date\": \"2023-12-31 00:00:00\",\n        \"aqi\": 108\n    }\n]\n\ndf = pd.DataFrame(data)"
            ]
        },
        {
            "cell_type": "markdown",
            "metadata": {},
            "source": [
                "## **Solution:** "
            ]
        },
        {
            "cell_type": "code",
            "execution_count": null,
            "metadata": [
                {}
            ],
            "source": [
                "import matplotlib.pyplot as plt\n\nplt.figure(figsize=(10, 6))\nplt.plot(df['date'], df['aqi'], color=\"gray\", linewidth=2, marker='o')\nplt.title(\"Hourly Electricity Consumption in an Industrial Park\")\nplt.xlabel(\"Date\")\nplt.ylabel(\"AQl\")\nplt.grid(True)\nplt.show()"
            ]
        }
    ],
    "metadata": {
        "kernelspec": {
            "display_name": "Python 3",
            "language": "python",
            "name": "python3"
        },
        "language_info": {
            "codemirror_mode": {
                "name": "ipython",
                "version": 3
            },
            "file_extension": ".py",
            "mimetype": "text/x-python",
            "name": "python",
            "nbconvert_exporter": "python",
            "pygments_lexer": "ipython3",
            "version": "3.11.4"
        }
    },
    "nbformat": 4,
    "nbformat_minor": 2,
    "name_of_the_file": "AQI trend tracking.ipynb"
}