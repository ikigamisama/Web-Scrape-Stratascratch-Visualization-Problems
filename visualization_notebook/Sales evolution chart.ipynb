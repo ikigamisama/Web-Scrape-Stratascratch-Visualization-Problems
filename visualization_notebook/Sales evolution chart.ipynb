{
    "cells": [
        {
            "cell_type": "markdown",
            "metadata": {},
            "source": [
                "### **Link:** https://platform.stratascratch.com/visualizations/10446-sales-evolution-chart?code_type=2"
            ]
        },
        {
            "cell_type": "markdown",
            "metadata": {},
            "source": [
                "# Sales evolution chart"
            ]
        },
        {
            "cell_type": "markdown",
            "metadata": {},
            "source": [
                "##### **Difficulty:** Medium"
            ]
        },
        {
            "cell_type": "markdown",
            "metadata": {},
            "source": [
                "##### **ID:** ID 10446"
            ]
        },
        {
            "cell_type": "markdown",
            "metadata": {},
            "source": [
                "##### **Type:** Stacked Area Chart"
            ]
        },
        {
            "cell_type": "markdown",
            "metadata": {},
            "source": [
                "##### **Analysis:** Trend Analysis"
            ]
        },
        {
            "cell_type": "markdown",
            "metadata": {},
            "source": [
                "##### **Data Type:** Time Series Data & Categorical Data"
            ]
        },
        {
            "cell_type": "markdown",
            "metadata": {},
            "source": [
                "##### Create a stacked area chart to display the evolution of sales figures for multiple product categories over time, using 'lightcoral' for electronics, 'lightseagreen' for clothing, and 'lightsalmon' for accessories."
            ]
        },
        {
            "cell_type": "markdown",
            "metadata": {},
            "source": [
                "## **Data:** "
            ]
        },
        {
            "cell_type": "code",
            "execution_count": null,
            "metadata": [
                {}
            ],
            "source": [
                "import pandas as pd \n\ndata = [\n    {\n        \"date\": \"2023-01-31 00:00:00\",\n        \"electronics\": 3954,\n        \"clothing\": 2521,\n        \"accessories\": 910\n    },\n    {\n        \"date\": \"2023-02-28 00:00:00\",\n        \"electronics\": 3761,\n        \"clothing\": 826,\n        \"accessories\": 1027\n    },\n    {\n        \"date\": \"2023-03-31 00:00:00\",\n        \"electronics\": 1227,\n        \"clothing\": 3343,\n        \"accessories\": 973\n    },\n    {\n        \"date\": \"2023-04-30 00:00:00\",\n        \"electronics\": 3004,\n        \"clothing\": 3470,\n        \"accessories\": 842\n    },\n    {\n        \"date\": \"2023-05-31 00:00:00\",\n        \"electronics\": 1618,\n        \"clothing\": 3172,\n        \"accessories\": 1126\n    },\n    {\n        \"date\": \"2023-06-30 00:00:00\",\n        \"electronics\": 4437,\n        \"clothing\": 2753,\n        \"accessories\": 1439\n    },\n    {\n        \"date\": \"2023-07-31 00:00:00\",\n        \"electronics\": 1335,\n        \"clothing\": 2088,\n        \"accessories\": 697\n    },\n    {\n        \"date\": \"2023-08-31 00:00:00\",\n        \"electronics\": 4434,\n        \"clothing\": 930,\n        \"accessories\": 985\n    },\n    {\n        \"date\": \"2023-09-30 00:00:00\",\n        \"electronics\": 1848,\n        \"clothing\": 3052,\n        \"accessories\": 933\n    },\n    {\n        \"date\": \"2023-10-31 00:00:00\",\n        \"electronics\": 3366,\n        \"clothing\": 1787,\n        \"accessories\": 1144\n    },\n    {\n        \"date\": \"2023-11-30 00:00:00\",\n        \"electronics\": 2305,\n        \"clothing\": 1855,\n        \"accessories\": 985\n    },\n    {\n        \"date\": \"2023-12-31 00:00:00\",\n        \"electronics\": 3561,\n        \"clothing\": 2461,\n        \"accessories\": 562\n    }\n]\n\ndf = pd.DataFrame(data)"
            ]
        },
        {
            "cell_type": "markdown",
            "metadata": {},
            "source": [
                "## **Solution:** "
            ]
        },
        {
            "cell_type": "code",
            "execution_count": null,
            "metadata": [
                {}
            ],
            "source": [
                "import matplotlib.pyplot as plt\nimport plotly.express as px\n\nplt.figure(figsize=(12, 6))\n\ncolors=['lightcoral', 'lightseagreen', 'lightsalmon']\nplt.stackplot(df['date'], df['electronics'], df['clothing'], df['accessories'], labels=['Electronics', 'Clothing', 'Accessories'], colors=colors)\n\nplt.title('Evolution of Sales Figures Over Time')\nplt.xlabel('Month')\nplt.ylabel('Sales ($)')\nplt.legend()\nplt.grid(axis='y')\nplt.xticks(rotation=45)\nplt.show()"
            ]
        }
    ],
    "metadata": {
        "kernelspec": {
            "display_name": "Python 3",
            "language": "python",
            "name": "python3"
        },
        "language_info": {
            "codemirror_mode": {
                "name": "ipython",
                "version": 3
            },
            "file_extension": ".py",
            "mimetype": "text/x-python",
            "name": "python",
            "nbconvert_exporter": "python",
            "pygments_lexer": "ipython3",
            "version": "3.11.4"
        }
    },
    "nbformat": 4,
    "nbformat_minor": 2,
    "name_of_the_file": "Sales evolution chart.ipynb"
}