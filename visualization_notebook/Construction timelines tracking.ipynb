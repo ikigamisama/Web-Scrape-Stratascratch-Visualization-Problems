{
    "cells": [
        {
            "cell_type": "markdown",
            "metadata": {},
            "source": [
                "### **Link:** https://platform.stratascratch.com/visualizations/10464-construction-timelines-tracking?code_type=2"
            ]
        },
        {
            "cell_type": "markdown",
            "metadata": {},
            "source": [
                "# Construction timelines tracking"
            ]
        },
        {
            "cell_type": "markdown",
            "metadata": {},
            "source": [
                "##### **Difficulty:** Medium"
            ]
        },
        {
            "cell_type": "markdown",
            "metadata": {},
            "source": [
                "##### **ID:** ID 10464"
            ]
        },
        {
            "cell_type": "markdown",
            "metadata": {},
            "source": [
                "##### **Type:** Gantt Chart"
            ]
        },
        {
            "cell_type": "markdown",
            "metadata": {},
            "source": [
                "##### **Analysis:** Trend Analysis"
            ]
        },
        {
            "cell_type": "markdown",
            "metadata": {},
            "source": [
                "##### **Data Type:** Time Series Data"
            ]
        },
        {
            "cell_type": "markdown",
            "metadata": {},
            "source": [
                "##### Deploy a Gantt chart to track the project timelines for multiple construction projects, using 'salmon' for delays and 'lightgreen' for on-schedule tasks."
            ]
        },
        {
            "cell_type": "markdown",
            "metadata": {},
            "source": [
                "## **Data:** "
            ]
        },
        {
            "cell_type": "code",
            "execution_count": null,
            "metadata": [
                {}
            ],
            "source": [
                "import pandas as pd \n\ndata = [\n    {\n        \"task\": \"Site Prep\",\n        \"start\": \"2024-01-01 00:00:00\",\n        \"finish\": \"2024-01-14 00:00:00\",\n        \"status\": \"On Schedule\"\n    },\n    {\n        \"task\": \"Foundation\",\n        \"start\": \"2024-01-15 00:00:00\",\n        \"finish\": \"2024-01-30 00:00:00\",\n        \"status\": \"On Schedule\"\n    },\n    {\n        \"task\": \"Framing\",\n        \"start\": \"2024-02-01 00:00:00\",\n        \"finish\": \"2024-02-28 00:00:00\",\n        \"status\": \"Delayed\"\n    },\n    {\n        \"task\": \"Roofing\",\n        \"start\": \"2024-03-01 00:00:00\",\n        \"finish\": \"2024-03-30 00:00:00\",\n        \"status\": \"On Schedule\"\n    },\n    {\n        \"task\": \"Finishing\",\n        \"start\": \"2024-04-01 00:00:00\",\n        \"finish\": \"2024-04-30 00:00:00\",\n        \"status\": \"Delayed\"\n    }\n]\n\ndf = pd.DataFrame(data)"
            ]
        },
        {
            "cell_type": "markdown",
            "metadata": {},
            "source": [
                "## **Solution:** "
            ]
        },
        {
            "cell_type": "code",
            "execution_count": null,
            "metadata": [
                {}
            ],
            "source": [
                "import matplotlib.pyplot as plt\nimport matplotlib.dates as mdates\n\n#plotting the chart\ncolors = {'On Schedule': 'lightgreen', 'Delayed': 'salmon'}\nfig, ax = plt.subplots(figsize=(10,6))\n#adding plot titles and labels\nfor i, task, in df_projects.iterrows():\n    start = mdates.date2num(task['start'])\n    finish = mdates.date2num(task['finish'])\n    ax.barh(task['task'], finish - start, left=start, color=colors[task['status']])\n    \n    \nax.set_xlabel('Date')\nax.set_title('Construction Project Timeline')\nax.xaxis_date()\nax.xaxis.set_major_locator(mdates.MonthLocator())\nax.xaxis.set_major_formatter(mdates.DateFormatter('%b %Y'))\n\n\nlegend_elements = [plt.Line2D([0], [0], color='lightgreen', lw=4, label='On Schedule'),\n                   plt.Line2D([0], [0], color='salmon', lw=4, label='Delayed'),]\nax.legend(handles=legend_elements, loc='upper right')\n\nplt.show()"
            ]
        }
    ],
    "metadata": {
        "kernelspec": {
            "display_name": "Python 3",
            "language": "python",
            "name": "python3"
        },
        "language_info": {
            "codemirror_mode": {
                "name": "ipython",
                "version": 3
            },
            "file_extension": ".py",
            "mimetype": "text/x-python",
            "name": "python",
            "nbconvert_exporter": "python",
            "pygments_lexer": "ipython3",
            "version": "3.11.4"
        }
    },
    "nbformat": 4,
    "nbformat_minor": 2,
    "name_of_the_file": "Construction timelines tracking.ipynb"
}