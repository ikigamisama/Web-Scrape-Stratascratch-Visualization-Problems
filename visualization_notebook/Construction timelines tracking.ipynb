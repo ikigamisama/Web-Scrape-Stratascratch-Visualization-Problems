{
    "cells": [
        {
            "cell_type": "markdown",
            "metadata": {},
            "source": [
                "### **Link:** https://platform.stratascratch.com/visualizations/10464-construction-timelines-tracking?code_type=2"
            ]
        },
        {
            "cell_type": "markdown",
            "metadata": {},
            "source": [
                "# Construction timelines tracking"
            ]
        },
        {
            "cell_type": "markdown",
            "metadata": {},
            "source": [
                "##### **Difficulty:** Medium"
            ]
        },
        {
            "cell_type": "markdown",
            "metadata": {},
            "source": [
                "##### **ID:** ID 10464"
            ]
        },
        {
            "cell_type": "markdown",
            "metadata": {},
            "source": [
                "##### **Type:** Gantt Chart"
            ]
        },
        {
            "cell_type": "markdown",
            "metadata": {},
            "source": [
                "##### **Analysis:** Trend Analysis"
            ]
        },
        {
            "cell_type": "markdown",
            "metadata": {},
            "source": [
                "##### **Data Type:** Time Series Data"
            ]
        },
        {
            "cell_type": "markdown",
            "metadata": {},
            "source": [
                "##### Deploy a Gantt chart to track the project timelines for multiple construction projects, using 'salmon' for delays and 'lightgreen' for on-schedule tasks."
            ]
        },
        {
            "cell_type": "markdown",
            "metadata": {},
            "source": [
                "## **Data:** "
            ]
        },
        {
            "cell_type": "code",
            "execution_count": 1,
            "metadata": [
                {}
            ],
            "outputs": [],
            "source": [
                "import pandas as pd \n",
                "\n",
                "data = [\n",
                "    {\n",
                "        \"task\": \"Site Prep\",\n",
                "        \"start\": \"2024-01-01 00:00:00\",\n",
                "        \"finish\": \"2024-01-14 00:00:00\",\n",
                "        \"status\": \"On Schedule\"\n",
                "    },\n",
                "    {\n",
                "        \"task\": \"Foundation\",\n",
                "        \"start\": \"2024-01-15 00:00:00\",\n",
                "        \"finish\": \"2024-01-30 00:00:00\",\n",
                "        \"status\": \"On Schedule\"\n",
                "    },\n",
                "    {\n",
                "        \"task\": \"Framing\",\n",
                "        \"start\": \"2024-02-01 00:00:00\",\n",
                "        \"finish\": \"2024-02-28 00:00:00\",\n",
                "        \"status\": \"Delayed\"\n",
                "    },\n",
                "    {\n",
                "        \"task\": \"Roofing\",\n",
                "        \"start\": \"2024-03-01 00:00:00\",\n",
                "        \"finish\": \"2024-03-30 00:00:00\",\n",
                "        \"status\": \"On Schedule\"\n",
                "    },\n",
                "    {\n",
                "        \"task\": \"Finishing\",\n",
                "        \"start\": \"2024-04-01 00:00:00\",\n",
                "        \"finish\": \"2024-04-30 00:00:00\",\n",
                "        \"status\": \"Delayed\"\n",
                "    }\n",
                "]\n",
                "\n",
                "df = pd.DataFrame(data)"
            ]
        },
        {
            "cell_type": "markdown",
            "metadata": {},
            "source": [
                "## **Solution:** "
            ]
        },
        {
            "cell_type": "code",
            "execution_count": 4,
            "metadata": [
                {}
            ],
            "outputs": [
                {
                    "data": {
                        "image/png": "[encoded data removed]",
                        "text/plain": [
                            "<Figure size 1000x600 with 1 Axes>"
                        ]
                    },
                    "metadata": {},
                    "output_type": "display_data"
                }
            ],
            "source": [
                "import matplotlib.pyplot as plt\n",
                "import matplotlib.dates as mdates\n",
                "\n",
                "colors = {'On Schedule': 'lightgreen', 'Delayed': 'salmon'}\n",
                "fig, ax = plt.subplots(figsize=(10,6))\n",
                "\n",
                "df['start'] = pd.to_datetime(df['start'])\n",
                "df['finish'] = pd.to_datetime(df['finish'])\n",
                "\n",
                "for i, task, in df.iterrows():\n",
                "    start = mdates.date2num(task['start'])\n",
                "    finish = mdates.date2num(task['finish'])\n",
                "    ax.barh(task['task'], finish - start, left=start, color=colors[task['status']])\n",
                "    \n",
                "ax.set_xlabel('Date')\n",
                "ax.set_title('Construction Project Timeline')\n",
                "ax.xaxis_date()\n",
                "ax.xaxis.set_major_locator(mdates.MonthLocator())\n",
                "ax.xaxis.set_major_formatter(mdates.DateFormatter('%b %Y'))\n",
                "\n",
                "legend_elements = [plt.Line2D([0], [0], color='lightgreen', lw=4, label='On Schedule'),\n",
                "                   plt.Line2D([0], [0], color='salmon', lw=4, label='Delayed'),]\n",
                "ax.legend(handles=legend_elements, loc='upper right')\n",
                "\n",
                "plt.show()"
            ]
        },
        {
            "cell_type": "code",
            "execution_count": null,
            "metadata": {},
            "outputs": [],
            "source": []
        }
    ],
    "metadata": {
        "kernelspec": {
            "display_name": "Python 3",
            "language": "python",
            "name": "python3"
        },
        "language_info": {
            "codemirror_mode": {
                "name": "ipython",
                "version": 3
            },
            "file_extension": ".py",
            "mimetype": "text/x-python",
            "name": "python",
            "nbconvert_exporter": "python",
            "pygments_lexer": "ipython3",
            "version": "3.11.4"
        }
    },
    "nbformat": 4,
    "nbformat_minor": 2
}
