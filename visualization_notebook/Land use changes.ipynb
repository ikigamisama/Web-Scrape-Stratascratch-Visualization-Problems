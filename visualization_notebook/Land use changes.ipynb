{
    "cells": [
        {
            "cell_type": "markdown",
            "metadata": {},
            "source": [
                "### **Link:** https://platform.stratascratch.com/visualizations/10514-land-use-changes?code_type=2"
            ]
        },
        {
            "cell_type": "markdown",
            "metadata": {},
            "source": [
                "# Land use changes"
            ]
        },
        {
            "cell_type": "markdown",
            "metadata": {},
            "source": [
                "##### **Difficulty:** Medium"
            ]
        },
        {
            "cell_type": "markdown",
            "metadata": {},
            "source": [
                "##### **ID:** ID 10514"
            ]
        },
        {
            "cell_type": "markdown",
            "metadata": {},
            "source": [
                "##### **Type:** Stacked Area Chart"
            ]
        },
        {
            "cell_type": "markdown",
            "metadata": {},
            "source": [
                "##### **Analysis:** Trend Analysis"
            ]
        },
        {
            "cell_type": "markdown",
            "metadata": {},
            "source": [
                "##### **Data Type:** Time Series Data"
            ]
        },
        {
            "cell_type": "markdown",
            "metadata": {},
            "source": [
                "##### Deploy a stacked area chart to show changes in land use in a rural area over the last 50 years, using 'forestgreen' for forested areas, 'sandybrown' for agricultural land, and 'steelblue' for developed land."
            ]
        },
        {
            "cell_type": "markdown",
            "metadata": {},
            "source": [
                "## **Data:** "
            ]
        },
        {
            "cell_type": "code",
            "execution_count": null,
            "metadata": [
                {}
            ],
            "source": [
                "import pandas as pd \n\ndata = [\n    {\n        \"forested_area\": 58.542,\n        \"agricultural_land\": 30.15,\n        \"developed_land\": 11.308\n    },\n    {\n        \"forested_area\": 63.809,\n        \"agricultural_land\": 28.551,\n        \"developed_land\": 7.641\n    },\n    {\n        \"forested_area\": 54.351,\n        \"agricultural_land\": 34.83,\n        \"developed_land\": 10.818\n    },\n    {\n        \"forested_area\": 62.42,\n        \"agricultural_land\": 22.592,\n        \"developed_land\": 14.988\n    },\n    {\n        \"forested_area\": 64.871,\n        \"agricultural_land\": 26.823,\n        \"developed_land\": 8.307\n    },\n    {\n        \"forested_area\": 64.927,\n        \"agricultural_land\": 23.968,\n        \"developed_land\": 11.105\n    },\n    {\n        \"forested_area\": 57.188,\n        \"agricultural_land\": 32.182,\n        \"developed_land\": 10.63\n    },\n    {\n        \"forested_area\": 65.463,\n        \"agricultural_land\": 24.189,\n        \"developed_land\": 10.348\n    },\n    {\n        \"forested_area\": 65.457,\n        \"agricultural_land\": 27.711,\n        \"developed_land\": 6.832\n    },\n    {\n        \"forested_area\": 59.4,\n        \"agricultural_land\": 25.636,\n        \"developed_land\": 14.964\n    },\n    {\n        \"forested_area\": 66.847,\n        \"agricultural_land\": 23.536,\n        \"developed_land\": 9.617\n    },\n    {\n        \"forested_area\": 62.938,\n        \"agricultural_land\": 23.073,\n        \"developed_land\": 13.989\n    },\n    {\n        \"forested_area\": 57.625,\n        \"agricultural_land\": 31.11,\n        \"developed_land\": 11.265\n    },\n    {\n        \"forested_area\": 69.03,\n        \"agricultural_land\": 22.936,\n        \"developed_land\": 8.035\n    },\n    {\n        \"forested_area\": 58.109,\n        \"agricultural_land\": 27.044,\n        \"developed_land\": 14.847\n    },\n    {\n        \"forested_area\": 58.744,\n        \"agricultural_land\": 31.078,\n        \"developed_land\": 10.178\n    },\n    {\n        \"forested_area\": 50.086,\n        \"agricultural_land\": 36.19,\n        \"developed_land\": 13.724\n    },\n    {\n        \"forested_area\": 67.05,\n        \"agricultural_land\": 22.073,\n        \"developed_land\": 10.877\n    },\n    {\n        \"forested_area\": 56.452,\n        \"agricultural_land\": 31.651,\n        \"developed_land\": 11.897\n    },\n    {\n        \"forested_area\": 66.57,\n        \"agricultural_land\": 21.652,\n        \"developed_land\": 11.778\n    },\n    {\n        \"forested_area\": 57.33,\n        \"agricultural_land\": 32.573,\n        \"developed_land\": 10.097\n    },\n    {\n        \"forested_area\": 62.621,\n        \"agricultural_land\": 27.876,\n        \"developed_land\": 9.503\n    },\n    {\n        \"forested_area\": 52.265,\n        \"agricultural_land\": 34.886,\n        \"developed_land\": 12.849\n    },\n    {\n        \"forested_area\": 60.112,\n        \"agricultural_land\": 29.407,\n        \"developed_land\": 10.481\n    },\n    {\n        \"forested_area\": 54.327,\n        \"agricultural_land\": 36.088,\n        \"developed_land\": 9.585\n    },\n    {\n        \"forested_area\": 66.351,\n        \"agricultural_land\": 21.959,\n        \"developed_land\": 11.69\n    },\n    {\n        \"forested_area\": 63.151,\n        \"agricultural_land\": 30.647,\n        \"developed_land\": 6.202\n    },\n    {\n        \"forested_area\": 69.37,\n        \"agricultural_land\": 22.559,\n        \"developed_land\": 8.071\n    },\n    {\n        \"forested_area\": 61.695,\n        \"agricultural_land\": 26.462,\n        \"developed_land\": 11.843\n    },\n    {\n        \"forested_area\": 65.817,\n        \"agricultural_land\": 25.262,\n        \"developed_land\": 8.921\n    },\n    {\n        \"forested_area\": 59.561,\n        \"agricultural_land\": 28.395,\n        \"developed_land\": 12.044\n    },\n    {\n        \"forested_area\": 63.542,\n        \"agricultural_land\": 27.446,\n        \"developed_land\": 9.012\n    },\n    {\n        \"forested_area\": 68.145,\n        \"agricultural_land\": 24.531,\n        \"developed_land\": 7.324\n    },\n    {\n        \"forested_area\": 59.465,\n        \"agricultural_land\": 32.8,\n        \"developed_land\": 7.735\n    },\n    {\n        \"forested_area\": 54.515,\n        \"agricultural_land\": 33.906,\n        \"developed_land\": 11.579\n    },\n    {\n        \"forested_area\": 63.258,\n        \"agricultural_land\": 25.675,\n        \"developed_land\": 11.067\n    },\n    {\n        \"forested_area\": 60.166,\n        \"agricultural_land\": 29.449,\n        \"developed_land\": 10.385\n    },\n    {\n        \"forested_area\": 65.106,\n        \"agricultural_land\": 22.85,\n        \"developed_land\": 12.044\n    },\n    {\n        \"forested_area\": 61.542,\n        \"agricultural_land\": 28.163,\n        \"developed_land\": 10.294\n    },\n    {\n        \"forested_area\": 57.054,\n        \"agricultural_land\": 34.595,\n        \"developed_land\": 8.351\n    },\n    {\n        \"forested_area\": 58.64,\n        \"agricultural_land\": 27.04,\n        \"developed_land\": 14.32\n    },\n    {\n        \"forested_area\": 58.295,\n        \"agricultural_land\": 33.095,\n        \"developed_land\": 8.61\n    },\n    {\n        \"forested_area\": 66.654,\n        \"agricultural_land\": 23.592,\n        \"developed_land\": 9.754\n    },\n    {\n        \"forested_area\": 51.488,\n        \"agricultural_land\": 34.516,\n        \"developed_land\": 13.996\n    },\n    {\n        \"forested_area\": 61.981,\n        \"agricultural_land\": 25.237,\n        \"developed_land\": 12.783\n    },\n    {\n        \"forested_area\": 63.979,\n        \"agricultural_land\": 23.875,\n        \"developed_land\": 12.146\n    },\n    {\n        \"forested_area\": 58.96,\n        \"agricultural_land\": 34.512,\n        \"developed_land\": 6.528\n    },\n    {\n        \"forested_area\": 60.313,\n        \"agricultural_land\": 23.404,\n        \"developed_land\": 16.283\n    },\n    {\n        \"forested_area\": 53.612,\n        \"agricultural_land\": 34.827,\n        \"developed_land\": 11.561\n    },\n    {\n        \"forested_area\": 62.014,\n        \"agricultural_land\": 21.757,\n        \"developed_land\": 16.229\n    }\n]\n\ndf = pd.DataFrame(data)"
            ]
        },
        {
            "cell_type": "markdown",
            "metadata": {},
            "source": [
                "## **Solution:** "
            ]
        },
        {
            "cell_type": "code",
            "execution_count": null,
            "metadata": [
                {}
            ],
            "source": [
                "import matplotlib.pyplot as plt\n\ncolors = {'forested_area': 'forestgreen', 'agricultural_land': 'sandybrown', 'developed_land': 'steelblue'}\nplt.figure(figsize=(8, 6))\n\ndf.plot(kind='area', stacked=True, color=[colors[col] for col in df.columns])\nplt.title('Changes in Land Use in a Rural Area Over the Last 50 Years')\nplt.xlabel('Year')\nplt.ylabel('Percentage of Land Use')\nplt.legend(title='Land Use')\nplt.grid(axis='y')\nplt.show()"
            ]
        }
    ],
    "metadata": {
        "kernelspec": {
            "display_name": "Python 3",
            "language": "python",
            "name": "python3"
        },
        "language_info": {
            "codemirror_mode": {
                "name": "ipython",
                "version": 3
            },
            "file_extension": ".py",
            "mimetype": "text/x-python",
            "name": "python",
            "nbconvert_exporter": "python",
            "pygments_lexer": "ipython3",
            "version": "3.11.4"
        }
    },
    "nbformat": 4,
    "nbformat_minor": 2,
    "name_of_the_file": "Land use changes.ipynb"
}