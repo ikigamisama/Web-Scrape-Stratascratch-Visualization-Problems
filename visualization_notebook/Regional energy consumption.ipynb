{
    "cells": [
        {
            "cell_type": "markdown",
            "metadata": {},
            "source": [
                "### **Link:** https://platform.stratascratch.com/visualizations/10474-regional-energy-consumption?code_type=2"
            ]
        },
        {
            "cell_type": "markdown",
            "metadata": {},
            "source": [
                "# Regional energy consumption"
            ]
        },
        {
            "cell_type": "markdown",
            "metadata": {},
            "source": [
                "##### **Difficulty:** Medium"
            ]
        },
        {
            "cell_type": "markdown",
            "metadata": {},
            "source": [
                "##### **ID:** ID 10474"
            ]
        },
        {
            "cell_type": "markdown",
            "metadata": {},
            "source": [
                "##### **Type:** Area Chart"
            ]
        },
        {
            "cell_type": "markdown",
            "metadata": {},
            "source": [
                "##### **Analysis:** Comparison"
            ]
        },
        {
            "cell_type": "markdown",
            "metadata": {},
            "source": [
                "##### **Data Type:** Time Series Data"
            ]
        },
        {
            "cell_type": "markdown",
            "metadata": {},
            "source": [
                "##### Deploy an area chart to compare the annual energy consumption of different regions, using 'lightgrey' for North America, 'turquoise' for Europe, and 'lightpink' for Asia."
            ]
        },
        {
            "cell_type": "markdown",
            "metadata": {},
            "source": [
                "## **Data:** "
            ]
        },
        {
            "cell_type": "code",
            "execution_count": null,
            "metadata": [
                {}
            ],
            "source": [
                "import pandas as pd \n\ndata = [\n    {\n        \"north_america\": \"6732\",\n        \"europe\": \"4731\",\n        \"asia\": \"7647\"\n    },\n    {\n        \"north_america\": \"6607\",\n        \"europe\": \"4033\",\n        \"asia\": \"8142\"\n    },\n    {\n        \"north_america\": \"5653\",\n        \"europe\": \"3277\",\n        \"asia\": \"8544\"\n    },\n    {\n        \"north_america\": \"4835\",\n        \"europe\": \"4778\",\n        \"asia\": \"7648\"\n    },\n    {\n        \"north_america\": \"4763\",\n        \"europe\": \"4828\",\n        \"asia\": \"8468\"\n    }\n]\n\ndf = pd.DataFrame(data)"
            ]
        },
        {
            "cell_type": "markdown",
            "metadata": {},
            "source": [
                "## **Solution:** "
            ]
        },
        {
            "cell_type": "code",
            "execution_count": null,
            "metadata": [
                {}
            ],
            "source": [
                "import matplotlib.pyplot as plt\nimport plotly.express as px\n\ncolors = {'north_america': 'lightgrey', 'europe': 'turquoise', 'asia': 'lightpink'}\nplt.figure(figsize=(8, 6))\ndf.plot(kind='area', stacked=True, color=[colors[col] for col in df.columns])\nplt.title('Annual Energey Consumption by Region')\nplt.xlabel('Year')\nplt.ylabel('Energy Consumption (TWh)')\nplt.legend(title='Regions')\nplt.grid(axis='y')\nplt.xticks(rotation=45)\nplt.show()"
            ]
        }
    ],
    "metadata": {
        "kernelspec": {
            "display_name": "Python 3",
            "language": "python",
            "name": "python3"
        },
        "language_info": {
            "codemirror_mode": {
                "name": "ipython",
                "version": 3
            },
            "file_extension": ".py",
            "mimetype": "text/x-python",
            "name": "python",
            "nbconvert_exporter": "python",
            "pygments_lexer": "ipython3",
            "version": "3.11.4"
        }
    },
    "nbformat": 4,
    "nbformat_minor": 2,
    "name_of_the_file": "Regional energy consumption.ipynb"
}