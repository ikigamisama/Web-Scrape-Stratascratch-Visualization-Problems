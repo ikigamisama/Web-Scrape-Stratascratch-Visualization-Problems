{
    "cells": [
        {
            "cell_type": "markdown",
            "metadata": {},
            "source": [
                "### **Link:** https://platform.stratascratch.com/visualizations/10509-daily-sales-comparison?code_type=2"
            ]
        },
        {
            "cell_type": "markdown",
            "metadata": {},
            "source": [
                "# Daily sales comparison"
            ]
        },
        {
            "cell_type": "markdown",
            "metadata": {},
            "source": [
                "##### **Difficulty:** Medium"
            ]
        },
        {
            "cell_type": "markdown",
            "metadata": {},
            "source": [
                "##### **ID:** ID 10509"
            ]
        },
        {
            "cell_type": "markdown",
            "metadata": {},
            "source": [
                "##### **Type:** Heat Map"
            ]
        },
        {
            "cell_type": "markdown",
            "metadata": {},
            "source": [
                "##### **Analysis:** Comparison"
            ]
        },
        {
            "cell_type": "markdown",
            "metadata": {},
            "source": [
                "##### **Data Type:** Time Series Data & Numerical Data"
            ]
        },
        {
            "cell_type": "markdown",
            "metadata": {},
            "source": [
                "##### Design a heat map to compare the daily sales performance across multiple store locations, with 'lightgreen' for low sales and 'darkgreen' for high sales."
            ]
        },
        {
            "cell_type": "markdown",
            "metadata": {},
            "source": [
                "## **Data:** "
            ]
        },
        {
            "cell_type": "code",
            "execution_count": null,
            "metadata": [
                {}
            ],
            "source": [
                "import pandas as pd \n\ndata = [\n    {\n        \"store_a\": 222,\n        \"store_b\": 97,\n        \"store_c\": 167,\n        \"store_d\": 242,\n        \"store_e\": 373\n    },\n    {\n        \"store_a\": 301,\n        \"store_b\": 245,\n        \"store_c\": 409,\n        \"store_d\": 59,\n        \"store_e\": 261\n    },\n    {\n        \"store_a\": 327,\n        \"store_b\": 292,\n        \"store_c\": 342,\n        \"store_d\": 137,\n        \"store_e\": 120\n    },\n    {\n        \"store_a\": 138,\n        \"store_b\": 446,\n        \"store_c\": 364,\n        \"store_d\": 243,\n        \"store_e\": 89\n    },\n    {\n        \"store_a\": 137,\n        \"store_b\": 224,\n        \"store_c\": 138,\n        \"store_d\": 387,\n        \"store_e\": 215\n    },\n    {\n        \"store_a\": 75,\n        \"store_b\": 383,\n        \"store_c\": 122,\n        \"store_d\": 315,\n        \"store_e\": 454\n    },\n    {\n        \"store_a\": 165,\n        \"store_b\": 293,\n        \"store_c\": 247,\n        \"store_d\": 385,\n        \"store_e\": 481\n    },\n    {\n        \"store_a\": 498,\n        \"store_b\": 388,\n        \"store_c\": 149,\n        \"store_d\": 227,\n        \"store_e\": 293\n    },\n    {\n        \"store_a\": 335,\n        \"store_b\": 197,\n        \"store_c\": 197,\n        \"store_d\": 448,\n        \"store_e\": 473\n    },\n    {\n        \"store_a\": 338,\n        \"store_b\": 499,\n        \"store_c\": 315,\n        \"store_d\": 235,\n        \"store_e\": 177\n    },\n    {\n        \"store_a\": 82,\n        \"store_b\": 81,\n        \"store_c\": 252,\n        \"store_d\": 294,\n        \"store_e\": 201\n    },\n    {\n        \"store_a\": 213,\n        \"store_b\": 420,\n        \"store_c\": 233,\n        \"store_d\": 78,\n        \"store_e\": 340\n    },\n    {\n        \"store_a\": 178,\n        \"store_b\": 178,\n        \"store_c\": 470,\n        \"store_d\": 103,\n        \"store_e\": 439\n    },\n    {\n        \"store_a\": 88,\n        \"store_b\": 294,\n        \"store_c\": 323,\n        \"store_d\": 385,\n        \"store_e\": 438\n    },\n    {\n        \"store_a\": 155,\n        \"store_b\": 92,\n        \"store_c\": 492,\n        \"store_d\": 81,\n        \"store_e\": 426\n    },\n    {\n        \"store_a\": 307,\n        \"store_b\": 371,\n        \"store_c\": 475,\n        \"store_d\": 107,\n        \"store_e\": 341\n    },\n    {\n        \"store_a\": 408,\n        \"store_b\": 169,\n        \"store_c\": 317,\n        \"store_d\": 480,\n        \"store_e\": 132\n    },\n    {\n        \"store_a\": 141,\n        \"store_b\": 434,\n        \"store_c\": 448,\n        \"store_d\": 149,\n        \"store_e\": 103\n    },\n    {\n        \"store_a\": 446,\n        \"store_b\": 171,\n        \"store_c\": 476,\n        \"store_d\": 134,\n        \"store_e\": 253\n    },\n    {\n        \"store_a\": 374,\n        \"store_b\": 312,\n        \"store_c\": 97,\n        \"store_d\": 177,\n        \"store_e\": 181\n    },\n    {\n        \"store_a\": 406,\n        \"store_b\": 230,\n        \"store_c\": 384,\n        \"store_d\": 193,\n        \"store_e\": 198\n    },\n    {\n        \"store_a\": 277,\n        \"store_b\": 492,\n        \"store_c\": 329,\n        \"store_d\": 257,\n        \"store_e\": 447\n    },\n    {\n        \"store_a\": 423,\n        \"store_b\": 391,\n        \"store_c\": 98,\n        \"store_d\": 355,\n        \"store_e\": 119\n    },\n    {\n        \"store_a\": 219,\n        \"store_b\": 213,\n        \"store_c\": 498,\n        \"store_d\": 145,\n        \"store_e\": 247\n    },\n    {\n        \"store_a\": 144,\n        \"store_b\": 306,\n        \"store_c\": 419,\n        \"store_d\": 228,\n        \"store_e\": 342\n    },\n    {\n        \"store_a\": 468,\n        \"store_b\": 354,\n        \"store_c\": 399,\n        \"store_d\": 437,\n        \"store_e\": 148\n    },\n    {\n        \"store_a\": 92,\n        \"store_b\": 418,\n        \"store_c\": 455,\n        \"store_d\": 251,\n        \"store_e\": 433\n    },\n    {\n        \"store_a\": 50,\n        \"store_b\": 444,\n        \"store_c\": 420,\n        \"store_d\": 93,\n        \"store_e\": 492\n    },\n    {\n        \"store_a\": 433,\n        \"store_b\": 73,\n        \"store_c\": 237,\n        \"store_d\": 180,\n        \"store_e\": 427\n    },\n    {\n        \"store_a\": 148,\n        \"store_b\": 112,\n        \"store_c\": 469,\n        \"store_d\": 272,\n        \"store_e\": 173\n    }\n]\n\ndf = pd.DataFrame(data)"
            ]
        },
        {
            "cell_type": "markdown",
            "metadata": {},
            "source": [
                "## **Solution:** "
            ]
        },
        {
            "cell_type": "code",
            "execution_count": null,
            "metadata": [
                {}
            ],
            "source": [
                "import matplotlib.pyplot as plt\nimport seaborn as sns\n\nplt.figure(figsize=(12, 8))\nsns.heatmap( df.T, cmap='Greens', cbar_kws={'label': 'sales'}, annot=True, fmt='d')\n\nplt.title('Daily Sales Performance Across Multiple Store Locations')\nplt.xlabel('Day of the Week')\nplt.ylabel('Store')\nplt.show()"
            ]
        }
    ],
    "metadata": {
        "kernelspec": {
            "display_name": "Python 3",
            "language": "python",
            "name": "python3"
        },
        "language_info": {
            "codemirror_mode": {
                "name": "ipython",
                "version": 3
            },
            "file_extension": ".py",
            "mimetype": "text/x-python",
            "name": "python",
            "nbconvert_exporter": "python",
            "pygments_lexer": "ipython3",
            "version": "3.11.4"
        }
    },
    "nbformat": 4,
    "nbformat_minor": 2,
    "name_of_the_file": "Daily sales comparison.ipynb"
}