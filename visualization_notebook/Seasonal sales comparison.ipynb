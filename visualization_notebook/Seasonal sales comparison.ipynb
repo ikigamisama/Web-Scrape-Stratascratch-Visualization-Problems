{
    "cells": [
        {
            "cell_type": "markdown",
            "metadata": {},
            "source": [
                "### **Link:** https://platform.stratascratch.com/visualizations/10501-seasonal-sales-comparison?code_type=2"
            ]
        },
        {
            "cell_type": "markdown",
            "metadata": {},
            "source": [
                "# Seasonal sales comparison"
            ]
        },
        {
            "cell_type": "markdown",
            "metadata": {},
            "source": [
                "##### **Difficulty:** Hard"
            ]
        },
        {
            "cell_type": "markdown",
            "metadata": {},
            "source": [
                "##### **ID:** ID 10501"
            ]
        },
        {
            "cell_type": "markdown",
            "metadata": {},
            "source": [
                "##### **Type:** Polar Chart"
            ]
        },
        {
            "cell_type": "markdown",
            "metadata": {},
            "source": [
                "##### **Analysis:** Trend Analysis"
            ]
        },
        {
            "cell_type": "markdown",
            "metadata": {},
            "source": [
                "##### **Data Type:** Time Series Data"
            ]
        },
        {
            "cell_type": "markdown",
            "metadata": {},
            "source": [
                "##### Construct a polar chart to display the seasonal sales data of a clothing retailer, with 'orchid' for spring, 'olivedrab' for summer, 'orangered' for autumn, and 'navy' for winter."
            ]
        },
        {
            "cell_type": "markdown",
            "metadata": {},
            "source": [
                "## **Data:** "
            ]
        },
        {
            "cell_type": "code",
            "execution_count": null,
            "metadata": [
                {}
            ],
            "source": [
                "import pandas as pd \n\ndata = [\n    {\n        \"season\": \"Spring\",\n        \"sales\": 25000\n    },\n    {\n        \"season\": \"Summer\",\n        \"sales\": 40000\n    },\n    {\n        \"season\": \"Autumn\",\n        \"sales\": 30000\n    },\n    {\n        \"season\": \"Winter\",\n        \"sales\": 20000\n    }\n]\n\ndf = pd.DataFrame(data)"
            ]
        },
        {
            "cell_type": "markdown",
            "metadata": {},
            "source": [
                "## **Solution:** "
            ]
        },
        {
            "cell_type": "code",
            "execution_count": null,
            "metadata": [
                {}
            ],
            "source": [
                "import matplotlib.pyplot as plt\nimport numpy as np\n\ncolors = {'Spring': 'orchid', 'Summer': 'olivedrab', 'Autumn': 'orangered', 'Winter': 'navy'}\n\nlabels = df['season']\nsales = df['sales']\nangles = np.linspace(0, 2 * np.pi, len(labels), endpoint=False).tolist()\n\nsales = np.concatenate((sales, [sales[0]]))\nangles += angles[:1]\n\nfig, ax = plt.subplots(figsize=(8, 8), subplot_kw=dict(polar=True))\nax.fill(angles, sales, color=colors['Spring'], alpha=0.25)\nax.plot(angles, sales, color=colors['Spring'], linewidth=2, linestyle='solid')\n\nax.set_yticklabels([])\nax.set_xticks(angles[:-1])\nax.set_xticklabels(labels)\nax.set_rlabel_position(30)\n\nlegend_elements = [\n    plt.Line2D([0], [0], color='orchid', lw=2, label='Spring'),\n    plt.Line2D([0], [0], color='olivedrab', lw=2, label='Summer'),\n    plt.Line2D([0], [0], color='orangered', lw=2, label='Autumn'),\n    plt.Line2D([0], [0], color='navy', lw=2, label='Winter')\n]\nplt.legend(handles=legend_elements, title='Season', loc='upper right')\nplt.title('Seasonal Sales Data of Clothing Retailer')\nplt.show()"
            ]
        }
    ],
    "metadata": {
        "kernelspec": {
            "display_name": "Python 3",
            "language": "python",
            "name": "python3"
        },
        "language_info": {
            "codemirror_mode": {
                "name": "ipython",
                "version": 3
            },
            "file_extension": ".py",
            "mimetype": "text/x-python",
            "name": "python",
            "nbconvert_exporter": "python",
            "pygments_lexer": "ipython3",
            "version": "3.11.4"
        }
    },
    "nbformat": 4,
    "nbformat_minor": 2,
    "name_of_the_file": "Seasonal sales comparison.ipynb"
}