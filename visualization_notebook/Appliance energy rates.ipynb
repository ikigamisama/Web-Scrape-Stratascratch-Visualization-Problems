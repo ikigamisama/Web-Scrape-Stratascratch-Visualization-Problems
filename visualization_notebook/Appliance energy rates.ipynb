{
    "cells": [
        {
            "cell_type": "markdown",
            "metadata": {},
            "source": [
                "### **Link:** https://platform.stratascratch.com/visualizations/10458-appliance-energy-rates?code_type=2"
            ]
        },
        {
            "cell_type": "markdown",
            "metadata": {},
            "source": [
                "# Appliance energy rates"
            ]
        },
        {
            "cell_type": "markdown",
            "metadata": {},
            "source": [
                "##### **Difficulty:** Hard"
            ]
        },
        {
            "cell_type": "markdown",
            "metadata": {},
            "source": [
                "##### **ID:** ID 10458"
            ]
        },
        {
            "cell_type": "markdown",
            "metadata": {},
            "source": [
                "##### **Type:** Polar Area Chart"
            ]
        },
        {
            "cell_type": "markdown",
            "metadata": {},
            "source": [
                "##### **Analysis:** Comparison"
            ]
        },
        {
            "cell_type": "markdown",
            "metadata": {},
            "source": [
                "##### **Data Type:** Numerical Data"
            ]
        },
        {
            "cell_type": "markdown",
            "metadata": {},
            "source": [
                "##### Design a polar area chart to compare the energy consumption rates of various appliances in a home, using 'mediumblue' for the refrigerator, 'darkorange' for the heater, and 'limegreen' for the air conditioner."
            ]
        },
        {
            "cell_type": "markdown",
            "metadata": {},
            "source": [
                "## **Data:** "
            ]
        },
        {
            "cell_type": "code",
            "execution_count": null,
            "metadata": [
                {}
            ],
            "source": [
                "import pandas as pd \n\ndata = [\n    {\n        \"appliance\": \"Refrigerator\",\n        \"energy_consumption\": 500\n    },\n    {\n        \"appliance\": \"Heater\",\n        \"energy_consumption\": 800\n    },\n    {\n        \"appliance\": \"Air Conditioner\",\n        \"energy_consumption\": 600\n    }\n]\n\ndf = pd.DataFrame(data)"
            ]
        },
        {
            "cell_type": "markdown",
            "metadata": {},
            "source": [
                "## **Solution:** "
            ]
        },
        {
            "cell_type": "code",
            "execution_count": null,
            "metadata": [
                {}
            ],
            "source": [
                "import matplotlib.pyplot as plt\nimport numpy as np\n\n# Define colors for each appliance\ncolors = ['mediumblue', 'darkorange', 'limegreen']\n\n# Prepare data\nlabels = df['appliance']\nenergy = df['energy_consumption']\n\n# Number of variables\nnum_vars = len(labels)\n\n# Compute the angle each bar is centered on:\nangles = np.linspace(0, 2 * np.pi, num_vars, endpoint=False).tolist()\n\n# Complete the loop to close the circular graph\nenergy = np.concatenate((energy, [energy[0]]))\nangles += angles[:1]\n\n# Draw plot\nfig, ax = plt.subplots(figsize=(6, 6), subplot_kw=dict(polar=True))\n\n# Draw bars\nfor i in range(num_vars):\n    ax.bar(angles[i], energy[i], color=colors[i], width=0.4, label=labels[i], alpha=0.7)\n\n# Connect the last bar to the first to close the shape\nax.plot(angles, energy, color='black', linewidth=2)  # Outline\n\n# Set the labels for each appliance at the appropriate angle\nax.set_xticks(angles[:-1])\nax.set_xticklabels(labels)\n\n# Title\nplt.title('Energy Consumption Rates of Various Appliances', size=15, color='black', y=1.1)\nplt.legend(loc='upper right', bbox_to_anchor=(1.1, 1.1))\n\nplt.show()"
            ]
        }
    ],
    "metadata": {
        "kernelspec": {
            "display_name": "Python 3",
            "language": "python",
            "name": "python3"
        },
        "language_info": {
            "codemirror_mode": {
                "name": "ipython",
                "version": 3
            },
            "file_extension": ".py",
            "mimetype": "text/x-python",
            "name": "python",
            "nbconvert_exporter": "python",
            "pygments_lexer": "ipython3",
            "version": "3.11.4"
        }
    },
    "nbformat": 4,
    "nbformat_minor": 2,
    "name_of_the_file": "Appliance energy rates.ipynb"
}