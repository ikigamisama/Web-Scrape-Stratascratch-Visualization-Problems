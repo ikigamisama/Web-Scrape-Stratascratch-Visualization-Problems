{
    "cells": [
        {
            "cell_type": "markdown",
            "metadata": {},
            "source": [
                "### **Link:** https://platform.stratascratch.com/visualizations/10511-transportation-efficiency-analysis?code_type=2"
            ]
        },
        {
            "cell_type": "markdown",
            "metadata": {},
            "source": [
                "# Transportation efficiency analysis"
            ]
        },
        {
            "cell_type": "markdown",
            "metadata": {},
            "source": [
                "##### **Difficulty:** Medium"
            ]
        },
        {
            "cell_type": "markdown",
            "metadata": {},
            "source": [
                "##### **ID:** ID 10511"
            ]
        },
        {
            "cell_type": "markdown",
            "metadata": {},
            "source": [
                "##### **Type:** Bubble Chart"
            ]
        },
        {
            "cell_type": "markdown",
            "metadata": {},
            "source": [
                "##### **Analysis:** Relationships"
            ]
        },
        {
            "cell_type": "markdown",
            "metadata": {},
            "source": [
                "##### **Data Type:** Numerical Data & Categorical Data"
            ]
        },
        {
            "cell_type": "markdown",
            "metadata": {},
            "source": [
                "##### Construct a bubble chart to evaluate the efficiency of various transportation modes within a city, marked 'lightpink' for buses, 'lightgray' for trains, and 'lightyellow' for taxis."
            ]
        },
        {
            "cell_type": "markdown",
            "metadata": {},
            "source": [
                "## **Data:** "
            ]
        },
        {
            "cell_type": "code",
            "execution_count": null,
            "metadata": [
                {}
            ],
            "source": [
                "import pandas as pd \n\ndata = [\n    {\n        \"mode\": \"Bus\",\n        \"efficiency\": 77.441,\n        \"cost\": 25.338,\n        \"travel_time\": 51.126,\n        \"bubble_size\": 100\n    },\n    {\n        \"mode\": \"Train\",\n        \"efficiency\": 85.759,\n        \"cost\": 41.669,\n        \"travel_time\": 54.8,\n        \"bubble_size\": 200\n    },\n    {\n        \"mode\": \"Taxi\",\n        \"efficiency\": 80.138,\n        \"cost\": 31.156,\n        \"travel_time\": 59.145,\n        \"bubble_size\": 150\n    },\n    {\n        \"mode\": \"Bus\",\n        \"efficiency\": 77.244,\n        \"cost\": 32.722,\n        \"travel_time\": 51.966,\n        \"bubble_size\": 100\n    },\n    {\n        \"mode\": \"Train\",\n        \"efficiency\": 71.183,\n        \"cost\": 47.024,\n        \"travel_time\": 38.459,\n        \"bubble_size\": 200\n    },\n    {\n        \"mode\": \"Taxi\",\n        \"efficiency\": 82.295,\n        \"cost\": 12.841,\n        \"travel_time\": 51.221,\n        \"bubble_size\": 150\n    },\n    {\n        \"mode\": \"Bus\",\n        \"efficiency\": 71.879,\n        \"cost\": 13.485,\n        \"travel_time\": 24.731,\n        \"bubble_size\": 100\n    },\n    {\n        \"mode\": \"Train\",\n        \"efficiency\": 94.589,\n        \"cost\": 10.809,\n        \"travel_time\": 45.597,\n        \"bubble_size\": 200\n    },\n    {\n        \"mode\": \"Taxi\",\n        \"efficiency\": 98.183,\n        \"cost\": 43.305,\n        \"travel_time\": 25.734,\n        \"bubble_size\": 150\n    }\n]\n\ndf = pd.DataFrame(data)"
            ]
        },
        {
            "cell_type": "markdown",
            "metadata": {},
            "source": [
                "## **Solution:** "
            ]
        },
        {
            "cell_type": "code",
            "execution_count": null,
            "metadata": [
                {}
            ],
            "source": [
                "import matplotlib.pyplot as plt\n\ncolors = {'Bus': 'lightpink', 'Train': 'lightgray', 'Taxi': 'lightyellow'}\nplt.figure(figsize=(12, 8))\n\nscatter = plt.scatter(df['cost'], df['efficiency'],  s=df['bubble_size'], c=[colors[color] for color in df['mode']], alpha=0.6)\nplt.title('Efficiency of Various Transportation Modes Within a City')\nplt.xlabel('Cost ($)')\nplt.ylabel('Efficiency')\nplt.grid(True)\nplt.legend(handles=[\n    plt.Line2D([0], [0], marker='o', color='w', markerfacecolor='lightpink', markersize=10, label='Bus'),\n    plt.Line2D([0], [0], marker='o', color='w', markerfacecolor='lightgray', markersize=10, label='Train'),\n    plt.Line2D([0], [0], marker='o', color='w', markerfacecolor='lightyellow', markersize=10, label='Taxi')],\n           title='Transportation Mode', loc='upper left')\nplt.show()"
            ]
        }
    ],
    "metadata": {
        "kernelspec": {
            "display_name": "Python 3",
            "language": "python",
            "name": "python3"
        },
        "language_info": {
            "codemirror_mode": {
                "name": "ipython",
                "version": 3
            },
            "file_extension": ".py",
            "mimetype": "text/x-python",
            "name": "python",
            "nbconvert_exporter": "python",
            "pygments_lexer": "ipython3",
            "version": "3.11.4"
        }
    },
    "nbformat": 4,
    "nbformat_minor": 2,
    "name_of_the_file": "Transportation efficiency analysis.ipynb"
}