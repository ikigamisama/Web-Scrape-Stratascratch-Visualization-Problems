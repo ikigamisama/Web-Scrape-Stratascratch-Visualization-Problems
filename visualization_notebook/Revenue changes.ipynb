{
    "cells": [
        {
            "cell_type": "markdown",
            "metadata": {},
            "source": [
                "### **Link:** https://platform.stratascratch.com/visualizations/10508-revenue-changes?code_type=2"
            ]
        },
        {
            "cell_type": "markdown",
            "metadata": {},
            "source": [
                "# Revenue changes"
            ]
        },
        {
            "cell_type": "markdown",
            "metadata": {},
            "source": [
                "##### **Difficulty:** Medium"
            ]
        },
        {
            "cell_type": "markdown",
            "metadata": {},
            "source": [
                "##### **ID:** ID 10508"
            ]
        },
        {
            "cell_type": "markdown",
            "metadata": {},
            "source": [
                "##### **Type:** Waterfall Chart"
            ]
        },
        {
            "cell_type": "markdown",
            "metadata": {},
            "source": [
                "##### **Analysis:** Trend Analysis"
            ]
        },
        {
            "cell_type": "markdown",
            "metadata": {},
            "source": [
                "##### **Data Type:** Time Series Data"
            ]
        },
        {
            "cell_type": "markdown",
            "metadata": {},
            "source": [
                "##### Create a waterfall chart to illustrate the step-by-step revenue changes throughout the year for a retail company, using 'tomato' for increases and 'navy' for decreases."
            ]
        },
        {
            "cell_type": "markdown",
            "metadata": {},
            "source": [
                "## **Data:** "
            ]
        },
        {
            "cell_type": "code",
            "execution_count": null,
            "metadata": [
                {}
            ],
            "source": [
                "import pandas as pd \n\ndata = [\n    {\n        \"month\": \"January\",\n        \"change\": \"20000\",\n        \"revenue\": \"120000\"\n    },\n    {\n        \"month\": \"February\",\n        \"change\": \"-5000\",\n        \"revenue\": \"135000\"\n    },\n    {\n        \"month\": \"March\",\n        \"change\": \"15000\",\n        \"revenue\": \"165000\"\n    },\n    {\n        \"month\": \"April\",\n        \"change\": \"-7000\",\n        \"revenue\": \"188000\"\n    },\n    {\n        \"month\": \"May\",\n        \"change\": \"10000\",\n        \"revenue\": \"221000\"\n    },\n    {\n        \"month\": \"June\",\n        \"change\": \"5000\",\n        \"revenue\": \"259000\"\n    },\n    {\n        \"month\": \"July\",\n        \"change\": \"-3000\",\n        \"revenue\": \"294000\"\n    },\n    {\n        \"month\": \"August\",\n        \"change\": \"12000\",\n        \"revenue\": \"341000\"\n    },\n    {\n        \"month\": \"September\",\n        \"change\": \"-8000\",\n        \"revenue\": \"380000\"\n    },\n    {\n        \"month\": \"October\",\n        \"change\": \"15000\",\n        \"revenue\": \"434000\"\n    },\n    {\n        \"month\": \"November\",\n        \"change\": \"-4000\",\n        \"revenue\": \"484000\"\n    },\n    {\n        \"month\": \"December\",\n        \"change\": \"17000\",\n        \"revenue\": \"551000\"\n    }\n]\n\ndf = pd.DataFrame(data)"
            ]
        },
        {
            "cell_type": "markdown",
            "metadata": {},
            "source": [
                "## **Solution:** "
            ]
        },
        {
            "cell_type": "code",
            "execution_count": null,
            "metadata": [
                {}
            ],
            "source": [
                "import matplotlib.pyplot as plt\n\nfig, ax = plt.subplots(figsize=(12, 8))\nax.bar(df['month'][0], initial_revenue, color='grey', edgecolor='black')\nfor i in range(1, len(df)):\n    color = 'tomato' if df['change'][i] > 0 else 'navy'\n    ax.bar(df['month'][i], df['change'][i], bottom=df['revenue'][i-1], color=color, edgecolor='black')\n\nax.bar(df['month'], df['revenue'], color='grey', edgecolor='black', alpha=0.5)\n\nax.set_xlabel('Month')\nax.set_ylabel('Revenue ($)')\nax.set_title('Step-by-Step Revenue Changes Throughout the Year')\nplt.xticks(rotation=45)\nplt.grid(True)\nplt.show()"
            ]
        }
    ],
    "metadata": {
        "kernelspec": {
            "display_name": "Python 3",
            "language": "python",
            "name": "python3"
        },
        "language_info": {
            "codemirror_mode": {
                "name": "ipython",
                "version": 3
            },
            "file_extension": ".py",
            "mimetype": "text/x-python",
            "name": "python",
            "nbconvert_exporter": "python",
            "pygments_lexer": "ipython3",
            "version": "3.11.4"
        }
    },
    "nbformat": 4,
    "nbformat_minor": 2,
    "name_of_the_file": "Revenue changes.ipynb"
}