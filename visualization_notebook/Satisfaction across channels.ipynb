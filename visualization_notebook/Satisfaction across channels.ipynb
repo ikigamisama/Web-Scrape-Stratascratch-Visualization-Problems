{
    "cells": [
        {
            "cell_type": "markdown",
            "metadata": {},
            "source": [
                "### **Link:** https://platform.stratascratch.com/visualizations/10491-satisfaction-across-channels?code_type=2"
            ]
        },
        {
            "cell_type": "markdown",
            "metadata": {},
            "source": [
                "# Satisfaction across channels"
            ]
        },
        {
            "cell_type": "markdown",
            "metadata": {},
            "source": [
                "##### **Difficulty:** Hard"
            ]
        },
        {
            "cell_type": "markdown",
            "metadata": {},
            "source": [
                "##### **ID:** ID 10491"
            ]
        },
        {
            "cell_type": "markdown",
            "metadata": {},
            "source": [
                "##### **Type:** Radar Chart"
            ]
        },
        {
            "cell_type": "markdown",
            "metadata": {},
            "source": [
                "##### **Analysis:** Comparison"
            ]
        },
        {
            "cell_type": "markdown",
            "metadata": {},
            "source": [
                "##### **Data Type:** Categorical Data"
            ]
        },
        {
            "cell_type": "markdown",
            "metadata": {},
            "source": [
                "##### Construct a radar chart to compare customer satisfaction levels across different service channels, using 'mediumorchid' for online, 'skyblue' for in-store, and 'sandybrown' for phone support."
            ]
        },
        {
            "cell_type": "markdown",
            "metadata": {},
            "source": [
                "## **Data:** "
            ]
        },
        {
            "cell_type": "code",
            "execution_count": null,
            "metadata": [
                {}
            ],
            "source": [
                "import pandas as pd \n\ndata = [\n    {\n        \"ease_of_use\": 80,\n        \"responsiveness\": 75,\n        \"quality_of_service\": 85,\n        \"overall_satisfaction\": 78\n    },\n    {\n        \"ease_of_use\": 70,\n        \"responsiveness\": 85,\n        \"quality_of_service\": 80,\n        \"overall_satisfaction\": 83\n    },\n    {\n        \"ease_of_use\": 65,\n        \"responsiveness\": 90,\n        \"quality_of_service\": 75,\n        \"overall_satisfaction\": 82\n    }\n]\n\ndf = pd.DataFrame(data)"
            ]
        },
        {
            "cell_type": "markdown",
            "metadata": {},
            "source": [
                "## **Solution:** "
            ]
        },
        {
            "cell_type": "code",
            "execution_count": null,
            "metadata": [
                {}
            ],
            "source": [
                "import matplotlib.pyplot as plt\nimport numpy as np\n\ncolors = {'Online': 'mediumorchid', 'In-Store': 'skyblue', 'Phone Support': 'sandybrown'}\n\ncategories = list(df.columns)\nN = len(categories)\n\nangles = [n / float(N) * 2 * np.pi for n in range(N)]\nangles += angles[:1]\n\nplt.figure(figsize=(10, 8))\nax = plt.subplot(111, polar=True)\n\nplt.xticks(angles[:-1], categories, color='grey', size=8)\n\nax.set_rlabel_position(0)\nplt.yticks([20, 40, 60, 80, 100], [\"20\", \"40\", \"60\", \"80\", \"100\"], color=\"grey\", size=7)\nplt.ylim(0, 100)\n\nfor idx, row in df.iterrows():\n    values = row.values.flatten().tolist()\n    values += values[:1]\n    ax.plot(angles, values, label=idx, color=colors[idx])\n    ax.fill(angles, values, color=colors[idx], alpha=0.1)\n\nplt.legend(loc='upper right', bbox_to_anchor=(0.1, 0.1))\nplt.title('Customer Satisfaction Levels Across Different Service Channels', size=15, color='black', y=1.1)\nplt.show()"
            ]
        }
    ],
    "metadata": {
        "kernelspec": {
            "display_name": "Python 3",
            "language": "python",
            "name": "python3"
        },
        "language_info": {
            "codemirror_mode": {
                "name": "ipython",
                "version": 3
            },
            "file_extension": ".py",
            "mimetype": "text/x-python",
            "name": "python",
            "nbconvert_exporter": "python",
            "pygments_lexer": "ipython3",
            "version": "3.11.4"
        }
    },
    "nbformat": 4,
    "nbformat_minor": 2,
    "name_of_the_file": "Satisfaction across channels.ipynb"
}