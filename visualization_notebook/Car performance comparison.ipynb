{
    "cells": [
        {
            "cell_type": "markdown",
            "metadata": {},
            "source": [
                "### **Link:** https://platform.stratascratch.com/visualizations/10466-car-performance-comparison?code_type=2"
            ]
        },
        {
            "cell_type": "markdown",
            "metadata": {},
            "source": [
                "# Car performance comparison"
            ]
        },
        {
            "cell_type": "markdown",
            "metadata": {},
            "source": [
                "##### **Difficulty:** Hard"
            ]
        },
        {
            "cell_type": "markdown",
            "metadata": {},
            "source": [
                "##### **ID:** ID 10466"
            ]
        },
        {
            "cell_type": "markdown",
            "metadata": {},
            "source": [
                "##### **Type:** Parallel Coordinates Plot"
            ]
        },
        {
            "cell_type": "markdown",
            "metadata": {},
            "source": [
                "##### **Analysis:** Comparison"
            ]
        },
        {
            "cell_type": "markdown",
            "metadata": {},
            "source": [
                "##### **Data Type:** Numerical Data & Categorical Data"
            ]
        },
        {
            "cell_type": "markdown",
            "metadata": {},
            "source": [
                "##### Design a parallel coordinates plot to compare the performance data of various cars, using 'steelblue' for fuel efficiency, 'tomato' for horsepower, and 'khaki' for safety ratings."
            ]
        },
        {
            "cell_type": "markdown",
            "metadata": {},
            "source": [
                "## **Data:** "
            ]
        },
        {
            "cell_type": "code",
            "execution_count": null,
            "metadata": [
                {}
            ],
            "source": [
                "import pandas as pd \n\ndata = [\n    {\n        \"car\": \"Car A\",\n        \"fuel_efficiency\": 21,\n        \"horsepower\": 172,\n        \"safety_rating\": 2\n    },\n    {\n        \"car\": \"Car B\",\n        \"fuel_efficiency\": 26,\n        \"horsepower\": 181,\n        \"safety_rating\": 2\n    },\n    {\n        \"car\": \"Car C\",\n        \"fuel_efficiency\": 26,\n        \"horsepower\": 218,\n        \"safety_rating\": 9\n    },\n    {\n        \"car\": \"Car D\",\n        \"fuel_efficiency\": 29,\n        \"horsepower\": 189,\n        \"safety_rating\": 3\n    },\n    {\n        \"car\": \"Car E\",\n        \"fuel_efficiency\": 20,\n        \"horsepower\": 157,\n        \"safety_rating\": 4\n    }\n]\n\ndf = pd.DataFrame(data)"
            ]
        },
        {
            "cell_type": "markdown",
            "metadata": {},
            "source": [
                "## **Solution:** "
            ]
        },
        {
            "cell_type": "code",
            "execution_count": null,
            "metadata": [
                {}
            ],
            "source": [
                "import pandas as pd\nfrom pandas.plotting import parallel_coordinates\nimport matplotlib.pyplot as plt\n\ndf_normalized = df_cars.copy()\ndf_normalized['fuel_efficiency'] = (df_cars['fuel_efficiency'] - df_cars['fuel_efficiency'].min()) / (df_cars['fuel_efficiency'].max() - df_cars['fuel_efficiency'].min())\ndf_normalized['horsepower'] = (df_cars['horsepower'] - df_cars['horsepower'].min()) / (df_cars['horsepower'].max() - df_cars['horsepower'].min())\ndf_normalized['safety_rating'] = (df_cars['safety_rating'] - df_cars['safety_rating'].min()) / (df_cars['safety_rating'].max() - df_cars['safety_rating'].min())\n\ndf_normalized['car'] = df_cars['car']\n\n\nplt.figure(figsize=(12, 6))\nparallel_coordinates(df_normalized, 'car', color=['steelblue', 'tomato', 'khaki', 'gray', 'purple'])\nplt.title('Parallel Coordinates Plot for Car Performance')\nplt.xlabel('Performance Metrics')\nplt.ylabel('Normalized Values')\nplt.grid(True)\nplt.legend(title='Car Model')\nplt.show()"
            ]
        }
    ],
    "metadata": {
        "kernelspec": {
            "display_name": "Python 3",
            "language": "python",
            "name": "python3"
        },
        "language_info": {
            "codemirror_mode": {
                "name": "ipython",
                "version": 3
            },
            "file_extension": ".py",
            "mimetype": "text/x-python",
            "name": "python",
            "nbconvert_exporter": "python",
            "pygments_lexer": "ipython3",
            "version": "3.11.4"
        }
    },
    "nbformat": 4,
    "nbformat_minor": 2,
    "name_of_the_file": "Car performance comparison.ipynb"
}