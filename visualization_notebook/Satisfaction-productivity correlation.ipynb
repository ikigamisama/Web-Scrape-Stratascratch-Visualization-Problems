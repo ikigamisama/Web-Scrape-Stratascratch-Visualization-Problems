{
    "cells": [
        {
            "cell_type": "markdown",
            "metadata": {},
            "source": [
                "### **Link:** https://platform.stratascratch.com/visualizations/10492-satisfaction-productivity-correlation?code_type=2"
            ]
        },
        {
            "cell_type": "markdown",
            "metadata": {},
            "source": [
                "# Satisfaction-productivity correlation"
            ]
        },
        {
            "cell_type": "markdown",
            "metadata": {},
            "source": [
                "##### **Difficulty:** Medium"
            ]
        },
        {
            "cell_type": "markdown",
            "metadata": {},
            "source": [
                "##### **ID:** ID 10492"
            ]
        },
        {
            "cell_type": "markdown",
            "metadata": {},
            "source": [
                "##### **Type:** Scatter Plot"
            ]
        },
        {
            "cell_type": "markdown",
            "metadata": {},
            "source": [
                "##### **Analysis:** Relationships"
            ]
        },
        {
            "cell_type": "markdown",
            "metadata": {},
            "source": [
                "##### **Data Type:** Numerical Data"
            ]
        },
        {
            "cell_type": "markdown",
            "metadata": {},
            "source": [
                "##### Develop a scatter plot to visualize the correlation between employee satisfaction and productivity, with 'purple' representing high productivity and 'orange' representing low productivity."
            ]
        },
        {
            "cell_type": "markdown",
            "metadata": {},
            "source": [
                "## **Data:** "
            ]
        },
        {
            "cell_type": "code",
            "execution_count": null,
            "metadata": [
                {}
            ],
            "source": [
                "import pandas as pd \n\ndata = [\n    {\n        \"employee_satisfaction\": 5.939,\n        \"productivity\": 117.782,\n        \"productivity_category\": \"High Productivity\"\n    },\n    {\n        \"employee_satisfaction\": 7.437,\n        \"productivity\": 77.001,\n        \"productivity_category\": \"Low Productivity\"\n    },\n    {\n        \"employee_satisfaction\": 6.425,\n        \"productivity\": 123.519,\n        \"productivity_category\": \"High Productivity\"\n    },\n    {\n        \"employee_satisfaction\": 5.904,\n        \"productivity\": 146.219,\n        \"productivity_category\": \"High Productivity\"\n    },\n    {\n        \"employee_satisfaction\": 4.813,\n        \"productivity\": 74.875,\n        \"productivity_category\": \"Low Productivity\"\n    },\n    {\n        \"employee_satisfaction\": 6.813,\n        \"productivity\": 107.616,\n        \"productivity_category\": \"High Productivity\"\n    },\n    {\n        \"employee_satisfaction\": 4.938,\n        \"productivity\": 109.204,\n        \"productivity_category\": \"High Productivity\"\n    },\n    {\n        \"employee_satisfaction\": 9.026,\n        \"productivity\": 107.225,\n        \"productivity_category\": \"Low Productivity\"\n    },\n    {\n        \"employee_satisfaction\": 9.673,\n        \"productivity\": 72.308,\n        \"productivity_category\": \"Low Productivity\"\n    },\n    {\n        \"employee_satisfaction\": 4.451,\n        \"productivity\": 145.275,\n        \"productivity_category\": \"High Productivity\"\n    },\n    {\n        \"employee_satisfaction\": 8.126,\n        \"productivity\": 94.713,\n        \"productivity_category\": \"Low Productivity\"\n    },\n    {\n        \"employee_satisfaction\": 5.76,\n        \"productivity\": 134.641,\n        \"productivity_category\": \"High Productivity\"\n    },\n    {\n        \"employee_satisfaction\": 6.112,\n        \"productivity\": 119.948,\n        \"productivity_category\": \"High Productivity\"\n    },\n    {\n        \"employee_satisfaction\": 9.33,\n        \"productivity\": 79.744,\n        \"productivity_category\": \"Low Productivity\"\n    },\n    {\n        \"employee_satisfaction\": 1.639,\n        \"productivity\": 131.38,\n        \"productivity_category\": \"High Productivity\"\n    },\n    {\n        \"employee_satisfaction\": 1.784,\n        \"productivity\": 89.651,\n        \"productivity_category\": \"Low Productivity\"\n    },\n    {\n        \"employee_satisfaction\": 1.182,\n        \"productivity\": 138.11,\n        \"productivity_category\": \"High Productivity\"\n    },\n    {\n        \"employee_satisfaction\": 8.494,\n        \"productivity\": 108.127,\n        \"productivity_category\": \"High Productivity\"\n    },\n    {\n        \"employee_satisfaction\": 8.003,\n        \"productivity\": 138.174,\n        \"productivity_category\": \"High Productivity\"\n    },\n    {\n        \"employee_satisfaction\": 8.83,\n        \"productivity\": 119.253,\n        \"productivity_category\": \"High Productivity\"\n    },\n    {\n        \"employee_satisfaction\": 9.808,\n        \"productivity\": 122.525,\n        \"productivity_category\": \"High Productivity\"\n    },\n    {\n        \"employee_satisfaction\": 8.192,\n        \"productivity\": 100.132,\n        \"productivity_category\": \"Low Productivity\"\n    },\n    {\n        \"employee_satisfaction\": 5.153,\n        \"productivity\": 145.608,\n        \"productivity_category\": \"High Productivity\"\n    },\n    {\n        \"employee_satisfaction\": 8.025,\n        \"productivity\": 114.399,\n        \"productivity_category\": \"High Productivity\"\n    },\n    {\n        \"employee_satisfaction\": 2.064,\n        \"productivity\": 92.386,\n        \"productivity_category\": \"Low Productivity\"\n    },\n    {\n        \"employee_satisfaction\": 6.759,\n        \"productivity\": 110.639,\n        \"productivity_category\": \"High Productivity\"\n    },\n    {\n        \"employee_satisfaction\": 2.29,\n        \"productivity\": 51.919,\n        \"productivity_category\": \"Low Productivity\"\n    },\n    {\n        \"employee_satisfaction\": 9.502,\n        \"productivity\": 80.157,\n        \"productivity_category\": \"Low Productivity\"\n    },\n    {\n        \"employee_satisfaction\": 5.697,\n        \"productivity\": 116.017,\n        \"productivity_category\": \"High Productivity\"\n    },\n    {\n        \"employee_satisfaction\": 4.732,\n        \"productivity\": 79.008,\n        \"productivity_category\": \"Low Productivity\"\n    },\n    {\n        \"employee_satisfaction\": 3.381,\n        \"productivity\": 111.802,\n        \"productivity_category\": \"High Productivity\"\n    },\n    {\n        \"employee_satisfaction\": 7.968,\n        \"productivity\": 92.877,\n        \"productivity_category\": \"Low Productivity\"\n    },\n    {\n        \"employee_satisfaction\": 5.105,\n        \"productivity\": 63.547,\n        \"productivity_category\": \"Low Productivity\"\n    },\n    {\n        \"employee_satisfaction\": 6.116,\n        \"productivity\": 79.828,\n        \"productivity_category\": \"Low Productivity\"\n    },\n    {\n        \"employee_satisfaction\": 1.169,\n        \"productivity\": 106.996,\n        \"productivity_category\": \"Low Productivity\"\n    },\n    {\n        \"employee_satisfaction\": 6.559,\n        \"productivity\": 109.087,\n        \"productivity_category\": \"High Productivity\"\n    },\n    {\n        \"employee_satisfaction\": 6.509,\n        \"productivity\": 107.433,\n        \"productivity_category\": \"Low Productivity\"\n    },\n    {\n        \"employee_satisfaction\": 6.552,\n        \"productivity\": 115.32,\n        \"productivity_category\": \"High Productivity\"\n    },\n    {\n        \"employee_satisfaction\": 9.494,\n        \"productivity\": 115.21,\n        \"productivity_category\": \"High Productivity\"\n    },\n    {\n        \"employee_satisfaction\": 7.136,\n        \"productivity\": 93.142,\n        \"productivity_category\": \"Low Productivity\"\n    },\n    {\n        \"employee_satisfaction\": 4.236,\n        \"productivity\": 139.655,\n        \"productivity_category\": \"High Productivity\"\n    },\n    {\n        \"employee_satisfaction\": 4.933,\n        \"productivity\": 86.756,\n        \"productivity_category\": \"Low Productivity\"\n    },\n    {\n        \"employee_satisfaction\": 7.279,\n        \"productivity\": 93.586,\n        \"productivity_category\": \"Low Productivity\"\n    },\n    {\n        \"employee_satisfaction\": 1.542,\n        \"productivity\": 139.192,\n        \"productivity_category\": \"High Productivity\"\n    },\n    {\n        \"employee_satisfaction\": 7.001,\n        \"productivity\": 130.619,\n        \"productivity_category\": \"High Productivity\"\n    },\n    {\n        \"employee_satisfaction\": 7.036,\n        \"productivity\": 120.389,\n        \"productivity_category\": \"High Productivity\"\n    },\n    {\n        \"employee_satisfaction\": 2.893,\n        \"productivity\": 60.023,\n        \"productivity_category\": \"Low Productivity\"\n    },\n    {\n        \"employee_satisfaction\": 2.16,\n        \"productivity\": 141.948,\n        \"productivity_category\": \"High Productivity\"\n    },\n    {\n        \"employee_satisfaction\": 3.839,\n        \"productivity\": 121.424,\n        \"productivity_category\": \"High Productivity\"\n    },\n    {\n        \"employee_satisfaction\": 4.273,\n        \"productivity\": 149.885,\n        \"productivity_category\": \"High Productivity\"\n    },\n    {\n        \"employee_satisfaction\": 6.132,\n        \"productivity\": 64.945,\n        \"productivity_category\": \"Low Productivity\"\n    },\n    {\n        \"employee_satisfaction\": 4.947,\n        \"productivity\": 136.813,\n        \"productivity_category\": \"High Productivity\"\n    },\n    {\n        \"employee_satisfaction\": 9.895,\n        \"productivity\": 66.249,\n        \"productivity_category\": \"Low Productivity\"\n    },\n    {\n        \"employee_satisfaction\": 1.918,\n        \"productivity\": 111.556,\n        \"productivity_category\": \"High Productivity\"\n    },\n    {\n        \"employee_satisfaction\": 2.88,\n        \"productivity\": 62.382,\n        \"productivity_category\": \"Low Productivity\"\n    },\n    {\n        \"employee_satisfaction\": 2.452,\n        \"productivity\": 134.801,\n        \"productivity_category\": \"High Productivity\"\n    },\n    {\n        \"employee_satisfaction\": 6.878,\n        \"productivity\": 130.732,\n        \"productivity_category\": \"High Productivity\"\n    },\n    {\n        \"employee_satisfaction\": 3.28,\n        \"productivity\": 106.91,\n        \"productivity_category\": \"Low Productivity\"\n    },\n    {\n        \"employee_satisfaction\": 5.197,\n        \"productivity\": 90.718,\n        \"productivity_category\": \"Low Productivity\"\n    },\n    {\n        \"employee_satisfaction\": 3.2,\n        \"productivity\": 56.917,\n        \"productivity_category\": \"Low Productivity\"\n    },\n    {\n        \"employee_satisfaction\": 2.431,\n        \"productivity\": 119.743,\n        \"productivity_category\": \"High Productivity\"\n    },\n    {\n        \"employee_satisfaction\": 1.993,\n        \"productivity\": 95.354,\n        \"productivity_category\": \"Low Productivity\"\n    },\n    {\n        \"employee_satisfaction\": 6.907,\n        \"productivity\": 122.206,\n        \"productivity_category\": \"High Productivity\"\n    },\n    {\n        \"employee_satisfaction\": 2.244,\n        \"productivity\": 136.638,\n        \"productivity_category\": \"High Productivity\"\n    },\n    {\n        \"employee_satisfaction\": 2.769,\n        \"productivity\": 147.552,\n        \"productivity_category\": \"High Productivity\"\n    },\n    {\n        \"employee_satisfaction\": 4.319,\n        \"productivity\": 135.58,\n        \"productivity_category\": \"High Productivity\"\n    },\n    {\n        \"employee_satisfaction\": 8.389,\n        \"productivity\": 51.171,\n        \"productivity_category\": \"Low Productivity\"\n    },\n    {\n        \"employee_satisfaction\": 1.874,\n        \"productivity\": 85.998,\n        \"productivity_category\": \"Low Productivity\"\n    },\n    {\n        \"employee_satisfaction\": 8.542,\n        \"productivity\": 122.999,\n        \"productivity_category\": \"High Productivity\"\n    },\n    {\n        \"employee_satisfaction\": 1.865,\n        \"productivity\": 67.163,\n        \"productivity_category\": \"Low Productivity\"\n    },\n    {\n        \"employee_satisfaction\": 9.788,\n        \"productivity\": 102.104,\n        \"productivity_category\": \"Low Productivity\"\n    },\n    {\n        \"employee_satisfaction\": 5.218,\n        \"productivity\": 55.434,\n        \"productivity_category\": \"Low Productivity\"\n    },\n    {\n        \"employee_satisfaction\": 9.791,\n        \"productivity\": 70,\n        \"productivity_category\": \"Low Productivity\"\n    },\n    {\n        \"employee_satisfaction\": 6.444,\n        \"productivity\": 51.852,\n        \"productivity_category\": \"Low Productivity\"\n    },\n    {\n        \"employee_satisfaction\": 7.653,\n        \"productivity\": 129.37,\n        \"productivity_category\": \"High Productivity\"\n    },\n    {\n        \"employee_satisfaction\": 1.353,\n        \"productivity\": 72.392,\n        \"productivity_category\": \"Low Productivity\"\n    },\n    {\n        \"employee_satisfaction\": 3.545,\n        \"productivity\": 84.535,\n        \"productivity_category\": \"Low Productivity\"\n    },\n    {\n        \"employee_satisfaction\": 2.082,\n        \"productivity\": 142.808,\n        \"productivity_category\": \"High Productivity\"\n    },\n    {\n        \"employee_satisfaction\": 3.665,\n        \"productivity\": 120.441,\n        \"productivity_category\": \"High Productivity\"\n    },\n    {\n        \"employee_satisfaction\": 2.069,\n        \"productivity\": 53.184,\n        \"productivity_category\": \"Low Productivity\"\n    },\n    {\n        \"employee_satisfaction\": 3.862,\n        \"productivity\": 66.469,\n        \"productivity_category\": \"Low Productivity\"\n    },\n    {\n        \"employee_satisfaction\": 4.728,\n        \"productivity\": 112.148,\n        \"productivity_category\": \"High Productivity\"\n    },\n    {\n        \"employee_satisfaction\": 1.577,\n        \"productivity\": 107.723,\n        \"productivity_category\": \"High Productivity\"\n    },\n    {\n        \"employee_satisfaction\": 7.232,\n        \"productivity\": 73.789,\n        \"productivity_category\": \"Low Productivity\"\n    },\n    {\n        \"employee_satisfaction\": 6.099,\n        \"productivity\": 143.421,\n        \"productivity_category\": \"High Productivity\"\n    },\n    {\n        \"employee_satisfaction\": 3.389,\n        \"productivity\": 111.397,\n        \"productivity_category\": \"High Productivity\"\n    },\n    {\n        \"employee_satisfaction\": 5.709,\n        \"productivity\": 103.563,\n        \"productivity_category\": \"Low Productivity\"\n    },\n    {\n        \"employee_satisfaction\": 1.845,\n        \"productivity\": 108.991,\n        \"productivity_category\": \"High Productivity\"\n    },\n    {\n        \"employee_satisfaction\": 6.184,\n        \"productivity\": 123.012,\n        \"productivity_category\": \"High Productivity\"\n    },\n    {\n        \"employee_satisfaction\": 9.364,\n        \"productivity\": 81.194,\n        \"productivity_category\": \"Low Productivity\"\n    },\n    {\n        \"employee_satisfaction\": 3.867,\n        \"productivity\": 89.822,\n        \"productivity_category\": \"Low Productivity\"\n    },\n    {\n        \"employee_satisfaction\": 7.007,\n        \"productivity\": 70.984,\n        \"productivity_category\": \"Low Productivity\"\n    },\n    {\n        \"employee_satisfaction\": 2.186,\n        \"productivity\": 68.619,\n        \"productivity_category\": \"Low Productivity\"\n    },\n    {\n        \"employee_satisfaction\": 7.447,\n        \"productivity\": 144.437,\n        \"productivity_category\": \"High Productivity\"\n    },\n    {\n        \"employee_satisfaction\": 3.605,\n        \"productivity\": 123.955,\n        \"productivity_category\": \"High Productivity\"\n    },\n    {\n        \"employee_satisfaction\": 2.649,\n        \"productivity\": 99.046,\n        \"productivity_category\": \"Low Productivity\"\n    },\n    {\n        \"employee_satisfaction\": 6.279,\n        \"productivity\": 72.741,\n        \"productivity_category\": \"Low Productivity\"\n    },\n    {\n        \"employee_satisfaction\": 1.181,\n        \"productivity\": 75.436,\n        \"productivity_category\": \"Low Productivity\"\n    },\n    {\n        \"employee_satisfaction\": 8.46,\n        \"productivity\": 55.803,\n        \"productivity_category\": \"Low Productivity\"\n    },\n    {\n        \"employee_satisfaction\": 1.042,\n        \"productivity\": 93.442,\n        \"productivity_category\": \"Low Productivity\"\n    }\n]\n\ndf = pd.DataFrame(data)"
            ]
        },
        {
            "cell_type": "markdown",
            "metadata": {},
            "source": [
                "## **Solution:** "
            ]
        },
        {
            "cell_type": "code",
            "execution_count": null,
            "metadata": [
                {}
            ],
            "source": [
                "import matplotlib.pyplot as plt\n\ncolors = {'High Productivity': 'purple', \"Low Productivity\": \"orange\"}\nplt.figure(figsize=(10,6))\n\nfor category, group in df.groupby('productivity_category'):\n    plt.scatter(group['employee_satisfaction'], group['productivity'], color=colors[category], label=category, alpha=0.7)\n    \nplt.title('Correlation between Employee Satisfaction and Productivity')\nplt.xlabel('Employee Satisfaction (1-10)')\nplt.ylabel('Productivity')\nplt.legend(title='Productivity Category')\nplt.grid(True)\nplt.show()"
            ]
        }
    ],
    "metadata": {
        "kernelspec": {
            "display_name": "Python 3",
            "language": "python",
            "name": "python3"
        },
        "language_info": {
            "codemirror_mode": {
                "name": "ipython",
                "version": 3
            },
            "file_extension": ".py",
            "mimetype": "text/x-python",
            "name": "python",
            "nbconvert_exporter": "python",
            "pygments_lexer": "ipython3",
            "version": "3.11.4"
        }
    },
    "nbformat": 4,
    "nbformat_minor": 2,
    "name_of_the_file": "Satisfaction-productivity correlation.ipynb"
}