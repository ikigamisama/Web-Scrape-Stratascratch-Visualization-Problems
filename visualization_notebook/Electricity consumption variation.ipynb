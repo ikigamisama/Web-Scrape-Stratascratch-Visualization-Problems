{
    "cells": [
        {
            "cell_type": "markdown",
            "metadata": {},
            "source": [
                "### **Link:** https://platform.stratascratch.com/visualizations/10454-electricity-consumption-variation?code_type=2"
            ]
        },
        {
            "cell_type": "markdown",
            "metadata": {},
            "source": [
                "# Electricity consumption variation"
            ]
        },
        {
            "cell_type": "markdown",
            "metadata": {},
            "source": [
                "##### **Difficulty:** Medium"
            ]
        },
        {
            "cell_type": "markdown",
            "metadata": {},
            "source": [
                "##### **ID:** ID 10454"
            ]
        },
        {
            "cell_type": "markdown",
            "metadata": {},
            "source": [
                "##### **Type:** Violin Plot"
            ]
        },
        {
            "cell_type": "markdown",
            "metadata": {},
            "source": [
                "##### **Analysis:** Distribution"
            ]
        },
        {
            "cell_type": "markdown",
            "metadata": {},
            "source": [
                "##### **Data Type:** Numerical Data"
            ]
        },
        {
            "cell_type": "markdown",
            "metadata": {},
            "source": [
                "##### Use a violin plot to analyze the variation in electricity consumption during different times of the year, with 'springgreen' for winter and 'deepskyblue' for summer."
            ]
        },
        {
            "cell_type": "markdown",
            "metadata": {},
            "source": [
                "## **Data:** "
            ]
        },
        {
            "cell_type": "code",
            "execution_count": null,
            "metadata": [
                {}
            ],
            "source": [
                "import pandas as pd \n\ndata = [\n    {\n        \"month\": \"January\",\n        \"electricity_consumption\": 328.744,\n        \"year\": \"2023\",\n        \"season\": \"Winter\"\n    },\n    {\n        \"month\": \"February\",\n        \"electricity_consumption\": 241.854,\n        \"year\": \"2023\",\n        \"season\": \"Winter\"\n    },\n    {\n        \"month\": \"March\",\n        \"electricity_consumption\": 263.205,\n        \"year\": \"2023\",\n        \"season\": \"Spring\"\n    },\n    {\n        \"month\": \"April\",\n        \"electricity_consumption\": 170.888,\n        \"year\": \"2023\",\n        \"season\": \"Spring\"\n    },\n    {\n        \"month\": \"May\",\n        \"electricity_consumption\": 293.9,\n        \"year\": \"2023\",\n        \"season\": \"Spring\"\n    },\n    {\n        \"month\": \"June\",\n        \"electricity_consumption\": 334.814,\n        \"year\": \"2023\",\n        \"season\": \"Summer\"\n    },\n    {\n        \"month\": \"July\",\n        \"electricity_consumption\": 264.031,\n        \"year\": \"2023\",\n        \"season\": \"Summer\"\n    },\n    {\n        \"month\": \"August\",\n        \"electricity_consumption\": 167.287,\n        \"year\": \"2023\",\n        \"season\": \"Summer\"\n    },\n    {\n        \"month\": \"September\",\n        \"electricity_consumption\": 182.409,\n        \"year\": \"2023\",\n        \"season\": \"Fall\"\n    },\n    {\n        \"month\": \"October\",\n        \"electricity_consumption\": 289.51,\n        \"year\": \"2023\",\n        \"season\": \"Fall\"\n    },\n    {\n        \"month\": \"November\",\n        \"electricity_consumption\": 324.748,\n        \"year\": \"2023\",\n        \"season\": \"Fall\"\n    },\n    {\n        \"month\": \"December\",\n        \"electricity_consumption\": 114.009,\n        \"year\": \"2023\",\n        \"season\": \"Winter\"\n    },\n    {\n        \"month\": \"January\",\n        \"electricity_consumption\": 211.488,\n        \"year\": \"2024\",\n        \"season\": \"Winter\"\n    },\n    {\n        \"month\": \"February\",\n        \"electricity_consumption\": 273.024,\n        \"year\": \"2024\",\n        \"season\": \"Winter\"\n    },\n    {\n        \"month\": \"March\",\n        \"electricity_consumption\": 235.708,\n        \"year\": \"2024\",\n        \"season\": \"Spring\"\n    },\n    {\n        \"month\": \"April\",\n        \"electricity_consumption\": 229.022,\n        \"year\": \"2024\",\n        \"season\": \"Spring\"\n    },\n    {\n        \"month\": \"May\",\n        \"electricity_consumption\": 240.826,\n        \"year\": \"2024\",\n        \"season\": \"Spring\"\n    },\n    {\n        \"month\": \"June\",\n        \"electricity_consumption\": 229.828,\n        \"year\": \"2024\",\n        \"season\": \"Summer\"\n    },\n    {\n        \"month\": \"July\",\n        \"electricity_consumption\": 296.83,\n        \"year\": \"2024\",\n        \"season\": \"Summer\"\n    },\n    {\n        \"month\": \"August\",\n        \"electricity_consumption\": 141.453,\n        \"year\": \"2024\",\n        \"season\": \"Summer\"\n    },\n    {\n        \"month\": \"September\",\n        \"electricity_consumption\": 229.96,\n        \"year\": \"2024\",\n        \"season\": \"Fall\"\n    },\n    {\n        \"month\": \"October\",\n        \"electricity_consumption\": 288.894,\n        \"year\": \"2024\",\n        \"season\": \"Fall\"\n    },\n    {\n        \"month\": \"November\",\n        \"electricity_consumption\": 327.083,\n        \"year\": \"2024\",\n        \"season\": \"Fall\"\n    },\n    {\n        \"month\": \"December\",\n        \"electricity_consumption\": 183.923,\n        \"year\": \"2024\",\n        \"season\": \"Winter\"\n    },\n    {\n        \"month\": \"January\",\n        \"electricity_consumption\": 262.422,\n        \"year\": \"2025\",\n        \"season\": \"Winter\"\n    },\n    {\n        \"month\": \"February\",\n        \"electricity_consumption\": 310.438,\n        \"year\": \"2025\",\n        \"season\": \"Winter\"\n    },\n    {\n        \"month\": \"March\",\n        \"electricity_consumption\": 247.621,\n        \"year\": \"2025\",\n        \"season\": \"Spring\"\n    },\n    {\n        \"month\": \"April\",\n        \"electricity_consumption\": 226.123,\n        \"year\": \"2025\",\n        \"season\": \"Spring\"\n    },\n    {\n        \"month\": \"May\",\n        \"electricity_consumption\": 187.476,\n        \"year\": \"2025\",\n        \"season\": \"Spring\"\n    },\n    {\n        \"month\": \"June\",\n        \"electricity_consumption\": 287.719,\n        \"year\": \"2025\",\n        \"season\": \"Summer\"\n    },\n    {\n        \"month\": \"July\",\n        \"electricity_consumption\": 248.768,\n        \"year\": \"2025\",\n        \"season\": \"Summer\"\n    },\n    {\n        \"month\": \"August\",\n        \"electricity_consumption\": 326.097,\n        \"year\": \"2025\",\n        \"season\": \"Summer\"\n    },\n    {\n        \"month\": \"September\",\n        \"electricity_consumption\": 200.848,\n        \"year\": \"2025\",\n        \"season\": \"Fall\"\n    },\n    {\n        \"month\": \"October\",\n        \"electricity_consumption\": 180.402,\n        \"year\": \"2025\",\n        \"season\": \"Fall\"\n    },\n    {\n        \"month\": \"November\",\n        \"electricity_consumption\": 268.902,\n        \"year\": \"2025\",\n        \"season\": \"Fall\"\n    },\n    {\n        \"month\": \"December\",\n        \"electricity_consumption\": 193.289,\n        \"year\": \"2025\",\n        \"season\": \"Winter\"\n    }\n]\n\ndf = pd.DataFrame(data)"
            ]
        },
        {
            "cell_type": "markdown",
            "metadata": {},
            "source": [
                "## **Solution:** "
            ]
        },
        {
            "cell_type": "code",
            "execution_count": null,
            "metadata": [
                {}
            ],
            "source": [
                "import seaborn as sns\nimport matplotlib.pyplot as plt\n\n\nplt.figure(figsize=(10, 6))\nsns.set(style=\"whitegrid\")\n\npalette = {'Winter': 'springgreen', 'Summer': 'deepskyblue'}\n\nseason_data = df[df['season'].isin(['Winter', 'Summer'])]\n\nax = sns.violinplot(x='month', y='electricity_consumption', hue='season',\n                    data=season_data, palette=palette, split=True)\n\n# Customize the plot\nplt.title('Electricity Consumption Variation by Season')\nplt.xlabel('Month')\nplt.ylabel('Electricity Consumption (kWh)')\nplt.legend(title='Season')\n\n# Show the plot\nplt.show()"
            ]
        }
    ],
    "metadata": {
        "kernelspec": {
            "display_name": "Python 3",
            "language": "python",
            "name": "python3"
        },
        "language_info": {
            "codemirror_mode": {
                "name": "ipython",
                "version": 3
            },
            "file_extension": ".py",
            "mimetype": "text/x-python",
            "name": "python",
            "nbconvert_exporter": "python",
            "pygments_lexer": "ipython3",
            "version": "3.11.4"
        }
    },
    "nbformat": 4,
    "nbformat_minor": 2,
    "name_of_the_file": "Electricity consumption variation.ipynb"
}