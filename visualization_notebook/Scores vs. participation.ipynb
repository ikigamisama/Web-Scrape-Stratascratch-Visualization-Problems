{
    "cells": [
        {
            "cell_type": "markdown",
            "metadata": {},
            "source": [
                "### **Link:** https://platform.stratascratch.com/visualizations/10522-scores-vs-participation?code_type=2"
            ]
        },
        {
            "cell_type": "markdown",
            "metadata": {},
            "source": [
                "# Scores vs. participation"
            ]
        },
        {
            "cell_type": "markdown",
            "metadata": {},
            "source": [
                "##### **Difficulty:** Medium"
            ]
        },
        {
            "cell_type": "markdown",
            "metadata": {},
            "source": [
                "##### **ID:** ID 10522"
            ]
        },
        {
            "cell_type": "markdown",
            "metadata": {},
            "source": [
                "##### **Type:** Scatter Plot"
            ]
        },
        {
            "cell_type": "markdown",
            "metadata": {},
            "source": [
                "##### **Analysis:** Relationships"
            ]
        },
        {
            "cell_type": "markdown",
            "metadata": {},
            "source": [
                "##### **Data Type:** Numerical Data"
            ]
        },
        {
            "cell_type": "markdown",
            "metadata": {},
            "source": [
                "##### Develop a scatter plot to examine the relationship between academic scores and extracurricular participation among students, using 'blue' for participants and 'red' for non-participants."
            ]
        },
        {
            "cell_type": "markdown",
            "metadata": {},
            "source": [
                "## **Data:** "
            ]
        },
        {
            "cell_type": "code",
            "execution_count": null,
            "metadata": [
                {}
            ],
            "source": [
                "import pandas as pd \n\ndata = [\n    {\n        \"academic_score\": 94,\n        \"extracurricular_participation\": \"FALSE\",\n        \"participation_label\": \"Non-Participant\"\n    },\n    {\n        \"academic_score\": 97,\n        \"extracurricular_participation\": \"FALSE\",\n        \"participation_label\": \"Non-Participant\"\n    },\n    {\n        \"academic_score\": 50,\n        \"extracurricular_participation\": \"FALSE\",\n        \"participation_label\": \"Non-Participant\"\n    },\n    {\n        \"academic_score\": 53,\n        \"extracurricular_participation\": \"TRUE\",\n        \"participation_label\": \"Participant\"\n    },\n    {\n        \"academic_score\": 53,\n        \"extracurricular_participation\": \"FALSE\",\n        \"participation_label\": \"Non-Participant\"\n    },\n    {\n        \"academic_score\": 89,\n        \"extracurricular_participation\": \"FALSE\",\n        \"participation_label\": \"Non-Participant\"\n    },\n    {\n        \"academic_score\": 59,\n        \"extracurricular_participation\": \"TRUE\",\n        \"participation_label\": \"Participant\"\n    },\n    {\n        \"academic_score\": 69,\n        \"extracurricular_participation\": \"TRUE\",\n        \"participation_label\": \"Participant\"\n    },\n    {\n        \"academic_score\": 71,\n        \"extracurricular_participation\": \"FALSE\",\n        \"participation_label\": \"Non-Participant\"\n    },\n    {\n        \"academic_score\": 86,\n        \"extracurricular_participation\": \"TRUE\",\n        \"participation_label\": \"Participant\"\n    },\n    {\n        \"academic_score\": 73,\n        \"extracurricular_participation\": \"TRUE\",\n        \"participation_label\": \"Participant\"\n    },\n    {\n        \"academic_score\": 56,\n        \"extracurricular_participation\": \"TRUE\",\n        \"participation_label\": \"Participant\"\n    },\n    {\n        \"academic_score\": 74,\n        \"extracurricular_participation\": \"TRUE\",\n        \"participation_label\": \"Participant\"\n    },\n    {\n        \"academic_score\": 74,\n        \"extracurricular_participation\": \"FALSE\",\n        \"participation_label\": \"Non-Participant\"\n    },\n    {\n        \"academic_score\": 62,\n        \"extracurricular_participation\": \"FALSE\",\n        \"participation_label\": \"Non-Participant\"\n    },\n    {\n        \"academic_score\": 51,\n        \"extracurricular_participation\": \"TRUE\",\n        \"participation_label\": \"Participant\"\n    },\n    {\n        \"academic_score\": 88,\n        \"extracurricular_participation\": \"TRUE\",\n        \"participation_label\": \"Participant\"\n    },\n    {\n        \"academic_score\": 89,\n        \"extracurricular_participation\": \"FALSE\",\n        \"participation_label\": \"Non-Participant\"\n    },\n    {\n        \"academic_score\": 73,\n        \"extracurricular_participation\": \"TRUE\",\n        \"participation_label\": \"Participant\"\n    },\n    {\n        \"academic_score\": 96,\n        \"extracurricular_participation\": \"FALSE\",\n        \"participation_label\": \"Non-Participant\"\n    },\n    {\n        \"academic_score\": 74,\n        \"extracurricular_participation\": \"FALSE\",\n        \"participation_label\": \"Non-Participant\"\n    },\n    {\n        \"academic_score\": 67,\n        \"extracurricular_participation\": \"FALSE\",\n        \"participation_label\": \"Non-Participant\"\n    },\n    {\n        \"academic_score\": 87,\n        \"extracurricular_participation\": \"FALSE\",\n        \"participation_label\": \"Non-Participant\"\n    },\n    {\n        \"academic_score\": 75,\n        \"extracurricular_participation\": \"TRUE\",\n        \"participation_label\": \"Participant\"\n    },\n    {\n        \"academic_score\": 63,\n        \"extracurricular_participation\": \"TRUE\",\n        \"participation_label\": \"Participant\"\n    },\n    {\n        \"academic_score\": 58,\n        \"extracurricular_participation\": \"TRUE\",\n        \"participation_label\": \"Participant\"\n    },\n    {\n        \"academic_score\": 59,\n        \"extracurricular_participation\": \"FALSE\",\n        \"participation_label\": \"Non-Participant\"\n    },\n    {\n        \"academic_score\": 70,\n        \"extracurricular_participation\": \"TRUE\",\n        \"participation_label\": \"Participant\"\n    },\n    {\n        \"academic_score\": 66,\n        \"extracurricular_participation\": \"FALSE\",\n        \"participation_label\": \"Non-Participant\"\n    },\n    {\n        \"academic_score\": 55,\n        \"extracurricular_participation\": \"FALSE\",\n        \"participation_label\": \"Non-Participant\"\n    },\n    {\n        \"academic_score\": 65,\n        \"extracurricular_participation\": \"FALSE\",\n        \"participation_label\": \"Non-Participant\"\n    },\n    {\n        \"academic_score\": 97,\n        \"extracurricular_participation\": \"TRUE\",\n        \"participation_label\": \"Participant\"\n    },\n    {\n        \"academic_score\": 50,\n        \"extracurricular_participation\": \"FALSE\",\n        \"participation_label\": \"Non-Participant\"\n    },\n    {\n        \"academic_score\": 68,\n        \"extracurricular_participation\": \"TRUE\",\n        \"participation_label\": \"Participant\"\n    },\n    {\n        \"academic_score\": 85,\n        \"extracurricular_participation\": \"TRUE\",\n        \"participation_label\": \"Participant\"\n    },\n    {\n        \"academic_score\": 74,\n        \"extracurricular_participation\": \"FALSE\",\n        \"participation_label\": \"Non-Participant\"\n    },\n    {\n        \"academic_score\": 99,\n        \"extracurricular_participation\": \"TRUE\",\n        \"participation_label\": \"Participant\"\n    },\n    {\n        \"academic_score\": 79,\n        \"extracurricular_participation\": \"FALSE\",\n        \"participation_label\": \"Non-Participant\"\n    },\n    {\n        \"academic_score\": 69,\n        \"extracurricular_participation\": \"FALSE\",\n        \"participation_label\": \"Non-Participant\"\n    },\n    {\n        \"academic_score\": 69,\n        \"extracurricular_participation\": \"TRUE\",\n        \"participation_label\": \"Participant\"\n    },\n    {\n        \"academic_score\": 64,\n        \"extracurricular_participation\": \"TRUE\",\n        \"participation_label\": \"Participant\"\n    },\n    {\n        \"academic_score\": 89,\n        \"extracurricular_participation\": \"FALSE\",\n        \"participation_label\": \"Non-Participant\"\n    },\n    {\n        \"academic_score\": 82,\n        \"extracurricular_participation\": \"TRUE\",\n        \"participation_label\": \"Participant\"\n    },\n    {\n        \"academic_score\": 51,\n        \"extracurricular_participation\": \"FALSE\",\n        \"participation_label\": \"Non-Participant\"\n    },\n    {\n        \"academic_score\": 59,\n        \"extracurricular_participation\": \"TRUE\",\n        \"participation_label\": \"Participant\"\n    },\n    {\n        \"academic_score\": 82,\n        \"extracurricular_participation\": \"FALSE\",\n        \"participation_label\": \"Non-Participant\"\n    },\n    {\n        \"academic_score\": 81,\n        \"extracurricular_participation\": \"TRUE\",\n        \"participation_label\": \"Participant\"\n    },\n    {\n        \"academic_score\": 60,\n        \"extracurricular_participation\": \"FALSE\",\n        \"participation_label\": \"Non-Participant\"\n    },\n    {\n        \"academic_score\": 73,\n        \"extracurricular_participation\": \"TRUE\",\n        \"participation_label\": \"Participant\"\n    },\n    {\n        \"academic_score\": 85,\n        \"extracurricular_participation\": \"FALSE\",\n        \"participation_label\": \"Non-Participant\"\n    },\n    {\n        \"academic_score\": 61,\n        \"extracurricular_participation\": \"TRUE\",\n        \"participation_label\": \"Participant\"\n    },\n    {\n        \"academic_score\": 78,\n        \"extracurricular_participation\": \"TRUE\",\n        \"participation_label\": \"Participant\"\n    },\n    {\n        \"academic_score\": 84,\n        \"extracurricular_participation\": \"TRUE\",\n        \"participation_label\": \"Participant\"\n    },\n    {\n        \"academic_score\": 50,\n        \"extracurricular_participation\": \"FALSE\",\n        \"participation_label\": \"Non-Participant\"\n    },\n    {\n        \"academic_score\": 50,\n        \"extracurricular_participation\": \"TRUE\",\n        \"participation_label\": \"Participant\"\n    },\n    {\n        \"academic_score\": 86,\n        \"extracurricular_participation\": \"FALSE\",\n        \"participation_label\": \"Non-Participant\"\n    },\n    {\n        \"academic_score\": 55,\n        \"extracurricular_participation\": \"TRUE\",\n        \"participation_label\": \"Participant\"\n    },\n    {\n        \"academic_score\": 88,\n        \"extracurricular_participation\": \"FALSE\",\n        \"participation_label\": \"Non-Participant\"\n    },\n    {\n        \"academic_score\": 90,\n        \"extracurricular_participation\": \"TRUE\",\n        \"participation_label\": \"Participant\"\n    },\n    {\n        \"academic_score\": 67,\n        \"extracurricular_participation\": \"TRUE\",\n        \"participation_label\": \"Participant\"\n    },\n    {\n        \"academic_score\": 65,\n        \"extracurricular_participation\": \"TRUE\",\n        \"participation_label\": \"Participant\"\n    },\n    {\n        \"academic_score\": 54,\n        \"extracurricular_participation\": \"TRUE\",\n        \"participation_label\": \"Participant\"\n    },\n    {\n        \"academic_score\": 91,\n        \"extracurricular_participation\": \"TRUE\",\n        \"participation_label\": \"Participant\"\n    },\n    {\n        \"academic_score\": 92,\n        \"extracurricular_participation\": \"FALSE\",\n        \"participation_label\": \"Non-Participant\"\n    },\n    {\n        \"academic_score\": 81,\n        \"extracurricular_participation\": \"TRUE\",\n        \"participation_label\": \"Participant\"\n    },\n    {\n        \"academic_score\": 51,\n        \"extracurricular_participation\": \"TRUE\",\n        \"participation_label\": \"Participant\"\n    },\n    {\n        \"academic_score\": 51,\n        \"extracurricular_participation\": \"FALSE\",\n        \"participation_label\": \"Non-Participant\"\n    },\n    {\n        \"academic_score\": 89,\n        \"extracurricular_participation\": \"TRUE\",\n        \"participation_label\": \"Participant\"\n    },\n    {\n        \"academic_score\": 91,\n        \"extracurricular_participation\": \"TRUE\",\n        \"participation_label\": \"Participant\"\n    },\n    {\n        \"academic_score\": 85,\n        \"extracurricular_participation\": \"TRUE\",\n        \"participation_label\": \"Participant\"\n    },\n    {\n        \"academic_score\": 88,\n        \"extracurricular_participation\": \"FALSE\",\n        \"participation_label\": \"Non-Participant\"\n    },\n    {\n        \"academic_score\": 61,\n        \"extracurricular_participation\": \"TRUE\",\n        \"participation_label\": \"Participant\"\n    },\n    {\n        \"academic_score\": 96,\n        \"extracurricular_participation\": \"TRUE\",\n        \"participation_label\": \"Participant\"\n    },\n    {\n        \"academic_score\": 68,\n        \"extracurricular_participation\": \"FALSE\",\n        \"participation_label\": \"Non-Participant\"\n    },\n    {\n        \"academic_score\": 77,\n        \"extracurricular_participation\": \"TRUE\",\n        \"participation_label\": \"Participant\"\n    },\n    {\n        \"academic_score\": 50,\n        \"extracurricular_participation\": \"FALSE\",\n        \"participation_label\": \"Non-Participant\"\n    },\n    {\n        \"academic_score\": 64,\n        \"extracurricular_participation\": \"TRUE\",\n        \"participation_label\": \"Participant\"\n    },\n    {\n        \"academic_score\": 85,\n        \"extracurricular_participation\": \"TRUE\",\n        \"participation_label\": \"Participant\"\n    },\n    {\n        \"academic_score\": 62,\n        \"extracurricular_participation\": \"FALSE\",\n        \"participation_label\": \"Non-Participant\"\n    },\n    {\n        \"academic_score\": 92,\n        \"extracurricular_participation\": \"FALSE\",\n        \"participation_label\": \"Non-Participant\"\n    },\n    {\n        \"academic_score\": 70,\n        \"extracurricular_participation\": \"TRUE\",\n        \"participation_label\": \"Participant\"\n    },\n    {\n        \"academic_score\": 61,\n        \"extracurricular_participation\": \"TRUE\",\n        \"participation_label\": \"Participant\"\n    },\n    {\n        \"academic_score\": 54,\n        \"extracurricular_participation\": \"TRUE\",\n        \"participation_label\": \"Participant\"\n    },\n    {\n        \"academic_score\": 56,\n        \"extracurricular_participation\": \"FALSE\",\n        \"participation_label\": \"Non-Participant\"\n    },\n    {\n        \"academic_score\": 54,\n        \"extracurricular_participation\": \"FALSE\",\n        \"participation_label\": \"Non-Participant\"\n    },\n    {\n        \"academic_score\": 97,\n        \"extracurricular_participation\": \"TRUE\",\n        \"participation_label\": \"Participant\"\n    },\n    {\n        \"academic_score\": 53,\n        \"extracurricular_participation\": \"TRUE\",\n        \"participation_label\": \"Participant\"\n    },\n    {\n        \"academic_score\": 62,\n        \"extracurricular_participation\": \"TRUE\",\n        \"participation_label\": \"Participant\"\n    },\n    {\n        \"academic_score\": 86,\n        \"extracurricular_participation\": \"TRUE\",\n        \"participation_label\": \"Participant\"\n    },\n    {\n        \"academic_score\": 90,\n        \"extracurricular_participation\": \"TRUE\",\n        \"participation_label\": \"Participant\"\n    },\n    {\n        \"academic_score\": 64,\n        \"extracurricular_participation\": \"FALSE\",\n        \"participation_label\": \"Non-Participant\"\n    },\n    {\n        \"academic_score\": 65,\n        \"extracurricular_participation\": \"TRUE\",\n        \"participation_label\": \"Participant\"\n    },\n    {\n        \"academic_score\": 70,\n        \"extracurricular_participation\": \"FALSE\",\n        \"participation_label\": \"Non-Participant\"\n    },\n    {\n        \"academic_score\": 85,\n        \"extracurricular_participation\": \"TRUE\",\n        \"participation_label\": \"Participant\"\n    },\n    {\n        \"academic_score\": 73,\n        \"extracurricular_participation\": \"TRUE\",\n        \"participation_label\": \"Participant\"\n    },\n    {\n        \"academic_score\": 65,\n        \"extracurricular_participation\": \"TRUE\",\n        \"participation_label\": \"Participant\"\n    },\n    {\n        \"academic_score\": 63,\n        \"extracurricular_participation\": \"FALSE\",\n        \"participation_label\": \"Non-Participant\"\n    },\n    {\n        \"academic_score\": 71,\n        \"extracurricular_participation\": \"FALSE\",\n        \"participation_label\": \"Non-Participant\"\n    },\n    {\n        \"academic_score\": 98,\n        \"extracurricular_participation\": \"FALSE\",\n        \"participation_label\": \"Non-Participant\"\n    },\n    {\n        \"academic_score\": 99,\n        \"extracurricular_participation\": \"TRUE\",\n        \"participation_label\": \"Participant\"\n    }\n]\n\ndf = pd.DataFrame(data)"
            ]
        },
        {
            "cell_type": "markdown",
            "metadata": {},
            "source": [
                "## **Solution:** "
            ]
        },
        {
            "cell_type": "code",
            "execution_count": null,
            "metadata": [
                {}
            ],
            "source": [
                "import matplotlib.pyplot as plt\n\ncolors = {'Participant': 'blue', 'Non-Participant': 'red'}\nplt.figure(figsize=(10,6))\n\nfor label, group in df.groupby('participation_label'):\n    plt.scatter(group['academic_score'], group.index, color=colors[label], label=label)\n\nplt.title('Relationship between Academic Scores and Extracurricular Participation')\nplt.xlabel('Academic Score')\nplt.ylabel('Student Index')\nplt.legend(title='Participation')\nplt.grid(True)\nplt.show()"
            ]
        }
    ],
    "metadata": {
        "kernelspec": {
            "display_name": "Python 3",
            "language": "python",
            "name": "python3"
        },
        "language_info": {
            "codemirror_mode": {
                "name": "ipython",
                "version": 3
            },
            "file_extension": ".py",
            "mimetype": "text/x-python",
            "name": "python",
            "nbconvert_exporter": "python",
            "pygments_lexer": "ipython3",
            "version": "3.11.4"
        }
    },
    "nbformat": 4,
    "nbformat_minor": 2,
    "name_of_the_file": "Scores vs. participation.ipynb"
}