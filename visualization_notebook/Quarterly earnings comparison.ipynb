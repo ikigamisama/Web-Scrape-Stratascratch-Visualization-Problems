{
    "cells": [
        {
            "cell_type": "markdown",
            "metadata": {},
            "source": [
                "### **Link:** https://platform.stratascratch.com/visualizations/10499-quarterly-earnings-comparison?code_type=2"
            ]
        },
        {
            "cell_type": "markdown",
            "metadata": {},
            "source": [
                "# Quarterly earnings comparison"
            ]
        },
        {
            "cell_type": "markdown",
            "metadata": {},
            "source": [
                "##### **Difficulty:** Medium"
            ]
        },
        {
            "cell_type": "markdown",
            "metadata": {},
            "source": [
                "##### **ID:** ID 10499"
            ]
        },
        {
            "cell_type": "markdown",
            "metadata": {},
            "source": [
                "##### **Type:** Stacked Column Chart"
            ]
        },
        {
            "cell_type": "markdown",
            "metadata": {},
            "source": [
                "##### **Analysis:** Comparison"
            ]
        },
        {
            "cell_type": "markdown",
            "metadata": {},
            "source": [
                "##### **Data Type:** Time Series Data & Categorical Data"
            ]
        },
        {
            "cell_type": "markdown",
            "metadata": {},
            "source": [
                "##### Design a stacked column chart to compare the quarterly earnings of four major tech companies, using 'lavenderblush' for Company A, 'lemonchiffon' for Company B, 'palegreen' for Company C, and 'papayawhip' for Company D."
            ]
        },
        {
            "cell_type": "markdown",
            "metadata": {},
            "source": [
                "## **Data:** "
            ]
        },
        {
            "cell_type": "code",
            "execution_count": null,
            "metadata": [
                {}
            ],
            "source": [
                "import pandas as pd \n\ndata = [\n    {\n        \"company_a\": \"3195.254\",\n        \"company_b\": \"2694.619\",\n        \"company_c\": \"4854.651\",\n        \"company_d\": \"3272.178\"\n    },\n    {\n        \"company_a\": \"3860.757\",\n        \"company_b\": \"3583.576\",\n        \"company_c\": \"2533.766\",\n        \"company_d\": \"4702.387\"\n    },\n    {\n        \"company_a\": \"3411.054\",\n        \"company_b\": \"2750.349\",\n        \"company_c\": \"4166.9\",\n        \"company_d\": \"1284.144\"\n    },\n    {\n        \"company_a\": \"3179.533\",\n        \"company_b\": \"4567.092\",\n        \"company_c\": \"3115.58\",\n        \"company_d\": \"1348.517\"\n    }\n]\n\ndf = pd.DataFrame(data)"
            ]
        },
        {
            "cell_type": "markdown",
            "metadata": {},
            "source": [
                "## **Solution:** "
            ]
        },
        {
            "cell_type": "code",
            "execution_count": null,
            "metadata": [
                {}
            ],
            "source": [
                "import matplotlib.pyplot as plt\nimport plotly.express as px\n\ncolors = {'company_a': 'lavenderblush', 'company_b': 'lemonchiffon', 'company_c': 'palegreen', 'company_d': 'papayawhip'}\n\ndf.plot(kind=\"bar\", stacked=True, color=[colors[col] for col in df.columns], figsize=(12, 8))\nplt.title('Quarterly Earnings of Major Tech Companies')\nplt.xlabel('Quarter')\nplt.ylabel('Earnings ($ Millons)')\nplt.legend(title='Product Line')\nplt.grid(axis='y')\nplt.xticks(rotation=45)\nplt.show()"
            ]
        }
    ],
    "metadata": {
        "kernelspec": {
            "display_name": "Python 3",
            "language": "python",
            "name": "python3"
        },
        "language_info": {
            "codemirror_mode": {
                "name": "ipython",
                "version": 3
            },
            "file_extension": ".py",
            "mimetype": "text/x-python",
            "name": "python",
            "nbconvert_exporter": "python",
            "pygments_lexer": "ipython3",
            "version": "3.11.4"
        }
    },
    "nbformat": 4,
    "nbformat_minor": 2,
    "name_of_the_file": "Quarterly earnings comparison.ipynb"
}