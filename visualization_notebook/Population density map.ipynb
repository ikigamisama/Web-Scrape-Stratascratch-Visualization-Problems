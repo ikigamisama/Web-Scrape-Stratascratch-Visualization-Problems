{
    "cells": [
        {
            "cell_type": "markdown",
            "metadata": {},
            "source": [
                "### **Link:** https://platform.stratascratch.com/visualizations/10453-population-density-map?code_type=2"
            ]
        },
        {
            "cell_type": "markdown",
            "metadata": {},
            "source": [
                "# Population density map"
            ]
        },
        {
            "cell_type": "markdown",
            "metadata": {},
            "source": [
                "##### **Difficulty:** Medium"
            ]
        },
        {
            "cell_type": "markdown",
            "metadata": {},
            "source": [
                "##### **ID:** ID 10453"
            ]
        },
        {
            "cell_type": "markdown",
            "metadata": {},
            "source": [
                "##### **Type:** Choropleth Map"
            ]
        },
        {
            "cell_type": "markdown",
            "metadata": {},
            "source": [
                "##### **Analysis:** Distribution"
            ]
        },
        {
            "cell_type": "markdown",
            "metadata": {},
            "source": [
                "##### **Data Type:** Spatial Data"
            ]
        },
        {
            "cell_type": "markdown",
            "metadata": {},
            "source": [
                "##### Construct a choropleth map to visualize the population density in different states of a country, using a gradient from 'lightyellow' to 'darkgreen' based on density levels."
            ]
        },
        {
            "cell_type": "markdown",
            "metadata": {},
            "source": [
                "## **Data:** "
            ]
        },
        {
            "cell_type": "code",
            "execution_count": null,
            "metadata": [
                {}
            ],
            "source": [
                "import pandas as pd \n\ndata = [\n    {\n        \"state\": \"CA\",\n        \"population_density\": \"251.4\",\n        \"state_name\": \"California\"\n    },\n    {\n        \"state\": \"TX\",\n        \"population_density\": \"108.3\",\n        \"state_name\": \"Texas\"\n    },\n    {\n        \"state\": \"NY\",\n        \"population_density\": \"412.3\",\n        \"state_name\": \"New York\"\n    },\n    {\n        \"state\": \"FL\",\n        \"population_density\": \"384.3\",\n        \"state_name\": \"Florida\"\n    },\n    {\n        \"state\": \"IL\",\n        \"population_density\": \"231.1\",\n        \"state_name\": \"Illinois\"\n    }\n]\n\ndf = pd.DataFrame(data)"
            ]
        },
        {
            "cell_type": "markdown",
            "metadata": {},
            "source": [
                "## **Solution:** "
            ]
        },
        {
            "cell_type": "code",
            "execution_count": null,
            "metadata": [
                {}
            ],
            "source": [
                "import geopandas as gpd\nimport matplotlib.pyplot as plt\nfrom mpl_toolkits.axes_grid1 import make_axes_locatable\n\n\nusa = gpd.read_file(gpd.datasets.get_path('naturalearth_lowres'))\nusa = usa[usa['iso_a3'] == 'USA']\n\nmerged = usa.set_index('name').join(df.set_exe_index('state_name'))\nfig, ax = plt.subplots(1, 1, figsize=(15, 10))\ndivider = make_axes_locatable(ax)\ncax = divider.append_axes(\"right\", size=\"5%\", pad=0.1)\n\n\nmerged.plot(column='population_density', ax=ax, legend=True, cax=cax,\n            legend_kwds={'label': \"Population Density (per square mile)\"},\n            cmap='YlGn',  # Yellow to Green color map\n            missing_kwds={\n                \"color\": \"lightgrey\",  # Fills missing values color\n                \"edgecolor\": \"red\",\n                \"hatch\": \"///\",\n                \"label\": \"Missing values\"})\n\nax.set_title('Population Density by State', fontsize=15)\nax.axis('off')  # Turn off the axis\n\nplt.show()"
            ]
        }
    ],
    "metadata": {
        "kernelspec": {
            "display_name": "Python 3",
            "language": "python",
            "name": "python3"
        },
        "language_info": {
            "codemirror_mode": {
                "name": "ipython",
                "version": 3
            },
            "file_extension": ".py",
            "mimetype": "text/x-python",
            "name": "python",
            "nbconvert_exporter": "python",
            "pygments_lexer": "ipython3",
            "version": "3.11.4"
        }
    },
    "nbformat": 4,
    "nbformat_minor": 2,
    "name_of_the_file": "Population density map.ipynb"
}