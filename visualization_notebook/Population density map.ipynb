{
    "cells": [
        {
            "cell_type": "markdown",
            "metadata": {},
            "source": [
                "### **Link:** https://platform.stratascratch.com/visualizations/10453-population-density-map?code_type=2"
            ]
        },
        {
            "cell_type": "markdown",
            "metadata": {},
            "source": [
                "# Population density map"
            ]
        },
        {
            "cell_type": "markdown",
            "metadata": {},
            "source": [
                "##### **Difficulty:** Medium"
            ]
        },
        {
            "cell_type": "markdown",
            "metadata": {},
            "source": [
                "##### **ID:** ID 10453"
            ]
        },
        {
            "cell_type": "markdown",
            "metadata": {},
            "source": [
                "##### **Type:** Choropleth Map"
            ]
        },
        {
            "cell_type": "markdown",
            "metadata": {},
            "source": [
                "##### **Analysis:** Distribution"
            ]
        },
        {
            "cell_type": "markdown",
            "metadata": {},
            "source": [
                "##### **Data Type:** Spatial Data"
            ]
        },
        {
            "cell_type": "markdown",
            "metadata": {},
            "source": [
                "##### Construct a choropleth map to visualize the population density in different states of a country, using a gradient from 'lightyellow' to 'darkgreen' based on density levels."
            ]
        },
        {
            "cell_type": "markdown",
            "metadata": {},
            "source": [
                "## **Data:** "
            ]
        },
        {
            "cell_type": "code",
            "execution_count": 1,
            "metadata": [
                {}
            ],
            "outputs": [],
            "source": [
                "import pandas as pd \n",
                "\n",
                "data = [\n",
                "    {\n",
                "        \"state\": \"CA\",\n",
                "        \"population_density\": 251.4,\n",
                "        \"state_name\": \"California\"\n",
                "    },\n",
                "    {\n",
                "        \"state\": \"TX\",\n",
                "        \"population_density\": 108.3,\n",
                "        \"state_name\": \"Texas\"\n",
                "    },\n",
                "    {\n",
                "        \"state\": \"NY\",\n",
                "        \"population_density\": 412.3,\n",
                "        \"state_name\": \"New York\"\n",
                "    },\n",
                "    {\n",
                "        \"state\": \"FL\",\n",
                "        \"population_density\": 384.3,\n",
                "        \"state_name\": \"Florida\"\n",
                "    },\n",
                "    {\n",
                "        \"state\": \"IL\",\n",
                "        \"population_density\": 231.1,\n",
                "        \"state_name\": \"Illinois\"\n",
                "    }\n",
                "]\n",
                "\n",
                "df = pd.DataFrame(data)"
            ]
        },
        {
            "cell_type": "markdown",
            "metadata": {},
            "source": [
                "## **Solution:** "
            ]
        },
        {
            "cell_type": "code",
            "execution_count": 3,
            "metadata": [
                {}
            ],
            "outputs": [
                {
                    "ename": "AttributeError",
                    "evalue": "The geopandas.dataset has been deprecated and was removed in GeoPandas 1.0. You can get the original 'naturalearth_lowres' data from https://www.naturalearthdata.com/downloads/110m-cultural-vectors/.",
                    "output_type": "error",
                    "traceback": [
                        "\u001b[1;31m---------------------------------------------------------------------------\u001b[0m",
                        "\u001b[1;31mAttributeError\u001b[0m                            Traceback (most recent call last)",
                        "Cell \u001b[1;32mIn[3], line 6\u001b[0m\n\u001b[0;32m      2\u001b[0m \u001b[38;5;28;01mimport\u001b[39;00m \u001b[38;5;21;01mmatplotlib\u001b[39;00m\u001b[38;5;21;01m.\u001b[39;00m\u001b[38;5;21;01mpyplot\u001b[39;00m \u001b[38;5;28;01mas\u001b[39;00m \u001b[38;5;21;01mplt\u001b[39;00m\n\u001b[0;32m      3\u001b[0m \u001b[38;5;28;01mfrom\u001b[39;00m \u001b[38;5;21;01mmpl_toolkits\u001b[39;00m\u001b[38;5;21;01m.\u001b[39;00m\u001b[38;5;21;01maxes_grid1\u001b[39;00m \u001b[38;5;28;01mimport\u001b[39;00m make_axes_locatable\n\u001b[1;32m----> 6\u001b[0m usa \u001b[38;5;241m=\u001b[39m gpd\u001b[38;5;241m.\u001b[39mread_file(\u001b[43mgpd\u001b[49m\u001b[38;5;241;43m.\u001b[39;49m\u001b[43mdatasets\u001b[49m\u001b[38;5;241;43m.\u001b[39;49m\u001b[43mget_path\u001b[49m\u001b[43m(\u001b[49m\u001b[38;5;124;43m'\u001b[39;49m\u001b[38;5;124;43mnaturalearth_lowres\u001b[39;49m\u001b[38;5;124;43m'\u001b[39;49m\u001b[43m)\u001b[49m)\n\u001b[0;32m      7\u001b[0m usa \u001b[38;5;241m=\u001b[39m usa[usa[\u001b[38;5;124m'\u001b[39m\u001b[38;5;124miso_a3\u001b[39m\u001b[38;5;124m'\u001b[39m] \u001b[38;5;241m==\u001b[39m \u001b[38;5;124m'\u001b[39m\u001b[38;5;124mUSA\u001b[39m\u001b[38;5;124m'\u001b[39m]\n\u001b[0;32m      9\u001b[0m merged \u001b[38;5;241m=\u001b[39m usa\u001b[38;5;241m.\u001b[39mset_index(\u001b[38;5;124m'\u001b[39m\u001b[38;5;124mname\u001b[39m\u001b[38;5;124m'\u001b[39m)\u001b[38;5;241m.\u001b[39mjoin(df\u001b[38;5;241m.\u001b[39mset_exe_index(\u001b[38;5;124m'\u001b[39m\u001b[38;5;124mstate_name\u001b[39m\u001b[38;5;124m'\u001b[39m))\n",
                        "File \u001b[1;32mc:\\Users\\ikiga\\AppData\\Local\\Programs\\Python\\Python311\\Lib\\site-packages\\geopandas\\datasets\\__init__.py:18\u001b[0m, in \u001b[0;36mget_path\u001b[1;34m(dataset)\u001b[0m\n\u001b[0;32m     12\u001b[0m error_msg \u001b[38;5;241m=\u001b[39m (\n\u001b[0;32m     13\u001b[0m     \u001b[38;5;124m\"\u001b[39m\u001b[38;5;124mThe geopandas.dataset has been deprecated and was removed in GeoPandas \u001b[39m\u001b[38;5;124m\"\u001b[39m\n\u001b[0;32m     14\u001b[0m     \u001b[38;5;124mf\u001b[39m\u001b[38;5;124m\"\u001b[39m\u001b[38;5;124m1.0. You can get the original \u001b[39m\u001b[38;5;124m'\u001b[39m\u001b[38;5;132;01m{\u001b[39;00mdataset\u001b[38;5;132;01m}\u001b[39;00m\u001b[38;5;124m'\u001b[39m\u001b[38;5;124m data from \u001b[39m\u001b[38;5;124m\"\u001b[39m\n\u001b[0;32m     15\u001b[0m     \u001b[38;5;124mf\u001b[39m\u001b[38;5;124m\"\u001b[39m\u001b[38;5;132;01m{\u001b[39;00mne_message\u001b[38;5;250m \u001b[39m\u001b[38;5;28;01mif\u001b[39;00m\u001b[38;5;250m \u001b[39m\u001b[38;5;124m'\u001b[39m\u001b[38;5;124mnatural\u001b[39m\u001b[38;5;124m'\u001b[39m\u001b[38;5;250m \u001b[39m\u001b[38;5;129;01min\u001b[39;00m\u001b[38;5;250m \u001b[39mdataset\u001b[38;5;250m \u001b[39m\u001b[38;5;28;01melse\u001b[39;00m\u001b[38;5;250m \u001b[39mnybb_message\u001b[38;5;132;01m}\u001b[39;00m\u001b[38;5;124m\"\u001b[39m\n\u001b[0;32m     16\u001b[0m )\n\u001b[0;32m     17\u001b[0m \u001b[38;5;28;01mif\u001b[39;00m dataset \u001b[38;5;129;01min\u001b[39;00m _prev_available:\n\u001b[1;32m---> 18\u001b[0m     \u001b[38;5;28;01mraise\u001b[39;00m \u001b[38;5;167;01mAttributeError\u001b[39;00m(error_msg)\n\u001b[0;32m     19\u001b[0m \u001b[38;5;28;01melse\u001b[39;00m:\n\u001b[0;32m     20\u001b[0m     error_msg \u001b[38;5;241m=\u001b[39m (\n\u001b[0;32m     21\u001b[0m         \u001b[38;5;124m\"\u001b[39m\u001b[38;5;124mThe geopandas.dataset has been deprecated and \u001b[39m\u001b[38;5;124m\"\u001b[39m\n\u001b[0;32m     22\u001b[0m         \u001b[38;5;124m\"\u001b[39m\u001b[38;5;124mwas removed in GeoPandas 1.0. New sample datasets are now available \u001b[39m\u001b[38;5;124m\"\u001b[39m\n\u001b[0;32m     23\u001b[0m         \u001b[38;5;124m\"\u001b[39m\u001b[38;5;124min the geodatasets package (https://geodatasets.readthedocs.io/en/latest/)\u001b[39m\u001b[38;5;124m\"\u001b[39m\n\u001b[0;32m     24\u001b[0m     )\n",
                        "\u001b[1;31mAttributeError\u001b[0m: The geopandas.dataset has been deprecated and was removed in GeoPandas 1.0. You can get the original 'naturalearth_lowres' data from https://www.naturalearthdata.com/downloads/110m-cultural-vectors/."
                    ]
                }
            ],
            "source": [
                "import geopandas as gpd\n",
                "import matplotlib.pyplot as plt\n",
                "from mpl_toolkits.axes_grid1 import make_axes_locatable\n",
                "\n",
                "\n",
                "usa = gpd.read_file(gpd.datasets.get_path('naturalearth_lowres'))\n",
                "usa = usa[usa['iso_a3'] == 'USA']\n",
                "\n",
                "merged = usa.set_index('name').join(df.set_exe_index('state_name'))\n",
                "fig, ax = plt.subplots(1, 1, figsize=(15, 10))\n",
                "divider = make_axes_locatable(ax)\n",
                "cax = divider.append_axes(\"right\", size=\"5%\", pad=0.1)\n",
                "\n",
                "\n",
                "merged.plot(column='population_density', ax=ax, legend=True, cax=cax,\n",
                "            legend_kwds={'label': \"Population Density (per square mile)\"},\n",
                "            cmap='YlGn',  # Yellow to Green color map\n",
                "            missing_kwds={\n",
                "                \"color\": \"lightgrey\",  # Fills missing values color\n",
                "                \"edgecolor\": \"red\",\n",
                "                \"hatch\": \"///\",\n",
                "                \"label\": \"Missing values\"})\n",
                "\n",
                "ax.set_title('Population Density by State', fontsize=15)\n",
                "ax.axis('off')  # Turn off the axis\n",
                "\n",
                "plt.show()"
            ]
        },
        {
            "cell_type": "code",
            "execution_count": null,
            "metadata": {},
            "outputs": [],
            "source": []
        }
    ],
    "metadata": {
        "kernelspec": {
            "display_name": "Python 3",
            "language": "python",
            "name": "python3"
        },
        "language_info": {
            "codemirror_mode": {
                "name": "ipython",
                "version": 3
            },
            "file_extension": ".py",
            "mimetype": "text/x-python",
            "name": "python",
            "nbconvert_exporter": "python",
            "pygments_lexer": "ipython3",
            "version": "3.11.4"
        }
    },
    "nbformat": 4,
    "nbformat_minor": 2
}
