{
    "cells": [
        {
            "cell_type": "markdown",
            "metadata": {},
            "source": [
                "### **Link:** https://platform.stratascratch.com/visualizations/10460-profit-growth-sequence?code_type=2"
            ]
        },
        {
            "cell_type": "markdown",
            "metadata": {},
            "source": [
                "# Profit growth sequence"
            ]
        },
        {
            "cell_type": "markdown",
            "metadata": {},
            "source": [
                "##### **Difficulty:** Medium"
            ]
        },
        {
            "cell_type": "markdown",
            "metadata": {},
            "source": [
                "##### **ID:** ID 10460"
            ]
        },
        {
            "cell_type": "markdown",
            "metadata": {},
            "source": [
                "##### **Type:** Waterfall Chart"
            ]
        },
        {
            "cell_type": "markdown",
            "metadata": {},
            "source": [
                "##### **Analysis:** Trend Analysis"
            ]
        },
        {
            "cell_type": "markdown",
            "metadata": {},
            "source": [
                "##### **Data Type:** Time Series Data"
            ]
        },
        {
            "cell_type": "markdown",
            "metadata": {},
            "source": [
                "##### Create a waterfall chart to show the sequential profit growth of a company over the fiscal year, with 'seagreen' indicating growth and 'crimson' indicating loss."
            ]
        },
        {
            "cell_type": "markdown",
            "metadata": {},
            "source": [
                "## **Data:** "
            ]
        },
        {
            "cell_type": "code",
            "execution_count": null,
            "metadata": [
                {}
            ],
            "source": [
                "import pandas as pd \n\ndata = [\n    {\n        \"month\": \"Jan\",\n        \"profit_change\": -13300\n    },\n    {\n        \"month\": \"Feb\",\n        \"profit_change\": -30900\n    },\n    {\n        \"month\": \"Mar\",\n        \"profit_change\": -58600\n    },\n    {\n        \"month\": \"Apr\",\n        \"profit_change\": 132500\n    },\n    {\n        \"month\": \"May\",\n        \"profit_change\": 131300\n    },\n    {\n        \"month\": \"Jun\",\n        \"profit_change\": 171400\n    },\n    {\n        \"month\": \"Jul\",\n        \"profit_change\": -71700\n    },\n    {\n        \"month\": \"Aug\",\n        \"profit_change\": -1300\n    },\n    {\n        \"month\": \"Sep\",\n        \"profit_change\": 191600\n    },\n    {\n        \"month\": \"Oct\",\n        \"profit_change\": -156800\n    },\n    {\n        \"month\": \"Nov\",\n        \"profit_change\": -172200\n    },\n    {\n        \"month\": \"Dec\",\n        \"profit_change\": -195100\n    }\n]\n\ndf = pd.DataFrame(data)"
            ]
        },
        {
            "cell_type": "markdown",
            "metadata": {},
            "source": [
                "## **Solution:** "
            ]
        },
        {
            "cell_type": "code",
            "execution_count": null,
            "metadata": [
                {}
            ],
            "source": [
                "import matplotlib.pyplot as plt\n\ncolors = ['seagreen' if x >= 0 else 'crimson' for x in df_profit['profit_change']]\nfig, ax = plt.subplots(figsize=(12, 6))\nprofit_levels = df_profit['profit_change'].cumsum()\nprofit_levels = profit_levels.shift(1).fillna(0)\n\nfor i, (month, change, level) in enumerate(zip(months, df_profit['profit_change'], profit_levels)):\n    plt.bar(month, change, bottom=level, color=colors[i])\n\nax.set_xlabel('Month')\nax.set_ylabel('Profit Change ($)')\nax.set_title('Monthly Profit Charges Over the Year')\nplt.xticks(rotation=45)\nplt.grid(True, which='both', linestyle='--', linewidth=0.5)\nplt.show()"
            ]
        }
    ],
    "metadata": {
        "kernelspec": {
            "display_name": "Python 3",
            "language": "python",
            "name": "python3"
        },
        "language_info": {
            "codemirror_mode": {
                "name": "ipython",
                "version": 3
            },
            "file_extension": ".py",
            "mimetype": "text/x-python",
            "name": "python",
            "nbconvert_exporter": "python",
            "pygments_lexer": "ipython3",
            "version": "3.11.4"
        }
    },
    "nbformat": 4,
    "nbformat_minor": 2,
    "name_of_the_file": "Profit growth sequence.ipynb"
}