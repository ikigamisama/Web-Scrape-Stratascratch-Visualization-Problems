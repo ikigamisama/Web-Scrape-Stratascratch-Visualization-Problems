{
    "cells": [
        {
            "cell_type": "markdown",
            "metadata": {},
            "source": [
                "### **Link:** https://platform.stratascratch.com/visualizations/10516-plant-operational-capabilities?code_type=2"
            ]
        },
        {
            "cell_type": "markdown",
            "metadata": {},
            "source": [
                "# Plant operational capabilities"
            ]
        },
        {
            "cell_type": "markdown",
            "metadata": {},
            "source": [
                "##### **Difficulty:** Hard"
            ]
        },
        {
            "cell_type": "markdown",
            "metadata": {},
            "source": [
                "##### **ID:** ID 10516"
            ]
        },
        {
            "cell_type": "markdown",
            "metadata": {},
            "source": [
                "##### **Type:** Radar Chart"
            ]
        },
        {
            "cell_type": "markdown",
            "metadata": {},
            "source": [
                "##### **Analysis:** Comparison"
            ]
        },
        {
            "cell_type": "markdown",
            "metadata": {},
            "source": [
                "##### **Data Type:** Categorical Data"
            ]
        },
        {
            "cell_type": "markdown",
            "metadata": {},
            "source": [
                "##### Construct a radar chart to compare the operational capabilities of three manufacturing plants, using 'teal' for Plant A, 'tomato' for Plant B, and 'purple' for Plant C."
            ]
        },
        {
            "cell_type": "markdown",
            "metadata": {},
            "source": [
                "## **Data:** "
            ]
        },
        {
            "cell_type": "code",
            "execution_count": null,
            "metadata": [
                {}
            ],
            "source": [
                "import pandas as pd \n\ndata = [\n    {\n        \"plant_a\": \"80\",\n        \"plant_b\": \"75\",\n        \"plant_c\": \"85\"\n    },\n    {\n        \"plant_a\": \"90\",\n        \"plant_b\": \"85\",\n        \"plant_c\": \"80\"\n    },\n    {\n        \"plant_a\": \"70\",\n        \"plant_b\": \"80\",\n        \"plant_c\": \"85\"\n    },\n    {\n        \"plant_a\": \"85\",\n        \"plant_b\": \"80\",\n        \"plant_c\": \"90\"\n    },\n    {\n        \"plant_a\": \"75\",\n        \"plant_b\": \"90\",\n        \"plant_c\": \"80\"\n    }\n]\n\ndf = pd.DataFrame(data)"
            ]
        },
        {
            "cell_type": "markdown",
            "metadata": {},
            "source": [
                "## **Solution:** "
            ]
        },
        {
            "cell_type": "code",
            "execution_count": null,
            "metadata": [
                {}
            ],
            "source": [
                "import matplotlib.pyplot as plt\nimport numpy as np\n\ncategories = df.index\nN = len(categories)\n\nangles = [n / float(N) * 2 * np.pi for n in range(N)]\nangles += angles[:1]\n\ncolors = {'plant_a': 'teal', 'plant_b': 'tomato', 'plant_c': 'purple'}\n\nplt.figure(figsize=(10, 8))\nax = plt.subplot(111, polar=True)\n\nplt.xticks(angles[:-1], categories, color='grey', size=8)\n\nax.set_rlabel_position(0)\nplt.yticks([20, 40, 60, 80, 100], [\"20\", \"40\", \"60\", \"80\", \"100\"], color=\"grey\", size=7)\nplt.ylim(0, 100)\n\nfor plant in df.columns:\n    values = df[plant].tolist()\n    values += values[:1]\n    ax.plot(angles, values, linewidth=2, linestyle='solid', label=plant, color=colors[plant])\n    ax.fill(angles, values, color=colors[plant], alpha=0.25)\n\nplt.legend(loc='upper right', bbox_to_anchor=(0.1, 0.1))\nplt.title('Operational Capabilities of Manufacturing Plants', size=15, color='black', y=1.1)\n\nplt.show()"
            ]
        }
    ],
    "metadata": {
        "kernelspec": {
            "display_name": "Python 3",
            "language": "python",
            "name": "python3"
        },
        "language_info": {
            "codemirror_mode": {
                "name": "ipython",
                "version": 3
            },
            "file_extension": ".py",
            "mimetype": "text/x-python",
            "name": "python",
            "nbconvert_exporter": "python",
            "pygments_lexer": "ipython3",
            "version": "3.11.4"
        }
    },
    "nbformat": 4,
    "nbformat_minor": 2,
    "name_of_the_file": "Plant operational capabilities.ipynb"
}