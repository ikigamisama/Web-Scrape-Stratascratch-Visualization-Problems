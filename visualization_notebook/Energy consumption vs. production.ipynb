{
    "cells": [
        {
            "cell_type": "markdown",
            "metadata": {},
            "source": [
                "### **Link:** https://platform.stratascratch.com/visualizations/10524-energy-consumption-vs-production?code_type=2"
            ]
        },
        {
            "cell_type": "markdown",
            "metadata": {},
            "source": [
                "# Energy consumption vs. production"
            ]
        },
        {
            "cell_type": "markdown",
            "metadata": {},
            "source": [
                "##### **Difficulty:** Medium"
            ]
        },
        {
            "cell_type": "markdown",
            "metadata": {},
            "source": [
                "##### **ID:** ID 10524"
            ]
        },
        {
            "cell_type": "markdown",
            "metadata": {},
            "source": [
                "##### **Type:** Stacked Line Chart"
            ]
        },
        {
            "cell_type": "markdown",
            "metadata": {},
            "source": [
                "##### **Analysis:** Trend Analysis"
            ]
        },
        {
            "cell_type": "markdown",
            "metadata": {},
            "source": [
                "##### **Data Type:** Time Series Data"
            ]
        },
        {
            "cell_type": "markdown",
            "metadata": {},
            "source": [
                "##### Deploy a stacked line chart to show the evolution of energy consumption and production over the last decade, using 'olive' for consumption and 'orange' for production."
            ]
        },
        {
            "cell_type": "markdown",
            "metadata": {},
            "source": [
                "## **Data:** "
            ]
        },
        {
            "cell_type": "code",
            "execution_count": null,
            "metadata": [
                {}
            ],
            "source": [
                "import pandas as pd \n\ndata = [\n    {\n        \"year\": \"2014\",\n        \"consumption\": 3732,\n        \"production\": 1077\n    },\n    {\n        \"year\": \"2015\",\n        \"consumption\": 3607,\n        \"production\": 2578\n    },\n    {\n        \"year\": \"2016\",\n        \"consumption\": 2653,\n        \"production\": 2628\n    },\n    {\n        \"year\": \"2017\",\n        \"consumption\": 4264,\n        \"production\": 3447\n    },\n    {\n        \"year\": \"2018\",\n        \"consumption\": 1835,\n        \"production\": 3942\n    },\n    {\n        \"year\": \"2019\",\n        \"consumption\": 1763,\n        \"production\": 4344\n    },\n    {\n        \"year\": \"2020\",\n        \"consumption\": 2731,\n        \"production\": 3448\n    },\n    {\n        \"year\": \"2021\",\n        \"consumption\": 4431,\n        \"production\": 4268\n    },\n    {\n        \"year\": \"2022\",\n        \"consumption\": 2033,\n        \"production\": 3162\n    },\n    {\n        \"year\": \"2023\",\n        \"consumption\": 4795,\n        \"production\": 1505\n    }\n]\n\ndf = pd.DataFrame(data)"
            ]
        },
        {
            "cell_type": "markdown",
            "metadata": {},
            "source": [
                "## **Solution:** "
            ]
        },
        {
            "cell_type": "code",
            "execution_count": null,
            "metadata": [
                {}
            ],
            "source": [
                "import matplotlib.pyplot as plt\n\nplt.figure(figsize=(12, 6))\nplt.stackplot(df['year'], df['consumption'], df['production'], labels=['Consumption', 'Production'], colors=['olive', 'orange'])\n\nplt.title('Evolution of Energy Consumption and Production Over the Last Decade')\nplt.xlabel('Year')\nplt.ylabel('Energy (GWh)')\nplt.legend(loc='upper left')\nplt.grid(True)\nplt.show()"
            ]
        }
    ],
    "metadata": {
        "kernelspec": {
            "display_name": "Python 3",
            "language": "python",
            "name": "python3"
        },
        "language_info": {
            "codemirror_mode": {
                "name": "ipython",
                "version": 3
            },
            "file_extension": ".py",
            "mimetype": "text/x-python",
            "name": "python",
            "nbconvert_exporter": "python",
            "pygments_lexer": "ipython3",
            "version": "3.11.4"
        }
    },
    "nbformat": 4,
    "nbformat_minor": 2,
    "name_of_the_file": "Energy consumption vs. production.ipynb"
}