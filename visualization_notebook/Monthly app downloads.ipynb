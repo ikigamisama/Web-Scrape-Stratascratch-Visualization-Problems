{
    "cells": [
        {
            "cell_type": "markdown",
            "metadata": {},
            "source": [
                "### **Link:** https://platform.stratascratch.com/visualizations/10484-monthly-app-downloads?code_type=2"
            ]
        },
        {
            "cell_type": "markdown",
            "metadata": {},
            "source": [
                "# Monthly app downloads"
            ]
        },
        {
            "cell_type": "markdown",
            "metadata": {},
            "source": [
                "##### **Difficulty:** Medium"
            ]
        },
        {
            "cell_type": "markdown",
            "metadata": {},
            "source": [
                "##### **ID:** ID 10484"
            ]
        },
        {
            "cell_type": "markdown",
            "metadata": {},
            "source": [
                "##### **Type:** Stacked Area Chart"
            ]
        },
        {
            "cell_type": "markdown",
            "metadata": {},
            "source": [
                "##### **Analysis:** Trend Analysis"
            ]
        },
        {
            "cell_type": "markdown",
            "metadata": {},
            "source": [
                "##### **Data Type:** Time Series Data & Categorical Data"
            ]
        },
        {
            "cell_type": "markdown",
            "metadata": {},
            "source": [
                "##### Deploy a stacked area chart to illustrate the monthly downloads of various app categories over the last year, using 'lightgreen' for gaming, 'lightblue' for productivity, and 'lightcoral' for entertainment."
            ]
        },
        {
            "cell_type": "markdown",
            "metadata": {},
            "source": [
                "## **Data:** "
            ]
        },
        {
            "cell_type": "code",
            "execution_count": null,
            "metadata": [
                {}
            ],
            "source": [
                "import pandas as pd \n\ndata = [\n    {\n        \"gaming\": 7732,\n        \"productivity\": 9744,\n        \"entertainment\": 10921\n    },\n    {\n        \"gaming\": 15799,\n        \"productivity\": 6468,\n        \"entertainment\": 10036\n    },\n    {\n        \"gaming\": 14845,\n        \"productivity\": 3705,\n        \"entertainment\": 6163\n    },\n    {\n        \"gaming\": 8264,\n        \"productivity\": 5599,\n        \"entertainment\": 9072\n    },\n    {\n        \"gaming\": 18123,\n        \"productivity\": 13327,\n        \"entertainment\": 8851\n    },\n    {\n        \"gaming\": 9859,\n        \"productivity\": 5222,\n        \"entertainment\": 11877\n    },\n    {\n        \"gaming\": 19019,\n        \"productivity\": 10768,\n        \"entertainment\": 6046\n    },\n    {\n        \"gaming\": 14225,\n        \"productivity\": 5897,\n        \"entertainment\": 5871\n    },\n    {\n        \"gaming\": 12891,\n        \"productivity\": 12893,\n        \"entertainment\": 11599\n    },\n    {\n        \"gaming\": 9373,\n        \"productivity\": 3537,\n        \"entertainment\": 6496\n    },\n    {\n        \"gaming\": 10874,\n        \"productivity\": 14085,\n        \"entertainment\": 12291\n    },\n    {\n        \"gaming\": 19116,\n        \"productivity\": 9216,\n        \"entertainment\": 14200\n    }\n]\n\ndf = pd.DataFrame(data)"
            ]
        },
        {
            "cell_type": "markdown",
            "metadata": {},
            "source": [
                "## **Solution:** "
            ]
        },
        {
            "cell_type": "code",
            "execution_count": null,
            "metadata": [
                {}
            ],
            "source": [
                "import matplotlib.pyplot as plt\n\n#plotting the chart\ncolors = {'gaming': 'lightgreen', 'productivity': 'lightblue', 'entertainment': 'lightcoral'}\nplt.figure(figsize=(8, 6))\ndf.plot(kind='area', stacked=True, color=[colors[col] for col in df.columns])\nplt.title('Monthly Downloads of Various App Categories Over the Last Year')\nplt.xlabel('Year')\nplt.ylabel('Month')\nplt.legend(title='App Categories')\nplt.grid(axis='y')\nplt.xticks(rotation=45)\nplt.show()"
            ]
        }
    ],
    "metadata": {
        "kernelspec": {
            "display_name": "Python 3",
            "language": "python",
            "name": "python3"
        },
        "language_info": {
            "codemirror_mode": {
                "name": "ipython",
                "version": 3
            },
            "file_extension": ".py",
            "mimetype": "text/x-python",
            "name": "python",
            "nbconvert_exporter": "python",
            "pygments_lexer": "ipython3",
            "version": "3.11.4"
        }
    },
    "nbformat": 4,
    "nbformat_minor": 2,
    "name_of_the_file": "Monthly app downloads.ipynb"
}