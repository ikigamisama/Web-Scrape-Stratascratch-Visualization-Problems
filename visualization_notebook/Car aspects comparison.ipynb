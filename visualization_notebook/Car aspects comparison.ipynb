{
    "cells": [
        {
            "cell_type": "markdown",
            "metadata": {},
            "source": [
                "### **Link:** https://platform.stratascratch.com/visualizations/10487-car-aspects-comparison?code_type=2"
            ]
        },
        {
            "cell_type": "markdown",
            "metadata": {},
            "source": [
                "# Car aspects comparison"
            ]
        },
        {
            "cell_type": "markdown",
            "metadata": {},
            "source": [
                "##### **Difficulty:** Hard"
            ]
        },
        {
            "cell_type": "markdown",
            "metadata": {},
            "source": [
                "##### **ID:** ID 10487"
            ]
        },
        {
            "cell_type": "markdown",
            "metadata": {},
            "source": [
                "##### **Type:** Parallel Coordinates Plot"
            ]
        },
        {
            "cell_type": "markdown",
            "metadata": {},
            "source": [
                "##### **Analysis:** Comparison"
            ]
        },
        {
            "cell_type": "markdown",
            "metadata": {},
            "source": [
                "##### **Data Type:** Numerical Data & Categorical Data"
            ]
        },
        {
            "cell_type": "markdown",
            "metadata": {},
            "source": [
                "##### Develop a parallel coordinates plot to compare different aspects of cars such as price, fuel efficiency, and horsepower, using 'violet' for luxury cars, 'lime' for economy cars, and 'gold' for sports cars."
            ]
        },
        {
            "cell_type": "markdown",
            "metadata": {},
            "source": [
                "## **Data:** "
            ]
        },
        {
            "cell_type": "code",
            "execution_count": null,
            "metadata": [
                {}
            ],
            "source": [
                "import pandas as pd \n\ndata = [\n    {\n        \"car_type\": \"Luxury\",\n        \"price\": 60769.95,\n        \"fuel_efficiency\": 18.475,\n        \"horsepower\": 342.59\n    },\n    {\n        \"car_type\": \"Economy\",\n        \"price\": 24457.175,\n        \"fuel_efficiency\": 14.487,\n        \"horsepower\": 187.361\n    },\n    {\n        \"car_type\": \"Luxury\",\n        \"price\": 56092.737,\n        \"fuel_efficiency\": 14.275,\n        \"horsepower\": 282.068\n    },\n    {\n        \"car_type\": \"Economy\",\n        \"price\": 21599.013,\n        \"fuel_efficiency\": 21.586,\n        \"horsepower\": 451.548\n    },\n    {\n        \"car_type\": \"Economy\",\n        \"price\": 55336.874,\n        \"fuel_efficiency\": 31.864,\n        \"horsepower\": 296.907\n    },\n    {\n        \"car_type\": \"Sports\",\n        \"price\": 98366.938,\n        \"fuel_efficiency\": 33.603,\n        \"horsepower\": 386.224\n    },\n    {\n        \"car_type\": \"Luxury\",\n        \"price\": 48755.557,\n        \"fuel_efficiency\": 25.206,\n        \"horsepower\": 294.464\n    },\n    {\n        \"car_type\": \"Sports\",\n        \"price\": 58471.482,\n        \"fuel_efficiency\": 24.916,\n        \"horsepower\": 383.419\n    },\n    {\n        \"car_type\": \"Luxury\",\n        \"price\": 75092.895,\n        \"fuel_efficiency\": 29.591,\n        \"horsepower\": 299.256\n    },\n    {\n        \"car_type\": \"Luxury\",\n        \"price\": 90438.071,\n        \"fuel_efficiency\": 22.501,\n        \"horsepower\": 437.82\n    },\n    {\n        \"car_type\": \"Luxury\",\n        \"price\": 93458.837,\n        \"fuel_efficiency\": 11.259,\n        \"horsepower\": 177.737\n    },\n    {\n        \"car_type\": \"Sports\",\n        \"price\": 37345.771,\n        \"fuel_efficiency\": 27.477,\n        \"horsepower\": 409.33\n    },\n    {\n        \"car_type\": \"Economy\",\n        \"price\": 65215.109,\n        \"fuel_efficiency\": 34.81,\n        \"horsepower\": 489.703\n    },\n    {\n        \"car_type\": \"Sports\",\n        \"price\": 89208.205,\n        \"fuel_efficiency\": 16.682,\n        \"horsepower\": 444.924\n    },\n    {\n        \"car_type\": \"Sports\",\n        \"price\": 60717.517,\n        \"fuel_efficiency\": 26.977,\n        \"horsepower\": 412.171\n    },\n    {\n        \"car_type\": \"Luxury\",\n        \"price\": 93337.836,\n        \"fuel_efficiency\": 31.607,\n        \"horsepower\": 494.013\n    },\n    {\n        \"car_type\": \"Economy\",\n        \"price\": 93692.609,\n        \"fuel_efficiency\": 28.771,\n        \"horsepower\": 401.428\n    },\n    {\n        \"car_type\": \"Economy\",\n        \"price\": 26648.999,\n        \"fuel_efficiency\": 34.112,\n        \"horsepower\": 101.619\n    },\n    {\n        \"car_type\": \"Economy\",\n        \"price\": 42217.485,\n        \"fuel_efficiency\": 23.856,\n        \"horsepower\": 207.792\n    },\n    {\n        \"car_type\": \"Economy\",\n        \"price\": 20748.536,\n        \"fuel_efficiency\": 15.31,\n        \"horsepower\": 264.197\n    },\n    {\n        \"car_type\": \"Luxury\",\n        \"price\": 87387.366,\n        \"fuel_efficiency\": 15.561,\n        \"horsepower\": 271.29\n    },\n    {\n        \"car_type\": \"Economy\",\n        \"price\": 71773.931,\n        \"fuel_efficiency\": 15.469,\n        \"horsepower\": 219.137\n    },\n    {\n        \"car_type\": \"Luxury\",\n        \"price\": 87310.89,\n        \"fuel_efficiency\": 24.239,\n        \"horsepower\": 260.453\n    },\n    {\n        \"car_type\": \"Luxury\",\n        \"price\": 41178.413,\n        \"fuel_efficiency\": 21.303,\n        \"horsepower\": 148.263\n    },\n    {\n        \"car_type\": \"Economy\",\n        \"price\": 51825.66,\n        \"fuel_efficiency\": 34.256,\n        \"horsepower\": 492.28\n    },\n    {\n        \"car_type\": \"Sports\",\n        \"price\": 64225.718,\n        \"fuel_efficiency\": 27.014,\n        \"horsepower\": 262.448\n    },\n    {\n        \"car_type\": \"Luxury\",\n        \"price\": 33195.237,\n        \"fuel_efficiency\": 12.132,\n        \"horsepower\": 327.684\n    },\n    {\n        \"car_type\": \"Sports\",\n        \"price\": 49584.647,\n        \"fuel_efficiency\": 11.41,\n        \"horsepower\": 237.442\n    },\n    {\n        \"car_type\": \"Luxury\",\n        \"price\": 31715.341,\n        \"fuel_efficiency\": 22.196,\n        \"horsepower\": 415.549\n    },\n    {\n        \"car_type\": \"Economy\",\n        \"price\": 65569.472,\n        \"fuel_efficiency\": 32.025,\n        \"horsepower\": 264.549\n    },\n    {\n        \"car_type\": \"Economy\",\n        \"price\": 76298.982,\n        \"fuel_efficiency\": 34.41,\n        \"horsepower\": 243.709\n    },\n    {\n        \"car_type\": \"Sports\",\n        \"price\": 43078.115,\n        \"fuel_efficiency\": 25.441,\n        \"horsepower\": 259.8\n    },\n    {\n        \"car_type\": \"Luxury\",\n        \"price\": 54663.045,\n        \"fuel_efficiency\": 23.562,\n        \"horsepower\": 220.732\n    },\n    {\n        \"car_type\": \"Economy\",\n        \"price\": 80488.536,\n        \"fuel_efficiency\": 31.365,\n        \"horsepower\": 410.088\n    },\n    {\n        \"car_type\": \"Economy\",\n        \"price\": 51687.862,\n        \"fuel_efficiency\": 28.596,\n        \"horsepower\": 470.485\n    },\n    {\n        \"car_type\": \"Economy\",\n        \"price\": 91683.071,\n        \"fuel_efficiency\": 21.965,\n        \"horsepower\": 230.124\n    },\n    {\n        \"car_type\": \"Luxury\",\n        \"price\": 71113.686,\n        \"fuel_efficiency\": 26.927,\n        \"horsepower\": 481.148\n    },\n    {\n        \"car_type\": \"Sports\",\n        \"price\": 91324.355,\n        \"fuel_efficiency\": 25.176,\n        \"horsepower\": 105.579\n    },\n    {\n        \"car_type\": \"Luxury\",\n        \"price\": 74404.446,\n        \"fuel_efficiency\": 27.867,\n        \"horsepower\": 313.386\n    },\n    {\n        \"car_type\": \"Sports\",\n        \"price\": 55935.819,\n        \"fuel_efficiency\": 21.737,\n        \"horsepower\": 221.833\n    },\n    {\n        \"car_type\": \"Sports\",\n        \"price\": 98285.674,\n        \"fuel_efficiency\": 21.4,\n        \"horsepower\": 453.144\n    },\n    {\n        \"car_type\": \"Luxury\",\n        \"price\": 29296.153,\n        \"fuel_efficiency\": 32.66,\n        \"horsepower\": 200.249\n    },\n    {\n        \"car_type\": \"Sports\",\n        \"price\": 81361.896,\n        \"fuel_efficiency\": 13.431,\n        \"horsepower\": 370.965\n    },\n    {\n        \"car_type\": \"Luxury\",\n        \"price\": 52945.611,\n        \"fuel_efficiency\": 15.73,\n        \"horsepower\": 424.17\n    },\n    {\n        \"car_type\": \"Luxury\",\n        \"price\": 74035.126,\n        \"fuel_efficiency\": 32.04,\n        \"horsepower\": 272.859\n    },\n    {\n        \"car_type\": \"Luxury\",\n        \"price\": 39983.702,\n        \"fuel_efficiency\": 32.611,\n        \"horsepower\": 400.854\n    },\n    {\n        \"car_type\": \"Economy\",\n        \"price\": 45057.467,\n        \"fuel_efficiency\": 26.145,\n        \"horsepower\": 431.841\n    },\n    {\n        \"car_type\": \"Economy\",\n        \"price\": 97233.298,\n        \"fuel_efficiency\": 18.117,\n        \"horsepower\": 251.614\n    },\n    {\n        \"car_type\": \"Sports\",\n        \"price\": 67077.207,\n        \"fuel_efficiency\": 22.993,\n        \"horsepower\": 138.62\n    },\n    {\n        \"car_type\": \"Luxury\",\n        \"price\": 72773.473,\n        \"fuel_efficiency\": 10.001,\n        \"horsepower\": 202.456\n    },\n    {\n        \"car_type\": \"Luxury\",\n        \"price\": 62656.5,\n        \"fuel_efficiency\": 17.797,\n        \"horsepower\": 336.774\n    },\n    {\n        \"car_type\": \"Economy\",\n        \"price\": 38442.642,\n        \"fuel_efficiency\": 20.636,\n        \"horsepower\": 290.591\n    },\n    {\n        \"car_type\": \"Luxury\",\n        \"price\": 51589.543,\n        \"fuel_efficiency\": 32.133,\n        \"horsepower\": 295.174\n    },\n    {\n        \"car_type\": \"Economy\",\n        \"price\": 69504.685,\n        \"fuel_efficiency\": 26.997,\n        \"horsepower\": 283.406\n    },\n    {\n        \"car_type\": \"Sports\",\n        \"price\": 57989.401,\n        \"fuel_efficiency\": 21.403,\n        \"horsepower\": 309.837\n    },\n    {\n        \"car_type\": \"Sports\",\n        \"price\": 57610.575,\n        \"fuel_efficiency\": 22.085,\n        \"horsepower\": 276.806\n    },\n    {\n        \"car_type\": \"Luxury\",\n        \"price\": 77285.962,\n        \"fuel_efficiency\": 29.718,\n        \"horsepower\": 441.054\n    },\n    {\n        \"car_type\": \"Economy\",\n        \"price\": 43039.28,\n        \"fuel_efficiency\": 15.736,\n        \"horsepower\": 273.376\n    },\n    {\n        \"car_type\": \"Economy\",\n        \"price\": 50676.978,\n        \"fuel_efficiency\": 32.007,\n        \"horsepower\": 430.748\n    },\n    {\n        \"car_type\": \"Economy\",\n        \"price\": 79933.587,\n        \"fuel_efficiency\": 17.842,\n        \"horsepower\": 303.737\n    },\n    {\n        \"car_type\": \"Economy\",\n        \"price\": 90276.175,\n        \"fuel_efficiency\": 33.936,\n        \"horsepower\": 134.551\n    },\n    {\n        \"car_type\": \"Sports\",\n        \"price\": 28229.069,\n        \"fuel_efficiency\": 21.794,\n        \"horsepower\": 364.016\n    },\n    {\n        \"car_type\": \"Sports\",\n        \"price\": 27389.911,\n        \"fuel_efficiency\": 27.79,\n        \"horsepower\": 182.638\n    },\n    {\n        \"car_type\": \"Sports\",\n        \"price\": 48323.733,\n        \"fuel_efficiency\": 13.842,\n        \"horsepower\": 438.91\n    },\n    {\n        \"car_type\": \"Luxury\",\n        \"price\": 64145.301,\n        \"fuel_efficiency\": 28.261,\n        \"horsepower\": 372.544\n    },\n    {\n        \"car_type\": \"Sports\",\n        \"price\": 22690.007,\n        \"fuel_efficiency\": 26.157,\n        \"horsepower\": 171.347\n    },\n    {\n        \"car_type\": \"Economy\",\n        \"price\": 97516.941,\n        \"fuel_efficiency\": 15.372,\n        \"horsepower\": 127.944\n    },\n    {\n        \"car_type\": \"Luxury\",\n        \"price\": 45679.779,\n        \"fuel_efficiency\": 14.661,\n        \"horsepower\": 103.875\n    },\n    {\n        \"car_type\": \"Economy\",\n        \"price\": 37701.015,\n        \"fuel_efficiency\": 30.19,\n        \"horsepower\": 456.82\n    },\n    {\n        \"car_type\": \"Sports\",\n        \"price\": 31301.112,\n        \"fuel_efficiency\": 28.677,\n        \"horsepower\": 153.386\n    },\n    {\n        \"car_type\": \"Luxury\",\n        \"price\": 27780.794,\n        \"fuel_efficiency\": 26.871,\n        \"horsepower\": 411.677\n    },\n    {\n        \"car_type\": \"Luxury\",\n        \"price\": 98723.379,\n        \"fuel_efficiency\": 16.922,\n        \"horsepower\": 470.065\n    },\n    {\n        \"car_type\": \"Sports\",\n        \"price\": 40827.274,\n        \"fuel_efficiency\": 14.373,\n        \"horsepower\": 386.071\n    },\n    {\n        \"car_type\": \"Luxury\",\n        \"price\": 62961.802,\n        \"fuel_efficiency\": 27.612,\n        \"horsepower\": 296.327\n    },\n    {\n        \"car_type\": \"Luxury\",\n        \"price\": 55834.094,\n        \"fuel_efficiency\": 21.579,\n        \"horsepower\": 287.799\n    },\n    {\n        \"car_type\": \"Luxury\",\n        \"price\": 27965.527,\n        \"fuel_efficiency\": 31.011,\n        \"horsepower\": 453.084\n    },\n    {\n        \"car_type\": \"Luxury\",\n        \"price\": 48184.933,\n        \"fuel_efficiency\": 15.122,\n        \"horsepower\": 295.364\n    },\n    {\n        \"car_type\": \"Luxury\",\n        \"price\": 57539.934,\n        \"fuel_efficiency\": 14.124,\n        \"horsepower\": 265.827\n    },\n    {\n        \"car_type\": \"Luxury\",\n        \"price\": 87291.21,\n        \"fuel_efficiency\": 13.121,\n        \"horsepower\": 169.645\n    },\n    {\n        \"car_type\": \"Sports\",\n        \"price\": 92371.82,\n        \"fuel_efficiency\": 28.052,\n        \"horsepower\": 290.116\n    },\n    {\n        \"car_type\": \"Luxury\",\n        \"price\": 23004.751,\n        \"fuel_efficiency\": 10.761,\n        \"horsepower\": 413.459\n    },\n    {\n        \"car_type\": \"Sports\",\n        \"price\": 60665.236,\n        \"fuel_efficiency\": 28.675,\n        \"horsepower\": 322.572\n    },\n    {\n        \"car_type\": \"Economy\",\n        \"price\": 33347.801,\n        \"fuel_efficiency\": 12.315,\n        \"horsepower\": 163.947\n    },\n    {\n        \"car_type\": \"Economy\",\n        \"price\": 82324.082,\n        \"fuel_efficiency\": 15.436,\n        \"horsepower\": 157.532\n    },\n    {\n        \"car_type\": \"Economy\",\n        \"price\": 89194.664,\n        \"fuel_efficiency\": 28.731,\n        \"horsepower\": 359.785\n    },\n    {\n        \"car_type\": \"Luxury\",\n        \"price\": 52911.738,\n        \"fuel_efficiency\": 28.292,\n        \"horsepower\": 315.689\n    },\n    {\n        \"car_type\": \"Economy\",\n        \"price\": 31197.807,\n        \"fuel_efficiency\": 11.14,\n        \"horsepower\": 230.274\n    },\n    {\n        \"car_type\": \"Economy\",\n        \"price\": 22657.791,\n        \"fuel_efficiency\": 15.229,\n        \"horsepower\": 158.806\n    },\n    {\n        \"car_type\": \"Economy\",\n        \"price\": 98605.997,\n        \"fuel_efficiency\": 17.173,\n        \"horsepower\": 163.948\n    },\n    {\n        \"car_type\": \"Luxury\",\n        \"price\": 49863.26,\n        \"fuel_efficiency\": 26.932,\n        \"horsepower\": 151.765\n    },\n    {\n        \"car_type\": \"Economy\",\n        \"price\": 53606.03,\n        \"fuel_efficiency\": 11.576,\n        \"horsepower\": 331.569\n    },\n    {\n        \"car_type\": \"Sports\",\n        \"price\": 24047.049,\n        \"fuel_efficiency\": 23.891,\n        \"horsepower\": 136.904\n    },\n    {\n        \"car_type\": \"Luxury\",\n        \"price\": 49239.689,\n        \"fuel_efficiency\": 10.231,\n        \"horsepower\": 464.218\n    },\n    {\n        \"car_type\": \"Economy\",\n        \"price\": 21330.238,\n        \"fuel_efficiency\": 30.826,\n        \"horsepower\": 133.189\n    },\n    {\n        \"car_type\": \"Sports\",\n        \"price\": 38459.387,\n        \"fuel_efficiency\": 34.608,\n        \"horsepower\": 420.151\n    },\n    {\n        \"car_type\": \"Luxury\",\n        \"price\": 81192.936,\n        \"fuel_efficiency\": 27.587,\n        \"horsepower\": 450.852\n    },\n    {\n        \"car_type\": \"Sports\",\n        \"price\": 95529.882,\n        \"fuel_efficiency\": 14.541,\n        \"horsepower\": 137.384\n    },\n    {\n        \"car_type\": \"Luxury\",\n        \"price\": 79999.94,\n        \"fuel_efficiency\": 22.81,\n        \"horsepower\": 270.522\n    },\n    {\n        \"car_type\": \"Economy\",\n        \"price\": 47152.306,\n        \"fuel_efficiency\": 24.511,\n        \"horsepower\": 289.288\n    },\n    {\n        \"car_type\": \"Sports\",\n        \"price\": 59163.915,\n        \"fuel_efficiency\": 29.689,\n        \"horsepower\": 332.079\n    }\n]\n\ndf = pd.DataFrame(data)"
            ]
        },
        {
            "cell_type": "markdown",
            "metadata": {},
            "source": [
                "## **Solution:** "
            ]
        },
        {
            "cell_type": "code",
            "execution_count": null,
            "metadata": [
                {}
            ],
            "source": [
                "import matplotlib.pyplot as plt\nfrom pandas.plotting import parallel_coordinates\ncolors = {'Luxury': 'violet', 'Economy': 'lime', 'Sports': 'gold'}\n\nplt.figure(figsize=(12, 8))\nparallel_coordinates(df, class_column='car_type', color=[colors[car_type] for car_type in df['car_type'].unique()])\n\nplt.title('Comparison of Different Aspects of Cars')\nplt.xlabel('Car Attributes')\nplt.ylabel('Values')\nplt.legend(title='Car Type')\nplt.grid(True)\nplt.show()"
            ]
        }
    ],
    "metadata": {
        "kernelspec": {
            "display_name": "Python 3",
            "language": "python",
            "name": "python3"
        },
        "language_info": {
            "codemirror_mode": {
                "name": "ipython",
                "version": 3
            },
            "file_extension": ".py",
            "mimetype": "text/x-python",
            "name": "python",
            "nbconvert_exporter": "python",
            "pygments_lexer": "ipython3",
            "version": "3.11.4"
        }
    },
    "nbformat": 4,
    "nbformat_minor": 2,
    "name_of_the_file": "Car aspects comparison.ipynb"
}