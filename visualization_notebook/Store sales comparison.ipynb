{
    "cells": [
        {
            "cell_type": "markdown",
            "metadata": {},
            "source": [
                "### **Link:** https://platform.stratascratch.com/visualizations/10439-store-sales-comparison?code_type=2"
            ]
        },
        {
            "cell_type": "markdown",
            "metadata": {},
            "source": [
                "# Store sales comparison"
            ]
        },
        {
            "cell_type": "markdown",
            "metadata": {},
            "source": [
                "##### **Difficulty:** Medium"
            ]
        },
        {
            "cell_type": "markdown",
            "metadata": {},
            "source": [
                "##### **ID:** ID 10439"
            ]
        },
        {
            "cell_type": "markdown",
            "metadata": {},
            "source": [
                "##### **Type:** Bar Chart"
            ]
        },
        {
            "cell_type": "markdown",
            "metadata": {},
            "source": [
                "##### **Analysis:** Comparison"
            ]
        },
        {
            "cell_type": "markdown",
            "metadata": {},
            "source": [
                "##### **Data Type:** Numerical Data & Categorical Data"
            ]
        },
        {
            "cell_type": "markdown",
            "metadata": {},
            "source": [
                "##### Design a bar chart to compare the average monthly sales of electronic products across different stores. Use 'gold' for Store X, 'silver' for Store Y, and 'bronze' for Store Z."
            ]
        },
        {
            "cell_type": "markdown",
            "metadata": {},
            "source": [
                "## **Data:** "
            ]
        },
        {
            "cell_type": "code",
            "execution_count": null,
            "metadata": [
                {}
            ],
            "source": [
                "import pandas as pd \n\ndata = [\n    {\n        \"month\": \"January\",\n        \"sales\": 43003,\n        \"store\": \"Store X\"\n    },\n    {\n        \"month\": \"February\",\n        \"sales\": 22172,\n        \"store\": \"Store X\"\n    },\n    {\n        \"month\": \"March\",\n        \"sales\": 15192,\n        \"store\": \"Store X\"\n    },\n    {\n        \"month\": \"April\",\n        \"sales\": 42511,\n        \"store\": \"Store X\"\n    },\n    {\n        \"month\": \"May\",\n        \"sales\": 17813,\n        \"store\": \"Store X\"\n    },\n    {\n        \"month\": \"June\",\n        \"sales\": 31440,\n        \"store\": \"Store X\"\n    },\n    {\n        \"month\": \"July\",\n        \"sales\": 42912,\n        \"store\": \"Store X\"\n    },\n    {\n        \"month\": \"August\",\n        \"sales\": 30609,\n        \"store\": \"Store X\"\n    },\n    {\n        \"month\": \"September\",\n        \"sales\": 17751,\n        \"store\": \"Store X\"\n    },\n    {\n        \"month\": \"October\",\n        \"sales\": 41228,\n        \"store\": \"Store X\"\n    },\n    {\n        \"month\": \"November\",\n        \"sales\": 46230,\n        \"store\": \"Store X\"\n    },\n    {\n        \"month\": \"December\",\n        \"sales\": 42025,\n        \"store\": \"Store X\"\n    },\n    {\n        \"month\": \"January\",\n        \"sales\": 31758,\n        \"store\": \"Store Y\"\n    },\n    {\n        \"month\": \"February\",\n        \"sales\": 45730,\n        \"store\": \"Store Y\"\n    },\n    {\n        \"month\": \"March\",\n        \"sales\": 18444,\n        \"store\": \"Store Y\"\n    },\n    {\n        \"month\": \"April\",\n        \"sales\": 29946,\n        \"store\": \"Store Y\"\n    },\n    {\n        \"month\": \"May\",\n        \"sales\": 47532,\n        \"store\": \"Store Y\"\n    },\n    {\n        \"month\": \"June\",\n        \"sales\": 32926,\n        \"store\": \"Store Y\"\n    },\n    {\n        \"month\": \"July\",\n        \"sales\": 37204,\n        \"store\": \"Store Y\"\n    },\n    {\n        \"month\": \"August\",\n        \"sales\": 41959,\n        \"store\": \"Store Y\"\n    },\n    {\n        \"month\": \"September\",\n        \"sales\": 34535,\n        \"store\": \"Store Y\"\n    },\n    {\n        \"month\": \"October\",\n        \"sales\": 29433,\n        \"store\": \"Store Y\"\n    },\n    {\n        \"month\": \"November\",\n        \"sales\": 27137,\n        \"store\": \"Store Y\"\n    },\n    {\n        \"month\": \"December\",\n        \"sales\": 36103,\n        \"store\": \"Store Y\"\n    },\n    {\n        \"month\": \"January\",\n        \"sales\": 43878,\n        \"store\": \"Store Z\"\n    },\n    {\n        \"month\": \"February\",\n        \"sales\": 49053,\n        \"store\": \"Store Z\"\n    },\n    {\n        \"month\": \"March\",\n        \"sales\": 43799,\n        \"store\": \"Store Z\"\n    },\n    {\n        \"month\": \"April\",\n        \"sales\": 47183,\n        \"store\": \"Store Z\"\n    },\n    {\n        \"month\": \"May\",\n        \"sales\": 13606,\n        \"store\": \"Store Z\"\n    },\n    {\n        \"month\": \"June\",\n        \"sales\": 12561,\n        \"store\": \"Store Z\"\n    },\n    {\n        \"month\": \"July\",\n        \"sales\": 39960,\n        \"store\": \"Store Z\"\n    },\n    {\n        \"month\": \"August\",\n        \"sales\": 42397,\n        \"store\": \"Store Z\"\n    },\n    {\n        \"month\": \"September\",\n        \"sales\": 49539,\n        \"store\": \"Store Z\"\n    },\n    {\n        \"month\": \"October\",\n        \"sales\": 10431,\n        \"store\": \"Store Z\"\n    },\n    {\n        \"month\": \"November\",\n        \"sales\": 46842,\n        \"store\": \"Store Z\"\n    },\n    {\n        \"month\": \"December\",\n        \"sales\": 26926,\n        \"store\": \"Store Z\"\n    }\n]\n\ndf = pd.DataFrame(data)"
            ]
        },
        {
            "cell_type": "markdown",
            "metadata": {},
            "source": [
                "## **Solution:** "
            ]
        },
        {
            "cell_type": "code",
            "execution_count": null,
            "metadata": [
                {}
            ],
            "source": [
                "import matplotlib.pyplot as plt\nimport plotly.express as px\n\ncolors={'Store X': 'gold', 'Store Y': 'silver', 'Store Z': '#cd7f32'}\nmean_sales = df.groupby(['store', 'month']).mean().unstack('store')\n\nmean_sales.plot(kind='bar', figsize=(14, 7), color=['gold', 'silver', '#cd7f32'])\nplt.title('Average Monthly Sales of Electronic Products Across Different Stores')\nplt.xlabel('Month')\nplt.ylabel('Average Sales ($)')\nplt.xticks(rotation=45)\nplt.legend(title='Store')\nplt.grid(axis='y')\nplt.show()"
            ]
        }
    ],
    "metadata": {
        "kernelspec": {
            "display_name": "Python 3",
            "language": "python",
            "name": "python3"
        },
        "language_info": {
            "codemirror_mode": {
                "name": "ipython",
                "version": 3
            },
            "file_extension": ".py",
            "mimetype": "text/x-python",
            "name": "python",
            "nbconvert_exporter": "python",
            "pygments_lexer": "ipython3",
            "version": "3.11.4"
        }
    },
    "nbformat": 4,
    "nbformat_minor": 2,
    "name_of_the_file": "Store sales comparison.ipynb"
}