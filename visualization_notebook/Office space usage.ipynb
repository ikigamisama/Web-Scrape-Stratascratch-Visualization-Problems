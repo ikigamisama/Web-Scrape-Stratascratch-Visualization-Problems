{
    "cells": [
        {
            "cell_type": "markdown",
            "metadata": {},
            "source": [
                "### **Link:** https://platform.stratascratch.com/visualizations/10489-office-space-usage?code_type=2"
            ]
        },
        {
            "cell_type": "markdown",
            "metadata": {},
            "source": [
                "# Office space usage"
            ]
        },
        {
            "cell_type": "markdown",
            "metadata": {},
            "source": [
                "##### **Difficulty:** Easy"
            ]
        },
        {
            "cell_type": "markdown",
            "metadata": {},
            "source": [
                "##### **ID:** ID 10489"
            ]
        },
        {
            "cell_type": "markdown",
            "metadata": {},
            "source": [
                "##### **Type:** Pie Chart"
            ]
        },
        {
            "cell_type": "markdown",
            "metadata": {},
            "source": [
                "##### **Analysis:** Distribution"
            ]
        },
        {
            "cell_type": "markdown",
            "metadata": {},
            "source": [
                "##### **Data Type:** Categorical Data"
            ]
        },
        {
            "cell_type": "markdown",
            "metadata": {},
            "source": [
                "##### Design a pie chart to illustrate the division of office space usage by different departments, using 'goldenrod' for Administration, 'lightblue' for Human Resources, and 'thistle' for IT Services."
            ]
        },
        {
            "cell_type": "markdown",
            "metadata": {},
            "source": [
                "## **Data:** "
            ]
        },
        {
            "cell_type": "code",
            "execution_count": null,
            "metadata": [
                {}
            ],
            "source": [
                "import pandas as pd \n\ndata = [\n    {\n        \"department\": \"Administration\",\n        \"office_space\": \"350\"\n    },\n    {\n        \"department\": \"Human Resources\",\n        \"office_space\": \"200\"\n    },\n    {\n        \"department\": \"IT Services\",\n        \"office_space\": \"450\"\n    }\n]\n\ndf = pd.DataFrame(data)"
            ]
        },
        {
            "cell_type": "markdown",
            "metadata": {},
            "source": [
                "## **Solution:** "
            ]
        },
        {
            "cell_type": "code",
            "execution_count": null,
            "metadata": [
                {}
            ],
            "source": [
                "import matplotlib.pyplot as plt\n\ncolor = ['goldenrod', 'lightblue', 'thistle']\nplt.figure(figsize=(8,8))\n\nplt.pie(df['office_space'], labels=df['department'], autopct=\"%1.1f%%\", startangle=140, colors=color)\nplt.title(\"Division of Office Space Usage by Department\")\nplt.show()"
            ]
        }
    ],
    "metadata": {
        "kernelspec": {
            "display_name": "Python 3",
            "language": "python",
            "name": "python3"
        },
        "language_info": {
            "codemirror_mode": {
                "name": "ipython",
                "version": 3
            },
            "file_extension": ".py",
            "mimetype": "text/x-python",
            "name": "python",
            "nbconvert_exporter": "python",
            "pygments_lexer": "ipython3",
            "version": "3.11.4"
        }
    },
    "nbformat": 4,
    "nbformat_minor": 2,
    "name_of_the_file": "Office space usage.ipynb"
}