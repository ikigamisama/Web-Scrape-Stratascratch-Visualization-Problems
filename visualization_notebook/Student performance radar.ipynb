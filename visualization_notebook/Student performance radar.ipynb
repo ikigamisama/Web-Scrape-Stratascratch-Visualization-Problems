{
    "cells": [
        {
            "cell_type": "markdown",
            "metadata": {},
            "source": [
                "### **Link:** https://platform.stratascratch.com/visualizations/10475-student-performance-radar?code_type=2"
            ]
        },
        {
            "cell_type": "markdown",
            "metadata": {},
            "source": [
                "# Student performance radar"
            ]
        },
        {
            "cell_type": "markdown",
            "metadata": {},
            "source": [
                "##### **Difficulty:** Hard"
            ]
        },
        {
            "cell_type": "markdown",
            "metadata": {},
            "source": [
                "##### **ID:** ID 10475"
            ]
        },
        {
            "cell_type": "markdown",
            "metadata": {},
            "source": [
                "##### **Type:** Radar Chart"
            ]
        },
        {
            "cell_type": "markdown",
            "metadata": {},
            "source": [
                "##### **Analysis:** Comparison"
            ]
        },
        {
            "cell_type": "markdown",
            "metadata": {},
            "source": [
                "##### **Data Type:** Categorical Data"
            ]
        },
        {
            "cell_type": "markdown",
            "metadata": {},
            "source": [
                "##### Create a radar chart to compare the performance of students in different subjects, using 'blueviolet' for Mathematics, 'chartreuse' for Science, and 'tomato' for History."
            ]
        },
        {
            "cell_type": "markdown",
            "metadata": {},
            "source": [
                "## **Data:** "
            ]
        },
        {
            "cell_type": "code",
            "execution_count": null,
            "metadata": [
                {}
            ],
            "source": [
                "import pandas as pd \n\ndata = [\n    {\n        \"mathematics\": 85,\n        \"science\": 90,\n        \"history\": 75\n    },\n    {\n        \"mathematics\": 78,\n        \"science\": 85,\n        \"history\": 80\n    },\n    {\n        \"mathematics\": 92,\n        \"science\": 88,\n        \"history\": 85\n    },\n    {\n        \"mathematics\": 88,\n        \"science\": 92,\n        \"history\": 70\n    },\n    {\n        \"mathematics\": 76,\n        \"science\": 80,\n        \"history\": 90\n    }\n]\n\ndf = pd.DataFrame(data)"
            ]
        },
        {
            "cell_type": "markdown",
            "metadata": {},
            "source": [
                "## **Solution:** "
            ]
        },
        {
            "cell_type": "code",
            "execution_count": null,
            "metadata": [
                {}
            ],
            "source": [
                "import matplotlib.pyplot as plt\nimport numpy as np\n\ncolors = {'mathematics': 'blueviolet', 'science': 'chartreuse', 'history': 'tomato'}\n\ncategories = df.columns\nN = len(categories)\n\nangles = [n / float(N) * 2 * np.pi for n in range(N)]\nangles += angles[:1]\n\nfig, ax = plt.subplots(figsize=(8, 8), subplot_kw=dict(polar=True))\nplt.xticks(angles[:-1], categories, color='grey', size=8)\n\nax.set_rlabel_position(0)\nplt.yticks([20, 40, 60, 80, 100], [\"20\", \"40\", \"60\", \"80\", \"100\"], color=\"grey\", size=7)\nplt.ylim(0, 100)\n\n\nfor idx, row in df.iterrows():\n    values = row.values.flatten().tolist()\n    values += values[:1]  # Complete the loop in radar chart\n    ax.plot(angles, values, label=idx)\n    ax.fill(angles, values, alpha=0.1)\n\nfor subject, color in colors.items():\n    ax.plot([], [], color=color, label=subject)\n\nplt.legend(loc='upper right', bbox_to_anchor=(0.1, 0.1))\nplt.title('Student Performance in Different Subjects', size=15, color='black', y=1.1)\nplt.show()"
            ]
        }
    ],
    "metadata": {
        "kernelspec": {
            "display_name": "Python 3",
            "language": "python",
            "name": "python3"
        },
        "language_info": {
            "codemirror_mode": {
                "name": "ipython",
                "version": 3
            },
            "file_extension": ".py",
            "mimetype": "text/x-python",
            "name": "python",
            "nbconvert_exporter": "python",
            "pygments_lexer": "ipython3",
            "version": "3.11.4"
        }
    },
    "nbformat": 4,
    "nbformat_minor": 2,
    "name_of_the_file": "Student performance radar.ipynb"
}