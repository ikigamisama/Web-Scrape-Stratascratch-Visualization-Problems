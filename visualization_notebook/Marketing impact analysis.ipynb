{
    "cells": [
        {
            "cell_type": "markdown",
            "metadata": {},
            "source": [
                "### **Link:** https://platform.stratascratch.com/visualizations/10476-marketing-impact-analysis?code_type=2"
            ]
        },
        {
            "cell_type": "markdown",
            "metadata": {},
            "source": [
                "# Marketing impact analysis"
            ]
        },
        {
            "cell_type": "markdown",
            "metadata": {},
            "source": [
                "##### **Difficulty:** Medium"
            ]
        },
        {
            "cell_type": "markdown",
            "metadata": {},
            "source": [
                "##### **ID:** ID 10476"
            ]
        },
        {
            "cell_type": "markdown",
            "metadata": {},
            "source": [
                "##### **Type:** Scatter Plot"
            ]
        },
        {
            "cell_type": "markdown",
            "metadata": {},
            "source": [
                "##### **Analysis:** Relationships"
            ]
        },
        {
            "cell_type": "markdown",
            "metadata": {},
            "source": [
                "##### **Data Type:** Numerical Data"
            ]
        },
        {
            "cell_type": "markdown",
            "metadata": {},
            "source": [
                "##### Develop a scatter plot to analyze the impact of marketing spend on customer acquisition costs, using 'seagreen' for low costs and 'crimson' for high costs."
            ]
        },
        {
            "cell_type": "markdown",
            "metadata": {},
            "source": [
                "## **Data:** "
            ]
        },
        {
            "cell_type": "code",
            "execution_count": null,
            "metadata": [
                {}
            ],
            "source": [
                "import pandas as pd \n\ndata = [\n    {\n        \"marketing_spend\": 7732,\n        \"customer_acquisition_cost\": 455,\n        \"cost_category\": \"High Cost\"\n    },\n    {\n        \"marketing_spend\": 48567,\n        \"customer_acquisition_cost\": 251,\n        \"cost_category\": \"High Cost\"\n    },\n    {\n        \"marketing_spend\": 47613,\n        \"customer_acquisition_cost\": 433,\n        \"cost_category\": \"High Cost\"\n    },\n    {\n        \"marketing_spend\": 26243,\n        \"customer_acquisition_cost\": 50,\n        \"cost_category\": \"Low Cost\"\n    },\n    {\n        \"marketing_spend\": 35403,\n        \"customer_acquisition_cost\": 444,\n        \"cost_category\": \"High Cost\"\n    },\n    {\n        \"marketing_spend\": 37103,\n        \"customer_acquisition_cost\": 420,\n        \"cost_category\": \"High Cost\"\n    },\n    {\n        \"marketing_spend\": 46993,\n        \"customer_acquisition_cost\": 93,\n        \"cost_category\": \"Low Cost\"\n    },\n    {\n        \"marketing_spend\": 25757,\n        \"customer_acquisition_cost\": 492,\n        \"cost_category\": \"High Cost\"\n    },\n    {\n        \"marketing_spend\": 19935,\n        \"customer_acquisition_cost\": 433,\n        \"cost_category\": \"High Cost\"\n    },\n    {\n        \"marketing_spend\": 20430,\n        \"customer_acquisition_cost\": 73,\n        \"cost_category\": \"Low Cost\"\n    },\n    {\n        \"marketing_spend\": 44512,\n        \"customer_acquisition_cost\": 237,\n        \"cost_category\": \"Low Cost\"\n    },\n    {\n        \"marketing_spend\": 19650,\n        \"customer_acquisition_cost\": 180,\n        \"cost_category\": \"Low Cost\"\n    },\n    {\n        \"marketing_spend\": 22089,\n        \"customer_acquisition_cost\": 427,\n        \"cost_category\": \"High Cost\"\n    },\n    {\n        \"marketing_spend\": 37230,\n        \"customer_acquisition_cost\": 148,\n        \"cost_category\": \"Low Cost\"\n    },\n    {\n        \"marketing_spend\": 23983,\n        \"customer_acquisition_cost\": 112,\n        \"cost_category\": \"Low Cost\"\n    },\n    {\n        \"marketing_spend\": 48095,\n        \"customer_acquisition_cost\": 469,\n        \"cost_category\": \"High Cost\"\n    },\n    {\n        \"marketing_spend\": 29152,\n        \"customer_acquisition_cost\": 272,\n        \"cost_category\": \"High Cost\"\n    },\n    {\n        \"marketing_spend\": 40665,\n        \"customer_acquisition_cost\": 173,\n        \"cost_category\": \"Low Cost\"\n    },\n    {\n        \"marketing_spend\": 21921,\n        \"customer_acquisition_cost\": 132,\n        \"cost_category\": \"Low Cost\"\n    },\n    {\n        \"marketing_spend\": 32469,\n        \"customer_acquisition_cost\": 480,\n        \"cost_category\": \"High Cost\"\n    },\n    {\n        \"marketing_spend\": 43984,\n        \"customer_acquisition_cost\": 277,\n        \"cost_category\": \"High Cost\"\n    },\n    {\n        \"marketing_spend\": 11921,\n        \"customer_acquisition_cost\": 198,\n        \"cost_category\": \"Low Cost\"\n    },\n    {\n        \"marketing_spend\": 43804,\n        \"customer_acquisition_cost\": 259,\n        \"cost_category\": \"High Cost\"\n    },\n    {\n        \"marketing_spend\": 7163,\n        \"customer_acquisition_cost\": 100,\n        \"cost_category\": \"Low Cost\"\n    },\n    {\n        \"marketing_spend\": 10072,\n        \"customer_acquisition_cost\": 461,\n        \"cost_category\": \"High Cost\"\n    },\n    {\n        \"marketing_spend\": 42619,\n        \"customer_acquisition_cost\": 320,\n        \"cost_category\": \"High Cost\"\n    },\n    {\n        \"marketing_spend\": 12877,\n        \"customer_acquisition_cost\": 91,\n        \"cost_category\": \"Low Cost\"\n    },\n    {\n        \"marketing_spend\": 23430,\n        \"customer_acquisition_cost\": 108,\n        \"cost_category\": \"Low Cost\"\n    },\n    {\n        \"marketing_spend\": 6871,\n        \"customer_acquisition_cost\": 243,\n        \"cost_category\": \"Low Cost\"\n    },\n    {\n        \"marketing_spend\": 12599,\n        \"customer_acquisition_cost\": 86,\n        \"cost_category\": \"Low Cost\"\n    },\n    {\n        \"marketing_spend\": 7496,\n        \"customer_acquisition_cost\": 316,\n        \"cost_category\": \"High Cost\"\n    },\n    {\n        \"marketing_spend\": 29675,\n        \"customer_acquisition_cost\": 136,\n        \"cost_category\": \"Low Cost\"\n    },\n    {\n        \"marketing_spend\": 47968,\n        \"customer_acquisition_cost\": 93,\n        \"cost_category\": \"Low Cost\"\n    },\n    {\n        \"marketing_spend\": 36921,\n        \"customer_acquisition_cost\": 410,\n        \"cost_category\": \"High Cost\"\n    },\n    {\n        \"marketing_spend\": 38523,\n        \"customer_acquisition_cost\": 61,\n        \"cost_category\": \"Low Cost\"\n    },\n    {\n        \"marketing_spend\": 5797,\n        \"customer_acquisition_cost\": 308,\n        \"cost_category\": \"High Cost\"\n    },\n    {\n        \"marketing_spend\": 8219,\n        \"customer_acquisition_cost\": 357,\n        \"cost_category\": \"High Cost\"\n    },\n    {\n        \"marketing_spend\": 20246,\n        \"customer_acquisition_cost\": 130,\n        \"cost_category\": \"Low Cost\"\n    },\n    {\n        \"marketing_spend\": 29999,\n        \"customer_acquisition_cost\": 82,\n        \"cost_category\": \"Low Cost\"\n    },\n    {\n        \"marketing_spend\": 21321,\n        \"customer_acquisition_cost\": 232,\n        \"cost_category\": \"Low Cost\"\n    },\n    {\n        \"marketing_spend\": 24129,\n        \"customer_acquisition_cost\": 178,\n        \"cost_category\": \"Low Cost\"\n    },\n    {\n        \"marketing_spend\": 46504,\n        \"customer_acquisition_cost\": 344,\n        \"cost_category\": \"High Cost\"\n    },\n    {\n        \"marketing_spend\": 23676,\n        \"customer_acquisition_cost\": 325,\n        \"cost_category\": \"High Cost\"\n    },\n    {\n        \"marketing_spend\": 36230,\n        \"customer_acquisition_cost\": 224,\n        \"cost_category\": \"Low Cost\"\n    },\n    {\n        \"marketing_spend\": 16723,\n        \"customer_acquisition_cost\": 92,\n        \"cost_category\": \"Low Cost\"\n    },\n    {\n        \"marketing_spend\": 48890,\n        \"customer_acquisition_cost\": 421,\n        \"cost_category\": \"High Cost\"\n    },\n    {\n        \"marketing_spend\": 22591,\n        \"customer_acquisition_cost\": 234,\n        \"cost_category\": \"Low Cost\"\n    },\n    {\n        \"marketing_spend\": 48136,\n        \"customer_acquisition_cost\": 494,\n        \"cost_category\": \"High Cost\"\n    },\n    {\n        \"marketing_spend\": 31752,\n        \"customer_acquisition_cost\": 127,\n        \"cost_category\": \"Low Cost\"\n    },\n    {\n        \"marketing_spend\": 28605,\n        \"customer_acquisition_cost\": 336,\n        \"cost_category\": \"High Cost\"\n    },\n    {\n        \"marketing_spend\": 11021,\n        \"customer_acquisition_cost\": 330,\n        \"cost_category\": \"High Cost\"\n    },\n    {\n        \"marketing_spend\": 25006,\n        \"customer_acquisition_cost\": 175,\n        \"cost_category\": \"Low Cost\"\n    },\n    {\n        \"marketing_spend\": 8560,\n        \"customer_acquisition_cost\": 308,\n        \"cost_category\": \"High Cost\"\n    },\n    {\n        \"marketing_spend\": 30332,\n        \"customer_acquisition_cost\": 53,\n        \"cost_category\": \"Low Cost\"\n    },\n    {\n        \"marketing_spend\": 36055,\n        \"customer_acquisition_cost\": 144,\n        \"cost_category\": \"Low Cost\"\n    },\n    {\n        \"marketing_spend\": 26368,\n        \"customer_acquisition_cost\": 276,\n        \"cost_category\": \"High Cost\"\n    },\n    {\n        \"marketing_spend\": 25737,\n        \"customer_acquisition_cost\": 413,\n        \"cost_category\": \"High Cost\"\n    },\n    {\n        \"marketing_spend\": 33647,\n        \"customer_acquisition_cost\": 319,\n        \"cost_category\": \"High Cost\"\n    },\n    {\n        \"marketing_spend\": 31681,\n        \"customer_acquisition_cost\": 418,\n        \"cost_category\": \"High Cost\"\n    },\n    {\n        \"marketing_spend\": 19627,\n        \"customer_acquisition_cost\": 346,\n        \"cost_category\": \"High Cost\"\n    },\n    {\n        \"marketing_spend\": 17134,\n        \"customer_acquisition_cost\": 378,\n        \"cost_category\": \"High Cost\"\n    },\n    {\n        \"marketing_spend\": 46390,\n        \"customer_acquisition_cost\": 69,\n        \"cost_category\": \"Low Cost\"\n    },\n    {\n        \"marketing_spend\": 25571,\n        \"customer_acquisition_cost\": 145,\n        \"cost_category\": \"Low Cost\"\n    },\n    {\n        \"marketing_spend\": 14781,\n        \"customer_acquisition_cost\": 378,\n        \"cost_category\": \"High Cost\"\n    },\n    {\n        \"marketing_spend\": 24340,\n        \"customer_acquisition_cost\": 460,\n        \"cost_category\": \"High Cost\"\n    },\n    {\n        \"marketing_spend\": 32257,\n        \"customer_acquisition_cost\": 298,\n        \"cost_category\": \"High Cost\"\n    },\n    {\n        \"marketing_spend\": 21298,\n        \"customer_acquisition_cost\": 230,\n        \"cost_category\": \"Low Cost\"\n    },\n    {\n        \"marketing_spend\": 17372,\n        \"customer_acquisition_cost\": 373,\n        \"cost_category\": \"High Cost\"\n    },\n    {\n        \"marketing_spend\": 9420,\n        \"customer_acquisition_cost\": 367,\n        \"cost_category\": \"High Cost\"\n    },\n    {\n        \"marketing_spend\": 44876,\n        \"customer_acquisition_cost\": 320,\n        \"cost_category\": \"High Cost\"\n    },\n    {\n        \"marketing_spend\": 22455,\n        \"customer_acquisition_cost\": 402,\n        \"cost_category\": \"High Cost\"\n    },\n    {\n        \"marketing_spend\": 19324,\n        \"customer_acquisition_cost\": 310,\n        \"cost_category\": \"High Cost\"\n    },\n    {\n        \"marketing_spend\": 43019,\n        \"customer_acquisition_cost\": 287,\n        \"cost_category\": \"High Cost\"\n    },\n    {\n        \"marketing_spend\": 12012,\n        \"customer_acquisition_cost\": 189,\n        \"cost_category\": \"Low Cost\"\n    },\n    {\n        \"marketing_spend\": 14396,\n        \"customer_acquisition_cost\": 136,\n        \"cost_category\": \"Low Cost\"\n    },\n    {\n        \"marketing_spend\": 8918,\n        \"customer_acquisition_cost\": 427,\n        \"cost_category\": \"High Cost\"\n    },\n    {\n        \"marketing_spend\": 14359,\n        \"customer_acquisition_cost\": 159,\n        \"cost_category\": \"Low Cost\"\n    },\n    {\n        \"marketing_spend\": 49259,\n        \"customer_acquisition_cost\": 381,\n        \"cost_category\": \"High Cost\"\n    },\n    {\n        \"marketing_spend\": 28482,\n        \"customer_acquisition_cost\": 234,\n        \"cost_category\": \"Low Cost\"\n    },\n    {\n        \"marketing_spend\": 20127,\n        \"customer_acquisition_cost\": 66,\n        \"cost_category\": \"Low Cost\"\n    },\n    {\n        \"marketing_spend\": 48727,\n        \"customer_acquisition_cost\": 202,\n        \"cost_category\": \"Low Cost\"\n    },\n    {\n        \"marketing_spend\": 40725,\n        \"customer_acquisition_cost\": 463,\n        \"cost_category\": \"High Cost\"\n    },\n    {\n        \"marketing_spend\": 42237,\n        \"customer_acquisition_cost\": 199,\n        \"cost_category\": \"Low Cost\"\n    },\n    {\n        \"marketing_spend\": 19165,\n        \"customer_acquisition_cost\": 160,\n        \"cost_category\": \"Low Cost\"\n    },\n    {\n        \"marketing_spend\": 13752,\n        \"customer_acquisition_cost\": 75,\n        \"cost_category\": \"Low Cost\"\n    },\n    {\n        \"marketing_spend\": 47565,\n        \"customer_acquisition_cost\": 494,\n        \"cost_category\": \"High Cost\"\n    },\n    {\n        \"marketing_spend\": 19505,\n        \"customer_acquisition_cost\": 427,\n        \"cost_category\": \"High Cost\"\n    },\n    {\n        \"marketing_spend\": 10795,\n        \"customer_acquisition_cost\": 424,\n        \"cost_category\": \"High Cost\"\n    },\n    {\n        \"marketing_spend\": 28647,\n        \"customer_acquisition_cost\": 167,\n        \"cost_category\": \"Low Cost\"\n    },\n    {\n        \"marketing_spend\": 45133,\n        \"customer_acquisition_cost\": 495,\n        \"cost_category\": \"High Cost\"\n    },\n    {\n        \"marketing_spend\": 33254,\n        \"customer_acquisition_cost\": 133,\n        \"cost_category\": \"Low Cost\"\n    },\n    {\n        \"marketing_spend\": 46216,\n        \"customer_acquisition_cost\": 211,\n        \"cost_category\": \"Low Cost\"\n    },\n    {\n        \"marketing_spend\": 41530,\n        \"customer_acquisition_cost\": 410,\n        \"cost_category\": \"High Cost\"\n    },\n    {\n        \"marketing_spend\": 30392,\n        \"customer_acquisition_cost\": 466,\n        \"cost_category\": \"High Cost\"\n    },\n    {\n        \"marketing_spend\": 21221,\n        \"customer_acquisition_cost\": 278,\n        \"cost_category\": \"High Cost\"\n    },\n    {\n        \"marketing_spend\": 23819,\n        \"customer_acquisition_cost\": 301,\n        \"cost_category\": \"High Cost\"\n    },\n    {\n        \"marketing_spend\": 39402,\n        \"customer_acquisition_cost\": 171,\n        \"cost_category\": \"Low Cost\"\n    },\n    {\n        \"marketing_spend\": 5973,\n        \"customer_acquisition_cost\": 376,\n        \"cost_category\": \"High Cost\"\n    },\n    {\n        \"marketing_spend\": 25848,\n        \"customer_acquisition_cost\": 337,\n        \"cost_category\": \"High Cost\"\n    },\n    {\n        \"marketing_spend\": 15215,\n        \"customer_acquisition_cost\": 63,\n        \"cost_category\": \"Low Cost\"\n    }\n]\n\ndf = pd.DataFrame(data)"
            ]
        },
        {
            "cell_type": "markdown",
            "metadata": {},
            "source": [
                "## **Solution:** "
            ]
        },
        {
            "cell_type": "code",
            "execution_count": null,
            "metadata": [
                {}
            ],
            "source": [
                "import matplotlib.pyplot as plt\n\ncolor_map =  {'Low Cost': 'seagreen', 'High Cost': 'crimson'}\n#marketing_spend, customer_acuisition_cost cost_category\nplt.figure(figsize=(10,6))\n\nfor cost, group in df.groupby('cost_category'):\n    plt.scatter(group['marketing_spend'], group['customer_acquisition_cost'], color=color_map[cost], label=cost, alpha=0.7)\n    \nplt.title('Impact of marketing Spend on Customer Acquisition Cost')\n\nplt.legend(handles=[\n    plt.Line2D([0], [0], marker='o', color='w', markerfacecolor='crimson', markersize=10, label='High Cost'),\n    plt.Line2D([0], [0], marker='o', color='w', markerfacecolor='seagreen', markersize=10, label='Low Cost')],\n           title='Cost Category', loc='lower left')\nplt.grid(True)\nplt.show()"
            ]
        }
    ],
    "metadata": {
        "kernelspec": {
            "display_name": "Python 3",
            "language": "python",
            "name": "python3"
        },
        "language_info": {
            "codemirror_mode": {
                "name": "ipython",
                "version": 3
            },
            "file_extension": ".py",
            "mimetype": "text/x-python",
            "name": "python",
            "nbconvert_exporter": "python",
            "pygments_lexer": "ipython3",
            "version": "3.11.4"
        }
    },
    "nbformat": 4,
    "nbformat_minor": 2,
    "name_of_the_file": "Marketing impact analysis.ipynb"
}