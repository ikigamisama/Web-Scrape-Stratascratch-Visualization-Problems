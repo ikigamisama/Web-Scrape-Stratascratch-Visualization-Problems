{
    "cells": [
        {
            "cell_type": "markdown",
            "metadata": {},
            "source": [
                "### **Link:** https://platform.stratascratch.com/visualizations/10527-research-grants-treemap?code_type=2"
            ]
        },
        {
            "cell_type": "markdown",
            "metadata": {},
            "source": [
                "# Research grants treemap"
            ]
        },
        {
            "cell_type": "markdown",
            "metadata": {},
            "source": [
                "##### **Difficulty:** Medium"
            ]
        },
        {
            "cell_type": "markdown",
            "metadata": {},
            "source": [
                "##### **ID:** ID 10527"
            ]
        },
        {
            "cell_type": "markdown",
            "metadata": {},
            "source": [
                "##### **Type:** Treemap"
            ]
        },
        {
            "cell_type": "markdown",
            "metadata": {},
            "source": [
                "##### **Analysis:** Distribution"
            ]
        },
        {
            "cell_type": "markdown",
            "metadata": {},
            "source": [
                "##### **Data Type:** Categorical Data"
            ]
        },
        {
            "cell_type": "markdown",
            "metadata": {},
            "source": [
                "##### Develop a treemap to visualize the different types of research grants awarded by a university, using 'lavender' for science, 'lightcoral' for engineering, and 'lightgreen' for humanities."
            ]
        },
        {
            "cell_type": "markdown",
            "metadata": {},
            "source": [
                "## **Data:** "
            ]
        },
        {
            "cell_type": "code",
            "execution_count": 2,
            "metadata": [
                {}
            ],
            "outputs": [],
            "source": [
                "import pandas as pd \n",
                "\n",
                "data = [\n",
                "    {\n",
                "        \"type\": \"Science\",\n",
                "        \"sub_type\": \"Biology\",\n",
                "        \"grants\": 150\n",
                "    },\n",
                "    {\n",
                "        \"type\": \"Engineering\",\n",
                "        \"sub_type\": \"Mechanical\",\n",
                "        \"grants\": 100\n",
                "    },\n",
                "    {\n",
                "        \"type\": \"Humanities\",\n",
                "        \"sub_type\": \"History\",\n",
                "        \"grants\": 80\n",
                "    },\n",
                "    {\n",
                "        \"type\": \"Science\",\n",
                "        \"sub_type\": \"Physics\",\n",
                "        \"grants\": 130\n",
                "    },\n",
                "    {\n",
                "        \"type\": \"Engineering\",\n",
                "        \"sub_type\": \"Electrical\",\n",
                "        \"grants\": 90\n",
                "    },\n",
                "    {\n",
                "        \"type\": \"Humanities\",\n",
                "        \"sub_type\": \"Philosophy\",\n",
                "        \"grants\": 70\n",
                "    }\n",
                "]\n",
                "\n",
                "df = pd.DataFrame(data)"
            ]
        },
        {
            "cell_type": "markdown",
            "metadata": {},
            "source": [
                "## **Solution:** "
            ]
        },
        {
            "cell_type": "code",
            "execution_count": 4,
            "metadata": [
                {}
            ],
            "outputs": [
                {
                    "data": {
                        "image/png": "[encoded data removed]",
                        "text/plain": [
                            "<Figure size 1200x800 with 1 Axes>"
                        ]
                    },
                    "metadata": {},
                    "output_type": "display_data"
                }
            ],
            "source": [
                "import matplotlib.pyplot as plt\n",
                "import squarify\n",
                "\n",
                "df_agg = df.groupby('type').sum().reset_index()\n",
                "colors = {'Science': 'lavender', 'Engineering': 'lightcoral', 'Humanities': 'lightgreen'}\n",
                "color_labels = [colors[key] for key in df_agg['type']]\n",
                "\n",
                "plt.figure(figsize=(12, 8))\n",
                "squarify.plot(sizes=df_agg['grants'], label=df_agg['type'], color=color_labels, alpha=0.7)\n",
                "plt.title('Research Grants Awarded by University')\n",
                "plt.axis('off')\n",
                "plt.show()"
            ]
        },
        {
            "cell_type": "code",
            "execution_count": null,
            "metadata": {},
            "outputs": [],
            "source": []
        }
    ],
    "metadata": {
        "kernelspec": {
            "display_name": "Python 3",
            "language": "python",
            "name": "python3"
        },
        "language_info": {
            "codemirror_mode": {
                "name": "ipython",
                "version": 3
            },
            "file_extension": ".py",
            "mimetype": "text/x-python",
            "name": "python",
            "nbconvert_exporter": "python",
            "pygments_lexer": "ipython3",
            "version": "3.11.4"
        }
    },
    "nbformat": 4,
    "nbformat_minor": 2
}
