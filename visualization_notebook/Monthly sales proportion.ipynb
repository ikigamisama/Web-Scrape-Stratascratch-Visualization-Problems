{
    "cells": [
        {
            "cell_type": "markdown",
            "metadata": {},
            "source": [
                "### **Link:** https://platform.stratascratch.com/visualizations/10449-monthly-sales-proportion?code_type=2"
            ]
        },
        {
            "cell_type": "markdown",
            "metadata": {},
            "source": [
                "# Monthly sales proportion"
            ]
        },
        {
            "cell_type": "markdown",
            "metadata": {},
            "source": [
                "##### **Difficulty:** Medium"
            ]
        },
        {
            "cell_type": "markdown",
            "metadata": {},
            "source": [
                "##### **ID:** ID 10449"
            ]
        },
        {
            "cell_type": "markdown",
            "metadata": {},
            "source": [
                "##### **Type:** Stacked Bar Chart"
            ]
        },
        {
            "cell_type": "markdown",
            "metadata": {},
            "source": [
                "##### **Analysis:** Trend Analysis"
            ]
        },
        {
            "cell_type": "markdown",
            "metadata": {},
            "source": [
                "##### **Data Type:** Time Series Data & Categorical Data"
            ]
        },
        {
            "cell_type": "markdown",
            "metadata": {},
            "source": [
                "##### Create a stacked bar chart to display the proportion of total sales generated from different product lines each month, using 'indigo' for electronics, 'khaki' for apparel, and 'lavender' for accessories."
            ]
        },
        {
            "cell_type": "markdown",
            "metadata": {},
            "source": [
                "## **Data:** "
            ]
        },
        {
            "cell_type": "code",
            "execution_count": null,
            "metadata": [
                {}
            ],
            "source": [
                "import pandas as pd \n\ndata = [\n    {\n        \"date\": \"2023-01-31 00:00:00\",\n        \"electronics\": 1451,\n        \"apparel\": 1909,\n        \"accessories\": 602\n    },\n    {\n        \"date\": \"2023-02-28 00:00:00\",\n        \"electronics\": 2364,\n        \"apparel\": 1628,\n        \"accessories\": 849\n    },\n    {\n        \"date\": \"2023-03-31 00:00:00\",\n        \"electronics\": 3033,\n        \"apparel\": 915,\n        \"accessories\": 940\n    },\n    {\n        \"date\": \"2023-04-30 00:00:00\",\n        \"electronics\": 3409,\n        \"apparel\": 1258,\n        \"accessories\": 1277\n    },\n    {\n        \"date\": \"2023-05-31 00:00:00\",\n        \"electronics\": 3181,\n        \"apparel\": 1467,\n        \"accessories\": 1063\n    },\n    {\n        \"date\": \"2023-06-30 00:00:00\",\n        \"electronics\": 1986,\n        \"apparel\": 1420,\n        \"accessories\": 1464\n    },\n    {\n        \"date\": \"2023-07-31 00:00:00\",\n        \"electronics\": 3184,\n        \"apparel\": 1069,\n        \"accessories\": 1449\n    },\n    {\n        \"date\": \"2023-08-31 00:00:00\",\n        \"electronics\": 3899,\n        \"apparel\": 2729,\n        \"accessories\": 1321\n    },\n    {\n        \"date\": \"2023-09-30 00:00:00\",\n        \"electronics\": 2384,\n        \"apparel\": 1885,\n        \"accessories\": 1339\n    },\n    {\n        \"date\": \"2023-10-31 00:00:00\",\n        \"electronics\": 4775,\n        \"apparel\": 2991,\n        \"accessories\": 1327\n    },\n    {\n        \"date\": \"2023-11-30 00:00:00\",\n        \"electronics\": 3096,\n        \"apparel\": 2173,\n        \"accessories\": 670\n    },\n    {\n        \"date\": \"2023-12-31 00:00:00\",\n        \"electronics\": 2901,\n        \"apparel\": 1070,\n        \"accessories\": 1373\n    }\n]\n\ndf = pd.DataFrame(data)"
            ]
        },
        {
            "cell_type": "markdown",
            "metadata": {},
            "source": [
                "## **Solution:** "
            ]
        },
        {
            "cell_type": "code",
            "execution_count": null,
            "metadata": [
                {}
            ],
            "source": [
                "import matplotlib.pyplot as plt\n\nfig, ax = plt.subplots(figsize=(12, 6))\nax.bar(df['date'].dt.strftime('%b'), df['electronics'], label='Electronics', color='indigo')\nax.bar(df['date'].dt.strftime('%b'), df['apparel'], bottom=df['electronics'], label='Apparel', color='khaki')\nax.bar(df['date'].dt.strftime('%b'), df['accessories'], bottom=df['electronics'] + df['apparel'], label='Accessories', color='lavender')\n\nplt.title('Monthly Sales Proportion by Product Line')\nplt.xlabel('Month')\nplt.ylabel('Total Sales')\nplt.xticks(rotation=45)\nplt.legend()\nplt.show()"
            ]
        }
    ],
    "metadata": {
        "kernelspec": {
            "display_name": "Python 3",
            "language": "python",
            "name": "python3"
        },
        "language_info": {
            "codemirror_mode": {
                "name": "ipython",
                "version": 3
            },
            "file_extension": ".py",
            "mimetype": "text/x-python",
            "name": "python",
            "nbconvert_exporter": "python",
            "pygments_lexer": "ipython3",
            "version": "3.11.4"
        }
    },
    "nbformat": 4,
    "nbformat_minor": 2,
    "name_of_the_file": "Monthly sales proportion.ipynb"
}