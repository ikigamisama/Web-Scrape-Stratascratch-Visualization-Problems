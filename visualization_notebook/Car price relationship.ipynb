{
    "cells": [
        {
            "cell_type": "markdown",
            "metadata": {},
            "source": [
                "### **Link:** https://platform.stratascratch.com/visualizations/10438-car-price-relationship?code_type=2"
            ]
        },
        {
            "cell_type": "markdown",
            "metadata": {},
            "source": [
                "# Car price relationship"
            ]
        },
        {
            "cell_type": "markdown",
            "metadata": {},
            "source": [
                "##### **Difficulty:** Medium"
            ]
        },
        {
            "cell_type": "markdown",
            "metadata": {},
            "source": [
                "##### **ID:** ID 10438"
            ]
        },
        {
            "cell_type": "markdown",
            "metadata": {},
            "source": [
                "##### **Type:** Scatter Plot"
            ]
        },
        {
            "cell_type": "markdown",
            "metadata": {},
            "source": [
                "##### **Analysis:** Relationships"
            ]
        },
        {
            "cell_type": "markdown",
            "metadata": {},
            "source": [
                "##### **Data Type:** Numerical Data"
            ]
        },
        {
            "cell_type": "markdown",
            "metadata": {},
            "source": [
                "##### Create a scatter plot to analyze the relationship between the age of a car and its selling price at different dealerships. Use colors 'lightblue' for Dealership A, 'coral' for Dealership B, and 'limegreen' for Dealership C."
            ]
        },
        {
            "cell_type": "markdown",
            "metadata": {},
            "source": [
                "## **Data:** "
            ]
        },
        {
            "cell_type": "code",
            "execution_count": null,
            "metadata": [
                {}
            ],
            "source": [
                "import pandas as pd \n\ndata = [\n    {\n        \"age\": 6,\n        \"selling_price\": 11521,\n        \"dealership\": \"Dealership C\"\n    },\n    {\n        \"age\": 1,\n        \"selling_price\": 27626,\n        \"dealership\": \"Dealership C\"\n    },\n    {\n        \"age\": 4,\n        \"selling_price\": 29126,\n        \"dealership\": \"Dealership A\"\n    },\n    {\n        \"age\": 4,\n        \"selling_price\": 14123,\n        \"dealership\": \"Dealership C\"\n    },\n    {\n        \"age\": 8,\n        \"selling_price\": 15179,\n        \"dealership\": \"Dealership C\"\n    },\n    {\n        \"age\": 4,\n        \"selling_price\": 28122,\n        \"dealership\": \"Dealership C\"\n    },\n    {\n        \"age\": 6,\n        \"selling_price\": 19254,\n        \"dealership\": \"Dealership B\"\n    },\n    {\n        \"age\": 3,\n        \"selling_price\": 24171,\n        \"dealership\": \"Dealership B\"\n    },\n    {\n        \"age\": 5,\n        \"selling_price\": 28700,\n        \"dealership\": \"Dealership A\"\n    },\n    {\n        \"age\": 8,\n        \"selling_price\": 9305,\n        \"dealership\": \"Dealership A\"\n    },\n    {\n        \"age\": 7,\n        \"selling_price\": 23994,\n        \"dealership\": \"Dealership A\"\n    },\n    {\n        \"age\": 9,\n        \"selling_price\": 10531,\n        \"dealership\": \"Dealership C\"\n    },\n    {\n        \"age\": 9,\n        \"selling_price\": 28310,\n        \"dealership\": \"Dealership C\"\n    },\n    {\n        \"age\": 2,\n        \"selling_price\": 20041,\n        \"dealership\": \"Dealership B\"\n    },\n    {\n        \"age\": 7,\n        \"selling_price\": 28588,\n        \"dealership\": \"Dealership B\"\n    },\n    {\n        \"age\": 8,\n        \"selling_price\": 28306,\n        \"dealership\": \"Dealership A\"\n    },\n    {\n        \"age\": 8,\n        \"selling_price\": 9182,\n        \"dealership\": \"Dealership A\"\n    },\n    {\n        \"age\": 9,\n        \"selling_price\": 20403,\n        \"dealership\": \"Dealership C\"\n    },\n    {\n        \"age\": 2,\n        \"selling_price\": 18160,\n        \"dealership\": \"Dealership B\"\n    },\n    {\n        \"age\": 6,\n        \"selling_price\": 20106,\n        \"dealership\": \"Dealership B\"\n    },\n    {\n        \"age\": 9,\n        \"selling_price\": 5307,\n        \"dealership\": \"Dealership C\"\n    },\n    {\n        \"age\": 5,\n        \"selling_price\": 18392,\n        \"dealership\": \"Dealership A\"\n    },\n    {\n        \"age\": 4,\n        \"selling_price\": 19368,\n        \"dealership\": \"Dealership B\"\n    },\n    {\n        \"age\": 1,\n        \"selling_price\": 10302,\n        \"dealership\": \"Dealership B\"\n    },\n    {\n        \"age\": 4,\n        \"selling_price\": 6152,\n        \"dealership\": \"Dealership B\"\n    },\n    {\n        \"age\": 6,\n        \"selling_price\": 28334,\n        \"dealership\": \"Dealership B\"\n    },\n    {\n        \"age\": 1,\n        \"selling_price\": 13467,\n        \"dealership\": \"Dealership B\"\n    },\n    {\n        \"age\": 3,\n        \"selling_price\": 10294,\n        \"dealership\": \"Dealership C\"\n    },\n    {\n        \"age\": 4,\n        \"selling_price\": 18866,\n        \"dealership\": \"Dealership C\"\n    },\n    {\n        \"age\": 9,\n        \"selling_price\": 18683,\n        \"dealership\": \"Dealership C\"\n    },\n    {\n        \"age\": 2,\n        \"selling_price\": 22592,\n        \"dealership\": \"Dealership A\"\n    },\n    {\n        \"age\": 4,\n        \"selling_price\": 7492,\n        \"dealership\": \"Dealership B\"\n    },\n    {\n        \"age\": 4,\n        \"selling_price\": 20949,\n        \"dealership\": \"Dealership C\"\n    },\n    {\n        \"age\": 4,\n        \"selling_price\": 19622,\n        \"dealership\": \"Dealership B\"\n    },\n    {\n        \"age\": 8,\n        \"selling_price\": 18592,\n        \"dealership\": \"Dealership B\"\n    },\n    {\n        \"age\": 1,\n        \"selling_price\": 5770,\n        \"dealership\": \"Dealership B\"\n    },\n    {\n        \"age\": 2,\n        \"selling_price\": 20875,\n        \"dealership\": \"Dealership B\"\n    },\n    {\n        \"age\": 1,\n        \"selling_price\": 13286,\n        \"dealership\": \"Dealership A\"\n    },\n    {\n        \"age\": 5,\n        \"selling_price\": 16490,\n        \"dealership\": \"Dealership C\"\n    },\n    {\n        \"age\": 8,\n        \"selling_price\": 10995,\n        \"dealership\": \"Dealership C\"\n    },\n    {\n        \"age\": 4,\n        \"selling_price\": 23728,\n        \"dealership\": \"Dealership A\"\n    },\n    {\n        \"age\": 3,\n        \"selling_price\": 18640,\n        \"dealership\": \"Dealership B\"\n    },\n    {\n        \"age\": 8,\n        \"selling_price\": 8091,\n        \"dealership\": \"Dealership B\"\n    },\n    {\n        \"age\": 3,\n        \"selling_price\": 17895,\n        \"dealership\": \"Dealership A\"\n    },\n    {\n        \"age\": 1,\n        \"selling_price\": 8912,\n        \"dealership\": \"Dealership A\"\n    },\n    {\n        \"age\": 1,\n        \"selling_price\": 22818,\n        \"dealership\": \"Dealership A\"\n    },\n    {\n        \"age\": 5,\n        \"selling_price\": 11594,\n        \"dealership\": \"Dealership C\"\n    },\n    {\n        \"age\": 6,\n        \"selling_price\": 26752,\n        \"dealership\": \"Dealership B\"\n    },\n    {\n        \"age\": 6,\n        \"selling_price\": 29756,\n        \"dealership\": \"Dealership C\"\n    },\n    {\n        \"age\": 7,\n        \"selling_price\": 28532,\n        \"dealership\": \"Dealership B\"\n    },\n    {\n        \"age\": 9,\n        \"selling_price\": 12997,\n        \"dealership\": \"Dealership C\"\n    },\n    {\n        \"age\": 5,\n        \"selling_price\": 25238,\n        \"dealership\": \"Dealership A\"\n    },\n    {\n        \"age\": 2,\n        \"selling_price\": 13032,\n        \"dealership\": \"Dealership C\"\n    },\n    {\n        \"age\": 5,\n        \"selling_price\": 20620,\n        \"dealership\": \"Dealership A\"\n    },\n    {\n        \"age\": 9,\n        \"selling_price\": 13131,\n        \"dealership\": \"Dealership B\"\n    },\n    {\n        \"age\": 2,\n        \"selling_price\": 9845,\n        \"dealership\": \"Dealership B\"\n    },\n    {\n        \"age\": 2,\n        \"selling_price\": 26500,\n        \"dealership\": \"Dealership B\"\n    },\n    {\n        \"age\": 8,\n        \"selling_price\": 15838,\n        \"dealership\": \"Dealership A\"\n    },\n    {\n        \"age\": 4,\n        \"selling_price\": 8533,\n        \"dealership\": \"Dealership A\"\n    },\n    {\n        \"age\": 7,\n        \"selling_price\": 7937,\n        \"dealership\": \"Dealership A\"\n    },\n    {\n        \"age\": 8,\n        \"selling_price\": 9939,\n        \"dealership\": \"Dealership A\"\n    },\n    {\n        \"age\": 3,\n        \"selling_price\": 14744,\n        \"dealership\": \"Dealership A\"\n    },\n    {\n        \"age\": 1,\n        \"selling_price\": 24608,\n        \"dealership\": \"Dealership A\"\n    },\n    {\n        \"age\": 4,\n        \"selling_price\": 10021,\n        \"dealership\": \"Dealership B\"\n    },\n    {\n        \"age\": 6,\n        \"selling_price\": 6134,\n        \"dealership\": \"Dealership A\"\n    },\n    {\n        \"age\": 5,\n        \"selling_price\": 21409,\n        \"dealership\": \"Dealership C\"\n    },\n    {\n        \"age\": 5,\n        \"selling_price\": 14680,\n        \"dealership\": \"Dealership C\"\n    },\n    {\n        \"age\": 7,\n        \"selling_price\": 22340,\n        \"dealership\": \"Dealership B\"\n    },\n    {\n        \"age\": 5,\n        \"selling_price\": 6913,\n        \"dealership\": \"Dealership B\"\n    },\n    {\n        \"age\": 5,\n        \"selling_price\": 24318,\n        \"dealership\": \"Dealership B\"\n    },\n    {\n        \"age\": 4,\n        \"selling_price\": 18429,\n        \"dealership\": \"Dealership C\"\n    },\n    {\n        \"age\": 5,\n        \"selling_price\": 18907,\n        \"dealership\": \"Dealership B\"\n    },\n    {\n        \"age\": 5,\n        \"selling_price\": 7721,\n        \"dealership\": \"Dealership B\"\n    },\n    {\n        \"age\": 9,\n        \"selling_price\": 15088,\n        \"dealership\": \"Dealership A\"\n    },\n    {\n        \"age\": 5,\n        \"selling_price\": 22312,\n        \"dealership\": \"Dealership B\"\n    },\n    {\n        \"age\": 4,\n        \"selling_price\": 20588,\n        \"dealership\": \"Dealership C\"\n    },\n    {\n        \"age\": 8,\n        \"selling_price\": 10627,\n        \"dealership\": \"Dealership B\"\n    },\n    {\n        \"age\": 6,\n        \"selling_price\": 27649,\n        \"dealership\": \"Dealership B\"\n    },\n    {\n        \"age\": 6,\n        \"selling_price\": 10446,\n        \"dealership\": \"Dealership A\"\n    },\n    {\n        \"age\": 1,\n        \"selling_price\": 5469,\n        \"dealership\": \"Dealership A\"\n    },\n    {\n        \"age\": 2,\n        \"selling_price\": 15527,\n        \"dealership\": \"Dealership B\"\n    },\n    {\n        \"age\": 6,\n        \"selling_price\": 13717,\n        \"dealership\": \"Dealership B\"\n    },\n    {\n        \"age\": 4,\n        \"selling_price\": 23247,\n        \"dealership\": \"Dealership C\"\n    },\n    {\n        \"age\": 1,\n        \"selling_price\": 6720,\n        \"dealership\": \"Dealership B\"\n    },\n    {\n        \"age\": 6,\n        \"selling_price\": 10272,\n        \"dealership\": \"Dealership C\"\n    },\n    {\n        \"age\": 1,\n        \"selling_price\": 21975,\n        \"dealership\": \"Dealership C\"\n    },\n    {\n        \"age\": 2,\n        \"selling_price\": 11185,\n        \"dealership\": \"Dealership B\"\n    },\n    {\n        \"age\": 3,\n        \"selling_price\": 23706,\n        \"dealership\": \"Dealership C\"\n    },\n    {\n        \"age\": 5,\n        \"selling_price\": 20912,\n        \"dealership\": \"Dealership C\"\n    },\n    {\n        \"age\": 3,\n        \"selling_price\": 21591,\n        \"dealership\": \"Dealership A\"\n    },\n    {\n        \"age\": 1,\n        \"selling_price\": 20115,\n        \"dealership\": \"Dealership B\"\n    },\n    {\n        \"age\": 4,\n        \"selling_price\": 25646,\n        \"dealership\": \"Dealership B\"\n    },\n    {\n        \"age\": 3,\n        \"selling_price\": 19447,\n        \"dealership\": \"Dealership B\"\n    },\n    {\n        \"age\": 1,\n        \"selling_price\": 24805,\n        \"dealership\": \"Dealership C\"\n    },\n    {\n        \"age\": 8,\n        \"selling_price\": 26633,\n        \"dealership\": \"Dealership B\"\n    },\n    {\n        \"age\": 6,\n        \"selling_price\": 15102,\n        \"dealership\": \"Dealership B\"\n    },\n    {\n        \"age\": 1,\n        \"selling_price\": 16052,\n        \"dealership\": \"Dealership B\"\n    },\n    {\n        \"age\": 3,\n        \"selling_price\": 29792,\n        \"dealership\": \"Dealership C\"\n    },\n    {\n        \"age\": 8,\n        \"selling_price\": 20741,\n        \"dealership\": \"Dealership A\"\n    },\n    {\n        \"age\": 3,\n        \"selling_price\": 29600,\n        \"dealership\": \"Dealership B\"\n    }\n]\n\ndf = pd.DataFrame(data)"
            ]
        },
        {
            "cell_type": "markdown",
            "metadata": {},
            "source": [
                "## **Solution:** "
            ]
        },
        {
            "cell_type": "code",
            "execution_count": null,
            "metadata": [
                {}
            ],
            "source": [
                "import matplotlib.pyplot as plt\n\n#plotting the chart\ncolor_map = {'Dealership A': 'lightblue', 'Dealership B': 'coral', 'Dealership C': 'limegreen'}\nplt.figure(figsize=(10,6))\n#adding plot titles and labels\nfor car, group in df.groupby('dealership'):\n    plt.scatter(group['age'], group['selling_price'], label=car, color=color_map[car])\n    \nplt.title(\"Relationship between Age of Car and Selling Price by Dealership\")\nplt.xlabel(\"Age of Car (years)\")\nplt.ylabel(\"Selling Price ($)\")\nplt.grid(True)\nplt.legend(handles=[\n        plt.Line2D([0], [0], marker='o', color='w', markerfacecolor='lightblue', markersize=10, label='Dealership A'),\n        plt.Line2D([0], [0], marker='o', color='w', markerfacecolor='coral', markersize=10, label='Dealership B'),\n        plt.Line2D([0], [0], marker='o', color='w', markerfacecolor='limegreen', markersize=10, label='Dealership C')],\n           title='Dealership', loc='upper center')\nplt.show()"
            ]
        }
    ],
    "metadata": {
        "kernelspec": {
            "display_name": "Python 3",
            "language": "python",
            "name": "python3"
        },
        "language_info": {
            "codemirror_mode": {
                "name": "ipython",
                "version": 3
            },
            "file_extension": ".py",
            "mimetype": "text/x-python",
            "name": "python",
            "nbconvert_exporter": "python",
            "pygments_lexer": "ipython3",
            "version": "3.11.4"
        }
    },
    "nbformat": 4,
    "nbformat_minor": 2,
    "name_of_the_file": "Car price relationship.ipynb"
}