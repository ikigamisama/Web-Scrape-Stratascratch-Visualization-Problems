{
    "cells": [
        {
            "cell_type": "markdown",
            "metadata": {},
            "source": [
                "### **Link:** https://platform.stratascratch.com/visualizations/10504-ev-efficiency-comparison?code_type=2"
            ]
        },
        {
            "cell_type": "markdown",
            "metadata": {},
            "source": [
                "# EV efficiency comparison"
            ]
        },
        {
            "cell_type": "markdown",
            "metadata": {},
            "source": [
                "##### **Difficulty:** Hard"
            ]
        },
        {
            "cell_type": "markdown",
            "metadata": {},
            "source": [
                "##### **ID:** ID 10504"
            ]
        },
        {
            "cell_type": "markdown",
            "metadata": {},
            "source": [
                "##### **Type:** Radial Bar Chart"
            ]
        },
        {
            "cell_type": "markdown",
            "metadata": {},
            "source": [
                "##### **Analysis:** Comparison"
            ]
        },
        {
            "cell_type": "markdown",
            "metadata": {},
            "source": [
                "##### **Data Type:** Numerical Data"
            ]
        },
        {
            "cell_type": "markdown",
            "metadata": {},
            "source": [
                "##### Deploy a radial bar chart to compare the energy efficiency of different models of electric vehicles, using 'powderblue' for low efficiency, 'purple' for medium, and 'red' for high efficiency."
            ]
        },
        {
            "cell_type": "markdown",
            "metadata": {},
            "source": [
                "## **Data:** "
            ]
        },
        {
            "cell_type": "code",
            "execution_count": null,
            "metadata": [
                {}
            ],
            "source": [
                "import pandas as pd \n\ndata = [\n    {\n        \"model\": \"Model X\",\n        \"efficiency\": 80,\n        \"efficiency_category\": \"Medium\"\n    },\n    {\n        \"model\": \"Model Y\",\n        \"efficiency\": 60,\n        \"efficiency_category\": \"Medium\"\n    },\n    {\n        \"model\": \"Model Z\",\n        \"efficiency\": 90,\n        \"efficiency_category\": \"High\"\n    },\n    {\n        \"model\": \"Model A\",\n        \"efficiency\": 70,\n        \"efficiency_category\": \"Medium\"\n    },\n    {\n        \"model\": \"Model B\",\n        \"efficiency\": 50,\n        \"efficiency_category\": \"Low\"\n    },\n    {\n        \"model\": \"Model C\",\n        \"efficiency\": 95,\n        \"efficiency_category\": \"High\"\n    }\n]\n\ndf = pd.DataFrame(data)"
            ]
        },
        {
            "cell_type": "markdown",
            "metadata": {},
            "source": [
                "## **Solution:** "
            ]
        },
        {
            "cell_type": "code",
            "execution_count": null,
            "metadata": [
                {}
            ],
            "source": [
                "import matplotlib.pyplot as plt\nimport numpy as np\n\ncolors = {'Low': 'powderblue', 'Medium': 'purple', 'High': 'red'}\n\nnum_models = len(df['model'])\nangles = np.linspace(0, 2 * np.pi, num_models, endpoint=False).tolist()\n\n\ndf = df.set_index('model')\ndf = df.reindex(index=df.index.tolist() + [df.index[0]])\nvalues = df['efficiency'].tolist()\nangles += angles[:1]\n\nfig, ax = plt.subplots(figsize=(8, 8), subplot_kw=dict(polar=True))\nbars = ax.bar(angles, values, color=[colors[cat] for cat in df['efficiency_category']], alpha=0.7)\n\nax.set_yticklabels([])\nax.set_xticks(angles[:-1])\nax.set_xticklabels(df.index[:-1])\n\nplt.title('Energy Efficiency of Different Electric Vehicle Models', size=15, color='black', y=1.1)\nplt.show()"
            ]
        }
    ],
    "metadata": {
        "kernelspec": {
            "display_name": "Python 3",
            "language": "python",
            "name": "python3"
        },
        "language_info": {
            "codemirror_mode": {
                "name": "ipython",
                "version": 3
            },
            "file_extension": ".py",
            "mimetype": "text/x-python",
            "name": "python",
            "nbconvert_exporter": "python",
            "pygments_lexer": "ipython3",
            "version": "3.11.4"
        }
    },
    "nbformat": 4,
    "nbformat_minor": 2,
    "name_of_the_file": "EV efficiency comparison.ipynb"
}