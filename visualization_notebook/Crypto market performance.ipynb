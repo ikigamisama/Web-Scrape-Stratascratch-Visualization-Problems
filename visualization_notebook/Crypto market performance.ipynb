{
    "cells": [
        {
            "cell_type": "markdown",
            "metadata": {},
            "source": [
                "### **Link:** https://platform.stratascratch.com/visualizations/10531-crypto-market-performance?code_type=2"
            ]
        },
        {
            "cell_type": "markdown",
            "metadata": {},
            "source": [
                "# Crypto market performance"
            ]
        },
        {
            "cell_type": "markdown",
            "metadata": {},
            "source": [
                "##### **Difficulty:** Hard"
            ]
        },
        {
            "cell_type": "markdown",
            "metadata": {},
            "source": [
                "##### **ID:** ID 10531"
            ]
        },
        {
            "cell_type": "markdown",
            "metadata": {},
            "source": [
                "##### **Type:** Polar Area Chart"
            ]
        },
        {
            "cell_type": "markdown",
            "metadata": {},
            "source": [
                "##### **Analysis:** Comparison"
            ]
        },
        {
            "cell_type": "markdown",
            "metadata": {},
            "source": [
                "##### **Data Type:** Numerical Data"
            ]
        },
        {
            "cell_type": "markdown",
            "metadata": {},
            "source": [
                "##### Construct a polar area chart to illustrate the relative market performance of various cryptocurrencies, using 'gold' for Bitcoin, 'silver' for Ethereum, and 'bronze' for Ripple."
            ]
        },
        {
            "cell_type": "markdown",
            "metadata": {},
            "source": [
                "## **Data:** "
            ]
        },
        {
            "cell_type": "code",
            "execution_count": null,
            "metadata": [
                {}
            ],
            "source": [
                "import pandas as pd \n\ndata = [\n    {\n        \"cryptocurrency\": \"Bitcoin\",\n        \"market_performance\": 45\n    },\n    {\n        \"cryptocurrency\": \"Ethereum\",\n        \"market_performance\": 30\n    },\n    {\n        \"cryptocurrency\": \"Ripple\",\n        \"market_performance\": 25\n    }\n]\n\ndf = pd.DataFrame(data)"
            ]
        },
        {
            "cell_type": "markdown",
            "metadata": {},
            "source": [
                "## **Solution:** "
            ]
        },
        {
            "cell_type": "code",
            "execution_count": null,
            "metadata": [
                {}
            ],
            "source": [
                "import matplotlib.pyplot as plt\nimport numpy as np\n\nlabels = df['cryptocurrency']\nvalues = df['market_performance']\n\nnum_vars = len(labels)\nangles = np.linspace(0, 2 * np.pi, num_vars, endpoint=False).tolist()\n\nvalues = np.concatenate((values, [values[0]]))  # Close the circle for values\nangles += angles[:1]  # Close the circle for angles\n\n\ncolors = ['gold', 'silver', '#cd7f32', 'gold']  # Hex code '#cd7f32' for bronze\nfig, ax = plt.subplots(figsize=(8, 8), subplot_kw=dict(polar=True))\nbars = ax.bar(angles, values, color=colors, edgecolor='black', linewidth=2, alpha=0.75)\n\n\nax.set_yticklabels([])\nax.set_xticks(angles[:-1])  # Exclude the repeated angle for labeling\nax.set_xticklabels(labels)\n\nplt.title('Relative Market Performance of Various Cryptocurrencies', size=20, color='black', y=1.1)\n\nplt.show()"
            ]
        }
    ],
    "metadata": {
        "kernelspec": {
            "display_name": "Python 3",
            "language": "python",
            "name": "python3"
        },
        "language_info": {
            "codemirror_mode": {
                "name": "ipython",
                "version": 3
            },
            "file_extension": ".py",
            "mimetype": "text/x-python",
            "name": "python",
            "nbconvert_exporter": "python",
            "pygments_lexer": "ipython3",
            "version": "3.11.4"
        }
    },
    "nbformat": 4,
    "nbformat_minor": 2,
    "name_of_the_file": "Crypto market performance.ipynb"
}