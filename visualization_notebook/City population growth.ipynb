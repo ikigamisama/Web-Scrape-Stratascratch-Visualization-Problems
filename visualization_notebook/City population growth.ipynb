{
    "cells": [
        {
            "cell_type": "markdown",
            "metadata": {},
            "source": [
                "### **Link:** https://platform.stratascratch.com/visualizations/10503-city-population-growth?code_type=2"
            ]
        },
        {
            "cell_type": "markdown",
            "metadata": {},
            "source": [
                "# City population growth"
            ]
        },
        {
            "cell_type": "markdown",
            "metadata": {},
            "source": [
                "##### **Difficulty:** Hard"
            ]
        },
        {
            "cell_type": "markdown",
            "metadata": {},
            "source": [
                "##### **ID:** ID 10503"
            ]
        },
        {
            "cell_type": "markdown",
            "metadata": {},
            "source": [
                "##### **Type:** 3D Bar Chart"
            ]
        },
        {
            "cell_type": "markdown",
            "metadata": {},
            "source": [
                "##### **Analysis:** Trend Analysis"
            ]
        },
        {
            "cell_type": "markdown",
            "metadata": {},
            "source": [
                "##### **Data Type:** Time Series Data & Numerical Data"
            ]
        },
        {
            "cell_type": "markdown",
            "metadata": {},
            "source": [
                "##### Use a 3D bar chart to visualize the population growth in major cities over the past decade, using 'peru' for 2010, 'pink' for 2015, and 'plum' for 2020."
            ]
        },
        {
            "cell_type": "markdown",
            "metadata": {},
            "source": [
                "## **Data:** "
            ]
        },
        {
            "cell_type": "code",
            "execution_count": null,
            "metadata": [
                {}
            ],
            "source": [
                "import pandas as pd \n\ndata = [\n    {\n        \"city\": \"New York\",\n        \"2010\": 8008278,\n        \"2015\": 8175133,\n        \"2020\": 8336817\n    },\n    {\n        \"city\": \"Los Angeles\",\n        \"2010\": 3792621,\n        \"2015\": 3980404,\n        \"2020\": 3980404\n    },\n    {\n        \"city\": \"Chicago\",\n        \"2010\": 2695598,\n        \"2015\": 2714856,\n        \"2020\": 2746388\n    },\n    {\n        \"city\": \"Houston\",\n        \"2010\": 2099451,\n        \"2015\": 2296224,\n        \"2020\": 2320268\n    },\n    {\n        \"city\": \"Phoenix\",\n        \"2010\": 1445632,\n        \"2015\": 1563025,\n        \"2020\": 1680992\n    }\n]\n\ndf = pd.DataFrame(data)"
            ]
        },
        {
            "cell_type": "markdown",
            "metadata": {},
            "source": [
                "## **Solution:** "
            ]
        },
        {
            "cell_type": "code",
            "execution_count": null,
            "metadata": [
                {}
            ],
            "source": [
                "import matplotlib.pyplot as plt\nimport numpy as np\n\n# Setting colors for years\ncolors = {'2010': 'peru', '2015': 'pink', '2020': 'plum'}\n\n# Define the years\nyears = ['2010', '2015', '2020']\n\n# Preparing the figure\nfig = plt.figure(figsize=(12, 8))\nax = fig.add_subplot(111, projection='3d')\n\n# Creating bar positions\nx = np.arange(len(df['city']))  # the label locations\nwidth = 0.2  # the width of the bars\nbar_positions = {\n    '2010': x - width,\n    '2015': x,\n    '2020': x + width\n}\n\n# Plotting the bars\nfor year in years:\n    ax.bar(bar_positions[year], df[year].astype(float), zs=int(year), zdir='y', width=width, color=colors[year], alpha=0.8, label=year)\n\n# Setting labels and title\nax.set_xlabel('City')\nax.set_ylabel('Year')\nax.set_zlabel('Population')\nax.set_xticks(x)\nax.set_xticklabels(df['city'])\nax.set_yticks([int(year) for year in years])\nax.set_yticklabels(years)\nax.set_title('Population Growth in Major Cities Over the Past Decade')\nax.legend()\n\nplt.show()"
            ]
        }
    ],
    "metadata": {
        "kernelspec": {
            "display_name": "Python 3",
            "language": "python",
            "name": "python3"
        },
        "language_info": {
            "codemirror_mode": {
                "name": "ipython",
                "version": 3
            },
            "file_extension": ".py",
            "mimetype": "text/x-python",
            "name": "python",
            "nbconvert_exporter": "python",
            "pygments_lexer": "ipython3",
            "version": "3.11.4"
        }
    },
    "nbformat": 4,
    "nbformat_minor": 2,
    "name_of_the_file": "City population growth.ipynb"
}