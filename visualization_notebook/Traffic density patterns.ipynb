{
    "cells": [
        {
            "cell_type": "markdown",
            "metadata": {},
            "source": [
                "### **Link:** https://platform.stratascratch.com/visualizations/10479-traffic-density-patterns?code_type=2"
            ]
        },
        {
            "cell_type": "markdown",
            "metadata": {},
            "source": [
                "# Traffic density patterns"
            ]
        },
        {
            "cell_type": "markdown",
            "metadata": {},
            "source": [
                "##### **Difficulty:** Medium"
            ]
        },
        {
            "cell_type": "markdown",
            "metadata": {},
            "source": [
                "##### **ID:** ID 10479"
            ]
        },
        {
            "cell_type": "markdown",
            "metadata": {},
            "source": [
                "##### **Type:** Heat Map"
            ]
        },
        {
            "cell_type": "markdown",
            "metadata": {},
            "source": [
                "##### **Analysis:** Trend Analysis"
            ]
        },
        {
            "cell_type": "markdown",
            "metadata": {},
            "source": [
                "##### **Data Type:** Time Series Data"
            ]
        },
        {
            "cell_type": "markdown",
            "metadata": {},
            "source": [
                "##### Design a heat map to visualize hourly traffic patterns on major city roads, using a color gradient from 'lightblue' to 'darkblue' based on traffic density."
            ]
        },
        {
            "cell_type": "markdown",
            "metadata": {},
            "source": [
                "## **Data:** "
            ]
        },
        {
            "cell_type": "code",
            "execution_count": 1,
            "metadata": [
                {}
            ],
            "outputs": [],
            "source": [
                "import pandas as pd \n",
                "\n",
                "data = [\n",
                "    {\n",
                "        \"monday\": 222,\n",
                "        \"tuesday\": 97,\n",
                "        \"wednesday\": 167,\n",
                "        \"thursday\": 242,\n",
                "        \"friday\": 373,\n",
                "        \"saturday\": 301,\n",
                "        \"sunday\": 245\n",
                "    },\n",
                "    {\n",
                "        \"monday\": 409,\n",
                "        \"tuesday\": 59,\n",
                "        \"wednesday\": 261,\n",
                "        \"thursday\": 327,\n",
                "        \"friday\": 292,\n",
                "        \"saturday\": 342,\n",
                "        \"sunday\": 137\n",
                "    },\n",
                "    {\n",
                "        \"monday\": 120,\n",
                "        \"tuesday\": 138,\n",
                "        \"wednesday\": 446,\n",
                "        \"thursday\": 364,\n",
                "        \"friday\": 243,\n",
                "        \"saturday\": 89,\n",
                "        \"sunday\": 137\n",
                "    },\n",
                "    {\n",
                "        \"monday\": 224,\n",
                "        \"tuesday\": 138,\n",
                "        \"wednesday\": 387,\n",
                "        \"thursday\": 215,\n",
                "        \"friday\": 75,\n",
                "        \"saturday\": 383,\n",
                "        \"sunday\": 122\n",
                "    },\n",
                "    {\n",
                "        \"monday\": 315,\n",
                "        \"tuesday\": 454,\n",
                "        \"wednesday\": 165,\n",
                "        \"thursday\": 293,\n",
                "        \"friday\": 247,\n",
                "        \"saturday\": 385,\n",
                "        \"sunday\": 481\n",
                "    },\n",
                "    {\n",
                "        \"monday\": 498,\n",
                "        \"tuesday\": 388,\n",
                "        \"wednesday\": 149,\n",
                "        \"thursday\": 227,\n",
                "        \"friday\": 293,\n",
                "        \"saturday\": 335,\n",
                "        \"sunday\": 197\n",
                "    },\n",
                "    {\n",
                "        \"monday\": 197,\n",
                "        \"tuesday\": 448,\n",
                "        \"wednesday\": 473,\n",
                "        \"thursday\": 338,\n",
                "        \"friday\": 499,\n",
                "        \"saturday\": 315,\n",
                "        \"sunday\": 235\n",
                "    },\n",
                "    {\n",
                "        \"monday\": 177,\n",
                "        \"tuesday\": 82,\n",
                "        \"wednesday\": 81,\n",
                "        \"thursday\": 252,\n",
                "        \"friday\": 294,\n",
                "        \"saturday\": 201,\n",
                "        \"sunday\": 213\n",
                "    },\n",
                "    {\n",
                "        \"monday\": 420,\n",
                "        \"tuesday\": 233,\n",
                "        \"wednesday\": 78,\n",
                "        \"thursday\": 340,\n",
                "        \"friday\": 178,\n",
                "        \"saturday\": 178,\n",
                "        \"sunday\": 470\n",
                "    },\n",
                "    {\n",
                "        \"monday\": 103,\n",
                "        \"tuesday\": 439,\n",
                "        \"wednesday\": 88,\n",
                "        \"thursday\": 294,\n",
                "        \"friday\": 323,\n",
                "        \"saturday\": 385,\n",
                "        \"sunday\": 438\n",
                "    },\n",
                "    {\n",
                "        \"monday\": 155,\n",
                "        \"tuesday\": 92,\n",
                "        \"wednesday\": 492,\n",
                "        \"thursday\": 81,\n",
                "        \"friday\": 426,\n",
                "        \"saturday\": 307,\n",
                "        \"sunday\": 371\n",
                "    },\n",
                "    {\n",
                "        \"monday\": 475,\n",
                "        \"tuesday\": 107,\n",
                "        \"wednesday\": 341,\n",
                "        \"thursday\": 408,\n",
                "        \"friday\": 169,\n",
                "        \"saturday\": 317,\n",
                "        \"sunday\": 480\n",
                "    },\n",
                "    {\n",
                "        \"monday\": 132,\n",
                "        \"tuesday\": 141,\n",
                "        \"wednesday\": 434,\n",
                "        \"thursday\": 448,\n",
                "        \"friday\": 149,\n",
                "        \"saturday\": 103,\n",
                "        \"sunday\": 446\n",
                "    },\n",
                "    {\n",
                "        \"monday\": 171,\n",
                "        \"tuesday\": 476,\n",
                "        \"wednesday\": 134,\n",
                "        \"thursday\": 253,\n",
                "        \"friday\": 374,\n",
                "        \"saturday\": 312,\n",
                "        \"sunday\": 97\n",
                "    },\n",
                "    {\n",
                "        \"monday\": 177,\n",
                "        \"tuesday\": 181,\n",
                "        \"wednesday\": 406,\n",
                "        \"thursday\": 230,\n",
                "        \"friday\": 384,\n",
                "        \"saturday\": 193,\n",
                "        \"sunday\": 198\n",
                "    },\n",
                "    {\n",
                "        \"monday\": 277,\n",
                "        \"tuesday\": 492,\n",
                "        \"wednesday\": 329,\n",
                "        \"thursday\": 257,\n",
                "        \"friday\": 447,\n",
                "        \"saturday\": 423,\n",
                "        \"sunday\": 391\n",
                "    },\n",
                "    {\n",
                "        \"monday\": 98,\n",
                "        \"tuesday\": 355,\n",
                "        \"wednesday\": 119,\n",
                "        \"thursday\": 219,\n",
                "        \"friday\": 213,\n",
                "        \"saturday\": 498,\n",
                "        \"sunday\": 145\n",
                "    },\n",
                "    {\n",
                "        \"monday\": 247,\n",
                "        \"tuesday\": 144,\n",
                "        \"wednesday\": 306,\n",
                "        \"thursday\": 419,\n",
                "        \"friday\": 228,\n",
                "        \"saturday\": 342,\n",
                "        \"sunday\": 468\n",
                "    },\n",
                "    {\n",
                "        \"monday\": 354,\n",
                "        \"tuesday\": 399,\n",
                "        \"wednesday\": 437,\n",
                "        \"thursday\": 148,\n",
                "        \"friday\": 92,\n",
                "        \"saturday\": 418,\n",
                "        \"sunday\": 455\n",
                "    },\n",
                "    {\n",
                "        \"monday\": 251,\n",
                "        \"tuesday\": 433,\n",
                "        \"wednesday\": 50,\n",
                "        \"thursday\": 444,\n",
                "        \"friday\": 420,\n",
                "        \"saturday\": 93,\n",
                "        \"sunday\": 492\n",
                "    },\n",
                "    {\n",
                "        \"monday\": 433,\n",
                "        \"tuesday\": 73,\n",
                "        \"wednesday\": 237,\n",
                "        \"thursday\": 180,\n",
                "        \"friday\": 427,\n",
                "        \"saturday\": 148,\n",
                "        \"sunday\": 112\n",
                "    },\n",
                "    {\n",
                "        \"monday\": 469,\n",
                "        \"tuesday\": 272,\n",
                "        \"wednesday\": 173,\n",
                "        \"thursday\": 132,\n",
                "        \"friday\": 480,\n",
                "        \"saturday\": 277,\n",
                "        \"sunday\": 198\n",
                "    },\n",
                "    {\n",
                "        \"monday\": 259,\n",
                "        \"tuesday\": 100,\n",
                "        \"wednesday\": 461,\n",
                "        \"thursday\": 320,\n",
                "        \"friday\": 91,\n",
                "        \"saturday\": 108,\n",
                "        \"sunday\": 243\n",
                "    },\n",
                "    {\n",
                "        \"monday\": 86,\n",
                "        \"tuesday\": 316,\n",
                "        \"wednesday\": 136,\n",
                "        \"thursday\": 93,\n",
                "        \"friday\": 410,\n",
                "        \"saturday\": 61,\n",
                "        \"sunday\": 308\n",
                "    }\n",
                "]\n",
                "\n",
                "df = pd.DataFrame(data)"
            ]
        },
        {
            "cell_type": "markdown",
            "metadata": {},
            "source": [
                "## **Solution:** "
            ]
        },
        {
            "cell_type": "code",
            "execution_count": 2,
            "metadata": [
                {}
            ],
            "outputs": [
                {
                    "data": {
                        "image/png": "[encoded data removed]",
                        "text/plain": [
                            "<Figure size 1200x800 with 2 Axes>"
                        ]
                    },
                    "metadata": {},
                    "output_type": "display_data"
                }
            ],
            "source": [
                "import matplotlib.pyplot as plt\n",
                "import seaborn as sns\n",
                "\n",
                "plt.figure(figsize=(12, 8))\n",
                "sns.heatmap(df, cmap='Blues', cbar_kws={'label': 'Traffic Density'})\n",
                "\n",
                "plt.title('Hourly Traffic Patterns on Major City Roads')\n",
                "plt.xlabel('Day of the Week')\n",
                "plt.ylabel('Hour of the Day')\n",
                "plt.show()"
            ]
        }
    ],
    "metadata": {
        "kernelspec": {
            "display_name": "Python 3",
            "language": "python",
            "name": "python3"
        },
        "language_info": {
            "codemirror_mode": {
                "name": "ipython",
                "version": 3
            },
            "file_extension": ".py",
            "mimetype": "text/x-python",
            "name": "python",
            "nbconvert_exporter": "python",
            "pygments_lexer": "ipython3",
            "version": "3.11.4"
        }
    },
    "nbformat": 4,
    "nbformat_minor": 2
}
