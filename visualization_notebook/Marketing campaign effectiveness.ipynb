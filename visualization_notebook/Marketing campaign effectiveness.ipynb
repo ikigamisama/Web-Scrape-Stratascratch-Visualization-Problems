{
    "cells": [
        {
            "cell_type": "markdown",
            "metadata": {},
            "source": [
                "### **Link:** https://platform.stratascratch.com/visualizations/10483-marketing-campaign-effectiveness?code_type=2"
            ]
        },
        {
            "cell_type": "markdown",
            "metadata": {},
            "source": [
                "# Marketing campaign effectiveness"
            ]
        },
        {
            "cell_type": "markdown",
            "metadata": {},
            "source": [
                "##### **Difficulty:** Medium"
            ]
        },
        {
            "cell_type": "markdown",
            "metadata": {},
            "source": [
                "##### **ID:** ID 10483"
            ]
        },
        {
            "cell_type": "markdown",
            "metadata": {},
            "source": [
                "##### **Type:** Scatter Plot"
            ]
        },
        {
            "cell_type": "markdown",
            "metadata": {},
            "source": [
                "##### **Analysis:** Relationships"
            ]
        },
        {
            "cell_type": "markdown",
            "metadata": {},
            "source": [
                "##### **Data Type:** Numerical Data"
            ]
        },
        {
            "cell_type": "markdown",
            "metadata": {},
            "source": [
                "##### Use a scatter plot to analyze the effectiveness of different marketing campaigns on sales growth, marking 'dodgerblue' for Campaign A, 'mediumorchid' for Campaign B, and 'sandybrown' for Campaign C."
            ]
        },
        {
            "cell_type": "markdown",
            "metadata": {},
            "source": [
                "## **Data:** "
            ]
        },
        {
            "cell_type": "code",
            "execution_count": null,
            "metadata": [
                {}
            ],
            "source": [
                "import pandas as pd \n\ndata = [\n    {\n        \"marketing_campaign\": \"Campaign A\",\n        \"sales_growth\": 25.481,\n        \"effectiveness_score\": 33.899\n    },\n    {\n        \"marketing_campaign\": \"Campaign B\",\n        \"sales_growth\": 2.786,\n        \"effectiveness_score\": 17.949\n    },\n    {\n        \"marketing_campaign\": \"Campaign A\",\n        \"sales_growth\": 22.558,\n        \"effectiveness_score\": 17.099\n    },\n    {\n        \"marketing_campaign\": \"Campaign B\",\n        \"sales_growth\": 0.999,\n        \"effectiveness_score\": 46.345\n    },\n    {\n        \"marketing_campaign\": \"Campaign B\",\n        \"sales_growth\": 22.086,\n        \"effectiveness_score\": 87.457\n    },\n    {\n        \"marketing_campaign\": \"Campaign C\",\n        \"sales_growth\": 48.979,\n        \"effectiveness_score\": 94.412\n    },\n    {\n        \"marketing_campaign\": \"Campaign A\",\n        \"sales_growth\": 17.972,\n        \"effectiveness_score\": 60.825\n    },\n    {\n        \"marketing_campaign\": \"Campaign C\",\n        \"sales_growth\": 24.045,\n        \"effectiveness_score\": 59.666\n    },\n    {\n        \"marketing_campaign\": \"Campaign A\",\n        \"sales_growth\": 34.433,\n        \"effectiveness_score\": 78.364\n    },\n    {\n        \"marketing_campaign\": \"Campaign A\",\n        \"sales_growth\": 44.024,\n        \"effectiveness_score\": 50.003\n    },\n    {\n        \"marketing_campaign\": \"Campaign A\",\n        \"sales_growth\": 45.912,\n        \"effectiveness_score\": 5.037\n    },\n    {\n        \"marketing_campaign\": \"Campaign C\",\n        \"sales_growth\": 10.841,\n        \"effectiveness_score\": 69.91\n    },\n    {\n        \"marketing_campaign\": \"Campaign B\",\n        \"sales_growth\": 28.259,\n        \"effectiveness_score\": 99.24\n    },\n    {\n        \"marketing_campaign\": \"Campaign C\",\n        \"sales_growth\": 43.255,\n        \"effectiveness_score\": 26.726\n    },\n    {\n        \"marketing_campaign\": \"Campaign C\",\n        \"sales_growth\": 25.448,\n        \"effectiveness_score\": 67.909\n    },\n    {\n        \"marketing_campaign\": \"Campaign A\",\n        \"sales_growth\": 45.836,\n        \"effectiveness_score\": 86.428\n    },\n    {\n        \"marketing_campaign\": \"Campaign B\",\n        \"sales_growth\": 46.058,\n        \"effectiveness_score\": 75.084\n    },\n    {\n        \"marketing_campaign\": \"Campaign B\",\n        \"sales_growth\": 4.156,\n        \"effectiveness_score\": 96.449\n    },\n    {\n        \"marketing_campaign\": \"Campaign B\",\n        \"sales_growth\": 13.886,\n        \"effectiveness_score\": 55.424\n    },\n    {\n        \"marketing_campaign\": \"Campaign B\",\n        \"sales_growth\": 0.468,\n        \"effectiveness_score\": 21.239\n    },\n    {\n        \"marketing_campaign\": \"Campaign A\",\n        \"sales_growth\": 42.117,\n        \"effectiveness_score\": 22.244\n    },\n    {\n        \"marketing_campaign\": \"Campaign B\",\n        \"sales_growth\": 32.359,\n        \"effectiveness_score\": 21.875\n    },\n    {\n        \"marketing_campaign\": \"Campaign A\",\n        \"sales_growth\": 42.069,\n        \"effectiveness_score\": 56.957\n    },\n    {\n        \"marketing_campaign\": \"Campaign A\",\n        \"sales_growth\": 13.237,\n        \"effectiveness_score\": 45.211\n    },\n    {\n        \"marketing_campaign\": \"Campaign B\",\n        \"sales_growth\": 19.891,\n        \"effectiveness_score\": 97.024\n    },\n    {\n        \"marketing_campaign\": \"Campaign C\",\n        \"sales_growth\": 27.641,\n        \"effectiveness_score\": 68.054\n    },\n    {\n        \"marketing_campaign\": \"Campaign A\",\n        \"sales_growth\": 8.247,\n        \"effectiveness_score\": 8.53\n    },\n    {\n        \"marketing_campaign\": \"Campaign C\",\n        \"sales_growth\": 18.49,\n        \"effectiveness_score\": 5.642\n    },\n    {\n        \"marketing_campaign\": \"Campaign A\",\n        \"sales_growth\": 7.322,\n        \"effectiveness_score\": 48.784\n    },\n    {\n        \"marketing_campaign\": \"Campaign B\",\n        \"sales_growth\": 28.481,\n        \"effectiveness_score\": 88.1\n    },\n    {\n        \"marketing_campaign\": \"Campaign B\",\n        \"sales_growth\": 35.187,\n        \"effectiveness_score\": 97.64\n    },\n    {\n        \"marketing_campaign\": \"Campaign C\",\n        \"sales_growth\": 14.424,\n        \"effectiveness_score\": 61.766\n    },\n    {\n        \"marketing_campaign\": \"Campaign A\",\n        \"sales_growth\": 21.664,\n        \"effectiveness_score\": 54.25\n    },\n    {\n        \"marketing_campaign\": \"Campaign B\",\n        \"sales_growth\": 37.805,\n        \"effectiveness_score\": 85.461\n    },\n    {\n        \"marketing_campaign\": \"Campaign B\",\n        \"sales_growth\": 19.805,\n        \"effectiveness_score\": 74.383\n    },\n    {\n        \"marketing_campaign\": \"Campaign B\",\n        \"sales_growth\": 44.802,\n        \"effectiveness_score\": 47.86\n    },\n    {\n        \"marketing_campaign\": \"Campaign A\",\n        \"sales_growth\": 31.946,\n        \"effectiveness_score\": 67.708\n    },\n    {\n        \"marketing_campaign\": \"Campaign C\",\n        \"sales_growth\": 44.578,\n        \"effectiveness_score\": 60.705\n    },\n    {\n        \"marketing_campaign\": \"Campaign A\",\n        \"sales_growth\": 34.003,\n        \"effectiveness_score\": 71.47\n    },\n    {\n        \"marketing_campaign\": \"Campaign C\",\n        \"sales_growth\": 22.46,\n        \"effectiveness_score\": 46.95\n    },\n    {\n        \"marketing_campaign\": \"Campaign C\",\n        \"sales_growth\": 48.929,\n        \"effectiveness_score\": 45.601\n    },\n    {\n        \"marketing_campaign\": \"Campaign A\",\n        \"sales_growth\": 5.81,\n        \"effectiveness_score\": 90.642\n    },\n    {\n        \"marketing_campaign\": \"Campaign C\",\n        \"sales_growth\": 38.351,\n        \"effectiveness_score\": 13.722\n    },\n    {\n        \"marketing_campaign\": \"Campaign A\",\n        \"sales_growth\": 20.591,\n        \"effectiveness_score\": 22.922\n    },\n    {\n        \"marketing_campaign\": \"Campaign A\",\n        \"sales_growth\": 33.772,\n        \"effectiveness_score\": 88.159\n    },\n    {\n        \"marketing_campaign\": \"Campaign A\",\n        \"sales_growth\": 12.49,\n        \"effectiveness_score\": 90.442\n    },\n    {\n        \"marketing_campaign\": \"Campaign B\",\n        \"sales_growth\": 15.661,\n        \"effectiveness_score\": 64.578\n    },\n    {\n        \"marketing_campaign\": \"Campaign B\",\n        \"sales_growth\": 48.271,\n        \"effectiveness_score\": 32.468\n    },\n    {\n        \"marketing_campaign\": \"Campaign C\",\n        \"sales_growth\": 29.423,\n        \"effectiveness_score\": 51.971\n    },\n    {\n        \"marketing_campaign\": \"Campaign A\",\n        \"sales_growth\": 32.983,\n        \"effectiveness_score\": 0.006\n    },\n    {\n        \"marketing_campaign\": \"Campaign A\",\n        \"sales_growth\": 26.66,\n        \"effectiveness_score\": 31.186\n    },\n    {\n        \"marketing_campaign\": \"Campaign B\",\n        \"sales_growth\": 11.527,\n        \"effectiveness_score\": 42.545\n    },\n    {\n        \"marketing_campaign\": \"Campaign A\",\n        \"sales_growth\": 19.743,\n        \"effectiveness_score\": 88.534\n    },\n    {\n        \"marketing_campaign\": \"Campaign B\",\n        \"sales_growth\": 30.94,\n        \"effectiveness_score\": 67.988\n    },\n    {\n        \"marketing_campaign\": \"Campaign C\",\n        \"sales_growth\": 23.743,\n        \"effectiveness_score\": 45.613\n    },\n    {\n        \"marketing_campaign\": \"Campaign C\",\n        \"sales_growth\": 23.507,\n        \"effectiveness_score\": 48.341\n    },\n    {\n        \"marketing_campaign\": \"Campaign A\",\n        \"sales_growth\": 35.804,\n        \"effectiveness_score\": 78.874\n    },\n    {\n        \"marketing_campaign\": \"Campaign B\",\n        \"sales_growth\": 14.4,\n        \"effectiveness_score\": 22.944\n    },\n    {\n        \"marketing_campaign\": \"Campaign B\",\n        \"sales_growth\": 19.173,\n        \"effectiveness_score\": 88.03\n    },\n    {\n        \"marketing_campaign\": \"Campaign B\",\n        \"sales_growth\": 37.458,\n        \"effectiveness_score\": 31.369\n    },\n    {\n        \"marketing_campaign\": \"Campaign B\",\n        \"sales_growth\": 43.923,\n        \"effectiveness_score\": 95.745\n    },\n    {\n        \"marketing_campaign\": \"Campaign C\",\n        \"sales_growth\": 5.143,\n        \"effectiveness_score\": 47.175\n    },\n    {\n        \"marketing_campaign\": \"Campaign C\",\n        \"sales_growth\": 4.619,\n        \"effectiveness_score\": 71.158\n    },\n    {\n        \"marketing_campaign\": \"Campaign C\",\n        \"sales_growth\": 17.702,\n        \"effectiveness_score\": 15.369\n    },\n    {\n        \"marketing_campaign\": \"Campaign A\",\n        \"sales_growth\": 27.591,\n        \"effectiveness_score\": 73.044\n    },\n    {\n        \"marketing_campaign\": \"Campaign C\",\n        \"sales_growth\": 1.681,\n        \"effectiveness_score\": 64.626\n    },\n    {\n        \"marketing_campaign\": \"Campaign B\",\n        \"sales_growth\": 48.448,\n        \"effectiveness_score\": 21.488\n    },\n    {\n        \"marketing_campaign\": \"Campaign A\",\n        \"sales_growth\": 16.05,\n        \"effectiveness_score\": 18.646\n    },\n    {\n        \"marketing_campaign\": \"Campaign B\",\n        \"sales_growth\": 11.063,\n        \"effectiveness_score\": 80.758\n    },\n    {\n        \"marketing_campaign\": \"Campaign C\",\n        \"sales_growth\": 7.063,\n        \"effectiveness_score\": 74.708\n    },\n    {\n        \"marketing_campaign\": \"Campaign A\",\n        \"sales_growth\": 4.863,\n        \"effectiveness_score\": 67.485\n    },\n    {\n        \"marketing_campaign\": \"Campaign A\",\n        \"sales_growth\": 49.202,\n        \"effectiveness_score\": 27.689\n    },\n    {\n        \"marketing_campaign\": \"Campaign C\",\n        \"sales_growth\": 13.017,\n        \"effectiveness_score\": 17.491\n    },\n    {\n        \"marketing_campaign\": \"Campaign A\",\n        \"sales_growth\": 26.851,\n        \"effectiveness_score\": 70.447\n    },\n    {\n        \"marketing_campaign\": \"Campaign A\",\n        \"sales_growth\": 22.396,\n        \"effectiveness_score\": 46.315\n    },\n    {\n        \"marketing_campaign\": \"Campaign A\",\n        \"sales_growth\": 4.978,\n        \"effectiveness_score\": 84.043\n    },\n    {\n        \"marketing_campaign\": \"Campaign A\",\n        \"sales_growth\": 17.616,\n        \"effectiveness_score\": 20.487\n    },\n    {\n        \"marketing_campaign\": \"Campaign A\",\n        \"sales_growth\": 23.462,\n        \"effectiveness_score\": 16.496\n    },\n    {\n        \"marketing_campaign\": \"Campaign A\",\n        \"sales_growth\": 42.057,\n        \"effectiveness_score\": 12.483\n    },\n    {\n        \"marketing_campaign\": \"Campaign C\",\n        \"sales_growth\": 45.232,\n        \"effectiveness_score\": 72.208\n    },\n    {\n        \"marketing_campaign\": \"Campaign A\",\n        \"sales_growth\": 1.878,\n        \"effectiveness_score\": 3.045\n    },\n    {\n        \"marketing_campaign\": \"Campaign C\",\n        \"sales_growth\": 25.416,\n        \"effectiveness_score\": 74.699\n    },\n    {\n        \"marketing_campaign\": \"Campaign B\",\n        \"sales_growth\": 8.342,\n        \"effectiveness_score\": 9.26\n    },\n    {\n        \"marketing_campaign\": \"Campaign B\",\n        \"sales_growth\": 38.953,\n        \"effectiveness_score\": 21.745\n    },\n    {\n        \"marketing_campaign\": \"Campaign B\",\n        \"sales_growth\": 43.247,\n        \"effectiveness_score\": 74.925\n    },\n    {\n        \"marketing_campaign\": \"Campaign A\",\n        \"sales_growth\": 20.57,\n        \"effectiveness_score\": 73.169\n    },\n    {\n        \"marketing_campaign\": \"Campaign B\",\n        \"sales_growth\": 6.999,\n        \"effectiveness_score\": 4.561\n    },\n    {\n        \"marketing_campaign\": \"Campaign B\",\n        \"sales_growth\": 1.661,\n        \"effectiveness_score\": 20.916\n    },\n    {\n        \"marketing_campaign\": \"Campaign B\",\n        \"sales_growth\": 49.129,\n        \"effectiveness_score\": 28.692\n    },\n    {\n        \"marketing_campaign\": \"Campaign A\",\n        \"sales_growth\": 18.665,\n        \"effectiveness_score\": 67.726\n    },\n    {\n        \"marketing_campaign\": \"Campaign B\",\n        \"sales_growth\": 21.004,\n        \"effectiveness_score\": 6.304\n    },\n    {\n        \"marketing_campaign\": \"Campaign C\",\n        \"sales_growth\": 2.529,\n        \"effectiveness_score\": 55.565\n    },\n    {\n        \"marketing_campaign\": \"Campaign A\",\n        \"sales_growth\": 18.275,\n        \"effectiveness_score\": 0.924\n    },\n    {\n        \"marketing_campaign\": \"Campaign B\",\n        \"sales_growth\": 0.831,\n        \"effectiveness_score\": 83.304\n    },\n    {\n        \"marketing_campaign\": \"Campaign C\",\n        \"sales_growth\": 11.537,\n        \"effectiveness_score\": 98.433\n    },\n    {\n        \"marketing_campaign\": \"Campaign A\",\n        \"sales_growth\": 38.246,\n        \"effectiveness_score\": 70.349\n    },\n    {\n        \"marketing_campaign\": \"Campaign C\",\n        \"sales_growth\": 47.206,\n        \"effectiveness_score\": 18.163\n    },\n    {\n        \"marketing_campaign\": \"Campaign A\",\n        \"sales_growth\": 37.5,\n        \"effectiveness_score\": 51.239\n    },\n    {\n        \"marketing_campaign\": \"Campaign B\",\n        \"sales_growth\": 16.97,\n        \"effectiveness_score\": 58.045\n    },\n    {\n        \"marketing_campaign\": \"Campaign C\",\n        \"sales_growth\": 24.477,\n        \"effectiveness_score\": 78.754\n    }\n]\n\ndf = pd.DataFrame(data)"
            ]
        },
        {
            "cell_type": "markdown",
            "metadata": {},
            "source": [
                "## **Solution:** "
            ]
        },
        {
            "cell_type": "code",
            "execution_count": null,
            "metadata": [
                {}
            ],
            "source": [
                "import matplotlib.pyplot as plt\n\ncolors = {'Campaign A': 'dodgerblue', 'Campaign B': 'mediumorchid', 'Campaign C': 'sandybrown'}\nplt.figure(figsize=(10,6))\n\nfor marketing, group in df.groupby('marketing_campaign'):\n    plt.scatter(group['sales_growth'], group['effectiveness_score'], color=colors[marketing], alpha=0.7)\n\nplt.title('Effectiveness of marketing campaigns on Sales Growth')\nplt.xlabel('Sales Growth (%)')\nplt.ylabel('Effectiveness Score')\nplt.legend(handles=[\n    plt.Line2D([0], [0], marker='o', color='w', markerfacecolor='dodgerblue', markersize=10, label='Campaign A'),\n    plt.Line2D([0], [0], marker='o', color='w', markerfacecolor='mediumorchid', markersize=10, label='Campaign B'),\n    plt.Line2D([0], [0], marker='o', color='w', markerfacecolor='sandybrown', markersize=10, label='Campaign C')],\n    title='Marketing Campaign', loc='lower right')\nplt.grid(True)\nplt.show()"
            ]
        }
    ],
    "metadata": {
        "kernelspec": {
            "display_name": "Python 3",
            "language": "python",
            "name": "python3"
        },
        "language_info": {
            "codemirror_mode": {
                "name": "ipython",
                "version": 3
            },
            "file_extension": ".py",
            "mimetype": "text/x-python",
            "name": "python",
            "nbconvert_exporter": "python",
            "pygments_lexer": "ipython3",
            "version": "3.11.4"
        }
    },
    "nbformat": 4,
    "nbformat_minor": 2,
    "name_of_the_file": "Marketing campaign effectiveness.ipynb"
}