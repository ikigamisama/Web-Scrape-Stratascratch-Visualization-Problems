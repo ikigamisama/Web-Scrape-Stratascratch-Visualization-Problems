{
    "cells": [
        {
            "cell_type": "markdown",
            "metadata": {},
            "source": [
                "### **Link:** https://platform.stratascratch.com/visualizations/10519-social-media-growth?code_type=2"
            ]
        },
        {
            "cell_type": "markdown",
            "metadata": {},
            "source": [
                "# Social media growth"
            ]
        },
        {
            "cell_type": "markdown",
            "metadata": {},
            "source": [
                "##### **Difficulty:** Hard"
            ]
        },
        {
            "cell_type": "markdown",
            "metadata": {},
            "source": [
                "##### **ID:** ID 10519"
            ]
        },
        {
            "cell_type": "markdown",
            "metadata": {},
            "source": [
                "##### **Type:** Bar Chart Race"
            ]
        },
        {
            "cell_type": "markdown",
            "metadata": {},
            "source": [
                "##### **Analysis:** Trend Analysis"
            ]
        },
        {
            "cell_type": "markdown",
            "metadata": {},
            "source": [
                "##### **Data Type:** Time Series Data & Categorical Data"
            ]
        },
        {
            "cell_type": "markdown",
            "metadata": {},
            "source": [
                "##### Design a bar chart race to visualize the growth in social media followers for multiple influencers over the past year, using 'deepskyblue' for Influencer A, 'hotpink' for Influencer B, and 'limegreen' for Influencer C."
            ]
        },
        {
            "cell_type": "markdown",
            "metadata": {},
            "source": [
                "## **Data:** "
            ]
        },
        {
            "cell_type": "code",
            "execution_count": null,
            "metadata": [
                {}
            ],
            "source": [
                "import pandas as pd \n\ndata = [\n    {\n        \"date\": \"2023-01-31 00:00:00\",\n        \"influencer\": \"Influencer A\",\n        \"followers\": 3732\n    },\n    {\n        \"date\": \"2023-02-28 00:00:00\",\n        \"influencer\": \"Influencer A\",\n        \"followers\": 7339\n    },\n    {\n        \"date\": \"2023-03-31 00:00:00\",\n        \"influencer\": \"Influencer A\",\n        \"followers\": 9992\n    },\n    {\n        \"date\": \"2023-04-30 00:00:00\",\n        \"influencer\": \"Influencer A\",\n        \"followers\": 14256\n    },\n    {\n        \"date\": \"2023-05-31 00:00:00\",\n        \"influencer\": \"Influencer A\",\n        \"followers\": 16091\n    },\n    {\n        \"date\": \"2023-06-30 00:00:00\",\n        \"influencer\": \"Influencer A\",\n        \"followers\": 17854\n    },\n    {\n        \"date\": \"2023-07-31 00:00:00\",\n        \"influencer\": \"Influencer A\",\n        \"followers\": 20585\n    },\n    {\n        \"date\": \"2023-08-31 00:00:00\",\n        \"influencer\": \"Influencer A\",\n        \"followers\": 25016\n    },\n    {\n        \"date\": \"2023-09-30 00:00:00\",\n        \"influencer\": \"Influencer A\",\n        \"followers\": 27049\n    },\n    {\n        \"date\": \"2023-10-31 00:00:00\",\n        \"influencer\": \"Influencer A\",\n        \"followers\": 31844\n    },\n    {\n        \"date\": \"2023-11-30 00:00:00\",\n        \"influencer\": \"Influencer A\",\n        \"followers\": 33121\n    },\n    {\n        \"date\": \"2023-12-31 00:00:00\",\n        \"influencer\": \"Influencer A\",\n        \"followers\": 35899\n    },\n    {\n        \"date\": \"2023-01-31 00:00:00\",\n        \"influencer\": \"Influencer B\",\n        \"followers\": 3328\n    },\n    {\n        \"date\": \"2023-02-28 00:00:00\",\n        \"influencer\": \"Influencer B\",\n        \"followers\": 7475\n    },\n    {\n        \"date\": \"2023-03-31 00:00:00\",\n        \"influencer\": \"Influencer B\",\n        \"followers\": 12117\n    },\n    {\n        \"date\": \"2023-04-30 00:00:00\",\n        \"influencer\": \"Influencer B\",\n        \"followers\": 17161\n    },\n    {\n        \"date\": \"2023-05-31 00:00:00\",\n        \"influencer\": \"Influencer B\",\n        \"followers\": 21309\n    },\n    {\n        \"date\": \"2023-06-30 00:00:00\",\n        \"influencer\": \"Influencer B\",\n        \"followers\": 26277\n    },\n    {\n        \"date\": \"2023-07-31 00:00:00\",\n        \"influencer\": \"Influencer B\",\n        \"followers\": 30139\n    },\n    {\n        \"date\": \"2023-08-31 00:00:00\",\n        \"influencer\": \"Influencer B\",\n        \"followers\": 32344\n    },\n    {\n        \"date\": \"2023-09-30 00:00:00\",\n        \"influencer\": \"Influencer B\",\n        \"followers\": 37402\n    },\n    {\n        \"date\": \"2023-10-31 00:00:00\",\n        \"influencer\": \"Influencer B\",\n        \"followers\": 41501\n    },\n    {\n        \"date\": \"2023-11-30 00:00:00\",\n        \"influencer\": \"Influencer B\",\n        \"followers\": 45136\n    },\n    {\n        \"date\": \"2023-12-31 00:00:00\",\n        \"influencer\": \"Influencer B\",\n        \"followers\": 48858\n    },\n    {\n        \"date\": \"2023-01-31 00:00:00\",\n        \"influencer\": \"Influencer C\",\n        \"followers\": 4872\n    },\n    {\n        \"date\": \"2023-02-28 00:00:00\",\n        \"influencer\": \"Influencer C\",\n        \"followers\": 8969\n    },\n    {\n        \"date\": \"2023-03-31 00:00:00\",\n        \"influencer\": \"Influencer C\",\n        \"followers\": 11870\n    },\n    {\n        \"date\": \"2023-04-30 00:00:00\",\n        \"influencer\": \"Influencer C\",\n        \"followers\": 13607\n    },\n    {\n        \"date\": \"2023-05-31 00:00:00\",\n        \"influencer\": \"Influencer C\",\n        \"followers\": 17700\n    },\n    {\n        \"date\": \"2023-06-30 00:00:00\",\n        \"influencer\": \"Influencer C\",\n        \"followers\": 21020\n    },\n    {\n        \"date\": \"2023-07-31 00:00:00\",\n        \"influencer\": \"Influencer C\",\n        \"followers\": 25045\n    },\n    {\n        \"date\": \"2023-08-31 00:00:00\",\n        \"influencer\": \"Influencer C\",\n        \"followers\": 28185\n    },\n    {\n        \"date\": \"2023-09-30 00:00:00\",\n        \"influencer\": \"Influencer C\",\n        \"followers\": 31548\n    },\n    {\n        \"date\": \"2023-10-31 00:00:00\",\n        \"influencer\": \"Influencer C\",\n        \"followers\": 33724\n    },\n    {\n        \"date\": \"2023-11-30 00:00:00\",\n        \"influencer\": \"Influencer C\",\n        \"followers\": 35679\n    },\n    {\n        \"date\": \"2023-12-31 00:00:00\",\n        \"influencer\": \"Influencer C\",\n        \"followers\": 40660\n    }\n]\n\ndf = pd.DataFrame(data)"
            ]
        },
        {
            "cell_type": "markdown",
            "metadata": {},
            "source": [
                "## **Solution:** "
            ]
        },
        {
            "cell_type": "code",
            "execution_count": null,
            "metadata": [
                {}
            ],
            "source": [
                "import matplotlib.pyplot as plt\nimport pandas as pd\nimport numpy as np\n\ncolors = {'Influencer A': 'deepskyblue', 'Influencer B': 'hotpink', 'Influencer C': 'limegreen'}\ndates = df['date'].unique()\n\nfig, ax = plt.subplots(figsize=(10, 6))\n\nfor current_date in dates:\n    ax.clear()\n    \n    # Filter data for the current date\n    temp_df = df[df['date'] == current_date].sort_values('followers', ascending=False)\n    \n    # Plot the horizontal bar chart\n    ax.barh(temp_df['influencer'], temp_df['followers'], color=[colors[i] for i in temp_df['influencer']])\n    \n    # Set title and labels, using the current date as string\n    ax.set_title(f'Social Media Followers Growth on {str(current_date)[:10]}', fontsize=16)\n    ax.set_xlim(0, df['followers'].max() * 1.1)\n    ax.set_xlabel('Followers')\n    ax.set_ylabel('Influencer')\n    ax.grid(True)\n\n\nplt.show()"
            ]
        }
    ],
    "metadata": {
        "kernelspec": {
            "display_name": "Python 3",
            "language": "python",
            "name": "python3"
        },
        "language_info": {
            "codemirror_mode": {
                "name": "ipython",
                "version": 3
            },
            "file_extension": ".py",
            "mimetype": "text/x-python",
            "name": "python",
            "nbconvert_exporter": "python",
            "pygments_lexer": "ipython3",
            "version": "3.11.4"
        }
    },
    "nbformat": 4,
    "nbformat_minor": 2,
    "name_of_the_file": "Social media growth.ipynb"
}