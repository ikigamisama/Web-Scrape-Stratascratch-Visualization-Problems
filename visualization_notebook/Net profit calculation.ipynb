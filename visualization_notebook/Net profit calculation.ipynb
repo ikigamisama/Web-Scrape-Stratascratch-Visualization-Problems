{
    "cells": [
        {
            "cell_type": "markdown",
            "metadata": {},
            "source": [
                "### **Link:** https://platform.stratascratch.com/visualizations/10535-net-profit-calculation?code_type=2"
            ]
        },
        {
            "cell_type": "markdown",
            "metadata": {},
            "source": [
                "# Net profit calculation"
            ]
        },
        {
            "cell_type": "markdown",
            "metadata": {},
            "source": [
                "##### **Difficulty:** Medium"
            ]
        },
        {
            "cell_type": "markdown",
            "metadata": {},
            "source": [
                "##### **ID:** ID 10535"
            ]
        },
        {
            "cell_type": "markdown",
            "metadata": {},
            "source": [
                "##### **Type:** Waterfall Chart"
            ]
        },
        {
            "cell_type": "markdown",
            "metadata": {},
            "source": [
                "##### **Analysis:** Trend Analysis"
            ]
        },
        {
            "cell_type": "markdown",
            "metadata": {},
            "source": [
                "##### **Data Type:** Time Series Data"
            ]
        },
        {
            "cell_type": "markdown",
            "metadata": {},
            "source": [
                "##### Create a waterfall chart to show the step-by-step calculation of net profit for a business quarter, using 'green' for profits and 'red' for losses."
            ]
        },
        {
            "cell_type": "markdown",
            "metadata": {},
            "source": [
                "## **Data:** "
            ]
        },
        {
            "cell_type": "code",
            "execution_count": null,
            "metadata": [
                {}
            ],
            "source": [
                "import pandas as pd \n\ndata = [\n    {\n        \"category\": \"Revenue\",\n        \"amount\": 150000\n    },\n    {\n        \"category\": \"COGS\",\n        \"amount\": -70000\n    },\n    {\n        \"category\": \"Operating Expenses\",\n        \"amount\": -20000\n    },\n    {\n        \"category\": \"Other Income\",\n        \"amount\": 5000\n    },\n    {\n        \"category\": \"Taxes\",\n        \"amount\": -15000\n    }\n]\n\ndf = pd.DataFrame(data)"
            ]
        },
        {
            "cell_type": "markdown",
            "metadata": {},
            "source": [
                "## **Solution:** "
            ]
        },
        {
            "cell_type": "code",
            "execution_count": null,
            "metadata": [
                {}
            ],
            "source": [
                "import matplotlib.pyplot as plt\nimport plotly.express as px\n\ndf['cumulative'] = df['amount'].cumsum()\ndf['color'] = df['amount'].apply(lambda x: 'green' if x >= 0 else 'red')\nplt.figure(figsize=(10, 6))\nbars = plt.bar(df['category'], df['amount'], color=df['color'])\nfor i in range(1, len(df)):\n    plt.plot([i-1, i], [df['cumulative'][i-1], df['cumulative'][i]], color='black')\n    \nplt.bar('Net Profit', df['cumulative'].iloc[-1], color='blue')\nplt.plot([len(df)-1, len(df)], [df['cumulative'].iloc[-2], df['cumulative'].iloc[-1]], color='black')\n\nplt.title('Step-by-Step Calculation of Net Profit for a Business Quarter')\nplt.xlabel('Category')\nplt.ylabel('Amount ($)')\nplt.grid(axis='y', linestyle='--', alpha=0.7)\nplt.show()"
            ]
        }
    ],
    "metadata": {
        "kernelspec": {
            "display_name": "Python 3",
            "language": "python",
            "name": "python3"
        },
        "language_info": {
            "codemirror_mode": {
                "name": "ipython",
                "version": 3
            },
            "file_extension": ".py",
            "mimetype": "text/x-python",
            "name": "python",
            "nbconvert_exporter": "python",
            "pygments_lexer": "ipython3",
            "version": "3.11.4"
        }
    },
    "nbformat": 4,
    "nbformat_minor": 2,
    "name_of_the_file": "Net profit calculation.ipynb"
}