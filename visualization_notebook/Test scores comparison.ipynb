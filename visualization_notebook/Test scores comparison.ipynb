{
    "cells": [
        {
            "cell_type": "markdown",
            "metadata": {},
            "source": [
                "### **Link:** https://platform.stratascratch.com/visualizations/10513-test-scores-comparison?code_type=2"
            ]
        },
        {
            "cell_type": "markdown",
            "metadata": {},
            "source": [
                "# Test scores comparison"
            ]
        },
        {
            "cell_type": "markdown",
            "metadata": {},
            "source": [
                "##### **Difficulty:** Medium"
            ]
        },
        {
            "cell_type": "markdown",
            "metadata": {},
            "source": [
                "##### **ID:** ID 10513"
            ]
        },
        {
            "cell_type": "markdown",
            "metadata": {},
            "source": [
                "##### **Type:** Bar Chart"
            ]
        },
        {
            "cell_type": "markdown",
            "metadata": {},
            "source": [
                "##### **Analysis:** Comparison"
            ]
        },
        {
            "cell_type": "markdown",
            "metadata": {},
            "source": [
                "##### **Data Type:** Numerical Data & Categorical Data"
            ]
        },
        {
            "cell_type": "markdown",
            "metadata": {},
            "source": [
                "##### Use a bar chart to display the average test scores in different subjects across schools, with 'plum' for Mathematics, 'lightcoral' for Science, and 'khaki' for English."
            ]
        },
        {
            "cell_type": "markdown",
            "metadata": {},
            "source": [
                "## **Data:** "
            ]
        },
        {
            "cell_type": "code",
            "execution_count": null,
            "metadata": [
                {}
            ],
            "source": [
                "import pandas as pd \n\ndata = [\n    {\n        \"mathematics\": 70.906,\n        \"science\": 93.443,\n        \"english\": 65.614\n    },\n    {\n        \"mathematics\": 79.107,\n        \"science\": 73.496,\n        \"english\": 94.803\n    },\n    {\n        \"mathematics\": 92.487,\n        \"science\": 85.927,\n        \"english\": 78.944\n    },\n    {\n        \"mathematics\": 79.199,\n        \"science\": 74.73,\n        \"english\": 92.036\n    },\n    {\n        \"mathematics\": 75.711,\n        \"science\": 98.286,\n        \"english\": 80.819\n    }\n]\n\ndf = pd.DataFrame(data)"
            ]
        },
        {
            "cell_type": "markdown",
            "metadata": {},
            "source": [
                "## **Solution:** "
            ]
        },
        {
            "cell_type": "code",
            "execution_count": null,
            "metadata": [
                {}
            ],
            "source": [
                "import matplotlib.pyplot as plt\nimport plotly.express as px\n\ncolors = {'mathematics': 'plum', 'science': 'lightcoral', 'english': 'khaki'}\ndf.plot(kind='bar',stacked=False,color=[colors[col] for col in df.columns],figsize=(12,8))\n\nplt.title('Average TEst Scores in Different Subjects Across Schools')\nplt.xlabel('School')\nplt.ylabel('Average Text Score')\nplt.legend(title='Subject')\nplt.grid(axis='y')\nplt.xticks(rotation=45)\nplt.show()"
            ]
        }
    ],
    "metadata": {
        "kernelspec": {
            "display_name": "Python 3",
            "language": "python",
            "name": "python3"
        },
        "language_info": {
            "codemirror_mode": {
                "name": "ipython",
                "version": 3
            },
            "file_extension": ".py",
            "mimetype": "text/x-python",
            "name": "python",
            "nbconvert_exporter": "python",
            "pygments_lexer": "ipython3",
            "version": "3.11.4"
        }
    },
    "nbformat": 4,
    "nbformat_minor": 2,
    "name_of_the_file": "Test scores comparison.ipynb"
}