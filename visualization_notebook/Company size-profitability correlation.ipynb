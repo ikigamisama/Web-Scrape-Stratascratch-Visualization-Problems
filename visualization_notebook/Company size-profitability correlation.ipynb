{
    "cells": [
        {
            "cell_type": "markdown",
            "metadata": {},
            "source": [
                "### **Link:** https://platform.stratascratch.com/visualizations/10481-company-size-profitability-correlation?code_type=2"
            ]
        },
        {
            "cell_type": "markdown",
            "metadata": {},
            "source": [
                "# Company size-profitability correlation"
            ]
        },
        {
            "cell_type": "markdown",
            "metadata": {},
            "source": [
                "##### **Difficulty:** Medium"
            ]
        },
        {
            "cell_type": "markdown",
            "metadata": {},
            "source": [
                "##### **ID:** ID 10481"
            ]
        },
        {
            "cell_type": "markdown",
            "metadata": {},
            "source": [
                "##### **Type:** Bubble Chart"
            ]
        },
        {
            "cell_type": "markdown",
            "metadata": {},
            "source": [
                "##### **Analysis:** Relationships"
            ]
        },
        {
            "cell_type": "markdown",
            "metadata": {},
            "source": [
                "##### **Data Type:** Numerical Data"
            ]
        },
        {
            "cell_type": "markdown",
            "metadata": {},
            "source": [
                "##### Construct a bubble chart to explore the relationship between company size, profitability, and market presence, using 'mediumseagreen' for small companies, 'darkkhaki' for medium-sized, and 'coral' for large companies."
            ]
        },
        {
            "cell_type": "markdown",
            "metadata": {},
            "source": [
                "## **Data:** "
            ]
        },
        {
            "cell_type": "code",
            "execution_count": null,
            "metadata": [
                {}
            ],
            "source": [
                "import pandas as pd \n\ndata = [\n    {\n        \"company_size\": \"Small\",\n        \"profitability\": 51.453,\n        \"market_presence\": 339.646,\n        \"bubble_size\": 20\n    },\n    {\n        \"company_size\": \"Medium\",\n        \"profitability\": 6.516,\n        \"market_presence\": 180.311,\n        \"bubble_size\": 50\n    },\n    {\n        \"company_size\": \"Small\",\n        \"profitability\": 45.665,\n        \"market_presence\": 171.816,\n        \"bubble_size\": 20\n    },\n    {\n        \"company_size\": \"Medium\",\n        \"profitability\": 2.979,\n        \"market_presence\": 463.988,\n        \"bubble_size\": 50\n    },\n    {\n        \"company_size\": \"Medium\",\n        \"profitability\": 44.729,\n        \"market_presence\": 874.698,\n        \"bubble_size\": 50\n    },\n    {\n        \"company_size\": \"Large\",\n        \"profitability\": 97.979,\n        \"market_presence\": 944.176,\n        \"bubble_size\": 100\n    },\n    {\n        \"company_size\": \"Small\",\n        \"profitability\": 36.585,\n        \"market_presence\": 608.645,\n        \"bubble_size\": 20\n    },\n    {\n        \"company_size\": \"Large\",\n        \"profitability\": 48.608,\n        \"market_presence\": 597.059,\n        \"bubble_size\": 100\n    },\n    {\n        \"company_size\": \"Small\",\n        \"profitability\": 69.177,\n        \"market_presence\": 783.861,\n        \"bubble_size\": 20\n    },\n    {\n        \"company_size\": \"Small\",\n        \"profitability\": 88.167,\n        \"market_presence\": 500.526,\n        \"bubble_size\": 20\n    },\n    {\n        \"company_size\": \"Small\",\n        \"profitability\": 91.905,\n        \"market_presence\": 51.32,\n        \"bubble_size\": 20\n    },\n    {\n        \"company_size\": \"Large\",\n        \"profitability\": 22.465,\n        \"market_presence\": 699.399,\n        \"bubble_size\": 100\n    },\n    {\n        \"company_size\": \"Medium\",\n        \"profitability\": 56.954,\n        \"market_presence\": 992.404,\n        \"bubble_size\": 50\n    },\n    {\n        \"company_size\": \"Large\",\n        \"profitability\": 86.645,\n        \"market_presence\": 267.995,\n        \"bubble_size\": 100\n    },\n    {\n        \"company_size\": \"Large\",\n        \"profitability\": 51.388,\n        \"market_presence\": 679.412,\n        \"bubble_size\": 100\n    },\n    {\n        \"company_size\": \"Small\",\n        \"profitability\": 91.756,\n        \"market_presence\": 864.417,\n        \"bubble_size\": 20\n    },\n    {\n        \"company_size\": \"Medium\",\n        \"profitability\": 92.195,\n        \"market_presence\": 751.093,\n        \"bubble_size\": 50\n    },\n    {\n        \"company_size\": \"Medium\",\n        \"profitability\": 9.228,\n        \"market_presence\": 964.525,\n        \"bubble_size\": 50\n    },\n    {\n        \"company_size\": \"Medium\",\n        \"profitability\": 28.494,\n        \"market_presence\": 554.688,\n        \"bubble_size\": 50\n    },\n    {\n        \"company_size\": \"Medium\",\n        \"profitability\": 1.926,\n        \"market_presence\": 213.178,\n        \"bubble_size\": 50\n    },\n    {\n        \"company_size\": \"Small\",\n        \"profitability\": 84.392,\n        \"market_presence\": 223.221,\n        \"bubble_size\": 20\n    },\n    {\n        \"company_size\": \"Medium\",\n        \"profitability\": 65.07,\n        \"market_presence\": 219.531,\n        \"bubble_size\": 50\n    },\n    {\n        \"company_size\": \"Small\",\n        \"profitability\": 84.297,\n        \"market_presence\": 570.004,\n        \"bubble_size\": 20\n    },\n    {\n        \"company_size\": \"Small\",\n        \"profitability\": 27.208,\n        \"market_presence\": 452.657,\n        \"bubble_size\": 20\n    },\n    {\n        \"company_size\": \"Medium\",\n        \"profitability\": 40.384,\n        \"market_presence\": 970.266,\n        \"bubble_size\": 50\n    },\n    {\n        \"company_size\": \"Large\",\n        \"profitability\": 55.729,\n        \"market_presence\": 680.864,\n        \"bubble_size\": 100\n    },\n    {\n        \"company_size\": \"Small\",\n        \"profitability\": 17.329,\n        \"market_presence\": 86.21,\n        \"bubble_size\": 20\n    },\n    {\n        \"company_size\": \"Large\",\n        \"profitability\": 37.611,\n        \"market_presence\": 57.362,\n        \"bubble_size\": 100\n    },\n    {\n        \"company_size\": \"Small\",\n        \"profitability\": 15.498,\n        \"market_presence\": 488.35,\n        \"bubble_size\": 20\n    },\n    {\n        \"company_size\": \"Medium\",\n        \"profitability\": 57.392,\n        \"market_presence\": 881.124,\n        \"bubble_size\": 50\n    },\n    {\n        \"company_size\": \"Medium\",\n        \"profitability\": 70.67,\n        \"market_presence\": 976.428,\n        \"bubble_size\": 50\n    },\n    {\n        \"company_size\": \"Large\",\n        \"profitability\": 29.559,\n        \"market_presence\": 618.04,\n        \"bubble_size\": 100\n    },\n    {\n        \"company_size\": \"Small\",\n        \"profitability\": 43.896,\n        \"market_presence\": 542.956,\n        \"bubble_size\": 20\n    },\n    {\n        \"company_size\": \"Medium\",\n        \"profitability\": 75.855,\n        \"market_presence\": 854.759,\n        \"bubble_size\": 50\n    },\n    {\n        \"company_size\": \"Medium\",\n        \"profitability\": 40.214,\n        \"market_presence\": 744.091,\n        \"bubble_size\": 50\n    },\n    {\n        \"company_size\": \"Medium\",\n        \"profitability\": 89.708,\n        \"market_presence\": 479.118,\n        \"bubble_size\": 50\n    },\n    {\n        \"company_size\": \"Small\",\n        \"profitability\": 64.253,\n        \"market_presence\": 677.404,\n        \"bubble_size\": 20\n    },\n    {\n        \"company_size\": \"Large\",\n        \"profitability\": 89.264,\n        \"market_presence\": 607.438,\n        \"bubble_size\": 100\n    },\n    {\n        \"company_size\": \"Small\",\n        \"profitability\": 68.326,\n        \"market_presence\": 714.982,\n        \"bubble_size\": 20\n    },\n    {\n        \"company_size\": \"Large\",\n        \"profitability\": 45.471,\n        \"market_presence\": 470.028,\n        \"bubble_size\": 100\n    },\n    {\n        \"company_size\": \"Large\",\n        \"profitability\": 97.879,\n        \"market_presence\": 456.559,\n        \"bubble_size\": 100\n    },\n    {\n        \"company_size\": \"Small\",\n        \"profitability\": 12.504,\n        \"market_presence\": 906.512,\n        \"bubble_size\": 20\n    },\n    {\n        \"company_size\": \"Large\",\n        \"profitability\": 76.935,\n        \"market_presence\": 138.083,\n        \"bubble_size\": 100\n    },\n    {\n        \"company_size\": \"Small\",\n        \"profitability\": 41.77,\n        \"market_presence\": 229.99,\n        \"bubble_size\": 20\n    },\n    {\n        \"company_size\": \"Small\",\n        \"profitability\": 67.868,\n        \"market_presence\": 881.704,\n        \"bubble_size\": 20\n    },\n    {\n        \"company_size\": \"Small\",\n        \"profitability\": 25.73,\n        \"market_presence\": 904.521,\n        \"bubble_size\": 20\n    },\n    {\n        \"company_size\": \"Medium\",\n        \"profitability\": 32.009,\n        \"market_presence\": 646.139,\n        \"bubble_size\": 50\n    },\n    {\n        \"company_size\": \"Medium\",\n        \"profitability\": 96.576,\n        \"market_presence\": 325.358,\n        \"bubble_size\": 50\n    },\n    {\n        \"company_size\": \"Large\",\n        \"profitability\": 59.258,\n        \"market_presence\": 520.191,\n        \"bubble_size\": 100\n    },\n    {\n        \"company_size\": \"Small\",\n        \"profitability\": 66.307,\n        \"market_presence\": 1.055,\n        \"bubble_size\": 20\n    },\n    {\n        \"company_size\": \"Small\",\n        \"profitability\": 53.787,\n        \"market_presence\": 312.548,\n        \"bubble_size\": 20\n    },\n    {\n        \"company_size\": \"Medium\",\n        \"profitability\": 23.823,\n        \"market_presence\": 426.026,\n        \"bubble_size\": 50\n    },\n    {\n        \"company_size\": \"Small\",\n        \"profitability\": 40.092,\n        \"market_presence\": 885.452,\n        \"bubble_size\": 20\n    },\n    {\n        \"company_size\": \"Medium\",\n        \"profitability\": 62.262,\n        \"market_presence\": 680.2,\n        \"bubble_size\": 50\n    },\n    {\n        \"company_size\": \"Large\",\n        \"profitability\": 48.012,\n        \"market_presence\": 456.674,\n        \"bubble_size\": 100\n    },\n    {\n        \"company_size\": \"Large\",\n        \"profitability\": 47.543,\n        \"market_presence\": 483.925,\n        \"bubble_size\": 100\n    },\n    {\n        \"company_size\": \"Small\",\n        \"profitability\": 71.891,\n        \"market_presence\": 788.951,\n        \"bubble_size\": 20\n    },\n    {\n        \"company_size\": \"Medium\",\n        \"profitability\": 29.511,\n        \"market_presence\": 230.212,\n        \"bubble_size\": 50\n    },\n    {\n        \"company_size\": \"Medium\",\n        \"profitability\": 38.963,\n        \"market_presence\": 880.417,\n        \"bubble_size\": 50\n    },\n    {\n        \"company_size\": \"Medium\",\n        \"profitability\": 75.168,\n        \"market_presence\": 314.379,\n        \"bubble_size\": 50\n    },\n    {\n        \"company_size\": \"Medium\",\n        \"profitability\": 87.967,\n        \"market_presence\": 957.493,\n        \"bubble_size\": 50\n    },\n    {\n        \"company_size\": \"Large\",\n        \"profitability\": 11.183,\n        \"market_presence\": 472.28,\n        \"bubble_size\": 100\n    },\n    {\n        \"company_size\": \"Large\",\n        \"profitability\": 10.145,\n        \"market_presence\": 711.872,\n        \"bubble_size\": 100\n    },\n    {\n        \"company_size\": \"Large\",\n        \"profitability\": 36.051,\n        \"market_presence\": 154.541,\n        \"bubble_size\": 100\n    },\n    {\n        \"company_size\": \"Small\",\n        \"profitability\": 55.63,\n        \"market_presence\": 730.712,\n        \"bubble_size\": 20\n    },\n    {\n        \"company_size\": \"Large\",\n        \"profitability\": 4.329,\n        \"market_presence\": 646.618,\n        \"bubble_size\": 100\n    },\n    {\n        \"company_size\": \"Medium\",\n        \"profitability\": 96.927,\n        \"market_presence\": 215.666,\n        \"bubble_size\": 50\n    },\n    {\n        \"company_size\": \"Small\",\n        \"profitability\": 32.779,\n        \"market_presence\": 187.272,\n        \"bubble_size\": 20\n    },\n    {\n        \"company_size\": \"Medium\",\n        \"profitability\": 22.905,\n        \"market_presence\": 807.773,\n        \"bubble_size\": 50\n    },\n    {\n        \"company_size\": \"Large\",\n        \"profitability\": 14.985,\n        \"market_presence\": 747.332,\n        \"bubble_size\": 100\n    },\n    {\n        \"company_size\": \"Small\",\n        \"profitability\": 10.629,\n        \"market_presence\": 675.172,\n        \"bubble_size\": 20\n    },\n    {\n        \"company_size\": \"Small\",\n        \"profitability\": 98.42,\n        \"market_presence\": 277.617,\n        \"bubble_size\": 20\n    },\n    {\n        \"company_size\": \"Large\",\n        \"profitability\": 26.774,\n        \"market_presence\": 175.734,\n        \"bubble_size\": 100\n    },\n    {\n        \"company_size\": \"Small\",\n        \"profitability\": 54.165,\n        \"market_presence\": 704.77,\n        \"bubble_size\": 20\n    },\n    {\n        \"company_size\": \"Small\",\n        \"profitability\": 45.345,\n        \"market_presence\": 463.687,\n        \"bubble_size\": 20\n    },\n    {\n        \"company_size\": \"Small\",\n        \"profitability\": 10.857,\n        \"market_presence\": 840.588,\n        \"bubble_size\": 20\n    },\n    {\n        \"company_size\": \"Small\",\n        \"profitability\": 35.879,\n        \"market_presence\": 205.661,\n        \"bubble_size\": 20\n    },\n    {\n        \"company_size\": \"Small\",\n        \"profitability\": 47.456,\n        \"market_presence\": 165.794,\n        \"bubble_size\": 20\n    },\n    {\n        \"company_size\": \"Small\",\n        \"profitability\": 84.273,\n        \"market_presence\": 125.708,\n        \"bubble_size\": 20\n    },\n    {\n        \"company_size\": \"Large\",\n        \"profitability\": 90.56,\n        \"market_presence\": 722.359,\n        \"bubble_size\": 100\n    },\n    {\n        \"company_size\": \"Small\",\n        \"profitability\": 4.718,\n        \"market_presence\": 31.423,\n        \"bubble_size\": 20\n    },\n    {\n        \"company_size\": \"Large\",\n        \"profitability\": 51.323,\n        \"market_presence\": 747.247,\n        \"bubble_size\": 100\n    },\n    {\n        \"company_size\": \"Medium\",\n        \"profitability\": 17.518,\n        \"market_presence\": 93.504,\n        \"bubble_size\": 50\n    },\n    {\n        \"company_size\": \"Medium\",\n        \"profitability\": 78.126,\n        \"market_presence\": 218.233,\n        \"bubble_size\": 50\n    },\n    {\n        \"company_size\": \"Medium\",\n        \"profitability\": 86.628,\n        \"market_presence\": 749.505,\n        \"bubble_size\": 50\n    },\n    {\n        \"company_size\": \"Small\",\n        \"profitability\": 41.728,\n        \"market_presence\": 731.962,\n        \"bubble_size\": 20\n    },\n    {\n        \"company_size\": \"Medium\",\n        \"profitability\": 14.857,\n        \"market_presence\": 46.569,\n        \"bubble_size\": 50\n    },\n    {\n        \"company_size\": \"Medium\",\n        \"profitability\": 4.289,\n        \"market_presence\": 209.948,\n        \"bubble_size\": 50\n    },\n    {\n        \"company_size\": \"Medium\",\n        \"profitability\": 98.275,\n        \"market_presence\": 287.628,\n        \"bubble_size\": 50\n    },\n    {\n        \"company_size\": \"Small\",\n        \"profitability\": 37.956,\n        \"market_presence\": 677.586,\n        \"bubble_size\": 20\n    },\n    {\n        \"company_size\": \"Medium\",\n        \"profitability\": 42.587,\n        \"market_presence\": 63.975,\n        \"bubble_size\": 50\n    },\n    {\n        \"company_size\": \"Large\",\n        \"profitability\": 6.008,\n        \"market_presence\": 556.094,\n        \"bubble_size\": 100\n    },\n    {\n        \"company_size\": \"Small\",\n        \"profitability\": 37.184,\n        \"market_presence\": 10.231,\n        \"bubble_size\": 20\n    },\n    {\n        \"company_size\": \"Medium\",\n        \"profitability\": 2.646,\n        \"market_presence\": 833.205,\n        \"bubble_size\": 50\n    },\n    {\n        \"company_size\": \"Large\",\n        \"profitability\": 23.843,\n        \"market_presence\": 984.345,\n        \"bubble_size\": 100\n    },\n    {\n        \"company_size\": \"Small\",\n        \"profitability\": 76.726,\n        \"market_presence\": 703.791,\n        \"bubble_size\": 20\n    },\n    {\n        \"company_size\": \"Large\",\n        \"profitability\": 94.468,\n        \"market_presence\": 182.45,\n        \"bubble_size\": 100\n    },\n    {\n        \"company_size\": \"Small\",\n        \"profitability\": 75.25,\n        \"market_presence\": 512.881,\n        \"bubble_size\": 20\n    },\n    {\n        \"company_size\": \"Medium\",\n        \"profitability\": 34.601,\n        \"market_presence\": 580.867,\n        \"bubble_size\": 50\n    },\n    {\n        \"company_size\": \"Large\",\n        \"profitability\": 49.465,\n        \"market_presence\": 787.755,\n        \"bubble_size\": 100\n    }\n]\n\ndf = pd.DataFrame(data)"
            ]
        },
        {
            "cell_type": "markdown",
            "metadata": {},
            "source": [
                "## **Solution:** "
            ]
        },
        {
            "cell_type": "code",
            "execution_count": null,
            "metadata": [
                {}
            ],
            "source": [
                "import matplotlib.pyplot as plt\n\n# Setting colors based on company size\ncolors = {'Small': 'mediumseagreen', 'Medium': 'darkkhaki', 'Large': 'coral'}\n\n# Plotting\nplt.figure(figsize=(12, 8))\nfor size, group in df.groupby('company_size'):\n    plt.scatter(group['profitability'], group['market_presence'], \n                s=group['bubble_size']*10, color=colors[size], alpha=0.6, label=size)\n\nplt.title('Relationship between Company Size, Profitability, and Market Presence')\nplt.xlabel('Profitability (%)')\nplt.ylabel('Market Presence')\nplt.legend(title='Company Size')\nplt.grid(True)\nplt.show()"
            ]
        }
    ],
    "metadata": {
        "kernelspec": {
            "display_name": "Python 3",
            "language": "python",
            "name": "python3"
        },
        "language_info": {
            "codemirror_mode": {
                "name": "ipython",
                "version": 3
            },
            "file_extension": ".py",
            "mimetype": "text/x-python",
            "name": "python",
            "nbconvert_exporter": "python",
            "pygments_lexer": "ipython3",
            "version": "3.11.4"
        }
    },
    "nbformat": 4,
    "nbformat_minor": 2,
    "name_of_the_file": "Company size-profitability correlation.ipynb"
}