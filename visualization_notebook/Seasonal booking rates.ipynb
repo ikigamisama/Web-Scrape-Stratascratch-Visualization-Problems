{
    "cells": [
        {
            "cell_type": "markdown",
            "metadata": {},
            "source": [
                "### **Link:** https://platform.stratascratch.com/visualizations/10532-seasonal-booking-rates?code_type=2"
            ]
        },
        {
            "cell_type": "markdown",
            "metadata": {},
            "source": [
                "# Seasonal booking rates"
            ]
        },
        {
            "cell_type": "markdown",
            "metadata": {},
            "source": [
                "##### **Difficulty:** Medium"
            ]
        },
        {
            "cell_type": "markdown",
            "metadata": {},
            "source": [
                "##### **ID:** ID 10532"
            ]
        },
        {
            "cell_type": "markdown",
            "metadata": {},
            "source": [
                "##### **Type:** Heat Map"
            ]
        },
        {
            "cell_type": "markdown",
            "metadata": {},
            "source": [
                "##### **Analysis:** Trend Analysis"
            ]
        },
        {
            "cell_type": "markdown",
            "metadata": {},
            "source": [
                "##### **Data Type:** Time Series Data"
            ]
        },
        {
            "cell_type": "markdown",
            "metadata": {},
            "source": [
                "##### Develop a heat map to visualize the seasonal variation in hotel booking rates across different regions, using a color gradient from 'lightblue' for low season to 'darkblue' for peak season."
            ]
        },
        {
            "cell_type": "markdown",
            "metadata": {},
            "source": [
                "## **Data:** "
            ]
        },
        {
            "cell_type": "code",
            "execution_count": null,
            "metadata": [
                {}
            ],
            "source": [
                "import pandas as pd \n\ndata = [\n    {\n        \"january\": 64,\n        \"february\": 67,\n        \"march\": 84,\n        \"april\": 87,\n        \"may\": 87,\n        \"june\": 29,\n        \"july\": 41,\n        \"august\": 56,\n        \"september\": 90,\n        \"october\": 32,\n        \"november\": 78,\n        \"december\": 85\n    },\n    {\n        \"january\": 59,\n        \"february\": 66,\n        \"march\": 57,\n        \"april\": 45,\n        \"may\": 97,\n        \"june\": 92,\n        \"july\": 29,\n        \"august\": 40,\n        \"september\": 89,\n        \"october\": 99,\n        \"november\": 67,\n        \"december\": 84\n    },\n    {\n        \"january\": 69,\n        \"february\": 49,\n        \"march\": 39,\n        \"april\": 39,\n        \"may\": 34,\n        \"june\": 59,\n        \"july\": 52,\n        \"august\": 85,\n        \"september\": 29,\n        \"october\": 77,\n        \"november\": 52,\n        \"december\": 51\n    },\n    {\n        \"january\": 94,\n        \"february\": 43,\n        \"march\": 55,\n        \"april\": 95,\n        \"may\": 75,\n        \"june\": 48,\n        \"july\": 54,\n        \"august\": 20,\n        \"september\": 20,\n        \"october\": 56,\n        \"november\": 73,\n        \"december\": 25\n    }\n]\n\ndf = pd.DataFrame(data)"
            ]
        },
        {
            "cell_type": "markdown",
            "metadata": {},
            "source": [
                "## **Solution:** "
            ]
        },
        {
            "cell_type": "code",
            "execution_count": null,
            "metadata": [
                {}
            ],
            "source": [
                "import matplotlib.pyplot as plt\nimport seaborn as sns\n\nplt.figure(figsize=(12, 8))\nsns.heatmap(df, cmap='Blues', annot=True, linewidths=.5, linecolor='gray', cbar_kws={'label': 'Booking Rate (%)'})\n\nplt.title('Seasonal Variation in Hotel Booking Rates Across Different Regions')\nplt.xlabel('Month')\nplt.ylabel('Region')\nplt.show()"
            ]
        }
    ],
    "metadata": {
        "kernelspec": {
            "display_name": "Python 3",
            "language": "python",
            "name": "python3"
        },
        "language_info": {
            "codemirror_mode": {
                "name": "ipython",
                "version": 3
            },
            "file_extension": ".py",
            "mimetype": "text/x-python",
            "name": "python",
            "nbconvert_exporter": "python",
            "pygments_lexer": "ipython3",
            "version": "3.11.4"
        }
    },
    "nbformat": 4,
    "nbformat_minor": 2,
    "name_of_the_file": "Seasonal booking rates.ipynb"
}