{
    "cells": [
        {
            "cell_type": "markdown",
            "metadata": {},
            "source": [
                "### **Link:** https://platform.stratascratch.com/visualizations/10530-tech-profession-salaries?code_type=2"
            ]
        },
        {
            "cell_type": "markdown",
            "metadata": {},
            "source": [
                "# Tech profession salaries"
            ]
        },
        {
            "cell_type": "markdown",
            "metadata": {},
            "source": [
                "##### **Difficulty:** Medium"
            ]
        },
        {
            "cell_type": "markdown",
            "metadata": {},
            "source": [
                "##### **ID:** ID 10530"
            ]
        },
        {
            "cell_type": "markdown",
            "metadata": {},
            "source": [
                "##### **Type:** Box Plot"
            ]
        },
        {
            "cell_type": "markdown",
            "metadata": {},
            "source": [
                "##### **Analysis:** Comparison"
            ]
        },
        {
            "cell_type": "markdown",
            "metadata": {},
            "source": [
                "##### **Data Type:** Numerical Data"
            ]
        },
        {
            "cell_type": "markdown",
            "metadata": {},
            "source": [
                "##### Generate a box plot to compare the annual salaries of different professions within the tech industry, marked 'cyan' for software engineers, 'magenta' for data scientists, and 'yellowgreen' for UX designers."
            ]
        },
        {
            "cell_type": "markdown",
            "metadata": {},
            "source": [
                "## **Data:** "
            ]
        },
        {
            "cell_type": "code",
            "execution_count": null,
            "metadata": [
                {}
            ],
            "source": [
                "import pandas as pd \n\ndata = [\n    {\n        \"profession\": \"Software Engineer\",\n        \"annual_salary\": 138268\n    },\n    {\n        \"profession\": \"Software Engineer\",\n        \"annual_salary\": 113567\n    },\n    {\n        \"profession\": \"Software Engineer\",\n        \"annual_salary\": 112613\n    },\n    {\n        \"profession\": \"Data Scientist\",\n        \"annual_salary\": 115891\n    },\n    {\n        \"profession\": \"Data Scientist\",\n        \"annual_salary\": 91243\n    },\n    {\n        \"profession\": \"Data Scientist\",\n        \"annual_salary\": 111993\n    },\n    {\n        \"profession\": \"UX Designer\",\n        \"annual_salary\": 125026\n    },\n    {\n        \"profession\": \"UX Designer\",\n        \"annual_salary\": 118600\n    },\n    {\n        \"profession\": \"UX Designer\",\n        \"annual_salary\": 109512\n    }\n]\n\ndf = pd.DataFrame(data)"
            ]
        },
        {
            "cell_type": "markdown",
            "metadata": {},
            "source": [
                "## **Solution:** "
            ]
        },
        {
            "cell_type": "code",
            "execution_count": null,
            "metadata": [
                {}
            ],
            "source": [
                "import matplotlib.pyplot as plt\nimport plotly.express as px\n\ncolor_map = { 'Software Engineer': 'cyan', 'Data Scientist': 'magenta', 'UX Designer': 'yellowgreen' }\n\n\ncolors = df['profession'].map(color_map)\nplt.figure(figsize=(10, 6))\n\nbox = plt.boxplot([df[df['profession'] == 'Software Engineer']['annual_salary'],\n                   df[df['profession'] == 'Data Scientist']['annual_salary'],\n                   df[df['profession'] == 'UX Designer']['annual_salary']],\n                  patch_artist=True,\n                  labels=['Software Engineer', 'Data Scientist', 'UX Designer'])\n\nfor patch, color in zip(box['boxes'], ['cyan', 'magenta', 'yellowgreen']):\n    patch.set_facecolor(color)\n\nplt.title('Annual Salaries of Different Professions in the Tech Industry')\nplt.xlabel('Profession')\nplt.ylabel('Annual Salary ($)')\nplt.grid(True)\nplt.show()"
            ]
        }
    ],
    "metadata": {
        "kernelspec": {
            "display_name": "Python 3",
            "language": "python",
            "name": "python3"
        },
        "language_info": {
            "codemirror_mode": {
                "name": "ipython",
                "version": 3
            },
            "file_extension": ".py",
            "mimetype": "text/x-python",
            "name": "python",
            "nbconvert_exporter": "python",
            "pygments_lexer": "ipython3",
            "version": "3.11.4"
        }
    },
    "nbformat": 4,
    "nbformat_minor": 2,
    "name_of_the_file": "Tech profession salaries.ipynb"
}