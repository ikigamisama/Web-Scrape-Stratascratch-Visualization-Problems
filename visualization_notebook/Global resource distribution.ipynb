{
    "cells": [
        {
            "cell_type": "markdown",
            "metadata": {},
            "source": [
                "### **Link:** https://platform.stratascratch.com/visualizations/10473-global-resource-distribution?code_type=2"
            ]
        },
        {
            "cell_type": "markdown",
            "metadata": {},
            "source": [
                "# Global resource distribution"
            ]
        },
        {
            "cell_type": "markdown",
            "metadata": {},
            "source": [
                "##### **Difficulty:** Hard"
            ]
        },
        {
            "cell_type": "markdown",
            "metadata": {},
            "source": [
                "##### **ID:** ID 10473"
            ]
        },
        {
            "cell_type": "markdown",
            "metadata": {},
            "source": [
                "##### **Type:** Bubble Map"
            ]
        },
        {
            "cell_type": "markdown",
            "metadata": {},
            "source": [
                "##### **Analysis:** Distribution"
            ]
        },
        {
            "cell_type": "markdown",
            "metadata": {},
            "source": [
                "##### **Data Type:** Spatial Data"
            ]
        },
        {
            "cell_type": "markdown",
            "metadata": {},
            "source": [
                "##### Use a bubble map to visualize the global distribution of natural resources, marking 'gold' for oil, 'silver' for coal, and 'bronze' for natural gas."
            ]
        },
        {
            "cell_type": "markdown",
            "metadata": {},
            "source": [
                "## **Data:** "
            ]
        },
        {
            "cell_type": "code",
            "execution_count": null,
            "metadata": [
                {}
            ],
            "source": [
                "import pandas as pd \n\ndata = [\n    {\n        \"resource\": \"Oil\",\n        \"latitude\": 29.76,\n        \"longitude\": -95.36,\n        \"quantity\": 5000\n    },\n    {\n        \"resource\": \"Coal\",\n        \"latitude\": -23.54,\n        \"longitude\": 148.54,\n        \"quantity\": 3000\n    },\n    {\n        \"resource\": \"Natural Gas\",\n        \"latitude\": 55.75,\n        \"longitude\": 37.61,\n        \"quantity\": 4000\n    }\n]\n\ndf = pd.DataFrame(data)"
            ]
        },
        {
            "cell_type": "markdown",
            "metadata": {},
            "source": [
                "## **Solution:** "
            ]
        },
        {
            "cell_type": "code",
            "execution_count": null,
            "metadata": [
                {}
            ],
            "source": [
                "import plotly.express as px\n\ndf = pd.DataFrame(data)\n\nfig = px.scatter_geo(df, lat='latitude', lon='longitude', \n                     size='quantity', color='resource',\n                     color_discrete_map={\n                         'Oil': 'gold', \n                         'Coal': 'silver', \n                         'Natural Gas': '#cd7f32'  # Hex code for bronze color\n                     },\n                     projection='natural earth',\n                     title='Global Distribution of Natural Resources')\n\nfig.update_layout(legend_title_text='Resources')\nfig.show()"
            ]
        }
    ],
    "metadata": {
        "kernelspec": {
            "display_name": "Python 3",
            "language": "python",
            "name": "python3"
        },
        "language_info": {
            "codemirror_mode": {
                "name": "ipython",
                "version": 3
            },
            "file_extension": ".py",
            "mimetype": "text/x-python",
            "name": "python",
            "nbconvert_exporter": "python",
            "pygments_lexer": "ipython3",
            "version": "3.11.4"
        }
    },
    "nbformat": 4,
    "nbformat_minor": 2,
    "name_of_the_file": "Global resource distribution.ipynb"
}