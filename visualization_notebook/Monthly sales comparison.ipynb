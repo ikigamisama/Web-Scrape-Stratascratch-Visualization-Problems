{
    "cells": [
        {
            "cell_type": "markdown",
            "metadata": {},
            "source": [
                "### **Link:** https://platform.stratascratch.com/visualizations/10494-monthly-sales-comparison?code_type=2"
            ]
        },
        {
            "cell_type": "markdown",
            "metadata": {},
            "source": [
                "# Monthly sales comparison"
            ]
        },
        {
            "cell_type": "markdown",
            "metadata": {},
            "source": [
                "##### **Difficulty:** Medium"
            ]
        },
        {
            "cell_type": "markdown",
            "metadata": {},
            "source": [
                "##### **ID:** ID 10494"
            ]
        },
        {
            "cell_type": "markdown",
            "metadata": {},
            "source": [
                "##### **Type:** Stacked Bar Chart"
            ]
        },
        {
            "cell_type": "markdown",
            "metadata": {},
            "source": [
                "##### **Analysis:** Trend Analysis"
            ]
        },
        {
            "cell_type": "markdown",
            "metadata": {},
            "source": [
                "##### **Data Type:** Time Series Data & Categorical Data"
            ]
        },
        {
            "cell_type": "markdown",
            "metadata": {},
            "source": [
                "##### Deploy a stacked bar chart to showcase the monthly sales data of different product lines, using 'turquoise' for electronics, 'magenta' for clothing, and 'wheat' for accessories."
            ]
        },
        {
            "cell_type": "markdown",
            "metadata": {},
            "source": [
                "## **Data:** "
            ]
        },
        {
            "cell_type": "code",
            "execution_count": null,
            "metadata": [
                {}
            ],
            "source": [
                "import pandas as pd \n\ndata = [\n    {\n        \"electronics\": 12732,\n        \"clothing\": 58095,\n        \"accessories\": 23430\n    },\n    {\n        \"electronics\": 31243,\n        \"clothing\": 39152,\n        \"accessories\": 6871\n    },\n    {\n        \"electronics\": 40403,\n        \"clothing\": 50665,\n        \"accessories\": 12599\n    },\n    {\n        \"electronics\": 42103,\n        \"clothing\": 31921,\n        \"accessories\": 7496\n    },\n    {\n        \"electronics\": 30757,\n        \"clothing\": 42469,\n        \"accessories\": 20186\n    },\n    {\n        \"electronics\": 24935,\n        \"clothing\": 53984,\n        \"accessories\": 15200\n    },\n    {\n        \"electronics\": 25430,\n        \"clothing\": 21921,\n        \"accessories\": 5755\n    },\n    {\n        \"electronics\": 49512,\n        \"clothing\": 53804,\n        \"accessories\": 5797\n    },\n    {\n        \"electronics\": 24650,\n        \"clothing\": 17163,\n        \"accessories\": 22043\n    },\n    {\n        \"electronics\": 27089,\n        \"clothing\": 20072,\n        \"accessories\": 8219\n    },\n    {\n        \"electronics\": 42230,\n        \"clothing\": 52619,\n        \"accessories\": 20246\n    },\n    {\n        \"electronics\": 28983,\n        \"clothing\": 22877,\n        \"accessories\": 21321\n    }\n]\n\ndf = pd.DataFrame(data)"
            ]
        },
        {
            "cell_type": "markdown",
            "metadata": {},
            "source": [
                "## **Solution:** "
            ]
        },
        {
            "cell_type": "code",
            "execution_count": null,
            "metadata": [
                {}
            ],
            "source": [
                "import matplotlib.pyplot as plt\n\ncolors = {'electronics': 'turquoise','clothing': 'magenta','accessories': 'wheat',}\nplt.figure(figsize=(12, 8))\ndf.plot(kind='bar',stacked=True,color=[colors[col] for col in df.columns],)\n\nplt.title('Monthly Sales Data of Different Product Lines')\nplt.xlabel('Month')\nplt.ylabel('Sales ($)')\nplt.legend(title='Product Line')\nplt.grid(axis='y')\nplt.xticks(rotation=45)\nplt.show()"
            ]
        }
    ],
    "metadata": {
        "kernelspec": {
            "display_name": "Python 3",
            "language": "python",
            "name": "python3"
        },
        "language_info": {
            "codemirror_mode": {
                "name": "ipython",
                "version": 3
            },
            "file_extension": ".py",
            "mimetype": "text/x-python",
            "name": "python",
            "nbconvert_exporter": "python",
            "pygments_lexer": "ipython3",
            "version": "3.11.4"
        }
    },
    "nbformat": 4,
    "nbformat_minor": 2,
    "name_of_the_file": "Monthly sales comparison.ipynb"
}