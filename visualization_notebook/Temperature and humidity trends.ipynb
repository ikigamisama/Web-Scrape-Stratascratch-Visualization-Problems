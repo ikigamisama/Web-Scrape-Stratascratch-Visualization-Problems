{
    "cells": [
        {
            "cell_type": "markdown",
            "metadata": {},
            "source": [
                "### **Link:** https://platform.stratascratch.com/visualizations/10480-temperature-and-humidity-trends?code_type=2"
            ]
        },
        {
            "cell_type": "markdown",
            "metadata": {},
            "source": [
                "# Temperature and humidity trends"
            ]
        },
        {
            "cell_type": "markdown",
            "metadata": {},
            "source": [
                "##### **Difficulty:** Medium"
            ]
        },
        {
            "cell_type": "markdown",
            "metadata": {},
            "source": [
                "##### **ID:** ID 10480"
            ]
        },
        {
            "cell_type": "markdown",
            "metadata": {},
            "source": [
                "##### **Type:** Line Plot"
            ]
        },
        {
            "cell_type": "markdown",
            "metadata": {},
            "source": [
                "##### **Analysis:** Trend Analysis"
            ]
        },
        {
            "cell_type": "markdown",
            "metadata": {},
            "source": [
                "##### **Data Type:** Time Series Data"
            ]
        },
        {
            "cell_type": "markdown",
            "metadata": {},
            "source": [
                "##### Generate a line plot to track the changes in air temperature and humidity over the course of a day, using 'deepskyblue' for temperature and 'lightcoral' for humidity."
            ]
        },
        {
            "cell_type": "markdown",
            "metadata": {},
            "source": [
                "## **Data:** "
            ]
        },
        {
            "cell_type": "code",
            "execution_count": null,
            "metadata": [
                {}
            ],
            "source": [
                "import pandas as pd \n\ndata = [\n    {\n        \"hour\": 0,\n        \"temperature\": 23.232,\n        \"humidity\": 45.914\n    },\n    {\n        \"hour\": 1,\n        \"temperature\": 25.728,\n        \"humidity\": 71.996\n    },\n    {\n        \"hour\": 2,\n        \"temperature\": 24.041,\n        \"humidity\": 47.168\n    },\n    {\n        \"hour\": 3,\n        \"temperature\": 23.173,\n        \"humidity\": 87.233\n    },\n    {\n        \"hour\": 4,\n        \"temperature\": 21.355,\n        \"humidity\": 66.092\n    },\n    {\n        \"hour\": 5,\n        \"temperature\": 24.688,\n        \"humidity\": 60.733\n    },\n    {\n        \"hour\": 6,\n        \"temperature\": 21.564,\n        \"humidity\": 53.228\n    },\n    {\n        \"hour\": 7,\n        \"temperature\": 28.377,\n        \"humidity\": 78.712\n    },\n    {\n        \"hour\": 8,\n        \"temperature\": 29.455,\n        \"humidity\": 62.808\n    },\n    {\n        \"hour\": 9,\n        \"temperature\": 20.752,\n        \"humidity\": 68.422\n    },\n    {\n        \"hour\": 10,\n        \"temperature\": 26.876,\n        \"humidity\": 40.939\n    },\n    {\n        \"hour\": 11,\n        \"temperature\": 22.933,\n        \"humidity\": 70.882\n    },\n    {\n        \"hour\": 12,\n        \"temperature\": 23.521,\n        \"humidity\": 70.605\n    },\n    {\n        \"hour\": 13,\n        \"temperature\": 28.884,\n        \"humidity\": 70.847\n    },\n    {\n        \"hour\": 14,\n        \"temperature\": 16.066,\n        \"humidity\": 87.187\n    },\n    {\n        \"hour\": 15,\n        \"temperature\": 16.307,\n        \"humidity\": 74.091\n    },\n    {\n        \"hour\": 16,\n        \"temperature\": 15.303,\n        \"humidity\": 57.975\n    },\n    {\n        \"hour\": 17,\n        \"temperature\": 27.489,\n        \"humidity\": 61.852\n    },\n    {\n        \"hour\": 18,\n        \"temperature\": 26.672,\n        \"humidity\": 74.882\n    },\n    {\n        \"hour\": 19,\n        \"temperature\": 28.05,\n        \"humidity\": 43.011\n    },\n    {\n        \"hour\": 20,\n        \"temperature\": 29.679,\n        \"humidity\": 73.338\n    },\n    {\n        \"hour\": 21,\n        \"temperature\": 26.987,\n        \"humidity\": 73.532\n    },\n    {\n        \"hour\": 22,\n        \"temperature\": 21.922,\n        \"humidity\": 50.519\n    },\n    {\n        \"hour\": 23,\n        \"temperature\": 26.708,\n        \"humidity\": 46.446\n    }\n]\n\ndf = pd.DataFrame(data)"
            ]
        },
        {
            "cell_type": "markdown",
            "metadata": {},
            "source": [
                "## **Solution:** "
            ]
        },
        {
            "cell_type": "code",
            "execution_count": null,
            "metadata": [
                {}
            ],
            "source": [
                "import matplotlib.pyplot as plt\nimport plotly.express as px\n\n#plotting the chart\nplt.figure(figsize=(12, 6))\nplt.plot(\n    df['hour'], \n    df['temperature'], \n    color='deepskyblue', \n    label='Temperature'\n)\nplt.plot(\n    df['hour'], \n    df['humidity'], \n    color='lightcoral', \n    label='Humidity'\n)\nplt.title(\n    'Changes in Air Temperature and Humidity Over the Course of a Day'\n)\nplt.xlabel('Hour of the Day')\nplt.ylabel('Value')\nplt.legend(title='Legend')\nplt.grid(True)\nplt.show()"
            ]
        }
    ],
    "metadata": {
        "kernelspec": {
            "display_name": "Python 3",
            "language": "python",
            "name": "python3"
        },
        "language_info": {
            "codemirror_mode": {
                "name": "ipython",
                "version": 3
            },
            "file_extension": ".py",
            "mimetype": "text/x-python",
            "name": "python",
            "nbconvert_exporter": "python",
            "pygments_lexer": "ipython3",
            "version": "3.11.4"
        }
    },
    "nbformat": 4,
    "nbformat_minor": 2,
    "name_of_the_file": "Temperature and humidity trends.ipynb"
}