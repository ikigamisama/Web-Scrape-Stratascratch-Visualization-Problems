{
    "cells": [
        {
            "cell_type": "markdown",
            "metadata": {},
            "source": [
                "### **Link:** https://platform.stratascratch.com/visualizations/10497-software-project-phases?code_type=2"
            ]
        },
        {
            "cell_type": "markdown",
            "metadata": {},
            "source": [
                "# Software project phases"
            ]
        },
        {
            "cell_type": "markdown",
            "metadata": {},
            "source": [
                "##### **Difficulty:** Medium"
            ]
        },
        {
            "cell_type": "markdown",
            "metadata": {},
            "source": [
                "##### **ID:** ID 10497"
            ]
        },
        {
            "cell_type": "markdown",
            "metadata": {},
            "source": [
                "##### **Type:** Gantt Chart"
            ]
        },
        {
            "cell_type": "markdown",
            "metadata": {},
            "source": [
                "##### **Analysis:** Trend Analysis"
            ]
        },
        {
            "cell_type": "markdown",
            "metadata": {},
            "source": [
                "##### **Data Type:** Time Series Data"
            ]
        },
        {
            "cell_type": "markdown",
            "metadata": {},
            "source": [
                "##### Develop a Gantt chart to track the deployment phases of a new software project, using 'salmon' for planning, 'lightgreen' for development, and 'lightskyblue' for testing."
            ]
        },
        {
            "cell_type": "markdown",
            "metadata": {},
            "source": [
                "## **Data:** "
            ]
        },
        {
            "cell_type": "code",
            "execution_count": null,
            "metadata": [
                {}
            ],
            "source": [
                "import pandas as pd \n\ndata = [\n    {\n        \"task\": \"Planning\",\n        \"start\": \"2023-01-01 00:00:00\",\n        \"finish\": \"2023-01-31 00:00:00\",\n        \"phase\": \"Planning\"\n    },\n    {\n        \"task\": \"Development\",\n        \"start\": \"2023-02-01 00:00:00\",\n        \"finish\": \"2023-04-30 00:00:00\",\n        \"phase\": \"Development\"\n    },\n    {\n        \"task\": \"Testing\",\n        \"start\": \"2023-05-01 00:00:00\",\n        \"finish\": \"2023-06-30 00:00:00\",\n        \"phase\": \"Testing\"\n    }\n]\n\ndf = pd.DataFrame(data)"
            ]
        },
        {
            "cell_type": "markdown",
            "metadata": {},
            "source": [
                "## **Solution:** "
            ]
        },
        {
            "cell_type": "code",
            "execution_count": null,
            "metadata": [
                {}
            ],
            "source": [
                "import matplotlib.pyplot as plt\nimport matplotlib.dates as mdates\n\ncolor_map = {'Planning': 'salmon', 'Development': 'lightgreen', 'Testing': 'lightskyblue'}\nfig, ax = plt.subplots(figsize=(12, 6))\n\nfor i, task in df.iterrows():\n    ax.barh(task['task'], (task['finish'] - task['start']).days, left=task['start'], color=color_map[task['phase']])\n\nax.set_xlabel('Date')\nax.set_ylabel('Task')\nax.set_title('Gantt Chart for Software Project Deployment Phases')\n\nax.xaxis_date()\nax.xaxis.set_major_formatter(mdates.DateFormatter('%Y-%m-%d'))\nplt.xticks(rotation=45)\n\nplt.show()"
            ]
        }
    ],
    "metadata": {
        "kernelspec": {
            "display_name": "Python 3",
            "language": "python",
            "name": "python3"
        },
        "language_info": {
            "codemirror_mode": {
                "name": "ipython",
                "version": 3
            },
            "file_extension": ".py",
            "mimetype": "text/x-python",
            "name": "python",
            "nbconvert_exporter": "python",
            "pygments_lexer": "ipython3",
            "version": "3.11.4"
        }
    },
    "nbformat": 4,
    "nbformat_minor": 2,
    "name_of_the_file": "Software project phases.ipynb"
}