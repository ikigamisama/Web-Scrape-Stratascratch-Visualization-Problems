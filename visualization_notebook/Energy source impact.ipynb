{
    "cells": [
        {
            "cell_type": "markdown",
            "metadata": {},
            "source": [
                "### **Link:** https://platform.stratascratch.com/visualizations/10533-energy-source-impact?code_type=2"
            ]
        },
        {
            "cell_type": "markdown",
            "metadata": {},
            "source": [
                "# Energy source impact"
            ]
        },
        {
            "cell_type": "markdown",
            "metadata": {},
            "source": [
                "##### **Difficulty:** Hard"
            ]
        },
        {
            "cell_type": "markdown",
            "metadata": {},
            "source": [
                "##### **ID:** ID 10533"
            ]
        },
        {
            "cell_type": "markdown",
            "metadata": {},
            "source": [
                "##### **Type:** Radar Chart"
            ]
        },
        {
            "cell_type": "markdown",
            "metadata": {},
            "source": [
                "##### **Analysis:** Comparison"
            ]
        },
        {
            "cell_type": "markdown",
            "metadata": {},
            "source": [
                "##### **Data Type:** Categorical Data"
            ]
        },
        {
            "cell_type": "markdown",
            "metadata": {},
            "source": [
                "##### Use a radar chart to compare the ecological impact of different energy sources, with 'green' for solar, 'brown' for coal, and 'gray' for nuclear."
            ]
        },
        {
            "cell_type": "markdown",
            "metadata": {},
            "source": [
                "## **Data:** "
            ]
        },
        {
            "cell_type": "code",
            "execution_count": null,
            "metadata": [
                {}
            ],
            "source": [
                "import pandas as pd \n\ndata = [\n    {\n        \"metric\": \"Carbon Emissions\",\n        \"solar\": 2,\n        \"coal\": 10,\n        \"nuclear\": 3\n    },\n    {\n        \"metric\": \"Land Use\",\n        \"solar\": 4,\n        \"coal\": 3,\n        \"nuclear\": 2\n    },\n    {\n        \"metric\": \"Water Use\",\n        \"solar\": 3,\n        \"coal\": 8,\n        \"nuclear\": 5\n    },\n    {\n        \"metric\": \"Air Pollution\",\n        \"solar\": 1,\n        \"coal\": 10,\n        \"nuclear\": 3\n    },\n    {\n        \"metric\": \"Waste Generation\",\n        \"solar\": 2,\n        \"coal\": 9,\n        \"nuclear\": 7\n    }\n]\n\ndf = pd.DataFrame(data)"
            ]
        },
        {
            "cell_type": "markdown",
            "metadata": {},
            "source": [
                "## **Solution:** "
            ]
        },
        {
            "cell_type": "code",
            "execution_count": null,
            "metadata": [
                {}
            ],
            "source": [
                "import matplotlib.pyplot as plt\nimport numpy as np\n\nlabels = df['metric']\nnum_vars = len(labels)\n\nangles = np.linspace(0, 2 * np.pi, num_vars, endpoint=False).tolist()\n\nangles += angles[:1]\n\ndef create_plot_data(column_name):\n    values = df[column_name].tolist()\n    values += values[:1]  # Close the loop by repeating the first value\n    return values\n\nsolar_data = create_plot_data('solar')\ncoal_data = create_plot_data('coal')\nnuclear_data = create_plot_data('nuclear')\n\nfig, ax = plt.subplots(figsize=(8, 8), subplot_kw=dict(polar=True))\n\nax.set_theta_offset(np.pi / 2)\nax.set_theta_direction(-1)\n\nax.set_rlabel_position(0)\nplt.yticks([2, 4, 6, 8, 10], [\"2\", \"4\", \"6\", \"8\", \"10\"], color=\"grey\", size=7)\nplt.ylim(0, 10)\n\nax.plot(angles, solar_data, color='green', linewidth=2, linestyle='solid', label='solar')\nax.fill(angles, solar_data, color='green', alpha=0.25)\nax.plot(angles, coal_data, color='brown', linewidth=2, linestyle='solid', label='coal')\nax.fill(angles, coal_data, color='brown', alpha=0.25)\nax.plot(angles, nuclear_data, color='gray', linewidth=2, linestyle='solid', label='nuclear')\nax.fill(angles, nuclear_data, color='gray', alpha=0.25)\n\nplt.title('Ecological Impact of Different Energy Sources', size=20, color='black')\n\nplt.show()"
            ]
        }
    ],
    "metadata": {
        "kernelspec": {
            "display_name": "Python 3",
            "language": "python",
            "name": "python3"
        },
        "language_info": {
            "codemirror_mode": {
                "name": "ipython",
                "version": 3
            },
            "file_extension": ".py",
            "mimetype": "text/x-python",
            "name": "python",
            "nbconvert_exporter": "python",
            "pygments_lexer": "ipython3",
            "version": "3.11.4"
        }
    },
    "nbformat": 4,
    "nbformat_minor": 2,
    "name_of_the_file": "Energy source impact.ipynb"
}