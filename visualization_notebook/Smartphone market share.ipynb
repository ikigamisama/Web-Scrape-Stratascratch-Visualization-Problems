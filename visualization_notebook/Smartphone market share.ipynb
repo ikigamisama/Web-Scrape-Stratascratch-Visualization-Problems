{
    "cells": [
        {
            "cell_type": "markdown",
            "metadata": {},
            "source": [
                "### **Link:** https://platform.stratascratch.com/visualizations/10505-smartphone-market-share?code_type=2"
            ]
        },
        {
            "cell_type": "markdown",
            "metadata": {},
            "source": [
                "# Smartphone market share"
            ]
        },
        {
            "cell_type": "markdown",
            "metadata": {},
            "source": [
                "##### **Difficulty:** Medium"
            ]
        },
        {
            "cell_type": "markdown",
            "metadata": {},
            "source": [
                "##### **ID:** ID 10505"
            ]
        },
        {
            "cell_type": "markdown",
            "metadata": {},
            "source": [
                "##### **Type:** Tree Map"
            ]
        },
        {
            "cell_type": "markdown",
            "metadata": {},
            "source": [
                "##### **Analysis:** Distribution"
            ]
        },
        {
            "cell_type": "markdown",
            "metadata": {},
            "source": [
                "##### **Data Type:** Categorical Data"
            ]
        },
        {
            "cell_type": "markdown",
            "metadata": {},
            "source": [
                "##### Create a tree map to visualize the market share of different brands in the smartphone industry, using 'rosybrown' for Brand A, 'royalblue' for Brand B, and 'saddlebrown' for Brand C."
            ]
        },
        {
            "cell_type": "markdown",
            "metadata": {},
            "source": [
                "## **Data:** "
            ]
        },
        {
            "cell_type": "code",
            "execution_count": 1,
            "metadata": [
                {}
            ],
            "outputs": [],
            "source": [
                "import pandas as pd \n",
                "\n",
                "data = [\n",
                "    {\n",
                "        \"brand\": \"Brand A\",\n",
                "        \"market_share\": 35\n",
                "    },\n",
                "    {\n",
                "        \"brand\": \"Brand B\",\n",
                "        \"market_share\": 45\n",
                "    },\n",
                "    {\n",
                "        \"brand\": \"Brand C\",\n",
                "        \"market_share\": 20\n",
                "    }\n",
                "]\n",
                "\n",
                "df = pd.DataFrame(data)"
            ]
        },
        {
            "cell_type": "markdown",
            "metadata": {},
            "source": [
                "## **Solution:** "
            ]
        },
        {
            "cell_type": "code",
            "execution_count": 2,
            "metadata": [
                {}
            ],
            "outputs": [
                {
                    "data": {
                        "image/png": "[encoded data removed]",
                        "text/plain": [
                            "<Figure size 1200x800 with 1 Axes>"
                        ]
                    },
                    "metadata": {},
                    "output_type": "display_data"
                }
            ],
            "source": [
                "import matplotlib.pyplot as plt\n",
                "import squarify\n",
                "\n",
                "colors = {'Brand A': 'rosybrown', 'Brand B': 'royalblue', 'Brand C': 'saddlebrown'}\n",
                "color_labels = [colors[key] for key in df['brand']]\n",
                "plt.figure(figsize=(12,8))\n",
                "\n",
                "squarify.plot(sizes=df['market_share'], label=df['brand'], color=color_labels, alpha=0.7)\n",
                "plt.title('Market Share of Different brand in the Smartphone Industry')\n",
                "plt.axis('off')\n",
                "plt.show()"
            ]
        },
        {
            "cell_type": "code",
            "execution_count": null,
            "metadata": {},
            "outputs": [],
            "source": []
        }
    ],
    "metadata": {
        "kernelspec": {
            "display_name": "Python 3",
            "language": "python",
            "name": "python3"
        },
        "language_info": {
            "codemirror_mode": {
                "name": "ipython",
                "version": 3
            },
            "file_extension": ".py",
            "mimetype": "text/x-python",
            "name": "python",
            "nbconvert_exporter": "python",
            "pygments_lexer": "ipython3",
            "version": "3.11.4"
        }
    },
    "nbformat": 4,
    "nbformat_minor": 2
}
