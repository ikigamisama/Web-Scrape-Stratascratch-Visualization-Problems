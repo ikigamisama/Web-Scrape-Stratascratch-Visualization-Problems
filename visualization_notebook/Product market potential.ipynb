{
    "cells": [
        {
            "cell_type": "markdown",
            "metadata": {},
            "source": [
                "### **Link:** https://platform.stratascratch.com/visualizations/10496-product-market-potential?code_type=2"
            ]
        },
        {
            "cell_type": "markdown",
            "metadata": {},
            "source": [
                "# Product market potential"
            ]
        },
        {
            "cell_type": "markdown",
            "metadata": {},
            "source": [
                "##### **Difficulty:** Medium"
            ]
        },
        {
            "cell_type": "markdown",
            "metadata": {},
            "source": [
                "##### **ID:** ID 10496"
            ]
        },
        {
            "cell_type": "markdown",
            "metadata": {},
            "source": [
                "##### **Type:** Bubble Chart"
            ]
        },
        {
            "cell_type": "markdown",
            "metadata": {},
            "source": [
                "##### **Analysis:** Relationships"
            ]
        },
        {
            "cell_type": "markdown",
            "metadata": {},
            "source": [
                "##### **Data Type:** Numerical Data & Categorical Data"
            ]
        },
        {
            "cell_type": "markdown",
            "metadata": {},
            "source": [
                "##### Construct a bubble chart to evaluate the market potential of various product categories, using 'peachpuff' for low potential, 'limegreen' for medium potential, and 'deepskyblue' for high potential."
            ]
        },
        {
            "cell_type": "markdown",
            "metadata": {},
            "source": [
                "## **Data:** "
            ]
        },
        {
            "cell_type": "code",
            "execution_count": null,
            "metadata": [
                {}
            ],
            "source": [
                "import pandas as pd \n\ndata = [\n    {\n        \"product_category\": \"Electronics\",\n        \"market_size\": \"3195.254\",\n        \"growth_rate\": \"9.314\",\n        \"market_potential\": \"High\",\n        \"bubble_size\": \"150\"\n    },\n    {\n        \"product_category\": \"Clothing\",\n        \"market_size\": \"3860.757\",\n        \"growth_rate\": \"17.944\",\n        \"market_potential\": \"Medium\",\n        \"bubble_size\": \"100\"\n    },\n    {\n        \"product_category\": \"Groceries\",\n        \"market_size\": \"3411.054\",\n        \"growth_rate\": \"19.31\",\n        \"market_potential\": \"Low\",\n        \"bubble_size\": \"50\"\n    },\n    {\n        \"product_category\": \"Furniture\",\n        \"market_size\": \"3179.533\",\n        \"growth_rate\": \"8.285\",\n        \"market_potential\": \"High\",\n        \"bubble_size\": \"150\"\n    },\n    {\n        \"product_category\": \"Toys\",\n        \"market_size\": \"2694.619\",\n        \"growth_rate\": \"16.043\",\n        \"market_potential\": \"Medium\",\n        \"bubble_size\": \"100\"\n    },\n    {\n        \"product_category\": \"Books\",\n        \"market_size\": \"3583.576\",\n        \"growth_rate\": \"11.049\",\n        \"market_potential\": \"Low\",\n        \"bubble_size\": \"50\"\n    }\n]\n\ndf = pd.DataFrame(data)"
            ]
        },
        {
            "cell_type": "markdown",
            "metadata": {},
            "source": [
                "## **Solution:** "
            ]
        },
        {
            "cell_type": "code",
            "execution_count": null,
            "metadata": [
                {}
            ],
            "source": [
                "import matplotlib.pyplot as plt\n\ncolors = {'Low': 'peachpuff', 'Medium': 'limegreen', 'High': 'deepskyblue'}\nplt.figure(figsize=(12, 8))\n\nscatter = plt.scatter(df['market_size'], df['growth_rate'],  s=df['bubble_size'], c=[colors[mp] for mp in df['market_potential']], alpha=0.6)\n#adding plot titles and labels\nplt.title('Market Potential of various Product Categories')\nplt.xlabel('Market Size (millions)')\nplt.ylabel('Growth Rate (%)')\nplt.grid(True)\n\nplt.legend(handles=[\n    plt.Line2D([0], [0], marker='o', color='w', markerfacecolor='deepskyblue', markersize=10, label='High'),\n    plt.Line2D([0], [0], marker='o', color='w', markerfacecolor='peachpuff', markersize=10, label='Low'),\n    plt.Line2D([0], [0], marker='o', color='w', markerfacecolor='limegreen', markersize=10, label='Medium')\n    ],\n           title='Market Potential', loc='upper right')\nplt.show()"
            ]
        }
    ],
    "metadata": {
        "kernelspec": {
            "display_name": "Python 3",
            "language": "python",
            "name": "python3"
        },
        "language_info": {
            "codemirror_mode": {
                "name": "ipython",
                "version": 3
            },
            "file_extension": ".py",
            "mimetype": "text/x-python",
            "name": "python",
            "nbconvert_exporter": "python",
            "pygments_lexer": "ipython3",
            "version": "3.11.4"
        }
    },
    "nbformat": 4,
    "nbformat_minor": 2,
    "name_of_the_file": "Product market potential.ipynb"
}