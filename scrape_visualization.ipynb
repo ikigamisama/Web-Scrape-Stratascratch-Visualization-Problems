{
 "cells": [
  {
   "cell_type": "code",
   "execution_count": 2,
   "metadata": {},
   "outputs": [],
   "source": [
    "from selenium import webdriver\n",
    "from selenium.webdriver.chrome.service import Service\n",
    "from webdriver_manager.chrome import ChromeDriverManager\n",
    "\n",
    "from bs4 import BeautifulSoup\n",
    "import time\n",
    "import json\n",
    "\n",
    "url = \"https://platform.stratascratch.com/visualizations?code_type=2&page_size=100&order_field=difficulty\""
   ]
  },
  {
   "cell_type": "code",
   "execution_count": 13,
   "metadata": {},
   "outputs": [],
   "source": [
    "def setup_driver():\n",
    "    options = webdriver.ChromeOptions()\n",
    "    options.add_argument(\"--headless\")\n",
    "    options.page_load_strategy = 'none'\n",
    "    return webdriver.Chrome(service=Service(ChromeDriverManager().install()), options=options)\n",
    "\n",
    "def scraping_data(url, func):\n",
    "    driver = setup_driver()\n",
    "    driver.implicitly_wait(4)\n",
    "    driver.get(url)\n",
    "    time.sleep(4)\n",
    "    html = driver.page_source\n",
    "    soup = BeautifulSoup(html, \"html.parser\")\n",
    "    if func == 'get_list_data':\n",
    "        getting_list_data(soup)\n",
    "    elif func == 'get_data_info':\n",
    "        getting_data_info(url, soup)\n",
    "\n",
    "    driver.quit()\n",
    "\n",
    "def getting_list_data(soup):\n",
    "    data = []\n",
    "    for list in soup.find_all('a', 'group contents'):\n",
    "        details = list.find_all('div')\n",
    "        info = {}\n",
    "        info['link'] = 'https://platform.stratascratch.com' + list.get('href')\n",
    "        info['difficulty'] = details[1].find('span').getText()\n",
    "        info['id'] = details[2].getText()\n",
    "        info['title'] = details[3].getText()\n",
    "        data.append(info)\n",
    "\n",
    "    json_dump('visualization_list.json', data)  \n",
    "\n",
    "def getting_data_info(link,soup):\n",
    "    questionare = {}\n",
    "    questionare['link'] = link\n",
    "    questionare['title'] = soup.find('h1','QuestionMetadata__h1').getText()\n",
    "    \n",
    "    question_des_list = soup.find_all('div', 'QuestionMetadata__metadata')\n",
    "    question_meta =  question_des_list[0].find_all('span')\n",
    "    questionare['difficulty'] = question_meta[0].getText()\n",
    "    questionare['id'] = question_meta[1].getText()\n",
    "    questionare['type'] = question_meta[2].getText()\n",
    "    questionare['analysis'] = question_meta[3].getText()\n",
    "    questionare['data_type'] = question_meta[4].getText()\n",
    "    questionare['description'] = soup.find('div','QuestionMetadata__question').find('p').getText()\n",
    "    questionare['data'] = {}\n",
    "    questionare['solution'] = \"\"\n",
    "\n",
    "    file_title = 'visualization_notebook/' + questionare['title'].replace(' ', '-') + '.json'\n",
    "    json_dump(file_title, questionare)\n",
    "\n",
    "def json_dump(file, data):\n",
    "    with open(file, 'w+') as f:\n",
    "        json.dump(data, f)\n",
    "\n",
    "#scraping_data(url,'get_list_data')"
   ]
  },
  {
   "cell_type": "code",
   "execution_count": 32,
   "metadata": {},
   "outputs": [],
   "source": [
    "visual_list = []\n",
    "with open('visualization_list.json', 'r+') as list_viz:\n",
    "    for viz in json.load(list_viz):\n",
    "        scraping_data(viz['link'],'get_data_info')"
   ]
  },
  {
   "cell_type": "code",
   "execution_count": 45,
   "metadata": {},
   "outputs": [
    {
     "name": "stdout",
     "output_type": "stream",
     "text": [
      "{\"source_code\":\"import matplotlib.pyplot as plt\\nimport numpy as np\\n\\n# Define colors for each appliance\\ncolors = ['mediumblue', 'darkorange', 'limegreen']\\n\\n# Prepare data\\nlabels = df['appliance']\\nenergy = df['energy_consumption']\\n\\n# Number of variables\\nnum_vars = len(labels)\\n\\n# Compute the angle each bar is centered on:\\nangles = np.linspace(0, 2 * np.pi, num_vars, endpoint=False).tolist()\\n\\n# Complete the loop to close the circular graph\\nenergy = np.concatenate((energy, [energy[0]]))\\nangles += angles[:1]\\n\\n# Draw plot\\nfig, ax = plt.subplots(figsize=(6, 6), subplot_kw=dict(polar=True))\\n\\n# Draw bars\\nfor i in range(num_vars):\\n    ax.bar(angles[i], energy[i], color=colors[i], width=0.4, label=labels[i], alpha=0.7)\\n\\n# Connect the last bar to the first to close the shape\\nax.plot(angles, energy, color='black', linewidth=2)  # Outline\\n\\n# Set the labels for each appliance at the appropriate angle\\nax.set_xticks(angles[:-1])\\nax.set_xticklabels(labels)\\n\\n# Title\\nplt.title('Energy Consumption Rates of Various Appliances', size=15, color='black', y=1.1)\\nplt.legend(loc='upper right', bbox_to_anchor=(1.1, 1.1))\\n\\nplt.show()\\n\"}\n"
     ]
    }
   ],
   "source": [
    "source_code = \"\"\"import matplotlib.pyplot as plt\n",
    "import numpy as np\n",
    "\n",
    "# Define colors for each appliance\n",
    "colors = ['mediumblue', 'darkorange', 'limegreen']\n",
    "\n",
    "# Prepare data\n",
    "labels = df['appliance']\n",
    "energy = df['energy_consumption']\n",
    "\n",
    "# Number of variables\n",
    "num_vars = len(labels)\n",
    "\n",
    "# Compute the angle each bar is centered on:\n",
    "angles = np.linspace(0, 2 * np.pi, num_vars, endpoint=False).tolist()\n",
    "\n",
    "# Complete the loop to close the circular graph\n",
    "energy = np.concatenate((energy, [energy[0]]))\n",
    "angles += angles[:1]\n",
    "\n",
    "# Draw plot\n",
    "fig, ax = plt.subplots(figsize=(6, 6), subplot_kw=dict(polar=True))\n",
    "\n",
    "# Draw bars\n",
    "for i in range(num_vars):\n",
    "    ax.bar(angles[i], energy[i], color=colors[i], width=0.4, label=labels[i], alpha=0.7)\n",
    "\n",
    "# Connect the last bar to the first to close the shape\n",
    "ax.plot(angles, energy, color='black', linewidth=2)  # Outline\n",
    "\n",
    "# Set the labels for each appliance at the appropriate angle\n",
    "ax.set_xticks(angles[:-1])\n",
    "ax.set_xticklabels(labels)\n",
    "\n",
    "# Title\n",
    "plt.title('Energy Consumption Rates of Various Appliances', size=15, color='black', y=1.1)\n",
    "plt.legend(loc='upper right', bbox_to_anchor=(1.1, 1.1))\n",
    "\n",
    "plt.show()\n",
    "\"\"\"\n",
    "\n",
    "data = {\n",
    "    \"source_code\": source_code\n",
    "}\n",
    "\n",
    "json_string = json.dumps(data, separators=(',', ':'))\n",
    "\n",
    "print(json_string)"
   ]
  },
  {
   "cell_type": "code",
   "execution_count": 46,
   "metadata": {},
   "outputs": [
    {
     "name": "stdout",
     "output_type": "stream",
     "text": [
      "[\n",
      "    {\n",
      "        \"appliance\": \"Refrigerator\",\n",
      "        \"energy_consumption\": \"500\"\n",
      "    },\n",
      "    {\n",
      "        \"appliance\": \"Heater\",\n",
      "        \"energy_consumption\": \"800\"\n",
      "    },\n",
      "    {\n",
      "        \"appliance\": \"Air Conditioner\",\n",
      "        \"energy_consumption\": \"600\"\n",
      "    }\n",
      "]\n"
     ]
    }
   ],
   "source": [
    "sc = ''' \n",
    "<table class=\"ResultsTable__table\"><thead><tr class=\"ResultsTable__header-row\"><th class=\"ResultsTable__header-cell\">appliance</th><th class=\"ResultsTable__header-cell\">energy_consumption</th></tr></thead><tbody><tr class=\"ResultsTable__row \"><td class=\"ResultsTable__cell\">Refrigerator</td><td class=\"ResultsTable__cell\">500</td></tr><tr class=\"ResultsTable__row \"><td class=\"ResultsTable__cell\">Heater</td><td class=\"ResultsTable__cell\">800</td></tr><tr class=\"ResultsTable__row \"><td class=\"ResultsTable__cell\">Air Conditioner</td><td class=\"ResultsTable__cell\">600</td></tr></tbody></table>\n",
    " '''\n",
    "\n",
    "soup = BeautifulSoup(sc, \"html.parser\")\n",
    "headers = [headText.getText() for headText in soup.find_all('th', 'ResultsTable__header-cell')]\n",
    "data = []\n",
    "for row in soup.find_all('tr','ResultsTable__row'):\n",
    "    cell = []\n",
    "    for cells in row.find_all('td', 'ResultsTable__cell'):\n",
    "        cell.append(cells.getText())\n",
    "\n",
    "    data.append(cell)\n",
    "\n",
    "json_data = [dict(zip(headers, row)) for row in data]\n",
    "json_output = json.dumps(json_data, indent=4)\n",
    "\n",
    "print(json_output)\n"
   ]
  },
  {
   "cell_type": "code",
   "execution_count": null,
   "metadata": {},
   "outputs": [],
   "source": []
  }
 ],
 "metadata": {
  "kernelspec": {
   "display_name": "Python 3",
   "language": "python",
   "name": "python3"
  },
  "language_info": {
   "codemirror_mode": {
    "name": "ipython",
    "version": 3
   },
   "file_extension": ".py",
   "mimetype": "text/x-python",
   "name": "python",
   "nbconvert_exporter": "python",
   "pygments_lexer": "ipython3",
   "version": "3.11.4"
  }
 },
 "nbformat": 4,
 "nbformat_minor": 2
}
